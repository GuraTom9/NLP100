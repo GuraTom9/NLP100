{
  "nbformat": 4,
  "nbformat_minor": 0,
  "metadata": {
    "colab": {
      "provenance": [],
      "authorship_tag": "ABX9TyOgwghOYHsb7cxMBM8YKZCe",
      "include_colab_link": true
    },
    "kernelspec": {
      "name": "python3",
      "display_name": "Python 3"
    },
    "language_info": {
      "name": "python"
    }
  },
  "cells": [
    {
      "cell_type": "markdown",
      "metadata": {
        "id": "view-in-github",
        "colab_type": "text"
      },
      "source": [
        "<a href=\"https://colab.research.google.com/github/GuraTom9/NLP100/blob/main/NLP100_40_49.ipynb\" target=\"_parent\"><img src=\"https://colab.research.google.com/assets/colab-badge.svg\" alt=\"Open In Colab\"/></a>"
      ]
    },
    {
      "cell_type": "markdown",
      "source": [
        "#第5章　係り受け解析"
      ],
      "metadata": {
        "id": "5qUlBGOnRvvO"
      }
    },
    {
      "cell_type": "code",
      "source": [
        "from google.colab import drive\n",
        "drive.mount('/content/drive/')"
      ],
      "metadata": {
        "colab": {
          "base_uri": "https://localhost:8080/"
        },
        "id": "06IyAxWcSGqq",
        "outputId": "ade88a15-ab2a-488c-ab0b-78851d80ae17"
      },
      "execution_count": null,
      "outputs": [
        {
          "output_type": "stream",
          "name": "stdout",
          "text": [
            "Drive already mounted at /content/drive/; to attempt to forcibly remount, call drive.mount(\"/content/drive/\", force_remount=True).\n"
          ]
        }
      ]
    },
    {
      "cell_type": "code",
      "source": [
        "%cd \"drive/My Drive/NLP100\""
      ],
      "metadata": {
        "colab": {
          "base_uri": "https://localhost:8080/"
        },
        "id": "VsCD8HqhR7Tm",
        "outputId": "a3c5d00a-a6bc-41c6-ef76-edf8ae66451c"
      },
      "execution_count": null,
      "outputs": [
        {
          "output_type": "stream",
          "name": "stdout",
          "text": [
            "[Errno 2] No such file or directory: 'drive/My Drive/NLP100'\n",
            "/content/drive/My Drive/NLP100\n"
          ]
        }
      ]
    },
    {
      "cell_type": "code",
      "source": [
        "! unzip \"ai.ja.zip\""
      ],
      "metadata": {
        "colab": {
          "base_uri": "https://localhost:8080/"
        },
        "id": "elK0bPFXRyEw",
        "outputId": "9c249921-a367-4bf4-a4e5-1207e39ccdf9"
      },
      "execution_count": null,
      "outputs": [
        {
          "output_type": "stream",
          "name": "stdout",
          "text": [
            "Archive:  ai.ja.zip\n",
            "  inflating: ai.ja.txt               \n",
            "  inflating: readme.ai.ja.md         \n"
          ]
        }
      ]
    },
    {
      "cell_type": "code",
      "source": [
        "! apt install mecab libmecab-dev mecab-ipadic-utf8 git make curl xz-utils file -y"
      ],
      "metadata": {
        "id": "t-sYP77JZX2l"
      },
      "execution_count": null,
      "outputs": []
    },
    {
      "cell_type": "code",
      "source": [
        "import gdown\n",
        "\n",
        "# crfppソースファイルダウンロード\n",
        "gdown.download(\"https://drive.google.com/uc?export=download&id=0B4y35FiV1wh7QVR6VXJ5dWExSTQ\", \"crfpp.tar.gz\")\n",
        "# cabochaソースファイルダウンロード\n",
        "gdown.download(\"https://drive.google.com/uc?export=download&id=0B4y35FiV1wh7SDd1Q1dUQkZQaUU\", \"cabocha-0.69.tar.bz2\")\n",
        "\n",
        "! tar xvf crfpp.tar.gz\n",
        "! tar -xvf cabocha-0.69.tar.bz2"
      ],
      "metadata": {
        "id": "tIQf7-1TZolW"
      },
      "execution_count": null,
      "outputs": []
    },
    {
      "cell_type": "code",
      "source": [
        "%cd ./CRF++-0.58\n",
        "! ./configure\n",
        "! make\n",
        "! make install\n",
        "! ldconfig\n",
        "%cd .."
      ],
      "metadata": {
        "id": "yzvLqnElbgFC"
      },
      "execution_count": null,
      "outputs": []
    },
    {
      "cell_type": "code",
      "source": [
        "%cd ./cabocha-0.69\n",
        "! ./configure -with-charset=utf-8\n",
        "! make\n",
        "! make check\n",
        "! make install\n",
        "! ldconfig\n",
        "%cd .."
      ],
      "metadata": {
        "id": "-qoEWbobdN7O"
      },
      "execution_count": null,
      "outputs": []
    },
    {
      "cell_type": "code",
      "source": [
        "! cabocha -f1 ai.ja.txt -o ai.ja.txt.parsed"
      ],
      "metadata": {
        "id": "5UZFeWAJgVPt"
      },
      "execution_count": null,
      "outputs": []
    },
    {
      "cell_type": "code",
      "source": [
        "! head -30 ./ai.ja.txt"
      ],
      "metadata": {
        "colab": {
          "base_uri": "https://localhost:8080/"
        },
        "id": "StBLSrTUjAti",
        "outputId": "e7cf4d6b-9888-4682-d86e-6a17fb09d1d5"
      },
      "execution_count": null,
      "outputs": [
        {
          "output_type": "stream",
          "name": "stdout",
          "text": [
            "人工知能\n",
            "\n",
            "人工知能（じんこうちのう、、AI〈エーアイ〉）とは、「『計算（）』という概念と『コンピュータ（）』という道具を用いて『知能』を研究する計算機科学（）の一分野」を指す語。「言語の理解や推論、問題解決などの知的行動を人間に代わってコンピューターに行わせる技術」、または、「計算機（コンピュータ）による知的な情報処理システムの設計や実現に関する研究分野」ともされる。\n",
            "\n",
            "『日本大百科全書(ニッポニカ)』の解説で、情報工学者・通信工学者の佐藤理史は次のように述べている。\n",
            "人間の知的能力をコンピュータ上で実現する、様々な技術・ソフトウェア・コンピュータシステム。応用例は自然言語処理（機械翻訳・かな漢字変換・構文解析等）、専門家の推論・判断を模倣するエキスパートシステム、画像データを解析して特定のパターンを検出・抽出したりする画像認識等がある。1956年にダートマス会議でジョン・マッカーシーにより命名された。現在では、記号処理を用いた知能の記述を主体とする情報処理や研究でのアプローチという意味あいでも使われている。家庭用電気機械器具の制御システムやゲームソフトの思考ルーチンもこう呼ばれることもある。\n",
            "\n",
            "プログラミング言語 による「」というカウンセラーを模倣したプログラム（人工無脳）がしばしば引き合いに出されるが、計算機に人間の専門家の役割をさせようという「エキスパートシステム」と呼ばれる研究・情報処理システムの実現は、人間が暗黙に持つ常識の記述が問題となり、実用への利用が困難視されている。人工的な知能の実現へのアプローチとしては、「ファジィ理論」や「ニューラルネットワーク」などのようなアプローチも知られているが、従来の人工知能である (Good Old Fashioned AI) との差は記述の記号的明示性にある。その後「サポートベクターマシン」が注目を集めた。また、自らの経験を元に学習を行う強化学習という手法もある。「この宇宙において、知性とは最も強力な形質である（レイ・カーツワイル）」という言葉通り、知性を機械的に表現し実装するということは極めて重要な作業である。\n",
            "\n",
            "2006年のディープラーニング（深層学習）の登場と2010年代以降のビッグデータの登場により、一過性の流行を超えて社会に浸透して行った。2016年から2017年にかけて、ディープラーニングを導入したAIが完全情報ゲームである囲碁などのトップ棋士、さらに不完全情報ゲームであるポーカーの世界トップクラスのプレイヤーも破り、麻雀では「Microsoft Suphx (Super Phoenix)」がAIとして初めて十段に到達するなど、時代の最先端技術となった。\n",
            "\n",
            "第２次人工知能ブームでの人工知能は機械学習と呼ばれ、以下のようなものがある。\n",
            "\n",
            "一方、計算知能（CI）は開発や学習を繰り返すことを基本としている（例えば、パラメータ調整、コネクショニズムのシステム）。学習は経験に基づく手法であり、非記号的AI、美しくないAI、ソフトコンピューティングと関係している。その手法としては、以下のものがある。\n",
            "これらを統合した知的システムを作る試みもなされている。ACT-Rでは、エキスパートの推論ルールを、統計的学習を元にニューラルネットワークや生成規則を通して生成する。\n",
            "\n",
            "第3次人工知能ブームでは、ディープラーニングが画像認識、テキスト解析、音声認識など様々な領域で第2次人工知能ブームの人工知能を上回る精度を出しており、ディープラーニングの研究が盛んに行われている。最近では、DQN、CNN、RNN、GANと様々なディープラーニングの派生がでて各分野で活躍している。特に、GAN（敵対的生成ネットワーク）は、ディープラーニングが認識や予測などの分野で成果をだしていることに加えて、画像の生成技術において大きな進化を見せている。森正弥はこれらの成果を背景に、従来の人工知能の応用分野が広がっており、Creative AIというコンテンツ生成を行っていく応用も始まっていると指摘している。\n",
            "\n",
            "AIの構築が長い間試みられてきているが、シンボルグラウンディング問題とフレーム問題の解決が大きな壁となってきた。\n",
            "\n",
            "17世紀初め、ルネ・デカルトは、動物の身体がただの複雑な機械であると提唱した（機械論）。ブレーズ・パスカルは1642年、最初の機械式計算機を製作した。チャールズ・バベッジとエイダ・ラブレスはプログラム可能な機械式計算機の開発を行った。\n",
            "\n",
            "バートランド・ラッセルとアルフレッド・ノース・ホワイトヘッドは『数学原理』を出版し、形式論理に革命をもたらした。ウォーレン・マカロックとウォルター・ピッツは「神経活動に内在するアイデアの論理計算」と題する論文を1943年に発表し、ニューラルネットワークの基礎を築いた。\n",
            "\n",
            "1950年代になるとAIに関して活発な成果が出始めた。ジョン・マッカーシーはAIに関する最初の会議で「人工知能」という用語を作り出した。彼はまたプログラミング言語を開発した。知的ふるまいに関するテストを可能にする方法として、アラン・チューリングは「チューリングテスト」を導入した。ジョセフ・ワイゼンバウムはを構築した。これは来談者中心療法を行うおしゃべりロボットである。\n",
            "\n",
            "1956年に行われた、ダートマス会議開催の提案書において、人類史上、用語として初めて使用され、新たな分野として創立された。\n",
            "\n",
            "1960年代と1970年代の間に、ジョエル・モーゼスは プログラム中で積分問題での記号的推論のパワーを示した。マービン・ミンスキーとシーモア・パパートは『パーセプトロン』を出版して単純なニューラルネットの限界を示し、アラン・カルメラウアーはプログラミング言語 を開発した。テッド・ショートリッフェは医学的診断と療法におけるルールベースシステムを構築し、知識表現と推論のパワーを示した。これは、最初のエキスパートシステムと呼ばれることもある。ハンス・モラベックは、障害物の\n",
            "あるコースを自律的に走行する最初のコンピューター制御の乗り物を開発した。\n"
          ]
        }
      ]
    },
    {
      "cell_type": "code",
      "source": [
        "! head -150 ./ai.ja.txt.parsed"
      ],
      "metadata": {
        "colab": {
          "base_uri": "https://localhost:8080/"
        },
        "id": "_D4RxTO6g75r",
        "outputId": "f1bf794a-4f3e-4a4e-b1ac-c2721c932e40"
      },
      "execution_count": null,
      "outputs": [
        {
          "output_type": "stream",
          "name": "stdout",
          "text": [
            "* 0 -1D 1/1 0.000000\n",
            "人工\t名詞,一般,*,*,*,*,人工,ジンコウ,ジンコー\n",
            "知能\t名詞,一般,*,*,*,*,知能,チノウ,チノー\n",
            "EOS\n",
            "EOS\n",
            "* 0 17D 1/1 0.388993\n",
            "人工\t名詞,一般,*,*,*,*,人工,ジンコウ,ジンコー\n",
            "知能\t名詞,一般,*,*,*,*,知能,チノウ,チノー\n",
            "* 1 17D 2/3 0.613549\n",
            "（\t記号,括弧開,*,*,*,*,（,（,（\n",
            "じん\t名詞,一般,*,*,*,*,じん,ジン,ジン\n",
            "こうち\t名詞,一般,*,*,*,*,こうち,コウチ,コーチ\n",
            "のう\t助詞,終助詞,*,*,*,*,のう,ノウ,ノー\n",
            "、\t記号,読点,*,*,*,*,、,、,、\n",
            "、\t記号,読点,*,*,*,*,、,、,、\n",
            "* 2 3D 0/0 0.758984\n",
            "AI\t名詞,一般,*,*,*,*,*\n",
            "* 3 17D 1/5 0.517898\n",
            "〈\t記号,括弧開,*,*,*,*,〈,〈,〈\n",
            "エーアイ\t名詞,固有名詞,一般,*,*,*,*\n",
            "〉\t記号,括弧閉,*,*,*,*,〉,〉,〉\n",
            "）\t記号,括弧閉,*,*,*,*,）,）,）\n",
            "と\t助詞,格助詞,引用,*,*,*,と,ト,ト\n",
            "は\t助詞,係助詞,*,*,*,*,は,ハ,ワ\n",
            "、\t記号,読点,*,*,*,*,、,、,、\n",
            "* 4 5D 2/2 1.035972\n",
            "「\t記号,括弧開,*,*,*,*,「,「,「\n",
            "『\t記号,括弧開,*,*,*,*,『,『,『\n",
            "計算\t名詞,サ変接続,*,*,*,*,計算,ケイサン,ケイサン\n",
            "* 5 9D 0/3 1.243687\n",
            "（\t記号,括弧開,*,*,*,*,（,（,（\n",
            "）\t記号,括弧閉,*,*,*,*,）,）,）\n",
            "』\t記号,括弧閉,*,*,*,*,』,』,』\n",
            "という\t助詞,格助詞,連語,*,*,*,という,トイウ,トユウ\n",
            "* 6 9D 0/1 0.691934\n",
            "概念\t名詞,一般,*,*,*,*,概念,ガイネン,ガイネン\n",
            "と\t助詞,並立助詞,*,*,*,*,と,ト,ト\n",
            "* 7 8D 1/1 1.048596\n",
            "『\t記号,括弧開,*,*,*,*,『,『,『\n",
            "コンピュータ\t名詞,一般,*,*,*,*,コンピュータ,コンピュータ,コンピュータ\n",
            "* 8 9D 0/3 1.540775\n",
            "（\t記号,括弧開,*,*,*,*,（,（,（\n",
            "）\t記号,括弧閉,*,*,*,*,）,）,）\n",
            "』\t記号,括弧閉,*,*,*,*,』,』,』\n",
            "という\t助詞,格助詞,連語,*,*,*,という,トイウ,トユウ\n",
            "* 9 10D 0/1 2.129047\n",
            "道具\t名詞,一般,*,*,*,*,道具,ドウグ,ドーグ\n",
            "を\t助詞,格助詞,一般,*,*,*,を,ヲ,ヲ\n",
            "* 10 12D 0/1 1.363632\n",
            "用い\t動詞,自立,*,*,一段,連用形,用いる,モチイ,モチイ\n",
            "て\t助詞,接続助詞,*,*,*,*,て,テ,テ\n",
            "* 11 12D 1/3 2.086987\n",
            "『\t記号,括弧開,*,*,*,*,『,『,『\n",
            "知能\t名詞,一般,*,*,*,*,知能,チノウ,チノー\n",
            "』\t記号,括弧閉,*,*,*,*,』,』,』\n",
            "を\t助詞,格助詞,一般,*,*,*,を,ヲ,ヲ\n",
            "* 12 13D 1/1 0.529353\n",
            "研究\t名詞,サ変接続,*,*,*,*,研究,ケンキュウ,ケンキュー\n",
            "する\t動詞,自立,*,*,サ変・スル,基本形,する,スル,スル\n",
            "* 13 14D 2/2 0.314025\n",
            "計算\t名詞,サ変接続,*,*,*,*,計算,ケイサン,ケイサン\n",
            "機\t名詞,接尾,一般,*,*,*,機,キ,キ\n",
            "科学\t名詞,一般,*,*,*,*,科学,カガク,カガク\n",
            "* 14 15D 0/2 4.311133\n",
            "（\t記号,括弧開,*,*,*,*,（,（,（\n",
            "）\t記号,括弧閉,*,*,*,*,）,）,）\n",
            "の\t助詞,連体化,*,*,*,*,の,ノ,ノ\n",
            "* 15 16D 1/3 2.275064\n",
            "一\t名詞,数,*,*,*,*,一,イチ,イチ\n",
            "分野\t名詞,一般,*,*,*,*,分野,ブンヤ,ブンヤ\n",
            "」\t記号,括弧閉,*,*,*,*,」,」,」\n",
            "を\t助詞,格助詞,一般,*,*,*,を,ヲ,ヲ\n",
            "* 16 17D 0/0 2.467123\n",
            "指す\t動詞,自立,*,*,五段・サ行,基本形,指す,サス,サス\n",
            "* 17 34D 0/0 0.791804\n",
            "語\t名詞,一般,*,*,*,*,語,カタリ,カタリ\n",
            "。\t記号,句点,*,*,*,*,。,。,。\n",
            "* 18 20D 1/2 0.583152\n",
            "「\t記号,括弧開,*,*,*,*,「,「,「\n",
            "言語\t名詞,一般,*,*,*,*,言語,ゲンゴ,ゲンゴ\n",
            "の\t助詞,連体化,*,*,*,*,の,ノ,ノ\n",
            "* 19 20D 0/1 2.217661\n",
            "理解\t名詞,サ変接続,*,*,*,*,理解,リカイ,リカイ\n",
            "や\t助詞,並立助詞,*,*,*,*,や,ヤ,ヤ\n",
            "* 20 21D 0/0 0.257647\n",
            "推論\t名詞,サ変接続,*,*,*,*,推論,スイロン,スイロン\n",
            "、\t記号,読点,*,*,*,*,、,、,、\n",
            "* 21 22D 1/3 2.083214\n",
            "問題\t名詞,ナイ形容詞語幹,*,*,*,*,問題,モンダイ,モンダイ\n",
            "解決\t名詞,サ変接続,*,*,*,*,解決,カイケツ,カイケツ\n",
            "など\t助詞,副助詞,*,*,*,*,など,ナド,ナド\n",
            "の\t助詞,連体化,*,*,*,*,の,ノ,ノ\n",
            "* 22 24D 1/2 0.693399\n",
            "知的\t名詞,一般,*,*,*,*,知的,チテキ,チテキ\n",
            "行動\t名詞,サ変接続,*,*,*,*,行動,コウドウ,コードー\n",
            "を\t助詞,格助詞,一般,*,*,*,を,ヲ,ヲ\n",
            "* 23 24D 0/1 2.190897\n",
            "人間\t名詞,一般,*,*,*,*,人間,ニンゲン,ニンゲン\n",
            "に\t助詞,格助詞,一般,*,*,*,に,ニ,ニ\n",
            "* 24 26D 0/1 1.505879\n",
            "代わっ\t動詞,自立,*,*,五段・ラ行,連用タ接続,代わる,カワッ,カワッ\n",
            "て\t助詞,接続助詞,*,*,*,*,て,テ,テ\n",
            "* 25 26D 0/1 2.525808\n",
            "コンピューター\t名詞,一般,*,*,*,*,コンピューター,コンピューター,コンピューター\n",
            "に\t助詞,格助詞,一般,*,*,*,に,ニ,ニ\n",
            "* 26 27D 0/1 3.383079\n",
            "行わ\t動詞,自立,*,*,五段・ワ行促音便,未然形,行う,オコナワ,オコナワ\n",
            "せる\t動詞,接尾,*,*,一段,基本形,せる,セル,セル\n",
            "* 27 34D 3/3 1.275360\n",
            "技術\t名詞,一般,*,*,*,*,技術,ギジュツ,ギジュツ\n",
            "」\t記号,括弧閉,*,*,*,*,」,」,」\n",
            "、\t記号,読点,*,*,*,*,、,、,、\n",
            "または\t接続詞,*,*,*,*,*,または,マタハ,マタワ\n",
            "、\t記号,読点,*,*,*,*,、,、,、\n",
            "* 28 29D 2/2 0.253432\n",
            "「\t記号,括弧開,*,*,*,*,「,「,「\n",
            "計算\t名詞,サ変接続,*,*,*,*,計算,ケイサン,ケイサン\n",
            "機\t名詞,接尾,一般,*,*,*,機,キ,キ\n",
            "* 29 31D 1/3 1.353133\n",
            "（\t記号,括弧開,*,*,*,*,（,（,（\n",
            "コンピュータ\t名詞,一般,*,*,*,*,コンピュータ,コンピュータ,コンピュータ\n",
            "）\t記号,括弧閉,*,*,*,*,）,）,）\n",
            "による\t助詞,格助詞,連語,*,*,*,による,ニヨル,ニヨル\n",
            "* 30 31D 0/1 1.098217\n",
            "知的\t名詞,形容動詞語幹,*,*,*,*,知的,チテキ,チテキ\n",
            "な\t助動詞,*,*,*,特殊・ダ,体言接続,だ,ナ,ナ\n",
            "* 31 33D 1/2 0.917915\n",
            "情報処理\t名詞,一般,*,*,*,*,情報処理,ジョウホウショリ,ジョーホーショリ\n",
            "システム\t名詞,一般,*,*,*,*,システム,システム,システム\n",
            "の\t助詞,連体化,*,*,*,*,の,ノ,ノ\n",
            "* 32 33D 0/1 1.201759\n",
            "設計\t名詞,サ変接続,*,*,*,*,設計,セッケイ,セッケイ\n",
            "や\t助詞,並立助詞,*,*,*,*,や,ヤ,ヤ\n",
            "* 33 34D 0/1 3.229985\n",
            "実現\t名詞,サ変接続,*,*,*,*,実現,ジツゲン,ジツゲン\n",
            "に関する\t助詞,格助詞,連語,*,*,*,に関する,ニカンスル,ニカンスル\n",
            "* 34 35D 1/4 0.791804\n",
            "研究\t名詞,サ変接続,*,*,*,*,研究,ケンキュウ,ケンキュー\n",
            "分野\t名詞,一般,*,*,*,*,分野,ブンヤ,ブンヤ\n",
            "」\t記号,括弧閉,*,*,*,*,」,」,」\n",
            "と\t助詞,格助詞,引用,*,*,*,と,ト,ト\n",
            "も\t助詞,係助詞,*,*,*,*,も,モ,モ\n",
            "* 35 -1D 0/1 0.000000\n",
            "さ\t動詞,自立,*,*,サ変・スル,未然レル接続,する,サ,サ\n",
            "れる\t動詞,接尾,*,*,一段,基本形,れる,レル,レル\n",
            "。\t記号,句点,*,*,*,*,。,。,。\n",
            "EOS\n",
            "EOS\n",
            "* 0 1D 6/7 3.194287\n",
            "『\t記号,括弧開,*,*,*,*,『,『,『\n"
          ]
        }
      ]
    },
    {
      "cell_type": "markdown",
      "source": [
        "##40.係り受け解析結果の読み込み（形態素）"
      ],
      "metadata": {
        "id": "kdSr7Vh1Sa-P"
      }
    },
    {
      "cell_type": "code",
      "execution_count": null,
      "metadata": {
        "id": "RK4ecBS7RsY6"
      },
      "outputs": [],
      "source": [
        "class Morph():\n",
        "    def __init__(self, node):\n",
        "        node = node.split(\"\\t\")\n",
        "        features = node[1].split(\",\")\n",
        "        self.surface = node[0]\n",
        "        self.base = features[6]\n",
        "        self.pos = features[0]\n",
        "        self.pos1 = features[1]"
      ]
    },
    {
      "cell_type": "code",
      "source": [
        "with open(\"ai.ja.txt.parsed\", \"r\") as f:\n",
        "    sentences = []\n",
        "    morphs = []\n",
        "\n",
        "    for line in f.readlines():\n",
        "        if line[0] == \"*\":\n",
        "            continue\n",
        "        elif line != \"EOS\\n\":\n",
        "            morphs.append(Morph(line))\n",
        "        elif len(morphs) != 0:  # EOS\\nが連続した場合を無視\n",
        "            sentences.append(morphs)\n",
        "            morphs = []\n",
        "\n",
        "for s in sentences[1]:\n",
        "    print(vars(s))"
      ],
      "metadata": {
        "colab": {
          "base_uri": "https://localhost:8080/"
        },
        "id": "VxVzFjJzkXnQ",
        "outputId": "78a1b0d0-ab6c-408e-f0a8-03aaf030d03a"
      },
      "execution_count": null,
      "outputs": [
        {
          "output_type": "stream",
          "name": "stdout",
          "text": [
            "{'surface': '人工', 'base': '人工', 'pos': '名詞', 'pos1': '一般'}\n",
            "{'surface': '知能', 'base': '知能', 'pos': '名詞', 'pos1': '一般'}\n",
            "{'surface': '（', 'base': '（', 'pos': '記号', 'pos1': '括弧開'}\n",
            "{'surface': 'じん', 'base': 'じん', 'pos': '名詞', 'pos1': '一般'}\n",
            "{'surface': 'こうち', 'base': 'こうち', 'pos': '名詞', 'pos1': '一般'}\n",
            "{'surface': 'のう', 'base': 'のう', 'pos': '助詞', 'pos1': '終助詞'}\n",
            "{'surface': '、', 'base': '、', 'pos': '記号', 'pos1': '読点'}\n",
            "{'surface': '、', 'base': '、', 'pos': '記号', 'pos1': '読点'}\n",
            "{'surface': 'AI', 'base': '*\\n', 'pos': '名詞', 'pos1': '一般'}\n",
            "{'surface': '〈', 'base': '〈', 'pos': '記号', 'pos1': '括弧開'}\n",
            "{'surface': 'エーアイ', 'base': '*\\n', 'pos': '名詞', 'pos1': '固有名詞'}\n",
            "{'surface': '〉', 'base': '〉', 'pos': '記号', 'pos1': '括弧閉'}\n",
            "{'surface': '）', 'base': '）', 'pos': '記号', 'pos1': '括弧閉'}\n",
            "{'surface': 'と', 'base': 'と', 'pos': '助詞', 'pos1': '格助詞'}\n",
            "{'surface': 'は', 'base': 'は', 'pos': '助詞', 'pos1': '係助詞'}\n",
            "{'surface': '、', 'base': '、', 'pos': '記号', 'pos1': '読点'}\n",
            "{'surface': '「', 'base': '「', 'pos': '記号', 'pos1': '括弧開'}\n",
            "{'surface': '『', 'base': '『', 'pos': '記号', 'pos1': '括弧開'}\n",
            "{'surface': '計算', 'base': '計算', 'pos': '名詞', 'pos1': 'サ変接続'}\n",
            "{'surface': '（', 'base': '（', 'pos': '記号', 'pos1': '括弧開'}\n",
            "{'surface': '）', 'base': '）', 'pos': '記号', 'pos1': '括弧閉'}\n",
            "{'surface': '』', 'base': '』', 'pos': '記号', 'pos1': '括弧閉'}\n",
            "{'surface': 'という', 'base': 'という', 'pos': '助詞', 'pos1': '格助詞'}\n",
            "{'surface': '概念', 'base': '概念', 'pos': '名詞', 'pos1': '一般'}\n",
            "{'surface': 'と', 'base': 'と', 'pos': '助詞', 'pos1': '並立助詞'}\n",
            "{'surface': '『', 'base': '『', 'pos': '記号', 'pos1': '括弧開'}\n",
            "{'surface': 'コンピュータ', 'base': 'コンピュータ', 'pos': '名詞', 'pos1': '一般'}\n",
            "{'surface': '（', 'base': '（', 'pos': '記号', 'pos1': '括弧開'}\n",
            "{'surface': '）', 'base': '）', 'pos': '記号', 'pos1': '括弧閉'}\n",
            "{'surface': '』', 'base': '』', 'pos': '記号', 'pos1': '括弧閉'}\n",
            "{'surface': 'という', 'base': 'という', 'pos': '助詞', 'pos1': '格助詞'}\n",
            "{'surface': '道具', 'base': '道具', 'pos': '名詞', 'pos1': '一般'}\n",
            "{'surface': 'を', 'base': 'を', 'pos': '助詞', 'pos1': '格助詞'}\n",
            "{'surface': '用い', 'base': '用いる', 'pos': '動詞', 'pos1': '自立'}\n",
            "{'surface': 'て', 'base': 'て', 'pos': '助詞', 'pos1': '接続助詞'}\n",
            "{'surface': '『', 'base': '『', 'pos': '記号', 'pos1': '括弧開'}\n",
            "{'surface': '知能', 'base': '知能', 'pos': '名詞', 'pos1': '一般'}\n",
            "{'surface': '』', 'base': '』', 'pos': '記号', 'pos1': '括弧閉'}\n",
            "{'surface': 'を', 'base': 'を', 'pos': '助詞', 'pos1': '格助詞'}\n",
            "{'surface': '研究', 'base': '研究', 'pos': '名詞', 'pos1': 'サ変接続'}\n",
            "{'surface': 'する', 'base': 'する', 'pos': '動詞', 'pos1': '自立'}\n",
            "{'surface': '計算', 'base': '計算', 'pos': '名詞', 'pos1': 'サ変接続'}\n",
            "{'surface': '機', 'base': '機', 'pos': '名詞', 'pos1': '接尾'}\n",
            "{'surface': '科学', 'base': '科学', 'pos': '名詞', 'pos1': '一般'}\n",
            "{'surface': '（', 'base': '（', 'pos': '記号', 'pos1': '括弧開'}\n",
            "{'surface': '）', 'base': '）', 'pos': '記号', 'pos1': '括弧閉'}\n",
            "{'surface': 'の', 'base': 'の', 'pos': '助詞', 'pos1': '連体化'}\n",
            "{'surface': '一', 'base': '一', 'pos': '名詞', 'pos1': '数'}\n",
            "{'surface': '分野', 'base': '分野', 'pos': '名詞', 'pos1': '一般'}\n",
            "{'surface': '」', 'base': '」', 'pos': '記号', 'pos1': '括弧閉'}\n",
            "{'surface': 'を', 'base': 'を', 'pos': '助詞', 'pos1': '格助詞'}\n",
            "{'surface': '指す', 'base': '指す', 'pos': '動詞', 'pos1': '自立'}\n",
            "{'surface': '語', 'base': '語', 'pos': '名詞', 'pos1': '一般'}\n",
            "{'surface': '。', 'base': '。', 'pos': '記号', 'pos1': '句点'}\n",
            "{'surface': '「', 'base': '「', 'pos': '記号', 'pos1': '括弧開'}\n",
            "{'surface': '言語', 'base': '言語', 'pos': '名詞', 'pos1': '一般'}\n",
            "{'surface': 'の', 'base': 'の', 'pos': '助詞', 'pos1': '連体化'}\n",
            "{'surface': '理解', 'base': '理解', 'pos': '名詞', 'pos1': 'サ変接続'}\n",
            "{'surface': 'や', 'base': 'や', 'pos': '助詞', 'pos1': '並立助詞'}\n",
            "{'surface': '推論', 'base': '推論', 'pos': '名詞', 'pos1': 'サ変接続'}\n",
            "{'surface': '、', 'base': '、', 'pos': '記号', 'pos1': '読点'}\n",
            "{'surface': '問題', 'base': '問題', 'pos': '名詞', 'pos1': 'ナイ形容詞語幹'}\n",
            "{'surface': '解決', 'base': '解決', 'pos': '名詞', 'pos1': 'サ変接続'}\n",
            "{'surface': 'など', 'base': 'など', 'pos': '助詞', 'pos1': '副助詞'}\n",
            "{'surface': 'の', 'base': 'の', 'pos': '助詞', 'pos1': '連体化'}\n",
            "{'surface': '知的', 'base': '知的', 'pos': '名詞', 'pos1': '一般'}\n",
            "{'surface': '行動', 'base': '行動', 'pos': '名詞', 'pos1': 'サ変接続'}\n",
            "{'surface': 'を', 'base': 'を', 'pos': '助詞', 'pos1': '格助詞'}\n",
            "{'surface': '人間', 'base': '人間', 'pos': '名詞', 'pos1': '一般'}\n",
            "{'surface': 'に', 'base': 'に', 'pos': '助詞', 'pos1': '格助詞'}\n",
            "{'surface': '代わっ', 'base': '代わる', 'pos': '動詞', 'pos1': '自立'}\n",
            "{'surface': 'て', 'base': 'て', 'pos': '助詞', 'pos1': '接続助詞'}\n",
            "{'surface': 'コンピューター', 'base': 'コンピューター', 'pos': '名詞', 'pos1': '一般'}\n",
            "{'surface': 'に', 'base': 'に', 'pos': '助詞', 'pos1': '格助詞'}\n",
            "{'surface': '行わ', 'base': '行う', 'pos': '動詞', 'pos1': '自立'}\n",
            "{'surface': 'せる', 'base': 'せる', 'pos': '動詞', 'pos1': '接尾'}\n",
            "{'surface': '技術', 'base': '技術', 'pos': '名詞', 'pos1': '一般'}\n",
            "{'surface': '」', 'base': '」', 'pos': '記号', 'pos1': '括弧閉'}\n",
            "{'surface': '、', 'base': '、', 'pos': '記号', 'pos1': '読点'}\n",
            "{'surface': 'または', 'base': 'または', 'pos': '接続詞', 'pos1': '*'}\n",
            "{'surface': '、', 'base': '、', 'pos': '記号', 'pos1': '読点'}\n",
            "{'surface': '「', 'base': '「', 'pos': '記号', 'pos1': '括弧開'}\n",
            "{'surface': '計算', 'base': '計算', 'pos': '名詞', 'pos1': 'サ変接続'}\n",
            "{'surface': '機', 'base': '機', 'pos': '名詞', 'pos1': '接尾'}\n",
            "{'surface': '（', 'base': '（', 'pos': '記号', 'pos1': '括弧開'}\n",
            "{'surface': 'コンピュータ', 'base': 'コンピュータ', 'pos': '名詞', 'pos1': '一般'}\n",
            "{'surface': '）', 'base': '）', 'pos': '記号', 'pos1': '括弧閉'}\n",
            "{'surface': 'による', 'base': 'による', 'pos': '助詞', 'pos1': '格助詞'}\n",
            "{'surface': '知的', 'base': '知的', 'pos': '名詞', 'pos1': '形容動詞語幹'}\n",
            "{'surface': 'な', 'base': 'だ', 'pos': '助動詞', 'pos1': '*'}\n",
            "{'surface': '情報処理', 'base': '情報処理', 'pos': '名詞', 'pos1': '一般'}\n",
            "{'surface': 'システム', 'base': 'システム', 'pos': '名詞', 'pos1': '一般'}\n",
            "{'surface': 'の', 'base': 'の', 'pos': '助詞', 'pos1': '連体化'}\n",
            "{'surface': '設計', 'base': '設計', 'pos': '名詞', 'pos1': 'サ変接続'}\n",
            "{'surface': 'や', 'base': 'や', 'pos': '助詞', 'pos1': '並立助詞'}\n",
            "{'surface': '実現', 'base': '実現', 'pos': '名詞', 'pos1': 'サ変接続'}\n",
            "{'surface': 'に関する', 'base': 'に関する', 'pos': '助詞', 'pos1': '格助詞'}\n",
            "{'surface': '研究', 'base': '研究', 'pos': '名詞', 'pos1': 'サ変接続'}\n",
            "{'surface': '分野', 'base': '分野', 'pos': '名詞', 'pos1': '一般'}\n",
            "{'surface': '」', 'base': '」', 'pos': '記号', 'pos1': '括弧閉'}\n",
            "{'surface': 'と', 'base': 'と', 'pos': '助詞', 'pos1': '格助詞'}\n",
            "{'surface': 'も', 'base': 'も', 'pos': '助詞', 'pos1': '係助詞'}\n",
            "{'surface': 'さ', 'base': 'する', 'pos': '動詞', 'pos1': '自立'}\n",
            "{'surface': 'れる', 'base': 'れる', 'pos': '動詞', 'pos1': '接尾'}\n",
            "{'surface': '。', 'base': '。', 'pos': '記号', 'pos1': '句点'}\n"
          ]
        }
      ]
    },
    {
      "cell_type": "markdown",
      "source": [
        "##41. 係り受け解析結果の読み込み（文節・係り受け）"
      ],
      "metadata": {
        "id": "77cC_YI8rDg-"
      }
    },
    {
      "cell_type": "code",
      "source": [
        "# * 文節インデックス 係り先文節インデックス番号　...\n",
        "\n",
        "# * 1 17D 2/3 0.613549\n",
        "# （\t記号,括弧開,*,*,*,*,（,（,（\n",
        "# じん\t名詞,一般,*,*,*,*,じん,ジン,ジン\n",
        "# こうち\t名詞,一般,*,*,*,*,こうち,コウチ,コーチ\n",
        "# のう\t助詞,終助詞,*,*,*,*,のう,ノウ,ノー\n",
        "# 、\t記号,読点,*,*,*,*,、,、,、\n",
        "# 、\t記号,読点,*,*,*,*,、,、,、\n",
        "# * 2 3D 0/0 0.758984"
      ],
      "metadata": {
        "id": "qX6b02u7oZJc"
      },
      "execution_count": null,
      "outputs": []
    },
    {
      "cell_type": "code",
      "source": [
        "class Chunk():\n",
        "    def __init__(self, morphs, dst):\n",
        "        self.morphs = morphs\n",
        "        self.dst = dst\n",
        "        self.srcs = []  # 係り元インデックスsrcsは係り先インデックスdstを全て取得した後に取得"
      ],
      "metadata": {
        "id": "nOo-m9QbrHPz"
      },
      "execution_count": null,
      "outputs": []
    },
    {
      "cell_type": "code",
      "source": [
        "with open(\"ai.ja.txt.parsed\", \"r\") as f:\n",
        "    sentences = []\n",
        "    morphs = []\n",
        "    chunks = []\n",
        "    dst = None\n",
        "\n",
        "    for line in f.readlines():\n",
        "        if line[0] == \"*\":  # 係り受け関係を表す行：直前の文節の情報にChunkを適用し文節リストに追加 + 直後の文節の係り先を取得\n",
        "            if len(morphs) != 0:    # 文節中に形態素が含まれる場合\n",
        "                chunks.append(Chunk(morphs, dst))\n",
        "                morphs = []\n",
        "            dst = int(line.split(\" \")[2][:-1])  # 文字Dを除去した係り先インデックス\n",
        "        elif line != \"EOS\\n\":   # 文末以外：Morphを適用し形態素リストに追加\n",
        "            morphs.append(Morph(line))\n",
        "        elif len(morphs) != 0:  # 文末：直前の文節の情報にChunkを適用し文節リストに追加 + 文節リストを文リストに追加\n",
        "            chunks.append(Chunk(morphs, dst))\n",
        "            for i, chunk in enumerate(chunks):  # 係り元インデックスを取得\n",
        "                if chunk.dst != -1:\n",
        "                    chunks[chunk.dst].srcs.append(i)\n",
        "            sentences.append(chunks)\n",
        "            morphs = []\n",
        "            chunks = []\n",
        "\n",
        "for chunk in sentences[1]:\n",
        "    print([morph.surface for morph in chunk.morphs], chunk.dst, chunk.srcs)\n"
      ],
      "metadata": {
        "colab": {
          "base_uri": "https://localhost:8080/"
        },
        "id": "NGuQcnh_3-rT",
        "outputId": "c57baefa-f017-4d5e-889e-f0e616f830c5"
      },
      "execution_count": null,
      "outputs": [
        {
          "output_type": "stream",
          "name": "stdout",
          "text": [
            "['人工', '知能'] 17 []\n",
            "['（', 'じん', 'こうち', 'のう', '、', '、'] 17 []\n",
            "['AI'] 3 []\n",
            "['〈', 'エーアイ', '〉', '）', 'と', 'は', '、'] 17 [2]\n",
            "['「', '『', '計算'] 5 []\n",
            "['（', '）', '』', 'という'] 9 [4]\n",
            "['概念', 'と'] 9 []\n",
            "['『', 'コンピュータ'] 8 []\n",
            "['（', '）', '』', 'という'] 9 [7]\n",
            "['道具', 'を'] 10 [5, 6, 8]\n",
            "['用い', 'て'] 12 [9]\n",
            "['『', '知能', '』', 'を'] 12 []\n",
            "['研究', 'する'] 13 [10, 11]\n",
            "['計算', '機', '科学'] 14 [12]\n",
            "['（', '）', 'の'] 15 [13]\n",
            "['一', '分野', '」', 'を'] 16 [14]\n",
            "['指す'] 17 [15]\n",
            "['語', '。'] 34 [0, 1, 3, 16]\n",
            "['「', '言語', 'の'] 20 []\n",
            "['理解', 'や'] 20 []\n",
            "['推論', '、'] 21 [18, 19]\n",
            "['問題', '解決', 'など', 'の'] 22 [20]\n",
            "['知的', '行動', 'を'] 24 [21]\n",
            "['人間', 'に'] 24 []\n",
            "['代わっ', 'て'] 26 [22, 23]\n",
            "['コンピューター', 'に'] 26 []\n",
            "['行わ', 'せる'] 27 [24, 25]\n",
            "['技術', '」', '、', 'または', '、'] 34 [26]\n",
            "['「', '計算', '機'] 29 []\n",
            "['（', 'コンピュータ', '）', 'による'] 31 [28]\n",
            "['知的', 'な'] 31 []\n",
            "['情報処理', 'システム', 'の'] 33 [29, 30]\n",
            "['設計', 'や'] 33 []\n",
            "['実現', 'に関する'] 34 [31, 32]\n",
            "['研究', '分野', '」', 'と', 'も'] 35 [17, 27, 33]\n",
            "['さ', 'れる', '。'] -1 [34]\n"
          ]
        }
      ]
    },
    {
      "cell_type": "markdown",
      "source": [
        "##42. 係り元と係り先の文節の表示"
      ],
      "metadata": {
        "id": "8vpqgn_kPxOq"
      }
    },
    {
      "cell_type": "code",
      "source": [
        "# 記号除去した文を取得する関数\n",
        "def unsign(sentence):\n",
        "    unsigned_sentence = []\n",
        "    for chunk in sentence:\n",
        "        chunk_text = \"\"\n",
        "        for morph in chunk.morphs:\n",
        "            if morph.pos != \"記号\":\n",
        "                chunk_text += morph.surface\n",
        "        unsigned_sentence.append(chunk_text)\n",
        "\n",
        "    return unsigned_sentence"
      ],
      "metadata": {
        "id": "TudC78686ptE"
      },
      "execution_count": null,
      "outputs": []
    },
    {
      "cell_type": "code",
      "source": [
        "sentence_num = 1\n",
        "unsigned_text = unsign(sentences[sentence_num])\n",
        "\n",
        "for i, chunk in enumerate(sentences[sentence_num]):\n",
        "    if chunk.dst != -1:\n",
        "        print(\"\\t\".join([unsigned_text[i], unsigned_text[chunk.dst]]))"
      ],
      "metadata": {
        "colab": {
          "base_uri": "https://localhost:8080/"
        },
        "id": "We5j65_pR-Lr",
        "outputId": "23936b8b-b466-4bed-a519-d8941d28a332"
      },
      "execution_count": null,
      "outputs": [
        {
          "output_type": "stream",
          "name": "stdout",
          "text": [
            "人工知能\t語\n",
            "じんこうちのう\t語\n",
            "AI\tエーアイとは\n",
            "エーアイとは\t語\n",
            "計算\tという\n",
            "という\t道具を\n",
            "概念と\t道具を\n",
            "コンピュータ\tという\n",
            "という\t道具を\n",
            "道具を\t用いて\n",
            "用いて\t研究する\n",
            "知能を\t研究する\n",
            "研究する\t計算機科学\n",
            "計算機科学\tの\n",
            "の\t一分野を\n",
            "一分野を\t指す\n",
            "指す\t語\n",
            "語\t研究分野とも\n",
            "言語の\t推論\n",
            "理解や\t推論\n",
            "推論\t問題解決などの\n",
            "問題解決などの\t知的行動を\n",
            "知的行動を\t代わって\n",
            "人間に\t代わって\n",
            "代わって\t行わせる\n",
            "コンピューターに\t行わせる\n",
            "行わせる\t技術または\n",
            "技術または\t研究分野とも\n",
            "計算機\tコンピュータによる\n",
            "コンピュータによる\t情報処理システムの\n",
            "知的な\t情報処理システムの\n",
            "情報処理システムの\t実現に関する\n",
            "設計や\t実現に関する\n",
            "実現に関する\t研究分野とも\n",
            "研究分野とも\tされる\n"
          ]
        }
      ]
    },
    {
      "cell_type": "markdown",
      "source": [
        "##43. 名詞を含む文節が動詞を含む文節に係るものを抽出"
      ],
      "metadata": {
        "id": "9FPXLloTYo-v"
      }
    },
    {
      "cell_type": "code",
      "source": [
        "# 品詞のみ取得する関数\n",
        "def get_pos(sentence):\n",
        "    poses = []\n",
        "    for chunk in sentence:\n",
        "        chunk_pos = []\n",
        "        for morph in chunk.morphs:\n",
        "            chunk_pos.append(morph.pos)\n",
        "        poses.append(chunk_pos)\n",
        "\n",
        "    return poses"
      ],
      "metadata": {
        "id": "__3c8i-PprR2"
      },
      "execution_count": null,
      "outputs": []
    },
    {
      "cell_type": "code",
      "source": [
        "sentence_num = 1\n",
        "unsigned_sentence = unsign(sentences[sentence_num])\n",
        "poses = get_pos(sentences[sentence_num])\n",
        "\n",
        "for i, chunk in enumerate(sentences[sentence_num]):\n",
        "    if chunk.dst != -1:\n",
        "        if (\"名詞\" in poses[i]) and (\"動詞\" in poses[chunk.dst]):\n",
        "            print(\"\\t\".join([unsigned_sentence[i], unsigned_sentence[chunk.dst]]))"
      ],
      "metadata": {
        "id": "RvBNHb0eYsR2",
        "colab": {
          "base_uri": "https://localhost:8080/"
        },
        "outputId": "9196a846-96c2-45fb-a9f5-aebd9ef5a0bf"
      },
      "execution_count": null,
      "outputs": [
        {
          "output_type": "stream",
          "name": "stdout",
          "text": [
            "道具を\t用いて\n",
            "知能を\t研究する\n",
            "一分野を\t指す\n",
            "知的行動を\t代わって\n",
            "人間に\t代わって\n",
            "コンピューターに\t行わせる\n",
            "研究分野とも\tされる\n"
          ]
        }
      ]
    },
    {
      "cell_type": "markdown",
      "source": [
        "##44. 係り受け木の可視化"
      ],
      "metadata": {
        "id": "qZGLiU8Hyp92"
      }
    },
    {
      "cell_type": "code",
      "source": [
        "from graphviz import Digraph\n",
        "\n",
        "sentence_num = 1\n",
        "unsigned_sentence = unsign(sentences[sentence_num])\n",
        "poses = get_pos(sentences[sentence_num])\n",
        "\n",
        "graph = Digraph(format=\"png\")\n",
        "\n",
        "for i, chunk in enumerate(sentences[sentence_num]):\n",
        "    if chunk.dst != -1:\n",
        "        tail = str(i) + \" \" + unsigned_sentence[i]\n",
        "        head = str(chunk.dst) + \" \" + unsigned_sentence[chunk.dst]\n",
        "        graph.edge(tail, head)\n",
        "graph"
      ],
      "metadata": {
        "id": "Ac5DSaN8ypjT",
        "colab": {
          "base_uri": "https://localhost:8080/",
          "height": 1000
        },
        "outputId": "3f9aa9cc-0a39-414d-86a4-e823d6d4b5ac"
      },
      "execution_count": null,
      "outputs": [
        {
          "output_type": "execute_result",
          "data": {
            "image/svg+xml": "<?xml version=\"1.0\" encoding=\"UTF-8\" standalone=\"no\"?>\n<!DOCTYPE svg PUBLIC \"-//W3C//DTD SVG 1.1//EN\"\n \"http://www.w3.org/Graphics/SVG/1.1/DTD/svg11.dtd\">\n<!-- Generated by graphviz version 2.43.0 (0)\n -->\n<!-- Title: %3 Pages: 1 -->\n<svg width=\"1364pt\" height=\"836pt\"\n viewBox=\"0.00 0.00 1364.09 836.00\" xmlns=\"http://www.w3.org/2000/svg\" xmlns:xlink=\"http://www.w3.org/1999/xlink\">\n<g id=\"graph0\" class=\"graph\" transform=\"scale(1 1) rotate(0) translate(4 832)\">\n<title>%3</title>\n<polygon fill=\"white\" stroke=\"transparent\" points=\"-4,4 -4,-832 1360.09,-832 1360.09,4 -4,4\"/>\n<!-- 0 人工知能 -->\n<g id=\"node1\" class=\"node\">\n<title>0 人工知能</title>\n<ellipse fill=\"none\" stroke=\"black\" cx=\"924.05\" cy=\"-234\" rx=\"54.69\" ry=\"18\"/>\n<text text-anchor=\"middle\" x=\"924.05\" y=\"-230.3\" font-family=\"Times,serif\" font-size=\"14.00\">0 人工知能</text>\n</g>\n<!-- 17 語 -->\n<g id=\"node2\" class=\"node\">\n<title>17 語</title>\n<ellipse fill=\"none\" stroke=\"black\" cx=\"698.05\" cy=\"-162\" rx=\"31.4\" ry=\"18\"/>\n<text text-anchor=\"middle\" x=\"698.05\" y=\"-158.3\" font-family=\"Times,serif\" font-size=\"14.00\">17 語</text>\n</g>\n<!-- 0 人工知能&#45;&gt;17 語 -->\n<g id=\"edge1\" class=\"edge\">\n<title>0 人工知能&#45;&gt;17 語</title>\n<path fill=\"none\" stroke=\"black\" d=\"M885.71,-221.13C843.48,-208.04 776.06,-187.16 734.57,-174.31\"/>\n<polygon fill=\"black\" stroke=\"black\" points=\"735.45,-170.92 724.86,-171.31 733.38,-177.61 735.45,-170.92\"/>\n</g>\n<!-- 34 研究分野とも -->\n<g id=\"node19\" class=\"node\">\n<title>34 研究分野とも</title>\n<ellipse fill=\"none\" stroke=\"black\" cx=\"698.05\" cy=\"-90\" rx=\"77.19\" ry=\"18\"/>\n<text text-anchor=\"middle\" x=\"698.05\" y=\"-86.3\" font-family=\"Times,serif\" font-size=\"14.00\">34 研究分野とも</text>\n</g>\n<!-- 17 語&#45;&gt;34 研究分野とも -->\n<g id=\"edge18\" class=\"edge\">\n<title>17 語&#45;&gt;34 研究分野とも</title>\n<path fill=\"none\" stroke=\"black\" d=\"M698.05,-143.7C698.05,-135.98 698.05,-126.71 698.05,-118.11\"/>\n<polygon fill=\"black\" stroke=\"black\" points=\"701.55,-118.1 698.05,-108.1 694.55,-118.1 701.55,-118.1\"/>\n</g>\n<!-- 1 じんこうちのう -->\n<g id=\"node3\" class=\"node\">\n<title>1 じんこうちのう</title>\n<ellipse fill=\"none\" stroke=\"black\" cx=\"769.05\" cy=\"-234\" rx=\"82.59\" ry=\"18\"/>\n<text text-anchor=\"middle\" x=\"769.05\" y=\"-230.3\" font-family=\"Times,serif\" font-size=\"14.00\">1 じんこうちのう</text>\n</g>\n<!-- 1 じんこうちのう&#45;&gt;17 語 -->\n<g id=\"edge2\" class=\"edge\">\n<title>1 じんこうちのう&#45;&gt;17 語</title>\n<path fill=\"none\" stroke=\"black\" d=\"M751.86,-216.05C742.44,-206.77 730.65,-195.15 720.51,-185.15\"/>\n<polygon fill=\"black\" stroke=\"black\" points=\"722.72,-182.42 713.15,-177.89 717.81,-187.4 722.72,-182.42\"/>\n</g>\n<!-- 2 AI -->\n<g id=\"node4\" class=\"node\">\n<title>2 AI</title>\n<ellipse fill=\"none\" stroke=\"black\" cx=\"496.05\" cy=\"-306\" rx=\"27\" ry=\"18\"/>\n<text text-anchor=\"middle\" x=\"496.05\" y=\"-302.3\" font-family=\"Times,serif\" font-size=\"14.00\">2 AI</text>\n</g>\n<!-- 3 エーアイとは -->\n<g id=\"node5\" class=\"node\">\n<title>3 エーアイとは</title>\n<ellipse fill=\"none\" stroke=\"black\" cx=\"496.05\" cy=\"-234\" rx=\"73.39\" ry=\"18\"/>\n<text text-anchor=\"middle\" x=\"496.05\" y=\"-230.3\" font-family=\"Times,serif\" font-size=\"14.00\">3 エーアイとは</text>\n</g>\n<!-- 2 AI&#45;&gt;3 エーアイとは -->\n<g id=\"edge3\" class=\"edge\">\n<title>2 AI&#45;&gt;3 エーアイとは</title>\n<path fill=\"none\" stroke=\"black\" d=\"M496.05,-287.7C496.05,-279.98 496.05,-270.71 496.05,-262.11\"/>\n<polygon fill=\"black\" stroke=\"black\" points=\"499.55,-262.1 496.05,-252.1 492.55,-262.1 499.55,-262.1\"/>\n</g>\n<!-- 3 エーアイとは&#45;&gt;17 語 -->\n<g id=\"edge4\" class=\"edge\">\n<title>3 エーアイとは&#45;&gt;17 語</title>\n<path fill=\"none\" stroke=\"black\" d=\"M536.92,-218.83C573.65,-206.11 627.04,-187.6 662.15,-175.44\"/>\n<polygon fill=\"black\" stroke=\"black\" points=\"663.68,-178.61 671.98,-172.03 661.39,-172 663.68,-178.61\"/>\n</g>\n<!-- 4 計算 -->\n<g id=\"node6\" class=\"node\">\n<title>4 計算</title>\n<ellipse fill=\"none\" stroke=\"black\" cx=\"460.05\" cy=\"-810\" rx=\"36.29\" ry=\"18\"/>\n<text text-anchor=\"middle\" x=\"460.05\" y=\"-806.3\" font-family=\"Times,serif\" font-size=\"14.00\">4 計算</text>\n</g>\n<!-- 5 という -->\n<g id=\"node7\" class=\"node\">\n<title>5 という</title>\n<ellipse fill=\"none\" stroke=\"black\" cx=\"460.05\" cy=\"-738\" rx=\"45.49\" ry=\"18\"/>\n<text text-anchor=\"middle\" x=\"460.05\" y=\"-734.3\" font-family=\"Times,serif\" font-size=\"14.00\">5 という</text>\n</g>\n<!-- 4 計算&#45;&gt;5 という -->\n<g id=\"edge5\" class=\"edge\">\n<title>4 計算&#45;&gt;5 という</title>\n<path fill=\"none\" stroke=\"black\" d=\"M460.05,-791.7C460.05,-783.98 460.05,-774.71 460.05,-766.11\"/>\n<polygon fill=\"black\" stroke=\"black\" points=\"463.55,-766.1 460.05,-756.1 456.55,-766.1 463.55,-766.1\"/>\n</g>\n<!-- 9 道具を -->\n<g id=\"node8\" class=\"node\">\n<title>9 道具を</title>\n<ellipse fill=\"none\" stroke=\"black\" cx=\"569.05\" cy=\"-666\" rx=\"45.49\" ry=\"18\"/>\n<text text-anchor=\"middle\" x=\"569.05\" y=\"-662.3\" font-family=\"Times,serif\" font-size=\"14.00\">9 道具を</text>\n</g>\n<!-- 5 という&#45;&gt;9 道具を -->\n<g id=\"edge6\" class=\"edge\">\n<title>5 という&#45;&gt;9 道具を</title>\n<path fill=\"none\" stroke=\"black\" d=\"M482.9,-722.33C498.74,-712.15 520.04,-698.47 537.5,-687.26\"/>\n<polygon fill=\"black\" stroke=\"black\" points=\"539.7,-690 546.23,-681.65 535.92,-684.11 539.7,-690\"/>\n</g>\n<!-- 10 用いて -->\n<g id=\"node12\" class=\"node\">\n<title>10 用いて</title>\n<ellipse fill=\"none\" stroke=\"black\" cx=\"569.05\" cy=\"-594\" rx=\"50.09\" ry=\"18\"/>\n<text text-anchor=\"middle\" x=\"569.05\" y=\"-590.3\" font-family=\"Times,serif\" font-size=\"14.00\">10 用いて</text>\n</g>\n<!-- 9 道具を&#45;&gt;10 用いて -->\n<g id=\"edge10\" class=\"edge\">\n<title>9 道具を&#45;&gt;10 用いて</title>\n<path fill=\"none\" stroke=\"black\" d=\"M569.05,-647.7C569.05,-639.98 569.05,-630.71 569.05,-622.11\"/>\n<polygon fill=\"black\" stroke=\"black\" points=\"572.55,-622.1 569.05,-612.1 565.55,-622.1 572.55,-622.1\"/>\n</g>\n<!-- 6 概念と -->\n<g id=\"node9\" class=\"node\">\n<title>6 概念と</title>\n<ellipse fill=\"none\" stroke=\"black\" cx=\"569.05\" cy=\"-738\" rx=\"45.49\" ry=\"18\"/>\n<text text-anchor=\"middle\" x=\"569.05\" y=\"-734.3\" font-family=\"Times,serif\" font-size=\"14.00\">6 概念と</text>\n</g>\n<!-- 6 概念と&#45;&gt;9 道具を -->\n<g id=\"edge7\" class=\"edge\">\n<title>6 概念と&#45;&gt;9 道具を</title>\n<path fill=\"none\" stroke=\"black\" d=\"M569.05,-719.7C569.05,-711.98 569.05,-702.71 569.05,-694.11\"/>\n<polygon fill=\"black\" stroke=\"black\" points=\"572.55,-694.1 569.05,-684.1 565.55,-694.1 572.55,-694.1\"/>\n</g>\n<!-- 7 コンピュータ -->\n<g id=\"node10\" class=\"node\">\n<title>7 コンピュータ</title>\n<ellipse fill=\"none\" stroke=\"black\" cx=\"678.05\" cy=\"-810\" rx=\"73.39\" ry=\"18\"/>\n<text text-anchor=\"middle\" x=\"678.05\" y=\"-806.3\" font-family=\"Times,serif\" font-size=\"14.00\">7 コンピュータ</text>\n</g>\n<!-- 8 という -->\n<g id=\"node11\" class=\"node\">\n<title>8 という</title>\n<ellipse fill=\"none\" stroke=\"black\" cx=\"678.05\" cy=\"-738\" rx=\"45.49\" ry=\"18\"/>\n<text text-anchor=\"middle\" x=\"678.05\" y=\"-734.3\" font-family=\"Times,serif\" font-size=\"14.00\">8 という</text>\n</g>\n<!-- 7 コンピュータ&#45;&gt;8 という -->\n<g id=\"edge8\" class=\"edge\">\n<title>7 コンピュータ&#45;&gt;8 という</title>\n<path fill=\"none\" stroke=\"black\" d=\"M678.05,-791.7C678.05,-783.98 678.05,-774.71 678.05,-766.11\"/>\n<polygon fill=\"black\" stroke=\"black\" points=\"681.55,-766.1 678.05,-756.1 674.55,-766.1 681.55,-766.1\"/>\n</g>\n<!-- 8 という&#45;&gt;9 道具を -->\n<g id=\"edge9\" class=\"edge\">\n<title>8 という&#45;&gt;9 道具を</title>\n<path fill=\"none\" stroke=\"black\" d=\"M655.2,-722.33C639.35,-712.15 618.05,-698.47 600.59,-687.26\"/>\n<polygon fill=\"black\" stroke=\"black\" points=\"602.17,-684.11 591.87,-681.65 598.39,-690 602.17,-684.11\"/>\n</g>\n<!-- 12 研究する -->\n<g id=\"node13\" class=\"node\">\n<title>12 研究する</title>\n<ellipse fill=\"none\" stroke=\"black\" cx=\"628.05\" cy=\"-522\" rx=\"59.29\" ry=\"18\"/>\n<text text-anchor=\"middle\" x=\"628.05\" y=\"-518.3\" font-family=\"Times,serif\" font-size=\"14.00\">12 研究する</text>\n</g>\n<!-- 10 用いて&#45;&gt;12 研究する -->\n<g id=\"edge11\" class=\"edge\">\n<title>10 用いて&#45;&gt;12 研究する</title>\n<path fill=\"none\" stroke=\"black\" d=\"M583.03,-576.41C590.27,-567.82 599.25,-557.16 607.29,-547.63\"/>\n<polygon fill=\"black\" stroke=\"black\" points=\"609.99,-549.86 613.75,-539.96 604.63,-545.35 609.99,-549.86\"/>\n</g>\n<!-- 13 計算機科学 -->\n<g id=\"node15\" class=\"node\">\n<title>13 計算機科学</title>\n<ellipse fill=\"none\" stroke=\"black\" cx=\"628.05\" cy=\"-450\" rx=\"68.49\" ry=\"18\"/>\n<text text-anchor=\"middle\" x=\"628.05\" y=\"-446.3\" font-family=\"Times,serif\" font-size=\"14.00\">13 計算機科学</text>\n</g>\n<!-- 12 研究する&#45;&gt;13 計算機科学 -->\n<g id=\"edge13\" class=\"edge\">\n<title>12 研究する&#45;&gt;13 計算機科学</title>\n<path fill=\"none\" stroke=\"black\" d=\"M628.05,-503.7C628.05,-495.98 628.05,-486.71 628.05,-478.11\"/>\n<polygon fill=\"black\" stroke=\"black\" points=\"631.55,-478.1 628.05,-468.1 624.55,-478.1 631.55,-478.1\"/>\n</g>\n<!-- 11 知能を -->\n<g id=\"node14\" class=\"node\">\n<title>11 知能を</title>\n<ellipse fill=\"none\" stroke=\"black\" cx=\"687.05\" cy=\"-594\" rx=\"50.09\" ry=\"18\"/>\n<text text-anchor=\"middle\" x=\"687.05\" y=\"-590.3\" font-family=\"Times,serif\" font-size=\"14.00\">11 知能を</text>\n</g>\n<!-- 11 知能を&#45;&gt;12 研究する -->\n<g id=\"edge12\" class=\"edge\">\n<title>11 知能を&#45;&gt;12 研究する</title>\n<path fill=\"none\" stroke=\"black\" d=\"M673.06,-576.41C665.82,-567.82 656.84,-557.16 648.8,-547.63\"/>\n<polygon fill=\"black\" stroke=\"black\" points=\"651.46,-545.35 642.34,-539.96 646.11,-549.86 651.46,-545.35\"/>\n</g>\n<!-- 14 の -->\n<g id=\"node16\" class=\"node\">\n<title>14 の</title>\n<ellipse fill=\"none\" stroke=\"black\" cx=\"628.05\" cy=\"-378\" rx=\"31.4\" ry=\"18\"/>\n<text text-anchor=\"middle\" x=\"628.05\" y=\"-374.3\" font-family=\"Times,serif\" font-size=\"14.00\">14 の</text>\n</g>\n<!-- 13 計算機科学&#45;&gt;14 の -->\n<g id=\"edge14\" class=\"edge\">\n<title>13 計算機科学&#45;&gt;14 の</title>\n<path fill=\"none\" stroke=\"black\" d=\"M628.05,-431.7C628.05,-423.98 628.05,-414.71 628.05,-406.11\"/>\n<polygon fill=\"black\" stroke=\"black\" points=\"631.55,-406.1 628.05,-396.1 624.55,-406.1 631.55,-406.1\"/>\n</g>\n<!-- 15 一分野を -->\n<g id=\"node17\" class=\"node\">\n<title>15 一分野を</title>\n<ellipse fill=\"none\" stroke=\"black\" cx=\"628.05\" cy=\"-306\" rx=\"59.29\" ry=\"18\"/>\n<text text-anchor=\"middle\" x=\"628.05\" y=\"-302.3\" font-family=\"Times,serif\" font-size=\"14.00\">15 一分野を</text>\n</g>\n<!-- 14 の&#45;&gt;15 一分野を -->\n<g id=\"edge15\" class=\"edge\">\n<title>14 の&#45;&gt;15 一分野を</title>\n<path fill=\"none\" stroke=\"black\" d=\"M628.05,-359.7C628.05,-351.98 628.05,-342.71 628.05,-334.11\"/>\n<polygon fill=\"black\" stroke=\"black\" points=\"631.55,-334.1 628.05,-324.1 624.55,-334.1 631.55,-334.1\"/>\n</g>\n<!-- 16 指す -->\n<g id=\"node18\" class=\"node\">\n<title>16 指す</title>\n<ellipse fill=\"none\" stroke=\"black\" cx=\"628.05\" cy=\"-234\" rx=\"40.09\" ry=\"18\"/>\n<text text-anchor=\"middle\" x=\"628.05\" y=\"-230.3\" font-family=\"Times,serif\" font-size=\"14.00\">16 指す</text>\n</g>\n<!-- 15 一分野を&#45;&gt;16 指す -->\n<g id=\"edge16\" class=\"edge\">\n<title>15 一分野を&#45;&gt;16 指す</title>\n<path fill=\"none\" stroke=\"black\" d=\"M628.05,-287.7C628.05,-279.98 628.05,-270.71 628.05,-262.11\"/>\n<polygon fill=\"black\" stroke=\"black\" points=\"631.55,-262.1 628.05,-252.1 624.55,-262.1 631.55,-262.1\"/>\n</g>\n<!-- 16 指す&#45;&gt;17 語 -->\n<g id=\"edge17\" class=\"edge\">\n<title>16 指す&#45;&gt;17 語</title>\n<path fill=\"none\" stroke=\"black\" d=\"M643.93,-217.12C653.41,-207.64 665.58,-195.46 675.99,-185.06\"/>\n<polygon fill=\"black\" stroke=\"black\" points=\"678.59,-187.41 683.18,-177.86 673.64,-182.46 678.59,-187.41\"/>\n</g>\n<!-- 35 される -->\n<g id=\"node36\" class=\"node\">\n<title>35 される</title>\n<ellipse fill=\"none\" stroke=\"black\" cx=\"698.05\" cy=\"-18\" rx=\"50.09\" ry=\"18\"/>\n<text text-anchor=\"middle\" x=\"698.05\" y=\"-14.3\" font-family=\"Times,serif\" font-size=\"14.00\">35 される</text>\n</g>\n<!-- 34 研究分野とも&#45;&gt;35 される -->\n<g id=\"edge35\" class=\"edge\">\n<title>34 研究分野とも&#45;&gt;35 される</title>\n<path fill=\"none\" stroke=\"black\" d=\"M698.05,-71.7C698.05,-63.98 698.05,-54.71 698.05,-46.11\"/>\n<polygon fill=\"black\" stroke=\"black\" points=\"701.55,-46.1 698.05,-36.1 694.55,-46.1 701.55,-46.1\"/>\n</g>\n<!-- 18 言語の -->\n<g id=\"node20\" class=\"node\">\n<title>18 言語の</title>\n<ellipse fill=\"none\" stroke=\"black\" cx=\"50.05\" cy=\"-594\" rx=\"50.09\" ry=\"18\"/>\n<text text-anchor=\"middle\" x=\"50.05\" y=\"-590.3\" font-family=\"Times,serif\" font-size=\"14.00\">18 言語の</text>\n</g>\n<!-- 20 推論 -->\n<g id=\"node21\" class=\"node\">\n<title>20 推論</title>\n<ellipse fill=\"none\" stroke=\"black\" cx=\"109.05\" cy=\"-522\" rx=\"40.09\" ry=\"18\"/>\n<text text-anchor=\"middle\" x=\"109.05\" y=\"-518.3\" font-family=\"Times,serif\" font-size=\"14.00\">20 推論</text>\n</g>\n<!-- 18 言語の&#45;&gt;20 推論 -->\n<g id=\"edge19\" class=\"edge\">\n<title>18 言語の&#45;&gt;20 推論</title>\n<path fill=\"none\" stroke=\"black\" d=\"M64.03,-576.41C71.48,-567.57 80.78,-556.53 88.99,-546.79\"/>\n<polygon fill=\"black\" stroke=\"black\" points=\"91.8,-548.89 95.57,-538.99 86.45,-544.38 91.8,-548.89\"/>\n</g>\n<!-- 21 問題解決などの -->\n<g id=\"node23\" class=\"node\">\n<title>21 問題解決などの</title>\n<ellipse fill=\"none\" stroke=\"black\" cx=\"109.05\" cy=\"-450\" rx=\"87.18\" ry=\"18\"/>\n<text text-anchor=\"middle\" x=\"109.05\" y=\"-446.3\" font-family=\"Times,serif\" font-size=\"14.00\">21 問題解決などの</text>\n</g>\n<!-- 20 推論&#45;&gt;21 問題解決などの -->\n<g id=\"edge21\" class=\"edge\">\n<title>20 推論&#45;&gt;21 問題解決などの</title>\n<path fill=\"none\" stroke=\"black\" d=\"M109.05,-503.7C109.05,-495.98 109.05,-486.71 109.05,-478.11\"/>\n<polygon fill=\"black\" stroke=\"black\" points=\"112.55,-478.1 109.05,-468.1 105.55,-478.1 112.55,-478.1\"/>\n</g>\n<!-- 19 理解や -->\n<g id=\"node22\" class=\"node\">\n<title>19 理解や</title>\n<ellipse fill=\"none\" stroke=\"black\" cx=\"168.05\" cy=\"-594\" rx=\"50.09\" ry=\"18\"/>\n<text text-anchor=\"middle\" x=\"168.05\" y=\"-590.3\" font-family=\"Times,serif\" font-size=\"14.00\">19 理解や</text>\n</g>\n<!-- 19 理解や&#45;&gt;20 推論 -->\n<g id=\"edge20\" class=\"edge\">\n<title>19 理解や&#45;&gt;20 推論</title>\n<path fill=\"none\" stroke=\"black\" d=\"M154.06,-576.41C146.61,-567.57 137.31,-556.53 129.1,-546.79\"/>\n<polygon fill=\"black\" stroke=\"black\" points=\"131.64,-544.38 122.52,-538.99 126.29,-548.89 131.64,-544.38\"/>\n</g>\n<!-- 22 知的行動を -->\n<g id=\"node24\" class=\"node\">\n<title>22 知的行動を</title>\n<ellipse fill=\"none\" stroke=\"black\" cx=\"109.05\" cy=\"-378\" rx=\"68.49\" ry=\"18\"/>\n<text text-anchor=\"middle\" x=\"109.05\" y=\"-374.3\" font-family=\"Times,serif\" font-size=\"14.00\">22 知的行動を</text>\n</g>\n<!-- 21 問題解決などの&#45;&gt;22 知的行動を -->\n<g id=\"edge22\" class=\"edge\">\n<title>21 問題解決などの&#45;&gt;22 知的行動を</title>\n<path fill=\"none\" stroke=\"black\" d=\"M109.05,-431.7C109.05,-423.98 109.05,-414.71 109.05,-406.11\"/>\n<polygon fill=\"black\" stroke=\"black\" points=\"112.55,-406.1 109.05,-396.1 105.55,-406.1 112.55,-406.1\"/>\n</g>\n<!-- 24 代わって -->\n<g id=\"node25\" class=\"node\">\n<title>24 代わって</title>\n<ellipse fill=\"none\" stroke=\"black\" cx=\"177.05\" cy=\"-306\" rx=\"59.29\" ry=\"18\"/>\n<text text-anchor=\"middle\" x=\"177.05\" y=\"-302.3\" font-family=\"Times,serif\" font-size=\"14.00\">24 代わって</text>\n</g>\n<!-- 22 知的行動を&#45;&gt;24 代わって -->\n<g id=\"edge23\" class=\"edge\">\n<title>22 知的行動を&#45;&gt;24 代わって</title>\n<path fill=\"none\" stroke=\"black\" d=\"M125.16,-360.41C133.71,-351.61 144.38,-340.63 153.81,-330.92\"/>\n<polygon fill=\"black\" stroke=\"black\" points=\"156.59,-333.08 161.05,-323.47 151.57,-328.2 156.59,-333.08\"/>\n</g>\n<!-- 26 行わせる -->\n<g id=\"node27\" class=\"node\">\n<title>26 行わせる</title>\n<ellipse fill=\"none\" stroke=\"black\" cx=\"345.05\" cy=\"-234\" rx=\"59.29\" ry=\"18\"/>\n<text text-anchor=\"middle\" x=\"345.05\" y=\"-230.3\" font-family=\"Times,serif\" font-size=\"14.00\">26 行わせる</text>\n</g>\n<!-- 24 代わって&#45;&gt;26 行わせる -->\n<g id=\"edge25\" class=\"edge\">\n<title>24 代わって&#45;&gt;26 行わせる</title>\n<path fill=\"none\" stroke=\"black\" d=\"M210.64,-291C236.96,-280.03 273.77,-264.7 302.21,-252.85\"/>\n<polygon fill=\"black\" stroke=\"black\" points=\"303.63,-256.05 311.51,-248.97 300.93,-249.59 303.63,-256.05\"/>\n</g>\n<!-- 23 人間に -->\n<g id=\"node26\" class=\"node\">\n<title>23 人間に</title>\n<ellipse fill=\"none\" stroke=\"black\" cx=\"245.05\" cy=\"-378\" rx=\"50.09\" ry=\"18\"/>\n<text text-anchor=\"middle\" x=\"245.05\" y=\"-374.3\" font-family=\"Times,serif\" font-size=\"14.00\">23 人間に</text>\n</g>\n<!-- 23 人間に&#45;&gt;24 代わって -->\n<g id=\"edge24\" class=\"edge\">\n<title>23 人間に&#45;&gt;24 代わって</title>\n<path fill=\"none\" stroke=\"black\" d=\"M229.27,-360.76C220.65,-351.88 209.79,-340.71 200.22,-330.85\"/>\n<polygon fill=\"black\" stroke=\"black\" points=\"202.68,-328.37 193.2,-323.63 197.66,-333.24 202.68,-328.37\"/>\n</g>\n<!-- 27 技術または -->\n<g id=\"node29\" class=\"node\">\n<title>27 技術または</title>\n<ellipse fill=\"none\" stroke=\"black\" cx=\"498.05\" cy=\"-162\" rx=\"68.49\" ry=\"18\"/>\n<text text-anchor=\"middle\" x=\"498.05\" y=\"-158.3\" font-family=\"Times,serif\" font-size=\"14.00\">27 技術または</text>\n</g>\n<!-- 26 行わせる&#45;&gt;27 技術または -->\n<g id=\"edge27\" class=\"edge\">\n<title>26 行わせる&#45;&gt;27 技術または</title>\n<path fill=\"none\" stroke=\"black\" d=\"M376.38,-218.67C399.4,-208.13 430.93,-193.71 456.12,-182.18\"/>\n<polygon fill=\"black\" stroke=\"black\" points=\"457.8,-185.26 465.44,-177.92 454.89,-178.9 457.8,-185.26\"/>\n</g>\n<!-- 25 コンピューターに -->\n<g id=\"node28\" class=\"node\">\n<title>25 コンピューターに</title>\n<ellipse fill=\"none\" stroke=\"black\" cx=\"350.05\" cy=\"-306\" rx=\"96.38\" ry=\"18\"/>\n<text text-anchor=\"middle\" x=\"350.05\" y=\"-302.3\" font-family=\"Times,serif\" font-size=\"14.00\">25 コンピューターに</text>\n</g>\n<!-- 25 コンピューターに&#45;&gt;26 行わせる -->\n<g id=\"edge26\" class=\"edge\">\n<title>25 コンピューターに&#45;&gt;26 行わせる</title>\n<path fill=\"none\" stroke=\"black\" d=\"M348.81,-287.7C348.26,-279.98 347.6,-270.71 346.98,-262.11\"/>\n<polygon fill=\"black\" stroke=\"black\" points=\"350.47,-261.83 346.27,-252.1 343.49,-262.33 350.47,-261.83\"/>\n</g>\n<!-- 27 技術または&#45;&gt;34 研究分野とも -->\n<g id=\"edge28\" class=\"edge\">\n<title>27 技術または&#45;&gt;34 研究分野とも</title>\n<path fill=\"none\" stroke=\"black\" d=\"M537.56,-147.17C568.95,-136.18 613.09,-120.73 647.13,-108.82\"/>\n<polygon fill=\"black\" stroke=\"black\" points=\"648.61,-112.01 656.9,-105.4 646.3,-105.4 648.61,-112.01\"/>\n</g>\n<!-- 28 計算機 -->\n<g id=\"node30\" class=\"node\">\n<title>28 計算機</title>\n<ellipse fill=\"none\" stroke=\"black\" cx=\"1133.05\" cy=\"-378\" rx=\"50.09\" ry=\"18\"/>\n<text text-anchor=\"middle\" x=\"1133.05\" y=\"-374.3\" font-family=\"Times,serif\" font-size=\"14.00\">28 計算機</text>\n</g>\n<!-- 29 コンピュータによる -->\n<g id=\"node31\" class=\"node\">\n<title>29 コンピュータによる</title>\n<ellipse fill=\"none\" stroke=\"black\" cx=\"1133.05\" cy=\"-306\" rx=\"105.08\" ry=\"18\"/>\n<text text-anchor=\"middle\" x=\"1133.05\" y=\"-302.3\" font-family=\"Times,serif\" font-size=\"14.00\">29 コンピュータによる</text>\n</g>\n<!-- 28 計算機&#45;&gt;29 コンピュータによる -->\n<g id=\"edge29\" class=\"edge\">\n<title>28 計算機&#45;&gt;29 コンピュータによる</title>\n<path fill=\"none\" stroke=\"black\" d=\"M1133.05,-359.7C1133.05,-351.98 1133.05,-342.71 1133.05,-334.11\"/>\n<polygon fill=\"black\" stroke=\"black\" points=\"1136.55,-334.1 1133.05,-324.1 1129.55,-334.1 1136.55,-334.1\"/>\n</g>\n<!-- 31 情報処理システムの -->\n<g id=\"node32\" class=\"node\">\n<title>31 情報処理システムの</title>\n<ellipse fill=\"none\" stroke=\"black\" cx=\"1220.05\" cy=\"-234\" rx=\"105.08\" ry=\"18\"/>\n<text text-anchor=\"middle\" x=\"1220.05\" y=\"-230.3\" font-family=\"Times,serif\" font-size=\"14.00\">31 情報処理システムの</text>\n</g>\n<!-- 29 コンピュータによる&#45;&gt;31 情報処理システムの -->\n<g id=\"edge30\" class=\"edge\">\n<title>29 コンピュータによる&#45;&gt;31 情報処理システムの</title>\n<path fill=\"none\" stroke=\"black\" d=\"M1154.11,-288.05C1165.22,-279.11 1179.02,-268.01 1191.13,-258.27\"/>\n<polygon fill=\"black\" stroke=\"black\" points=\"1193.58,-260.78 1199.18,-251.79 1189.19,-255.33 1193.58,-260.78\"/>\n</g>\n<!-- 33 実現に関する -->\n<g id=\"node34\" class=\"node\">\n<title>33 実現に関する</title>\n<ellipse fill=\"none\" stroke=\"black\" cx=\"1047.05\" cy=\"-162\" rx=\"77.19\" ry=\"18\"/>\n<text text-anchor=\"middle\" x=\"1047.05\" y=\"-158.3\" font-family=\"Times,serif\" font-size=\"14.00\">33 実現に関する</text>\n</g>\n<!-- 31 情報処理システムの&#45;&gt;33 実現に関する -->\n<g id=\"edge32\" class=\"edge\">\n<title>31 情報処理システムの&#45;&gt;33 実現に関する</title>\n<path fill=\"none\" stroke=\"black\" d=\"M1180.79,-217.12C1154.75,-206.58 1120.47,-192.71 1093.13,-181.65\"/>\n<polygon fill=\"black\" stroke=\"black\" points=\"1094.36,-178.37 1083.78,-177.86 1091.74,-184.86 1094.36,-178.37\"/>\n</g>\n<!-- 30 知的な -->\n<g id=\"node33\" class=\"node\">\n<title>30 知的な</title>\n<ellipse fill=\"none\" stroke=\"black\" cx=\"1306.05\" cy=\"-306\" rx=\"50.09\" ry=\"18\"/>\n<text text-anchor=\"middle\" x=\"1306.05\" y=\"-302.3\" font-family=\"Times,serif\" font-size=\"14.00\">30 知的な</text>\n</g>\n<!-- 30 知的な&#45;&gt;31 情報処理システムの -->\n<g id=\"edge31\" class=\"edge\">\n<title>30 知的な&#45;&gt;31 情報処理システムの</title>\n<path fill=\"none\" stroke=\"black\" d=\"M1286.53,-289.12C1275.31,-279.98 1261.01,-268.35 1248.55,-258.2\"/>\n<polygon fill=\"black\" stroke=\"black\" points=\"1250.65,-255.4 1240.68,-251.8 1246.23,-260.82 1250.65,-255.4\"/>\n</g>\n<!-- 33 実現に関する&#45;&gt;34 研究分野とも -->\n<g id=\"edge34\" class=\"edge\">\n<title>33 実現に関する&#45;&gt;34 研究分野とも</title>\n<path fill=\"none\" stroke=\"black\" d=\"M990.58,-149.68C928.84,-137.29 829.97,-117.46 764.52,-104.33\"/>\n<polygon fill=\"black\" stroke=\"black\" points=\"765.21,-100.9 754.71,-102.37 763.83,-107.76 765.21,-100.9\"/>\n</g>\n<!-- 32 設計や -->\n<g id=\"node35\" class=\"node\">\n<title>32 設計や</title>\n<ellipse fill=\"none\" stroke=\"black\" cx=\"1047.05\" cy=\"-234\" rx=\"50.09\" ry=\"18\"/>\n<text text-anchor=\"middle\" x=\"1047.05\" y=\"-230.3\" font-family=\"Times,serif\" font-size=\"14.00\">32 設計や</text>\n</g>\n<!-- 32 設計や&#45;&gt;33 実現に関する -->\n<g id=\"edge33\" class=\"edge\">\n<title>32 設計や&#45;&gt;33 実現に関する</title>\n<path fill=\"none\" stroke=\"black\" d=\"M1047.05,-215.7C1047.05,-207.98 1047.05,-198.71 1047.05,-190.11\"/>\n<polygon fill=\"black\" stroke=\"black\" points=\"1050.55,-190.1 1047.05,-180.1 1043.55,-190.1 1050.55,-190.1\"/>\n</g>\n</g>\n</svg>\n",
            "text/plain": [
              "<graphviz.graphs.Digraph at 0x7fdd810b52b0>"
            ]
          },
          "metadata": {},
          "execution_count": 32
        }
      ]
    },
    {
      "cell_type": "markdown",
      "source": [
        "##45. 動詞の格パターンの抽出"
      ],
      "metadata": {
        "id": "12ZuTIQeyxnw"
      }
    },
    {
      "cell_type": "code",
      "source": [
        "# 文節(助詞=格)　→係り先→ 動詞（述語）\n",
        "# 出力形式 : 述語 \\t 格 \\s 格"
      ],
      "metadata": {
        "id": "xPkSV6gswDtC"
      },
      "execution_count": null,
      "outputs": []
    },
    {
      "cell_type": "code",
      "source": [
        "with open(\"./case.txt\", \"w\") as f:\n",
        "    for sentence in sentences:\n",
        "        for chunk in sentence:\n",
        "            for morph in chunk.morphs:\n",
        "                if morph.pos == \"動詞\":\n",
        "                    cases = []\n",
        "                    for src in chunk.srcs:  #動詞の係り元chunkから助詞を探す\n",
        "                        # 係り元chunkに含まれる形態素が助詞であればその表層形を取得\n",
        "                        case = [src_morph.surface for src_morph in sentence[src].morphs if src_morph.pos == \"助詞\"]\n",
        "                        cases.extend(case)\n",
        "                    if len(cases) > 0:\n",
        "                        cases = \" \".join(sorted(cases)) # 助詞をスペース区切りで辞書順に並べる\n",
        "                        line = morph.base + \"\\t\" + cases + \"\\n\"\n",
        "\n",
        "                        f.write(line)\n",
        "                    break"
      ],
      "metadata": {
        "id": "RAH1HMO2y40a"
      },
      "execution_count": null,
      "outputs": []
    },
    {
      "cell_type": "code",
      "source": [
        "# コーパス中で頻出する述語と格パターンの組み合わせ\n",
        "! cat ./case.txt | sort | uniq -c | sort -nr | head -n 10"
      ],
      "metadata": {
        "id": "7VhiCsim4jhS",
        "colab": {
          "base_uri": "https://localhost:8080/"
        },
        "outputId": "5283b9c4-a9db-4b8d-960e-f425bca466c6"
      },
      "execution_count": null,
      "outputs": [
        {
          "output_type": "stream",
          "name": "stdout",
          "text": [
            "     49 する\tを\n",
            "     18 する\tが\n",
            "     15 する\tに\n",
            "     14 する\tと\n",
            "     12 する\tは を\n",
            "     10 する\tに を\n",
            "      9 よる\tに\n",
            "      9 する\tで を\n",
            "      8 行う\tを\n",
            "      7 する\tが に\n"
          ]
        }
      ]
    },
    {
      "cell_type": "code",
      "source": [
        "# 「行う」「なる」「与える」という動詞の格パターン\n",
        "! cat ./case.txt | grep \"行う\" | sort | uniq -c | sort -nr | head -n 5"
      ],
      "metadata": {
        "id": "sHjp7Ane43KK",
        "colab": {
          "base_uri": "https://localhost:8080/"
        },
        "outputId": "bd756466-b35b-4eaf-85eb-a773a4edbed8"
      },
      "execution_count": null,
      "outputs": [
        {
          "output_type": "stream",
          "name": "stdout",
          "text": [
            "      8 行う\tを\n",
            "      1 行う\tまで を\n",
            "      1 行う\tは を をめぐって\n",
            "      1 行う\tは を\n",
            "      1 行う\tに を を\n"
          ]
        }
      ]
    },
    {
      "cell_type": "code",
      "source": [
        "! cat ./case.txt | grep \"なる\" | sort | uniq -c | sort -nr | head -n 5"
      ],
      "metadata": {
        "colab": {
          "base_uri": "https://localhost:8080/"
        },
        "id": "JBGS2_V9Ewph",
        "outputId": "579baeb6-47b6-4270-ca2c-4bbfad8b65bf"
      },
      "execution_count": null,
      "outputs": [
        {
          "output_type": "stream",
          "name": "stdout",
          "text": [
            "      3 なる\tに は\n",
            "      3 なる\tが と\n",
            "      2 なる\tに\n",
            "      2 なる\tと\n",
            "      1 異なる\tも\n"
          ]
        }
      ]
    },
    {
      "cell_type": "code",
      "source": [
        "! cat ./case.txt | grep \"与える\" | sort | uniq -c | sort -nr | head -n 5"
      ],
      "metadata": {
        "colab": {
          "base_uri": "https://localhost:8080/"
        },
        "id": "ex_Q3KcnEy2d",
        "outputId": "0374c07e-3810-422f-e8d6-8a403efa5f6d"
      },
      "execution_count": null,
      "outputs": [
        {
          "output_type": "stream",
          "name": "stdout",
          "text": [
            "      1 与える\tに は を\n",
            "      1 与える\tが に\n",
            "      1 与える\tが など に\n"
          ]
        }
      ]
    },
    {
      "cell_type": "markdown",
      "source": [
        "##46. 動詞の格フレーム情報の抽出"
      ],
      "metadata": {
        "id": "1oKpAU8my5gh"
      }
    },
    {
      "cell_type": "code",
      "source": [
        "# 文節(助詞=格)　→係り先→ 動詞（述語）\n",
        "# 出力形式 : 述語 \\t 格 \\s 格"
      ],
      "metadata": {
        "id": "3IutJpC94NmT"
      },
      "execution_count": null,
      "outputs": []
    },
    {
      "cell_type": "code",
      "source": [
        "with open(\"./case_frame.txt\", \"w\") as f:\n",
        "    for sentence in sentences:\n",
        "        unsigned_sentence = unsign(sentence)\n",
        "        for chunk in sentence:\n",
        "            for morph in chunk.morphs:\n",
        "                if morph.pos == \"動詞\":\n",
        "                    cases = []\n",
        "                    frames = []\n",
        "                    for src in chunk.srcs:  #動詞の係り元chunkから助詞を探す\n",
        "                        # 係り元chunkに含まれる形態素が助詞であればその表層形を取得\n",
        "                        case = [src_morph.surface for src_morph in sentence[src].morphs if src_morph.pos == \"助詞\"]\n",
        "                        cases.extend(case)\n",
        "                        if len(case) > 0:\n",
        "                            frames.append(unsigned_sentence[src])   # 述語に係る文節を取得\n",
        "\n",
        "                    if len(cases) > 0:\n",
        "                        cases = \" \".join(sorted(cases)) # 助詞をスペース区切りで辞書順に並べる\n",
        "                        frames = \" \".join(sorted(frames))   # 述語に係る文節をスペース区切りで辞書順に並べる\n",
        "                        line = \"\\t\".join([morph.base, cases, frames]) + \"\\n\"\n",
        "\n",
        "                        f.write(line)\n",
        "                    break"
      ],
      "metadata": {
        "id": "OCXz3jroy_hB"
      },
      "execution_count": null,
      "outputs": []
    },
    {
      "cell_type": "markdown",
      "source": [
        "##47. 機能動詞構文のマイニング"
      ],
      "metadata": {
        "id": "vxulOk_ZzAHn"
      }
    },
    {
      "cell_type": "code",
      "source": [
        "# 「サ変接続名詞+を（助詞）」で構成される文節か判定する関数\n",
        "def sahen_wo(chunk):\n",
        "    if len(chunk.morphs) == 2:\n",
        "        sahen = chunk.morphs[0].pos1 == \"サ変接続\"\n",
        "        wo = chunk.morphs[1].surface == \"を\"\n",
        "        return sahen and wo\n",
        "    return False"
      ],
      "metadata": {
        "id": "UyRaEGm_Q-16"
      },
      "execution_count": null,
      "outputs": []
    },
    {
      "cell_type": "code",
      "source": [
        "with open(\"./sahen_noun_wo.txt\", \"w\") as f:\n",
        "    for sentence in sentences:\n",
        "        unsigned_sentence = unsign(sentence)\n",
        "        for chunk in sentence:\n",
        "            for morph in chunk.morphs:\n",
        "                if morph.pos == \"動詞\":\n",
        "                    for src in reversed(chunk.srcs):  #動詞の係り元chunkから助詞を探す\n",
        "                        if sahen_wo(sentence[src]):\n",
        "                            sahen_wo_verb = unsigned_sentence[src] + morph.base\n",
        "                            cases = []\n",
        "                            frames = []\n",
        "                            for sahen_src in chunk.srcs:\n",
        "                                if sahen_src == src:\n",
        "                                    continue\n",
        "\n",
        "                                case = [src_morph.surface for src_morph in sentence[sahen_src].morphs if src_morph.pos == \"助詞\"]\n",
        "                                cases.extend(case)\n",
        "                                if len(case) > 0:\n",
        "                                    frames.append(unsigned_sentence[sahen_src])\n",
        "\n",
        "                            if len(cases) > 0:\n",
        "                                cases = \" \".join(sorted(cases))\n",
        "                                frames = \" \".join(sorted(frames))\n",
        "                                line = \"\\t\".join([sahen_wo_verb, cases, frames]) + \"\\n\"\n",
        "\n",
        "                                f.write(line)\n",
        "                            break"
      ],
      "metadata": {
        "id": "YpEi1oSvzFO5"
      },
      "execution_count": null,
      "outputs": []
    },
    {
      "cell_type": "markdown",
      "source": [
        "##48. 名詞から根へのパスの抽出"
      ],
      "metadata": {
        "id": "Cjni6bYrzFcU"
      }
    },
    {
      "cell_type": "code",
      "source": [
        "# 名詞から根へのパスを抽出\n",
        "def get_path_to_root(sentence):\n",
        "    unsigned_sentence = unsign(sentence)\n",
        "    poses = get_pos(sentence)\n",
        "    for i, chunk in enumerate(sentence):\n",
        "        if \"名詞\" in poses[i]:\n",
        "            dst = i\n",
        "            path_to_root = []\n",
        "            while dst != -1:\n",
        "                path_to_root.append(unsigned_sentence[dst])\n",
        "                dst = sentence[dst].dst\n",
        "            print(\" -> \".join(path_to_root))"
      ],
      "metadata": {
        "id": "JV2qIU4yzK3G"
      },
      "execution_count": null,
      "outputs": []
    },
    {
      "cell_type": "code",
      "source": [
        "sentence_num = 2\n",
        "get_path_to_root(sentences[sentence_num])"
      ],
      "metadata": {
        "colab": {
          "base_uri": "https://localhost:8080/"
        },
        "id": "YuTlLrDCvcFn",
        "outputId": "0a545a22-b6b8-4c28-b071-f28d98f01e95"
      },
      "execution_count": null,
      "outputs": [
        {
          "output_type": "stream",
          "name": "stdout",
          "text": [
            "日本大百科全書(ニッポニカ)』の -> 解説で -> 述べている\n",
            "解説で -> 述べている\n",
            "情報工学者通信工学者の -> 佐藤理史は -> 述べている\n",
            "佐藤理史は -> 述べている\n",
            "次のように -> 述べている\n"
          ]
        }
      ]
    },
    {
      "cell_type": "markdown",
      "source": [
        "##49. 名詞間の係り受けパスの抽出"
      ],
      "metadata": {
        "id": "GdG-hkAkzLMD"
      }
    },
    {
      "cell_type": "code",
      "source": [
        "# パターン1 ... 「 i -> a -> b -> j -> 根　」 ならば 「 i -> a -> b -> j 」\n",
        "# パターン2 ... 「 i -> a -> k -> 根 」　かつ 「 j -> b -> k -> 根 」 ならば 「 i -> a | j -> b | k」\n",
        "#    ( 文節 i, j に含まれる名詞をそれぞれ X, Y に変換)\n",
        "\n",
        "import re\n",
        "\n",
        "# 記号除去した文節を抽出し、名詞をX,Yに置換する関数\n",
        "def repl_noun(chunk, character_X_Y):\n",
        "    noun = [(morph.surface, morph.pos) if morph.pos != \"記号\" else (\"\", \"\") for morph in chunk.morphs]\n",
        "    noun = [morph[0] if morph[1] != \"名詞\" else character_X_Y for morph in noun]\n",
        "    noun = \"\".join(noun)\n",
        "\n",
        "    # 連続するX,Yを1つのX,Yに置換 XXXXX→X\n",
        "    re_character_X_Y = character_X_Y + \"+\"\n",
        "    noun = re.sub(re_character_X_Y, character_X_Y, noun)\n",
        "\n",
        "    return noun\n",
        "\n",
        "# 名詞を含む文節から根までのパスを取得\n",
        "def noun_path(sentence):\n",
        "    unsigned_sentence = unsign(sentence)\n",
        "    poses = get_pos(sentence)\n",
        "    pathes = {}\n",
        "    for i, chunk in enumerate(sentence):\n",
        "        if \"名詞\" in poses[i]:\n",
        "            dst = chunk.dst\n",
        "            path_to_root = []\n",
        "\n",
        "            while dst != -1:\n",
        "                path_to_root.append(dst)\n",
        "                dst = sentence[dst].dst\n",
        "\n",
        "            pathes[i] = path_to_root\n",
        "    return pathes\n",
        "\n",
        "def depend_path(sentence):\n",
        "    unsigned_sentence = unsign(sentence)\n",
        "    pathes = noun_path(sentence)\n",
        "\n",
        "    for i, chunk in enumerate(sentence):    # 文節iを探す\n",
        "        if i in pathes.keys():    # 文節iであるか判定(psthesは名詞を含む)\n",
        "            i_noun = repl_noun(chunk, \"X\")\n",
        "\n",
        "            for j in range(i+1, len(sentence)):    # 文節jを探す\n",
        "                if j in pathes.keys():    # 文節jであるか判定\n",
        "                    # パターン1の場合\n",
        "                    if j in pathes[i]:\n",
        "                        out_path = [i_noun]\n",
        "                        for k in pathes[i]:\n",
        "                            if j == k:\n",
        "                                j_noun = repl_noun(sentence[j], \"Y\")\n",
        "                                out_path.append(j_noun)\n",
        "                                print(\" -> \".join(out_path))\n",
        "                            out_path.append(unsigned_sentence[k])\n",
        "\n",
        "                    # パターン2の場合\n",
        "                    else:\n",
        "                        for dst in pathes[j]:\n",
        "                            if dst in pathes[i]:    # 文節iのパスと交わるか判定\n",
        "                                depending_out = [i_noun]\n",
        "                                j_noun = repl_noun(sentence[j], \"Y\")\n",
        "                                depended_out = [j_noun]\n",
        "\n",
        "                                # 文節iから文節kに至る直前までのパス\n",
        "                                for k in pathes[i]:\n",
        "                                    if k == dst:\n",
        "                                        depending_out = \" -> \".join(depending_out)\n",
        "                                        break\n",
        "                                    depending_out.append(unsigned_sentence[k])\n",
        "\n",
        "                                # 文節jから文節kに至る直前までのパス\n",
        "                                for k in pathes[j]:\n",
        "                                    if k == dst:\n",
        "                                        depended_out = \" -> \".join(depended_out)\n",
        "                                        break\n",
        "                                    depended_out.append(unsigned_sentence[k])\n",
        "\n",
        "                                # 文節iから文節kに至る直前までのパス, 文節jから文節kに至る直前までのパス, 文節kの内容を” | “で連結\n",
        "                                out = \" | \".join([depending_out, depended_out, unsigned_sentence[dst]])\n",
        "                                print(out)\n",
        "                                break"
      ],
      "metadata": {
        "id": "oSjyMLf5zTUV"
      },
      "execution_count": null,
      "outputs": []
    },
    {
      "cell_type": "code",
      "source": [
        "from graphviz import Digraph\n",
        "\n",
        "sentence_num = 6\n",
        "unsigned_sentence = unsign(sentences[sentence_num])\n",
        "poses = get_pos(sentences[sentence_num])\n",
        "\n",
        "graph = Digraph(format=\"png\")\n",
        "\n",
        "for i, chunk in enumerate(sentences[sentence_num]):\n",
        "    if chunk.dst != -1:\n",
        "        tail = str(i) + \" \" + unsigned_sentence[i]\n",
        "        head = str(chunk.dst) + \" \" + unsigned_sentence[chunk.dst]\n",
        "        graph.edge(tail, head)\n",
        "graph"
      ],
      "metadata": {
        "colab": {
          "base_uri": "https://localhost:8080/",
          "height": 387
        },
        "id": "BJQ4AoZe_FQm",
        "outputId": "d61c3023-a401-4553-95a9-92f0fa1a4ae7"
      },
      "execution_count": null,
      "outputs": [
        {
          "output_type": "execute_result",
          "data": {
            "image/svg+xml": "<?xml version=\"1.0\" encoding=\"UTF-8\" standalone=\"no\"?>\n<!DOCTYPE svg PUBLIC \"-//W3C//DTD SVG 1.1//EN\"\n \"http://www.w3.org/Graphics/SVG/1.1/DTD/svg11.dtd\">\n<!-- Generated by graphviz version 2.43.0 (0)\n -->\n<!-- Title: %3 Pages: 1 -->\n<svg width=\"510pt\" height=\"260pt\"\n viewBox=\"0.00 0.00 510.13 260.00\" xmlns=\"http://www.w3.org/2000/svg\" xmlns:xlink=\"http://www.w3.org/1999/xlink\">\n<g id=\"graph0\" class=\"graph\" transform=\"scale(1 1) rotate(0) translate(4 256)\">\n<title>%3</title>\n<polygon fill=\"white\" stroke=\"transparent\" points=\"-4,4 -4,-256 506.13,-256 506.13,4 -4,4\"/>\n<!-- 0 第２次人工知能ブームでの -->\n<g id=\"node1\" class=\"node\">\n<title>0 第２次人工知能ブームでの</title>\n<ellipse fill=\"none\" stroke=\"black\" cx=\"128.69\" cy=\"-234\" rx=\"128.88\" ry=\"18\"/>\n<text text-anchor=\"middle\" x=\"128.69\" y=\"-230.3\" font-family=\"Times,serif\" font-size=\"14.00\">0 第２次人工知能ブームでの</text>\n</g>\n<!-- 1 人工知能は -->\n<g id=\"node2\" class=\"node\">\n<title>1 人工知能は</title>\n<ellipse fill=\"none\" stroke=\"black\" cx=\"128.69\" cy=\"-162\" rx=\"63.89\" ry=\"18\"/>\n<text text-anchor=\"middle\" x=\"128.69\" y=\"-158.3\" font-family=\"Times,serif\" font-size=\"14.00\">1 人工知能は</text>\n</g>\n<!-- 0 第２次人工知能ブームでの&#45;&gt;1 人工知能は -->\n<g id=\"edge1\" class=\"edge\">\n<title>0 第２次人工知能ブームでの&#45;&gt;1 人工知能は</title>\n<path fill=\"none\" stroke=\"black\" d=\"M128.69,-215.7C128.69,-207.98 128.69,-198.71 128.69,-190.11\"/>\n<polygon fill=\"black\" stroke=\"black\" points=\"132.19,-190.1 128.69,-180.1 125.19,-190.1 132.19,-190.1\"/>\n</g>\n<!-- 3 呼ばれ -->\n<g id=\"node3\" class=\"node\">\n<title>3 呼ばれ</title>\n<ellipse fill=\"none\" stroke=\"black\" cx=\"273.69\" cy=\"-90\" rx=\"45.49\" ry=\"18\"/>\n<text text-anchor=\"middle\" x=\"273.69\" y=\"-86.3\" font-family=\"Times,serif\" font-size=\"14.00\">3 呼ばれ</text>\n</g>\n<!-- 1 人工知能は&#45;&gt;3 呼ばれ -->\n<g id=\"edge2\" class=\"edge\">\n<title>1 人工知能は&#45;&gt;3 呼ばれ</title>\n<path fill=\"none\" stroke=\"black\" d=\"M159.44,-146.15C182.04,-135.24 212.86,-120.37 236.79,-108.81\"/>\n<polygon fill=\"black\" stroke=\"black\" points=\"238.44,-111.9 245.92,-104.4 235.4,-105.6 238.44,-111.9\"/>\n</g>\n<!-- 6 ある -->\n<g id=\"node5\" class=\"node\">\n<title>6 ある</title>\n<ellipse fill=\"none\" stroke=\"black\" cx=\"327.69\" cy=\"-18\" rx=\"36.29\" ry=\"18\"/>\n<text text-anchor=\"middle\" x=\"327.69\" y=\"-14.3\" font-family=\"Times,serif\" font-size=\"14.00\">6 ある</text>\n</g>\n<!-- 3 呼ばれ&#45;&gt;6 ある -->\n<g id=\"edge4\" class=\"edge\">\n<title>3 呼ばれ&#45;&gt;6 ある</title>\n<path fill=\"none\" stroke=\"black\" d=\"M286.49,-72.41C293.24,-63.66 301.65,-52.75 309.11,-43.08\"/>\n<polygon fill=\"black\" stroke=\"black\" points=\"312.02,-45.04 315.35,-34.99 306.48,-40.77 312.02,-45.04\"/>\n</g>\n<!-- 2 機械学習と -->\n<g id=\"node4\" class=\"node\">\n<title>2 機械学習と</title>\n<ellipse fill=\"none\" stroke=\"black\" cx=\"273.69\" cy=\"-162\" rx=\"63.89\" ry=\"18\"/>\n<text text-anchor=\"middle\" x=\"273.69\" y=\"-158.3\" font-family=\"Times,serif\" font-size=\"14.00\">2 機械学習と</text>\n</g>\n<!-- 2 機械学習と&#45;&gt;3 呼ばれ -->\n<g id=\"edge3\" class=\"edge\">\n<title>2 機械学習と&#45;&gt;3 呼ばれ</title>\n<path fill=\"none\" stroke=\"black\" d=\"M273.69,-143.7C273.69,-135.98 273.69,-126.71 273.69,-118.11\"/>\n<polygon fill=\"black\" stroke=\"black\" points=\"277.19,-118.1 273.69,-108.1 270.19,-118.1 277.19,-118.1\"/>\n</g>\n<!-- 4 以下のような -->\n<g id=\"node6\" class=\"node\">\n<title>4 以下のような</title>\n<ellipse fill=\"none\" stroke=\"black\" cx=\"428.69\" cy=\"-162\" rx=\"73.39\" ry=\"18\"/>\n<text text-anchor=\"middle\" x=\"428.69\" y=\"-158.3\" font-family=\"Times,serif\" font-size=\"14.00\">4 以下のような</text>\n</g>\n<!-- 5 ものが -->\n<g id=\"node7\" class=\"node\">\n<title>5 ものが</title>\n<ellipse fill=\"none\" stroke=\"black\" cx=\"405.69\" cy=\"-90\" rx=\"45.49\" ry=\"18\"/>\n<text text-anchor=\"middle\" x=\"405.69\" y=\"-86.3\" font-family=\"Times,serif\" font-size=\"14.00\">5 ものが</text>\n</g>\n<!-- 4 以下のような&#45;&gt;5 ものが -->\n<g id=\"edge5\" class=\"edge\">\n<title>4 以下のような&#45;&gt;5 ものが</title>\n<path fill=\"none\" stroke=\"black\" d=\"M423,-143.7C420.44,-135.9 417.36,-126.51 414.5,-117.83\"/>\n<polygon fill=\"black\" stroke=\"black\" points=\"417.76,-116.51 411.31,-108.1 411.11,-118.7 417.76,-116.51\"/>\n</g>\n<!-- 5 ものが&#45;&gt;6 ある -->\n<g id=\"edge6\" class=\"edge\">\n<title>5 ものが&#45;&gt;6 ある</title>\n<path fill=\"none\" stroke=\"black\" d=\"M387.99,-73.12C377.4,-63.61 363.78,-51.39 352.17,-40.97\"/>\n<polygon fill=\"black\" stroke=\"black\" points=\"354.3,-38.18 344.52,-34.1 349.62,-43.39 354.3,-38.18\"/>\n</g>\n</g>\n</svg>\n",
            "text/plain": [
              "<graphviz.graphs.Digraph at 0x7fdd90577580>"
            ]
          },
          "metadata": {},
          "execution_count": 44
        }
      ]
    },
    {
      "cell_type": "code",
      "source": [
        "sentence_num = 6\n",
        "depend_path(sentences[sentence_num])"
      ],
      "metadata": {
        "colab": {
          "base_uri": "https://localhost:8080/"
        },
        "id": "rJ-27spq9ZlW",
        "outputId": "979eb1be-fafd-4826-c721-5d1d7f4b5b75"
      },
      "execution_count": null,
      "outputs": [
        {
          "output_type": "stream",
          "name": "stdout",
          "text": [
            "第Xでの -> Yは\n",
            "第Xでの -> 人工知能は | Yと | 呼ばれ\n",
            "第Xでの -> 人工知能は -> 呼ばれ | YのYな -> ものが | ある\n",
            "第Xでの -> 人工知能は -> 呼ばれ | Yが | ある\n",
            "Xは | Yと | 呼ばれ\n",
            "Xは -> 呼ばれ | YのYな -> ものが | ある\n",
            "Xは -> 呼ばれ | Yが | ある\n",
            "Xと -> 呼ばれ | YのYな -> ものが | ある\n",
            "Xと -> 呼ばれ | Yが | ある\n",
            "XのXな -> Yが\n"
          ]
        }
      ]
    }
  ]
}