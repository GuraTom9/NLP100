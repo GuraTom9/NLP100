{
  "nbformat": 4,
  "nbformat_minor": 0,
  "metadata": {
    "colab": {
      "provenance": [],
      "gpuType": "T4",
      "mount_file_id": "1hYa3AV7HrIuXTfBflxYcYKBabghja2mn",
      "authorship_tag": "ABX9TyPODkDJUV2IkTtZHbgipEPl",
      "include_colab_link": true
    },
    "kernelspec": {
      "name": "python3",
      "display_name": "Python 3"
    },
    "language_info": {
      "name": "python"
    },
    "accelerator": "GPU"
  },
  "cells": [
    {
      "cell_type": "markdown",
      "metadata": {
        "id": "view-in-github",
        "colab_type": "text"
      },
      "source": [
        "<a href=\"https://colab.research.google.com/github/GuraTom9/NLP100/blob/main/NLP100_70_79.ipynb\" target=\"_parent\"><img src=\"https://colab.research.google.com/assets/colab-badge.svg\" alt=\"Open In Colab\"/></a>"
      ]
    },
    {
      "cell_type": "markdown",
      "source": [
        "#第8章　ニューラルネットワーク"
      ],
      "metadata": {
        "id": "GWQLLfpHO5qn"
      }
    },
    {
      "cell_type": "code",
      "source": [
        "%cd \"drive/My Drive/NLP100\""
      ],
      "metadata": {
        "colab": {
          "base_uri": "https://localhost:8080/"
        },
        "id": "KfsAGhH9UKa7",
        "outputId": "92b9cec2-f986-4a65-f023-c43d15a3f294"
      },
      "execution_count": null,
      "outputs": [
        {
          "output_type": "stream",
          "name": "stdout",
          "text": [
            "/content/drive/My Drive/NLP100\n"
          ]
        }
      ]
    },
    {
      "cell_type": "markdown",
      "source": [
        "##70. 単語ベクトルの和による特徴量"
      ],
      "metadata": {
        "id": "ervQt2WhPCIP"
      }
    },
    {
      "cell_type": "code",
      "execution_count": null,
      "metadata": {
        "id": "-CmD1QjlO2_g",
        "colab": {
          "base_uri": "https://localhost:8080/"
        },
        "outputId": "8eec78f1-b22b-4ba0-d8b2-a8562d891f9a"
      },
      "outputs": [
        {
          "output_type": "stream",
          "name": "stdout",
          "text": [
            "TITLE\tCATEGORY\n",
            "UPDATE 1-Sandwich chain Quiznos files for bankruptcy protection\tb\n",
            "Iraq concerns lift top-rated euro zone bonds but Fed limits gains\tb\n",
            "China Manufacturing Gauge Rises in Stabilization Sign: Economy\tb\n",
            "Crucifixion: A New Way to Think About Jesus' Death\te\n",
            "Tracy Morgan still critical but 'doing better' following deadly crash which killed his  ...\te\n",
            "FOREX-Dollar off to slow start in event-packed week\tb\n",
            "Alstom should be a good investment for France, says CEO Kron\tb\n",
            "Diabetes-Related Problems Have Decreased Over Last 20 Years\tm\n",
            "2 Cases Of Ebola Confirmed In Liberia\tm\n",
            "'You Are Not Pregnant. We're Pregnant!' Mila Kunis Tells Off Overeager Fathers  ...\te\n",
            "Home > Justin Bieber > Justin Bieber Sends Selena Gomez $10k Flowers?\te\n",
            "Data storage firm Box files for US IPO of about $250 million\tb\n",
            "Cocaine use in U.S. cut in HALF while marijuana use jumps 30 per cent\tm\n",
            "UPDATE 1-HKMA intervenes as deals, China optimism spur Hong Kong dollar  ...\tb\n"
          ]
        }
      ],
      "source": [
        "! head -15 train.txt"
      ]
    },
    {
      "cell_type": "code",
      "source": [
        "# 学習済み単語ベクトルのロード\n",
        "from gensim.models import KeyedVectors\n",
        "\n",
        "w2v_model = KeyedVectors.load_word2vec_format(\"GoogleNews-vectors-negative300.bin\", binary=True)\n",
        "w2v_model[\"United_States\"]"
      ],
      "metadata": {
        "id": "U9FmB4sjUO5c",
        "colab": {
          "base_uri": "https://localhost:8080/"
        },
        "outputId": "7e09eb1d-4932-4ff2-f5f8-d6615f338e8b"
      },
      "execution_count": null,
      "outputs": [
        {
          "output_type": "execute_result",
          "data": {
            "text/plain": [
              "array([-3.61328125e-02, -4.83398438e-02,  2.35351562e-01,  1.74804688e-01,\n",
              "       -1.46484375e-01, -7.42187500e-02, -1.01562500e-01, -7.71484375e-02,\n",
              "        1.09375000e-01, -5.71289062e-02, -1.48437500e-01, -6.00585938e-02,\n",
              "        1.74804688e-01, -7.71484375e-02,  2.58789062e-02, -7.66601562e-02,\n",
              "       -3.80859375e-02,  1.35742188e-01,  3.75976562e-02, -4.19921875e-02,\n",
              "       -3.56445312e-02,  5.34667969e-02,  3.68118286e-04, -1.66992188e-01,\n",
              "       -1.17187500e-01,  1.41601562e-01, -1.69921875e-01, -6.49414062e-02,\n",
              "       -1.66992188e-01,  1.00585938e-01,  1.15722656e-01, -2.18750000e-01,\n",
              "       -9.86328125e-02, -2.56347656e-02,  1.23046875e-01, -3.54003906e-02,\n",
              "       -1.58203125e-01, -1.60156250e-01,  2.94189453e-02,  8.15429688e-02,\n",
              "        6.88476562e-02,  1.87500000e-01,  6.49414062e-02,  1.15234375e-01,\n",
              "       -2.27050781e-02,  3.32031250e-01, -3.27148438e-02,  1.77734375e-01,\n",
              "       -2.08007812e-01,  4.54101562e-02, -1.23901367e-02,  1.19628906e-01,\n",
              "        7.44628906e-03, -9.03320312e-03,  1.14257812e-01,  1.69921875e-01,\n",
              "       -2.38281250e-01, -2.79541016e-02, -1.21093750e-01,  2.47802734e-02,\n",
              "        7.71484375e-02, -2.81982422e-02, -4.71191406e-02,  1.78222656e-02,\n",
              "       -1.23046875e-01, -5.32226562e-02,  2.68554688e-02, -3.11279297e-02,\n",
              "       -5.59082031e-02, -5.00488281e-02, -3.73535156e-02,  1.25976562e-01,\n",
              "        5.61523438e-02,  1.51367188e-01,  4.29687500e-02, -2.08007812e-01,\n",
              "       -4.78515625e-02,  2.78320312e-02,  1.81640625e-01,  2.20703125e-01,\n",
              "       -3.61328125e-02, -8.39843750e-02, -3.69548798e-05, -9.52148438e-02,\n",
              "       -1.25000000e-01, -1.95312500e-01, -1.50390625e-01, -4.15039062e-02,\n",
              "        1.31835938e-01,  1.17675781e-01,  1.91650391e-02,  5.51757812e-02,\n",
              "       -9.42382812e-02, -1.08886719e-01,  7.32421875e-02, -1.15234375e-01,\n",
              "        8.93554688e-02, -1.40625000e-01,  1.45507812e-01,  4.49218750e-02,\n",
              "       -1.10473633e-02, -1.62353516e-02,  4.05883789e-03,  3.75976562e-02,\n",
              "       -6.98242188e-02, -5.46875000e-02,  2.17285156e-02, -9.47265625e-02,\n",
              "        4.24804688e-02,  1.81884766e-02, -1.73339844e-02,  4.63867188e-02,\n",
              "       -1.42578125e-01,  1.99218750e-01,  1.10839844e-01,  2.58789062e-02,\n",
              "       -7.08007812e-02, -5.54199219e-02,  3.45703125e-01,  1.61132812e-01,\n",
              "       -2.44140625e-01, -2.59765625e-01, -9.71679688e-02,  8.00781250e-02,\n",
              "       -8.78906250e-02, -7.22656250e-02,  1.42578125e-01, -8.54492188e-02,\n",
              "       -3.18359375e-01,  8.30078125e-02,  6.34765625e-02,  1.64062500e-01,\n",
              "       -1.92382812e-01, -1.17675781e-01, -5.41992188e-02, -1.56250000e-01,\n",
              "       -1.21582031e-01, -4.95605469e-02,  1.20117188e-01, -3.83300781e-02,\n",
              "        5.51757812e-02, -8.97216797e-03,  4.32128906e-02,  6.93359375e-02,\n",
              "        8.93554688e-02,  2.53906250e-01,  1.65039062e-01,  1.64062500e-01,\n",
              "       -1.41601562e-01,  4.58984375e-02,  1.97265625e-01, -8.98437500e-02,\n",
              "        3.90625000e-02, -1.51367188e-01, -8.60595703e-03, -1.17675781e-01,\n",
              "       -1.97265625e-01, -1.12792969e-01,  1.29882812e-01,  1.96289062e-01,\n",
              "        1.56402588e-03,  3.93066406e-02,  2.17773438e-01, -1.43554688e-01,\n",
              "        6.03027344e-02, -1.35742188e-01,  1.16210938e-01, -1.59912109e-02,\n",
              "        2.79296875e-01,  1.46484375e-01, -1.19628906e-01,  1.76757812e-01,\n",
              "        1.28906250e-01, -1.49414062e-01,  6.93359375e-02, -1.72851562e-01,\n",
              "        9.22851562e-02,  1.33056641e-02, -2.00195312e-01, -9.76562500e-02,\n",
              "       -1.65039062e-01, -2.46093750e-01, -2.35595703e-02, -2.11914062e-01,\n",
              "        1.84570312e-01, -1.85546875e-02,  2.16796875e-01,  5.05371094e-02,\n",
              "        2.02636719e-02,  4.25781250e-01,  1.28906250e-01, -2.77099609e-02,\n",
              "        1.29882812e-01, -1.15722656e-01, -2.05078125e-02,  1.49414062e-01,\n",
              "        7.81250000e-03, -2.05078125e-01, -8.05664062e-02, -2.67578125e-01,\n",
              "       -2.29492188e-02, -8.20312500e-02,  8.64257812e-02,  7.61718750e-02,\n",
              "       -3.66210938e-02,  5.22460938e-02, -1.22070312e-01, -1.44042969e-02,\n",
              "       -2.69531250e-01,  8.44726562e-02, -2.52685547e-02, -2.96630859e-02,\n",
              "       -1.68945312e-01,  1.93359375e-01, -1.08398438e-01,  1.94091797e-02,\n",
              "       -1.80664062e-01,  1.93359375e-01, -7.08007812e-02,  5.85937500e-02,\n",
              "       -1.01562500e-01, -1.31835938e-01,  7.51953125e-02, -7.66601562e-02,\n",
              "        3.37219238e-03, -8.59375000e-02,  1.25000000e-01,  2.92968750e-02,\n",
              "        1.70898438e-01, -9.37500000e-02, -1.09375000e-01, -2.50244141e-02,\n",
              "        2.11914062e-01, -4.44335938e-02,  6.12792969e-02,  2.62451172e-02,\n",
              "       -1.77734375e-01,  1.23046875e-01, -7.42187500e-02, -1.67968750e-01,\n",
              "       -1.08886719e-01, -9.04083252e-04, -7.37304688e-02,  5.49316406e-02,\n",
              "        6.03027344e-02,  8.39843750e-02,  9.17968750e-02, -1.32812500e-01,\n",
              "        1.22070312e-01, -8.78906250e-03,  1.19140625e-01, -1.94335938e-01,\n",
              "       -6.64062500e-02, -2.07031250e-01,  7.37304688e-02,  8.93554688e-02,\n",
              "        1.81884766e-02, -1.20605469e-01, -2.61230469e-02,  2.67333984e-02,\n",
              "        7.76367188e-02, -8.30078125e-02,  6.78710938e-02, -3.54003906e-02,\n",
              "        3.10546875e-01, -2.42919922e-02, -1.41601562e-01, -2.08007812e-01,\n",
              "       -4.57763672e-03, -6.54296875e-02, -4.95605469e-02,  2.22656250e-01,\n",
              "        1.53320312e-01, -1.38671875e-01, -5.24902344e-02,  4.24804688e-02,\n",
              "       -2.38281250e-01,  1.56250000e-01,  5.83648682e-04, -1.20605469e-01,\n",
              "       -9.22851562e-02, -4.44335938e-02,  3.61328125e-02, -1.86767578e-02,\n",
              "       -8.25195312e-02, -8.25195312e-02, -4.05273438e-02,  1.19018555e-02,\n",
              "        1.69921875e-01, -2.80761719e-02,  3.03649902e-03,  9.32617188e-02,\n",
              "       -8.49609375e-02,  1.57470703e-02,  7.03125000e-02,  1.62353516e-02,\n",
              "       -2.27050781e-02,  3.51562500e-02,  2.47070312e-01, -2.67333984e-02],\n",
              "      dtype=float32)"
            ]
          },
          "metadata": {},
          "execution_count": 2
        }
      ]
    },
    {
      "cell_type": "code",
      "source": [
        "import numpy as np\n",
        "import torch\n",
        "\n",
        "def convert_w2v(file_name):\n",
        "    with open(file_name, 'r', encoding='utf-8') as f:\n",
        "        lines = f.readlines()[1:]\n",
        "\n",
        "    # TITLEテキストを単語ベクトルの平均に変換し、特徴量ベクトルを作成する\n",
        "    X = []\n",
        "    for line in lines:\n",
        "        title = line.split('\\t')[0]\n",
        "        words = title.lower().split()\n",
        "        vectors = []\n",
        "        for word in words:\n",
        "            if word in w2v_model:\n",
        "                vectors.append(w2v_model[word])\n",
        "        if len(vectors) > 0:\n",
        "            X.append(np.mean(vectors, axis=0))\n",
        "        else:\n",
        "            X.append(np.zeros(300))\n",
        "    X = torch.tensor(np.array(X), dtype=torch.float32)\n",
        "\n",
        "    # CATEGORYをラベルベクトルに変換する\n",
        "    label_map = {'b': 0, 't': 1, 'e': 2, 'm': 3}\n",
        "    y = [label_map[line.split('\\t')[1].strip()] for line in lines]\n",
        "    y = torch.tensor(np.array(y))\n",
        "\n",
        "    return X, y\n"
      ],
      "metadata": {
        "id": "Cu3detEjX2vg"
      },
      "execution_count": null,
      "outputs": []
    },
    {
      "cell_type": "code",
      "source": [
        "X_train, y_train = convert_w2v(\"train.txt\")\n",
        "X_valid, y_valid = convert_w2v(\"valid.txt\")\n",
        "X_test, y_test = convert_w2v(\"test.txt\")\n",
        "\n",
        "print(X_train.shape, y_train.shape)\n",
        "print(X_train, y_train)"
      ],
      "metadata": {
        "colab": {
          "base_uri": "https://localhost:8080/"
        },
        "id": "jUy6XojSY6G9",
        "outputId": "19852212-7ae3-4d67-bd13-6ef407082093"
      },
      "execution_count": null,
      "outputs": [
        {
          "output_type": "stream",
          "name": "stdout",
          "text": [
            "torch.Size([10684, 300]) torch.Size([10684])\n",
            "tensor([[ 0.0164,  0.0535, -0.0564,  ..., -0.0336,  0.0207, -0.0029],\n",
            "        [-0.0299,  0.0188,  0.0214,  ..., -0.0400,  0.0317, -0.1316],\n",
            "        [-0.0130,  0.0603, -0.0431,  ..., -0.0025,  0.1400, -0.1038],\n",
            "        ...,\n",
            "        [-0.0905, -0.0079,  0.0337,  ..., -0.0858, -0.0237,  0.0873],\n",
            "        [-0.0168, -0.0563, -0.1477,  ...,  0.0164,  0.0597,  0.0108],\n",
            "        [-0.0312, -0.0396, -0.0067,  ...,  0.0805,  0.0866,  0.0168]]) tensor([0, 0, 0,  ..., 2, 0, 0])\n"
          ]
        }
      ]
    },
    {
      "cell_type": "markdown",
      "source": [
        "##71. 単層ニューラルネットワークによる予測"
      ],
      "metadata": {
        "id": "Uf8SNtTBPcrD"
      }
    },
    {
      "cell_type": "code",
      "source": [
        "import torch\n",
        "import torch.nn as nn\n",
        "import torch.nn.functional as F\n",
        "\n",
        "class SLPNet(nn.Module):\n",
        "    def __init__(self, input_size, output_size):\n",
        "        super(SLPNet, self).__init__()\n",
        "        self.fc1 = nn.Linear(input_size, output_size)\n",
        "        nn.init.normal_(self.fc1.weight, mean=0.0, std=1.0) # 重みの初期値を設定（平均mean, 標準偏差stdの正規分布）\n",
        "\n",
        "    def forward(self, x):\n",
        "        x = self.fc1(x)\n",
        "        return x\n"
      ],
      "metadata": {
        "id": "vp63htQ79rBG"
      },
      "execution_count": null,
      "outputs": []
    },
    {
      "cell_type": "code",
      "source": [
        "# モデルのインスタンス化\n",
        "model = SLPNet(300, 4)\n",
        "print(model)"
      ],
      "metadata": {
        "colab": {
          "base_uri": "https://localhost:8080/"
        },
        "id": "E5hDcdC1ACGh",
        "outputId": "19a05718-9b40-4991-8c97-8ee1a3bb9a66"
      },
      "execution_count": null,
      "outputs": [
        {
          "output_type": "stream",
          "name": "stdout",
          "text": [
            "SLPNet(\n",
            "  (fc1): Linear(in_features=300, out_features=4, bias=True)\n",
            ")\n"
          ]
        }
      ]
    },
    {
      "cell_type": "code",
      "source": [
        "y1_hat = F.softmax(model(X_train[:1]), dim=1)\n",
        "print(y1_hat)\n",
        "\n",
        "Y_hat = F.softmax(model(X_train[:4]), dim=1)\n",
        "print(Y_hat)"
      ],
      "metadata": {
        "colab": {
          "base_uri": "https://localhost:8080/"
        },
        "id": "rrikKm0ZEt6H",
        "outputId": "3dabb701-ae1b-46a4-c5dd-65a1449da006"
      },
      "execution_count": null,
      "outputs": [
        {
          "output_type": "stream",
          "name": "stdout",
          "text": [
            "tensor([[0.1180, 0.1532, 0.4810, 0.2478]], grad_fn=<SoftmaxBackward0>)\n",
            "tensor([[0.1180, 0.1532, 0.4810, 0.2478],\n",
            "        [0.0334, 0.1213, 0.8397, 0.0055],\n",
            "        [0.3574, 0.4493, 0.1907, 0.0026],\n",
            "        [0.0182, 0.4488, 0.4671, 0.0659]], grad_fn=<SoftmaxBackward0>)\n"
          ]
        }
      ]
    },
    {
      "cell_type": "markdown",
      "source": [
        "##72. 損失と勾配の計算"
      ],
      "metadata": {
        "id": "mMQoTshlPjT_"
      }
    },
    {
      "cell_type": "code",
      "source": [
        "# パラメータの確認\n",
        "for name, param in model.named_parameters():\n",
        "    print(f'name={name} size={list(param.size())} ({param.numel()}) {param.requires_grad}')"
      ],
      "metadata": {
        "colab": {
          "base_uri": "https://localhost:8080/"
        },
        "id": "X-_s4ZGpGh-m",
        "outputId": "5a910115-3fbb-44ae-99f2-c267bb5ff65a"
      },
      "execution_count": null,
      "outputs": [
        {
          "output_type": "stream",
          "name": "stdout",
          "text": [
            "name=fc1.weight size=[4, 300] (1200) True\n",
            "name=fc1.bias size=[4] (4) True\n"
          ]
        }
      ]
    },
    {
      "cell_type": "code",
      "source": [
        "# 損失関数の定義\n",
        "criterion = nn.CrossEntropyLoss()"
      ],
      "metadata": {
        "id": "BBiLSc3xPmOz"
      },
      "execution_count": null,
      "outputs": []
    },
    {
      "cell_type": "code",
      "source": [
        "loss1 = criterion(model(X_train[:1]), y_train[:1]) # 損失の計算\n",
        "print(\"損失: \", loss1)\n",
        "model.zero_grad() # 勾配の初期化\n",
        "loss1.backward() # 勾配の計算\n",
        "print(\"勾配: \", model.fc1.weight.grad) # パラメータweightのgrad属性を取得\n",
        "\n",
        "loss = criterion(model(X_train[:4]), y_train[:4])\n",
        "print(\"損失: \", loss)\n",
        "model.zero_grad()\n",
        "loss.backward()\n",
        "print(\"勾配: \", model.fc1.weight.grad)"
      ],
      "metadata": {
        "colab": {
          "base_uri": "https://localhost:8080/"
        },
        "id": "OkJnV2nB3l1h",
        "outputId": "f651315a-c66b-40e3-95aa-4ce1d058ced0"
      },
      "execution_count": null,
      "outputs": [
        {
          "output_type": "stream",
          "name": "stdout",
          "text": [
            "損失:  tensor(3.0277, grad_fn=<NllLossBackward0>)\n",
            "勾配:  tensor([[-1.5579e-02, -5.0955e-02,  5.3704e-02,  ...,  3.1992e-02,\n",
            "         -1.9650e-02,  2.7878e-03],\n",
            "        [ 1.9690e-03,  6.4403e-03, -6.7877e-03,  ..., -4.0435e-03,\n",
            "          2.4836e-03, -3.5236e-04],\n",
            "        [ 1.3519e-02,  4.4218e-02, -4.6604e-02,  ..., -2.7763e-02,\n",
            "          1.7052e-02, -2.4192e-03],\n",
            "        [ 9.0581e-05,  2.9628e-04, -3.1226e-04,  ..., -1.8602e-04,\n",
            "          1.1426e-04, -1.6210e-05]])\n",
            "損失:  tensor(1.7486, grad_fn=<NllLossBackward0>)\n",
            "勾配:  tensor([[ 0.0125, -0.0230,  0.0360,  ...,  0.0187, -0.0372,  0.0458],\n",
            "        [-0.0031,  0.0122, -0.0037,  ..., -0.0047,  0.0230, -0.0264],\n",
            "        [-0.0093,  0.0095, -0.0331,  ..., -0.0135,  0.0121, -0.0163],\n",
            "        [-0.0001,  0.0013,  0.0008,  ..., -0.0005,  0.0021, -0.0031]])\n"
          ]
        }
      ]
    },
    {
      "cell_type": "markdown",
      "source": [
        "##73. 確率的勾配降下法による学習"
      ],
      "metadata": {
        "id": "MZqEeDnaPmpK"
      }
    },
    {
      "cell_type": "code",
      "source": [
        "import torch\n",
        "import torch.nn as nn\n",
        "import torch.optim as optim\n",
        "\n",
        "# ハイパーパラメータの設定\n",
        "lr = 0.1\n",
        "num_epochs = 10\n",
        "\n",
        "# モデルのインスタンス化\n",
        "model = SLPNet(300, 4)\n",
        "\n",
        "# 損失関数とオプティマイザの定義\n",
        "criterion = nn.CrossEntropyLoss()\n",
        "optimizer = optim.SGD(model.parameters(), lr=lr)\n",
        "\n",
        "# 学習\n",
        "model.train()\n",
        "for epoch in range(num_epochs):\n",
        "    running_loss = 0.0\n",
        "    for i in range(len(X_train)):\n",
        "        inputs = X_train[i]\n",
        "        labels = y_train[i]\n",
        "\n",
        "        # 勾配の初期化\n",
        "        optimizer.zero_grad()\n",
        "\n",
        "        # 順伝播、損失計算、逆伝播、パラメータ更新\n",
        "        outputs = model(inputs)\n",
        "        loss = criterion(outputs, labels)\n",
        "        loss.backward()\n",
        "        optimizer.step()\n",
        "\n",
        "        running_loss += loss.item()\n",
        "\n",
        "    # 損失の表示\n",
        "    print('Epoch %d: Loss=%.4f' % (epoch+1, running_loss))\n",
        "\n",
        "# モデルの保存\n",
        "torch.save(model.state_dict(), 'SLPNet.model')"
      ],
      "metadata": {
        "id": "5xx5hibVPsVN",
        "colab": {
          "base_uri": "https://localhost:8080/"
        },
        "outputId": "3c642604-425a-4501-b4ee-6db7d18b319f"
      },
      "execution_count": null,
      "outputs": [
        {
          "output_type": "stream",
          "name": "stdout",
          "text": [
            "Epoch 1: Loss=6014.1058\n",
            "Epoch 2: Loss=4390.2714\n",
            "Epoch 3: Loss=4067.7259\n",
            "Epoch 4: Loss=3896.4385\n",
            "Epoch 5: Loss=3785.8262\n",
            "Epoch 6: Loss=3707.2033\n",
            "Epoch 7: Loss=3648.0493\n",
            "Epoch 8: Loss=3601.8411\n",
            "Epoch 9: Loss=3564.7717\n",
            "Epoch 10: Loss=3534.4338\n"
          ]
        }
      ]
    },
    {
      "cell_type": "markdown",
      "source": [
        "##74. 正解率の計測"
      ],
      "metadata": {
        "id": "CLq-SiaKPs7c"
      }
    },
    {
      "cell_type": "code",
      "source": [
        "# モデルの読み込み\n",
        "model.load_state_dict(torch.load('SLPNet.model'))"
      ],
      "metadata": {
        "colab": {
          "base_uri": "https://localhost:8080/"
        },
        "id": "1hN0dFtR-1Rd",
        "outputId": "6b90f4c1-503a-433c-fc23-d8a77e1aa052"
      },
      "execution_count": null,
      "outputs": [
        {
          "output_type": "execute_result",
          "data": {
            "text/plain": [
              "<All keys matched successfully>"
            ]
          },
          "metadata": {},
          "execution_count": 32
        }
      ]
    },
    {
      "cell_type": "code",
      "source": [
        "# 推論結果の正解率を計算\n",
        "from sklearn.metrics import accuracy_score\n",
        "\n",
        "def calculate_accuracy(model, X, y):\n",
        "    model.eval()\n",
        "    with torch.no_grad():\n",
        "        preds = []\n",
        "        for i in range(len(X)):\n",
        "            outputs = model(X[i])\n",
        "            preds.append(torch.argmax(outputs, -1))\n",
        "\n",
        "        accuracy = accuracy_score(preds, y)\n",
        "        return accuracy\n",
        "\n",
        "print('Accuracy(Train): %.4f' % calculate_accuracy(model, X_train, y_train))\n",
        "print('Accuracy(Valid): %.4f' % calculate_accuracy(model, X_valid, y_valid))"
      ],
      "metadata": {
        "colab": {
          "base_uri": "https://localhost:8080/"
        },
        "id": "eQkokcyVkuVX",
        "outputId": "6d1cf01f-30f6-4c62-f313-e57a5d3d46ba"
      },
      "execution_count": null,
      "outputs": [
        {
          "output_type": "stream",
          "name": "stdout",
          "text": [
            "Accuracy(Train): 0.8889\n",
            "Accuracy(Valid): 0.8780\n"
          ]
        }
      ]
    },
    {
      "cell_type": "markdown",
      "source": [
        "##75. 損失と正解率のプロット"
      ],
      "metadata": {
        "id": "-ZrO89E1Pv0h"
      }
    },
    {
      "cell_type": "code",
      "source": [
        "# 推論結果の損失を計算\n",
        "def calculate_loss(model, X, y):\n",
        "    model.eval()\n",
        "    with torch.no_grad():\n",
        "        loss = 0\n",
        "        for i in range(len(X)):\n",
        "            outputs = model(X[i])\n",
        "            loss += criterion(outputs, y[i])\n",
        "        return loss / len(X)"
      ],
      "metadata": {
        "id": "38aBOugM-REL"
      },
      "execution_count": null,
      "outputs": []
    },
    {
      "cell_type": "code",
      "source": [
        "import torch\n",
        "import torch.nn as nn\n",
        "import torch.optim as optim\n",
        "\n",
        "# ハイパーパラメータの設定\n",
        "lr = 0.1\n",
        "num_epochs = 10\n",
        "\n",
        "# モデルのインスタンス化\n",
        "model = SLPNet(300, 4)\n",
        "\n",
        "# 損失関数とオプティマイザの定義\n",
        "criterion = nn.CrossEntropyLoss()\n",
        "optimizer = optim.SGD(model.parameters(), lr=lr)\n",
        "\n",
        "# 学習\n",
        "model.train()\n",
        "train_loss_log = []\n",
        "train_acc_log = []\n",
        "valid_loss_log = []\n",
        "valid_acc_log = []\n",
        "for epoch in range(num_epochs):\n",
        "    running_loss = 0.0\n",
        "    for i in range(len(X_train)):\n",
        "        inputs = X_train[i]\n",
        "        labels = y_train[i]\n",
        "\n",
        "        # 勾配の初期化\n",
        "        optimizer.zero_grad()\n",
        "\n",
        "        # 順伝播、損失計算、逆伝播、パラメータ更新\n",
        "        outputs = model(inputs)\n",
        "        loss = criterion(outputs, labels)\n",
        "        loss.backward()\n",
        "        optimizer.step()\n",
        "\n",
        "        running_loss += loss.item()\n",
        "\n",
        "    # 損失の計算\n",
        "    loss_train = calculate_loss(model, X_train, y_train)\n",
        "    loss_valid = calculate_loss(model, X_valid, y_valid)\n",
        "\n",
        "    # 正解率の計算\n",
        "    acc_train = calculate_accuracy(model, X_train, y_train)\n",
        "    acc_valid = calculate_accuracy(model, X_valid, y_valid)\n",
        "\n",
        "    print('Epoch %d: Loss(Train)=%.4f ACC(Train)=%.4f,  Loss(Valid)=%.4f ACC(Valid)=%.4f' % (epoch+1, loss_train, acc_train, loss_valid, acc_valid))\n",
        "\n",
        "    # ログの取得\n",
        "    train_loss_log.append(loss_train)\n",
        "    train_acc_log.append(acc_train)\n",
        "    valid_loss_log.append(loss_valid)\n",
        "    valid_acc_log.append(acc_valid)"
      ],
      "metadata": {
        "id": "YuEczh4LPzJz",
        "colab": {
          "base_uri": "https://localhost:8080/"
        },
        "outputId": "9830a821-0d99-401e-c3db-b3055fa73ace"
      },
      "execution_count": null,
      "outputs": [
        {
          "output_type": "stream",
          "name": "stdout",
          "text": [
            "Epoch 1: Loss(Train)=0.4295 ACC(Train)=0.8493,  Loss(Valid)=0.4397 ACC(Valid)=0.8421\n",
            "Epoch 2: Loss(Train)=0.3820 ACC(Train)=0.8675,  Loss(Valid)=0.4006 ACC(Valid)=0.8615\n",
            "Epoch 3: Loss(Train)=0.3600 ACC(Train)=0.8764,  Loss(Valid)=0.3855 ACC(Valid)=0.8735\n",
            "Epoch 4: Loss(Train)=0.3469 ACC(Train)=0.8792,  Loss(Valid)=0.3777 ACC(Valid)=0.8750\n",
            "Epoch 5: Loss(Train)=0.3382 ACC(Train)=0.8830,  Loss(Valid)=0.3730 ACC(Valid)=0.8765\n",
            "Epoch 6: Loss(Train)=0.3319 ACC(Train)=0.8852,  Loss(Valid)=0.3700 ACC(Valid)=0.8780\n",
            "Epoch 7: Loss(Train)=0.3271 ACC(Train)=0.8864,  Loss(Valid)=0.3680 ACC(Valid)=0.8802\n",
            "Epoch 8: Loss(Train)=0.3234 ACC(Train)=0.8882,  Loss(Valid)=0.3668 ACC(Valid)=0.8780\n",
            "Epoch 9: Loss(Train)=0.3205 ACC(Train)=0.8892,  Loss(Valid)=0.3660 ACC(Valid)=0.8772\n",
            "Epoch 10: Loss(Train)=0.3180 ACC(Train)=0.8900,  Loss(Valid)=0.3655 ACC(Valid)=0.8772\n"
          ]
        }
      ]
    },
    {
      "cell_type": "code",
      "source": [
        "import matplotlib.pyplot as plt\n",
        "\n",
        "# lossのグラフ\n",
        "plt.figure(figsize=(10, 5))\n",
        "plt.plot(train_loss_log, label='train')\n",
        "plt.plot(valid_loss_log, label='valid')\n",
        "plt.title('Loss')\n",
        "plt.xlabel('epoch')\n",
        "plt.ylabel('loss')\n",
        "plt.legend()\n",
        "plt.show()\n",
        "\n",
        "# accuracyのグラフ\n",
        "plt.figure(figsize=(10, 5))\n",
        "plt.plot(train_acc_log, label='train')\n",
        "plt.plot(valid_acc_log, label='valid')\n",
        "plt.title('Accuracy')\n",
        "plt.xlabel('epoch')\n",
        "plt.ylabel('accuracy')\n",
        "plt.legend()\n",
        "plt.show()\n"
      ],
      "metadata": {
        "colab": {
          "base_uri": "https://localhost:8080/",
          "height": 711
        },
        "id": "J7PXKmR5Fcbn",
        "outputId": "907934d4-75a4-465b-ef4a-e592b0f853fc"
      },
      "execution_count": null,
      "outputs": [
        {
          "output_type": "display_data",
          "data": {
            "text/plain": [
              "<Figure size 1000x500 with 1 Axes>"
            ],
            "image/png": "[encoded data removed]"
          },
          "metadata": {}
        },
        {
          "output_type": "display_data",
          "data": {
            "text/plain": [
              "<Figure size 1000x500 with 1 Axes>"
            ],
            "image/png": "[encoded data removed]"
          },
          "metadata": {}
        }
      ]
    },
    {
      "cell_type": "markdown",
      "source": [
        "##76. チェックポイント"
      ],
      "metadata": {
        "id": "oJaTqfQ0PzVy"
      }
    },
    {
      "cell_type": "code",
      "source": [
        "import torch\n",
        "import torch.nn as nn\n",
        "import torch.optim as optim\n",
        "import os\n",
        "\n",
        "checkpoint_dir = './checkpoints'  # チェックポイントを保存するディレクトリ\n",
        "if not os.path.exists(checkpoint_dir):\n",
        "    os.makedirs(checkpoint_dir)\n",
        "\n",
        "# ハイパーパラメータの設定\n",
        "lr = 0.1\n",
        "num_epochs = 10\n",
        "\n",
        "# モデルのインスタンス化\n",
        "model = SLPNet(300, 4)\n",
        "\n",
        "# 損失関数とオプティマイザの定義\n",
        "criterion = nn.CrossEntropyLoss()\n",
        "optimizer = optim.SGD(model.parameters(), lr=lr)\n",
        "\n",
        "# 学習\n",
        "model.train()\n",
        "train_loss_log = []\n",
        "train_acc_log = []\n",
        "valid_loss_log = []\n",
        "valid_acc_log = []\n",
        "for epoch in range(num_epochs):\n",
        "    running_loss = 0.0\n",
        "    for i in range(len(X_train)):\n",
        "        inputs = X_train[i]\n",
        "        labels = y_train[i]\n",
        "\n",
        "        # 勾配の初期化\n",
        "        optimizer.zero_grad()\n",
        "\n",
        "        # 順伝播、損失計算、逆伝播、パラメータ更新\n",
        "        outputs = model(inputs)\n",
        "        loss = criterion(outputs, labels)\n",
        "        loss.backward()\n",
        "        optimizer.step()\n",
        "\n",
        "        running_loss += loss.item()\n",
        "\n",
        "    # 損失の計算\n",
        "    loss_train = calculate_loss(model, X_train, y_train)\n",
        "    loss_valid = calculate_loss(model, X_valid, y_valid)\n",
        "\n",
        "    # 正解率の計算\n",
        "    acc_train = calculate_accuracy(model, X_train, y_train)\n",
        "    acc_valid = calculate_accuracy(model, X_valid, y_valid)\n",
        "\n",
        "    print('Epoch %d: Loss(Train)=%.4f ACC(Train)=%.4f,  Loss(Valid)=%.4f ACC(Valid)=%.4f' % (epoch+1, loss_train, acc_train, loss_valid, acc_valid))\n",
        "\n",
        "    # ログの取得\n",
        "    train_loss_log.append(loss_train)\n",
        "    train_acc_log.append(acc_train)\n",
        "    valid_loss_log.append(loss_valid)\n",
        "    valid_acc_log.append(acc_valid)\n",
        "\n",
        "    # チェックポイントの保存\n",
        "    checkpoint = {'epoch': epoch,\n",
        "                   'model_state_dict': model.state_dict(),\n",
        "                   'optimizer_state_dict': optimizer.state_dict()}\n",
        "    checkpoint_path = os.path.join(checkpoint_dir, f\"Epoch{epoch+1}.cpt\")\n",
        "    torch.save(checkpoint, checkpoint_path)"
      ],
      "metadata": {
        "id": "-catm9XaP2XA",
        "colab": {
          "base_uri": "https://localhost:8080/"
        },
        "outputId": "93c7dca8-b0ad-4826-a31f-0d77f5e58a6c"
      },
      "execution_count": null,
      "outputs": [
        {
          "output_type": "stream",
          "name": "stdout",
          "text": [
            "Epoch 1: Loss(Train)=0.4243 ACC(Train)=0.8502,  Loss(Valid)=0.4184 ACC(Valid)=0.8518\n",
            "Epoch 2: Loss(Train)=0.3785 ACC(Train)=0.8698,  Loss(Valid)=0.3850 ACC(Valid)=0.8645\n",
            "Epoch 3: Loss(Train)=0.3583 ACC(Train)=0.8769,  Loss(Valid)=0.3739 ACC(Valid)=0.8698\n",
            "Epoch 4: Loss(Train)=0.3464 ACC(Train)=0.8811,  Loss(Valid)=0.3687 ACC(Valid)=0.8743\n",
            "Epoch 5: Loss(Train)=0.3383 ACC(Train)=0.8830,  Loss(Valid)=0.3657 ACC(Valid)=0.8765\n",
            "Epoch 6: Loss(Train)=0.3323 ACC(Train)=0.8846,  Loss(Valid)=0.3640 ACC(Valid)=0.8787\n",
            "Epoch 7: Loss(Train)=0.3278 ACC(Train)=0.8868,  Loss(Valid)=0.3630 ACC(Valid)=0.8787\n",
            "Epoch 8: Loss(Train)=0.3242 ACC(Train)=0.8883,  Loss(Valid)=0.3624 ACC(Valid)=0.8780\n",
            "Epoch 9: Loss(Train)=0.3213 ACC(Train)=0.8893,  Loss(Valid)=0.3621 ACC(Valid)=0.8757\n",
            "Epoch 10: Loss(Train)=0.3188 ACC(Train)=0.8902,  Loss(Valid)=0.3621 ACC(Valid)=0.8743\n"
          ]
        }
      ]
    },
    {
      "cell_type": "markdown",
      "source": [
        "##77. ミニバッチ化"
      ],
      "metadata": {
        "id": "Fe6r_sj3P2uU"
      }
    },
    {
      "cell_type": "code",
      "source": [
        "from torch.utils.data import TensorDataset, DataLoader\n",
        "\n",
        "# データセットの作成\n",
        "dataset_train = TensorDataset(X_train, y_train)\n",
        "dataset_valid = TensorDataset(X_valid, y_valid)\n",
        "dataset_test = TensorDataset(X_test, y_test)\n",
        "\n",
        "print(vars(dataset_train))"
      ],
      "metadata": {
        "id": "RFdUwPfNP0gf",
        "colab": {
          "base_uri": "https://localhost:8080/"
        },
        "outputId": "2a3d4386-aad8-46c8-f912-afa6bb15d1f4"
      },
      "execution_count": null,
      "outputs": [
        {
          "output_type": "stream",
          "name": "stdout",
          "text": [
            "{'tensors': (tensor([[ 0.0164,  0.0535, -0.0564,  ..., -0.0336,  0.0207, -0.0029],\n",
            "        [-0.0299,  0.0188,  0.0214,  ..., -0.0400,  0.0317, -0.1316],\n",
            "        [-0.0130,  0.0603, -0.0431,  ..., -0.0025,  0.1400, -0.1038],\n",
            "        ...,\n",
            "        [-0.0905, -0.0079,  0.0337,  ..., -0.0858, -0.0237,  0.0873],\n",
            "        [-0.0168, -0.0563, -0.1477,  ...,  0.0164,  0.0597,  0.0108],\n",
            "        [-0.0312, -0.0396, -0.0067,  ...,  0.0805,  0.0866,  0.0168]]), tensor([0, 0, 0,  ..., 2, 0, 0]))}\n"
          ]
        }
      ]
    },
    {
      "cell_type": "code",
      "source": [
        "# 推論結果の正解率を計算(DataLoader用に改良)\n",
        "from sklearn.metrics import accuracy_score\n",
        "\n",
        "def calculate_accuracy(model, dataloader):\n",
        "    model.eval()\n",
        "    with torch.no_grad():\n",
        "        correct = 0\n",
        "        num_data = 0\n",
        "        for inputs, labels in dataloader:\n",
        "            outputs = model(inputs)\n",
        "            preds = torch.argmax(outputs, -1)\n",
        "            num_data += len(inputs)\n",
        "            correct += (preds == labels).sum().item()\n",
        "        accuracy = correct / num_data\n",
        "        return accuracy\n",
        "\n",
        "# 推論結果の損失を計算(DataLoader用に改良)\n",
        "def calculate_loss(model, dataloader):\n",
        "    model.eval()\n",
        "    with torch.no_grad():\n",
        "        loss = 0\n",
        "        for inputs, labels in dataloader:\n",
        "            outputs = model(inputs)\n",
        "            loss += criterion(outputs, labels).item()\n",
        "        return loss / len(dataloader)"
      ],
      "metadata": {
        "id": "cuC2H3HQVF0V"
      },
      "execution_count": null,
      "outputs": []
    },
    {
      "cell_type": "code",
      "source": [
        "import torch\n",
        "import torch.nn as nn\n",
        "import torch.optim as optim\n",
        "import os\n",
        "import time\n",
        "\n",
        "checkpoint_dir = './checkpoints'  # チェックポイントを保存するディレクトリ\n",
        "if not os.path.exists(checkpoint_dir):\n",
        "    os.makedirs(checkpoint_dir)\n",
        "\n",
        "# ハイパーパラメータの設定\n",
        "lr = 0.1\n",
        "num_epochs = 1\n",
        "\n",
        "# モデルのインスタンス化\n",
        "model = SLPNet(300, 4)\n",
        "\n",
        "# 損失関数とオプティマイザの定義\n",
        "criterion = nn.CrossEntropyLoss()\n",
        "optimizer = optim.SGD(model.parameters(), lr=lr)\n",
        "\n",
        "def train_model(num_epochs, batch_size, model, criterion, optimizer, dataset_train, dataset_valid):\n",
        "    # データローダーの作成\n",
        "    dataloader_train = DataLoader(dataset_train, batch_size=batch_size, shuffle=True)\n",
        "    dataloader_valid = DataLoader(dataset_valid, batch_size=batch_size, shuffle=False)\n",
        "\n",
        "    # 学習\n",
        "    model.train()\n",
        "    train_loss_log = []\n",
        "    train_acc_log = []\n",
        "    valid_loss_log = []\n",
        "    valid_acc_log = []\n",
        "    for epoch in range(num_epochs):\n",
        "        # 開始時刻の記録\n",
        "        s_time = time.time()\n",
        "\n",
        "        running_loss = 0.0\n",
        "        for inputs, labels in dataloader_train:\n",
        "            # 勾配の初期化\n",
        "            optimizer.zero_grad()\n",
        "\n",
        "            # 順伝播、損失計算、逆伝播、パラメータ更新\n",
        "            outputs = model(inputs)\n",
        "            loss = criterion(outputs, labels)\n",
        "            loss.backward()\n",
        "            optimizer.step()\n",
        "\n",
        "            running_loss += loss.item()\n",
        "\n",
        "        # 損失の計算\n",
        "        loss_train = calculate_loss(model, dataloader_train)\n",
        "        loss_valid = calculate_loss(model, dataloader_valid)\n",
        "\n",
        "        # 正解率の計算\n",
        "        acc_train = calculate_accuracy(model, dataloader_train)\n",
        "        acc_valid = calculate_accuracy(model, dataloader_valid)\n",
        "\n",
        "        # ログの取得\n",
        "        train_loss_log.append(loss_train)\n",
        "        train_acc_log.append(acc_train)\n",
        "        valid_loss_log.append(loss_valid)\n",
        "        valid_acc_log.append(acc_valid)\n",
        "\n",
        "        # チェックポイントの保存\n",
        "        checkpoint = {'epoch': epoch,\n",
        "                    'model_state_dict': model.state_dict(),\n",
        "                    'optimizer_state_dict': optimizer.state_dict()}\n",
        "        checkpoint_path = os.path.join(checkpoint_dir, f\"Epoch{epoch+1}.cpt\")\n",
        "        torch.save(checkpoint, checkpoint_path)\n",
        "\n",
        "        # 終了時刻の記録\n",
        "        e_time = time.time()\n",
        "\n",
        "        print('---Batch Size: %d---' % batch_size)\n",
        "        print('Epoch %d (%.4f sec): Loss(Train)=%.4f ACC(Train)=%.4f,  Loss(Valid)=%.4f ACC(Valid)=%.4f' % (epoch+1, e_time-s_time, loss_train, acc_train, loss_valid, acc_valid))\n"
      ],
      "metadata": {
        "id": "KTYUYM6SS4mj"
      },
      "execution_count": null,
      "outputs": []
    },
    {
      "cell_type": "code",
      "source": [
        "batch_size_list = [2**i for i in range(10)]\n",
        "for batch_size in batch_size_list:\n",
        "    train_model(num_epochs, batch_size, model, criterion, optimizer, dataset_train, dataset_valid)"
      ],
      "metadata": {
        "colab": {
          "base_uri": "https://localhost:8080/"
        },
        "id": "hL4AwFjZceDz",
        "outputId": "94b58207-0383-42e7-d8a9-9f402422444f"
      },
      "execution_count": null,
      "outputs": [
        {
          "output_type": "stream",
          "name": "stdout",
          "text": [
            "---Batch Size: 1---\n",
            "Epoch 1 (7.1673 sec): Loss(Train)=0.4289 ACC(Train)=0.8519,  Loss(Valid)=0.4194 ACC(Valid)=0.8555\n",
            "---Batch Size: 2---\n",
            "Epoch 1 (5.0835 sec): Loss(Train)=0.3998 ACC(Train)=0.8610,  Loss(Valid)=0.3967 ACC(Valid)=0.8615\n",
            "---Batch Size: 4---\n",
            "Epoch 1 (2.2144 sec): Loss(Train)=0.3871 ACC(Train)=0.8686,  Loss(Valid)=0.3864 ACC(Valid)=0.8645\n",
            "---Batch Size: 8---\n",
            "Epoch 1 (1.2590 sec): Loss(Train)=0.3829 ACC(Train)=0.8699,  Loss(Valid)=0.3830 ACC(Valid)=0.8668\n",
            "---Batch Size: 16---\n",
            "Epoch 1 (0.8048 sec): Loss(Train)=0.3811 ACC(Train)=0.8711,  Loss(Valid)=0.3804 ACC(Valid)=0.8675\n",
            "---Batch Size: 32---\n",
            "Epoch 1 (0.5479 sec): Loss(Train)=0.3797 ACC(Train)=0.8710,  Loss(Valid)=0.3808 ACC(Valid)=0.8675\n",
            "---Batch Size: 64---\n",
            "Epoch 1 (0.4196 sec): Loss(Train)=0.3792 ACC(Train)=0.8707,  Loss(Valid)=0.3805 ACC(Valid)=0.8675\n",
            "---Batch Size: 128---\n",
            "Epoch 1 (0.3313 sec): Loss(Train)=0.3781 ACC(Train)=0.8709,  Loss(Valid)=0.3772 ACC(Valid)=0.8668\n",
            "---Batch Size: 256---\n",
            "Epoch 1 (0.3081 sec): Loss(Train)=0.3788 ACC(Train)=0.8707,  Loss(Valid)=0.3714 ACC(Valid)=0.8675\n",
            "---Batch Size: 512---\n",
            "Epoch 1 (0.2784 sec): Loss(Train)=0.3784 ACC(Train)=0.8706,  Loss(Valid)=0.3707 ACC(Valid)=0.8675\n"
          ]
        }
      ]
    },
    {
      "cell_type": "markdown",
      "source": [
        "##78. GPU上での学習"
      ],
      "metadata": {
        "id": "BX0MldFfP7Nc"
      }
    },
    {
      "cell_type": "code",
      "source": [
        "# 推論結果の正解率を計算(GPU用に改良)\n",
        "def calculate_accuracy(model, dataloader, device):\n",
        "    model.eval()\n",
        "    with torch.no_grad():\n",
        "        correct = 0\n",
        "        num_data = 0\n",
        "        for inputs, labels in dataloader:\n",
        "            inputs = inputs.to(device)\n",
        "            labels = labels.to(device)\n",
        "            outputs = model(inputs)\n",
        "            preds = torch.argmax(outputs, -1)\n",
        "            num_data += len(inputs)\n",
        "            correct += (preds == labels).sum().item()\n",
        "        accuracy = correct / num_data\n",
        "        return accuracy\n",
        "\n",
        "# 推論結果の損失を計算(GPU用に改良)\n",
        "def calculate_loss(model, dataloader, device):\n",
        "    model.eval()\n",
        "    with torch.no_grad():\n",
        "        loss = 0\n",
        "        for inputs, labels in dataloader:\n",
        "            inputs = inputs.to(device)\n",
        "            labels = labels.to(device)\n",
        "            outputs = model(inputs)\n",
        "            loss += criterion(outputs, labels).item()\n",
        "        return loss / len(dataloader)"
      ],
      "metadata": {
        "id": "Jaww7FKR1hs4"
      },
      "execution_count": null,
      "outputs": []
    },
    {
      "cell_type": "code",
      "source": [
        "import torch\n",
        "import torch.nn as nn\n",
        "import torch.optim as optim\n",
        "import os\n",
        "import time\n",
        "\n",
        "# GPUが使用可能な場合は、deviceをGPUに設定する\n",
        "device = torch.device(\"cuda\" if torch.cuda.is_available() else \"cpu\")\n",
        "\n",
        "checkpoint_dir = './checkpoints'  # チェックポイントを保存するディレクトリ\n",
        "if not os.path.exists(checkpoint_dir):\n",
        "    os.makedirs(checkpoint_dir)\n",
        "\n",
        "# ハイパーパラメータの設定\n",
        "lr = 0.1\n",
        "num_epochs = 1\n",
        "\n",
        "# モデルのインスタンス化\n",
        "model = SLPNet(300, 4).to(device)\n",
        "\n",
        "# 損失関数とオプティマイザの定義\n",
        "criterion = nn.CrossEntropyLoss()\n",
        "optimizer = optim.SGD(model.parameters(), lr=lr)\n",
        "\n",
        "def train_model(num_epochs, batch_size, model, criterion, optimizer, dataset_train, dataset_valid):\n",
        "    # データローダーの作成\n",
        "    dataloader_train = DataLoader(dataset_train, batch_size=batch_size, shuffle=True)\n",
        "    dataloader_valid = DataLoader(dataset_valid, batch_size=batch_size, shuffle=False)\n",
        "\n",
        "    # 学習\n",
        "    model.train()\n",
        "    train_loss_log = []\n",
        "    train_acc_log = []\n",
        "    valid_loss_log = []\n",
        "    valid_acc_log = []\n",
        "    for epoch in range(num_epochs):\n",
        "        # 開始時刻の記録\n",
        "        s_time = time.time()\n",
        "\n",
        "        running_loss = 0.0\n",
        "        for inputs, labels in dataloader_train:\n",
        "            # 勾配の初期化\n",
        "            optimizer.zero_grad()\n",
        "\n",
        "            # 順伝播、損失計算、逆伝播、パラメータ更新\n",
        "            inputs = inputs.to(device)\n",
        "            labels = labels.to(device)\n",
        "            outputs = model(inputs)\n",
        "            loss = criterion(outputs, labels)\n",
        "            loss.backward()\n",
        "            optimizer.step()\n",
        "\n",
        "            running_loss += loss.item()\n",
        "\n",
        "        # 損失の計算\n",
        "        loss_train = calculate_loss(model, dataloader_train, device=device)\n",
        "        loss_valid = calculate_loss(model, dataloader_valid, device=device)\n",
        "\n",
        "        # 正解率の計算\n",
        "        acc_train = calculate_accuracy(model, dataloader_train, device=device)\n",
        "        acc_valid = calculate_accuracy(model, dataloader_valid, device=device)\n",
        "\n",
        "        # ログの取得\n",
        "        train_loss_log.append(loss_train)\n",
        "        train_acc_log.append(acc_train)\n",
        "        valid_loss_log.append(loss_valid)\n",
        "        valid_acc_log.append(acc_valid)\n",
        "\n",
        "        # チェックポイントの保存\n",
        "        checkpoint = {'epoch': epoch,\n",
        "                    'model_state_dict': model.state_dict(),\n",
        "                    'optimizer_state_dict': optimizer.state_dict()}\n",
        "        checkpoint_path = os.path.join(checkpoint_dir, f\"Epoch{epoch+1}.cpt\")\n",
        "        torch.save(checkpoint, checkpoint_path)\n",
        "\n",
        "        # 終了時刻の記録\n",
        "        e_time = time.time()\n",
        "\n",
        "        print('Batch Size %d (%.4f sec): Loss(Train)=%.4f ACC(Train)=%.4f,  Loss(Valid)=%.4f ACC(Valid)=%.4f' % (batch_size, e_time-s_time, loss_train, acc_train, loss_valid, acc_valid))\n"
      ],
      "metadata": {
        "id": "1Yf1xUEaP-_O"
      },
      "execution_count": null,
      "outputs": []
    },
    {
      "cell_type": "code",
      "source": [
        "batch_size_list = [2**i for i in range(10)]\n",
        "for batch_size in batch_size_list:\n",
        "    train_model(num_epochs, batch_size, model, criterion, optimizer, dataset_train, dataset_valid)"
      ],
      "metadata": {
        "colab": {
          "base_uri": "https://localhost:8080/"
        },
        "id": "PB9gGmFb2ptd",
        "outputId": "ba66b144-98f4-4ed5-d8fa-46c40a61b1a7"
      },
      "execution_count": null,
      "outputs": [
        {
          "output_type": "stream",
          "name": "stdout",
          "text": [
            "Batch Size 1 (18.8170 sec): Loss(Train)=0.4220 ACC(Train)=0.8541,  Loss(Valid)=0.4231 ACC(Valid)=0.8555\n",
            "Batch Size 2 (7.7361 sec): Loss(Train)=0.3929 ACC(Train)=0.8631,  Loss(Valid)=0.3981 ACC(Valid)=0.8623\n",
            "Batch Size 4 (4.6225 sec): Loss(Train)=0.3824 ACC(Train)=0.8688,  Loss(Valid)=0.3887 ACC(Valid)=0.8593\n",
            "Batch Size 8 (2.1554 sec): Loss(Train)=0.3769 ACC(Train)=0.8714,  Loss(Valid)=0.3857 ACC(Valid)=0.8600\n",
            "Batch Size 16 (1.1798 sec): Loss(Train)=0.3748 ACC(Train)=0.8714,  Loss(Valid)=0.3824 ACC(Valid)=0.8660\n",
            "Batch Size 32 (0.7458 sec): Loss(Train)=0.3736 ACC(Train)=0.8722,  Loss(Valid)=0.3828 ACC(Valid)=0.8668\n",
            "Batch Size 64 (0.4613 sec): Loss(Train)=0.3732 ACC(Train)=0.8723,  Loss(Valid)=0.3826 ACC(Valid)=0.8668\n",
            "Batch Size 128 (0.3409 sec): Loss(Train)=0.3738 ACC(Train)=0.8725,  Loss(Valid)=0.3793 ACC(Valid)=0.8660\n",
            "Batch Size 256 (0.5094 sec): Loss(Train)=0.3729 ACC(Train)=0.8723,  Loss(Valid)=0.3736 ACC(Valid)=0.8668\n",
            "Batch Size 512 (0.2551 sec): Loss(Train)=0.3729 ACC(Train)=0.8723,  Loss(Valid)=0.3732 ACC(Valid)=0.8668\n"
          ]
        }
      ]
    },
    {
      "cell_type": "markdown",
      "source": [
        "##79. 多層ニューラルネットワーク"
      ],
      "metadata": {
        "id": "-h6ANi7zP_TN"
      }
    },
    {
      "cell_type": "code",
      "source": [
        "import torch\n",
        "import torch.nn as nn\n",
        "import torch.nn.functional as F\n",
        "\n",
        "class MLPNet(nn.Module):\n",
        "    def __init__(self, input_size, middle_size, output_size):\n",
        "        super(MLPNet, self).__init__()\n",
        "        self.fc1 = nn.Linear(input_size, middle_size)\n",
        "        self.fc2 = nn.Linear(middle_size, middle_size)\n",
        "        self.out = nn.Linear(middle_size, output_size)\n",
        "        self.dropout = nn.Dropout(p=0.5)\n",
        "        self.batch_norm = nn.BatchNorm1d(middle_size)\n",
        "\n",
        "    def forward(self, x):\n",
        "        x = self.dropout(F.relu(self.batch_norm(self.fc1(x))))\n",
        "        x = self.dropout(F.relu(self.fc2(x)))\n",
        "        x = F.relu(self.out(x))\n",
        "        return x"
      ],
      "metadata": {
        "id": "ttlzJh6OQCUh"
      },
      "execution_count": null,
      "outputs": []
    },
    {
      "cell_type": "code",
      "source": [
        "# 推論結果の正解率を計算(GPU用に改良)\n",
        "def calculate_accuracy(model, dataloader, device):\n",
        "    model.eval()\n",
        "    with torch.no_grad():\n",
        "        correct = 0\n",
        "        num_data = 0\n",
        "        for inputs, labels in dataloader:\n",
        "            inputs = inputs.to(device)\n",
        "            labels = labels.to(device)\n",
        "            outputs = model(inputs)\n",
        "            preds = torch.argmax(outputs, -1)\n",
        "            num_data += len(inputs)\n",
        "            correct += (preds == labels).sum().item()\n",
        "        accuracy = correct / num_data\n",
        "        return accuracy\n",
        "\n",
        "# 推論結果の損失を計算(GPU用に改良)\n",
        "def calculate_loss(model, dataloader, device):\n",
        "    model.eval()\n",
        "    with torch.no_grad():\n",
        "        loss = 0\n",
        "        for inputs, labels in dataloader:\n",
        "            inputs = inputs.to(device)\n",
        "            labels = labels.to(device)\n",
        "            outputs = model(inputs)\n",
        "            loss += criterion(outputs, labels).item()\n",
        "        return loss / len(dataloader)"
      ],
      "metadata": {
        "id": "xkF-DI9xRhYz"
      },
      "execution_count": null,
      "outputs": []
    },
    {
      "cell_type": "code",
      "source": [
        "def linear_combination(x, y, epsilon):\n",
        "    return (1 - epsilon) * x + epsilon * y\n",
        "\n",
        "def reduce_loss(loss, reduction='mean'):\n",
        "    return loss.mean() if reduction == 'mean' else loss.sum() if reduction == 'sum' else loss\n",
        "\n",
        "class LabelSmoothingCrossEntropy(nn.Module):\n",
        "    def __init__(self, epsilon=0.1, reduction='mean'):\n",
        "        super().__init__()\n",
        "        self.epsilon = epsilon\n",
        "        self.reduction = reduction\n",
        "\n",
        "    def forward(self, preds, target):\n",
        "        n = preds.size()[-1]\n",
        "        log_preds = F.log_softmax(preds, dim=-1)\n",
        "        loss = reduce_loss(-log_preds.sum(dim=-1), self.reduction)\n",
        "        nll = F.nll_loss(log_preds, target, reduction=self.reduction)\n",
        "        return linear_combination(nll, loss/n, self.epsilon)"
      ],
      "metadata": {
        "id": "7z2dTIcLaR1J"
      },
      "execution_count": null,
      "outputs": []
    },
    {
      "cell_type": "code",
      "source": [
        "import torch\n",
        "import torch.nn as nn\n",
        "import torch.optim as optim\n",
        "import os\n",
        "import time\n",
        "\n",
        "# GPUが使用可能な場合は、deviceをGPUに設定する\n",
        "device = torch.device(\"cuda\" if torch.cuda.is_available() else \"cpu\")\n",
        "\n",
        "checkpoint_dir = './checkpoints'  # チェックポイントを保存するディレクトリ\n",
        "if not os.path.exists(checkpoint_dir):\n",
        "    os.makedirs(checkpoint_dir)\n",
        "\n",
        "# ハイパーパラメータの設定\n",
        "lr = 0.1\n",
        "num_epochs = 30\n",
        "\n",
        "# モデルのインスタンス化\n",
        "model = MLPNet(300, 200, 4).to(device)\n",
        "\n",
        "# 損失関数とオプティマイザの定義\n",
        "#criterion = nn.CrossEntropyLoss()\n",
        "criterion = LabelSmoothingCrossEntropy()\n",
        "optimizer = optim.SGD(model.parameters(), lr=lr)\n",
        "\n",
        "def train_model(num_epochs, batch_size, model, criterion, optimizer, dataset_train, dataset_valid):\n",
        "    # データローダーの作成\n",
        "    dataloader_train = DataLoader(dataset_train, batch_size=batch_size, shuffle=True)\n",
        "    dataloader_valid = DataLoader(dataset_valid, batch_size=batch_size, shuffle=False)\n",
        "\n",
        "    # スケジューラの設定\n",
        "    scheduler = optim.lr_scheduler.CosineAnnealingLR(optimizer, num_epochs, eta_min=1e-5, last_epoch=-1)\n",
        "\n",
        "    # 学習\n",
        "    model.train()\n",
        "    train_loss_log = []\n",
        "    train_acc_log = []\n",
        "    valid_loss_log = []\n",
        "    valid_acc_log = []\n",
        "    for epoch in range(num_epochs):\n",
        "        # 開始時刻の記録\n",
        "        s_time = time.time()\n",
        "\n",
        "        running_loss = 0.0\n",
        "        for inputs, labels in dataloader_train:\n",
        "            # 勾配の初期化\n",
        "            optimizer.zero_grad()\n",
        "\n",
        "            # 順伝播、損失計算、逆伝播、パラメータ更新\n",
        "            inputs = inputs.to(device)\n",
        "            labels = labels.to(device)\n",
        "            outputs = model(inputs)\n",
        "            loss = criterion(outputs, labels)\n",
        "            loss.backward()\n",
        "            optimizer.step()\n",
        "\n",
        "            running_loss += loss.item()\n",
        "\n",
        "        # 損失の計算\n",
        "        loss_train = calculate_loss(model, dataloader_train, device=device)\n",
        "        loss_valid = calculate_loss(model, dataloader_valid, device=device)\n",
        "\n",
        "        # 正解率の計算\n",
        "        acc_train = calculate_accuracy(model, dataloader_train, device=device)\n",
        "        acc_valid = calculate_accuracy(model, dataloader_valid, device=device)\n",
        "\n",
        "        # ログの取得\n",
        "        train_loss_log.append(loss_train)\n",
        "        train_acc_log.append(acc_train)\n",
        "        valid_loss_log.append(loss_valid)\n",
        "        valid_acc_log.append(acc_valid)\n",
        "\n",
        "        # チェックポイントの保存\n",
        "        checkpoint = {'epoch': epoch,\n",
        "                    'model_state_dict': model.state_dict(),\n",
        "                    'optimizer_state_dict': optimizer.state_dict()}\n",
        "        checkpoint_path = os.path.join(checkpoint_dir, f\"Epoch{epoch+1}.cpt\")\n",
        "        torch.save(checkpoint, checkpoint_path)\n",
        "\n",
        "        # 終了時刻の記録\n",
        "        e_time = time.time()\n",
        "\n",
        "        scheduler.step()\n",
        "\n",
        "        print('Epoch %d (%.4f sec): Loss(Train)=%.4f ACC(Train)=%.4f,  Loss(Valid)=%.4f ACC(Valid)=%.4f' % (epoch+1, e_time-s_time, loss_train, acc_train, loss_valid, acc_valid))\n"
      ],
      "metadata": {
        "id": "-pcUv-8NRjnv"
      },
      "execution_count": null,
      "outputs": []
    },
    {
      "cell_type": "code",
      "source": [
        "batch_size = 64\n",
        "train_model(num_epochs, batch_size, model, criterion, optimizer, dataset_train, dataset_valid)"
      ],
      "metadata": {
        "colab": {
          "base_uri": "https://localhost:8080/"
        },
        "id": "xOfHqGBFSGeA",
        "outputId": "60e53b47-ad02-4c3a-ad9b-97ecbcaa0c8d"
      },
      "execution_count": null,
      "outputs": [
        {
          "output_type": "stream",
          "name": "stdout",
          "text": [
            "Epoch 1 (0.8215 sec): Loss(Train)=0.6817 ACC(Train)=0.8525,  Loss(Valid)=0.6828 ACC(Valid)=0.8488\n",
            "Epoch 2 (0.8339 sec): Loss(Train)=0.6683 ACC(Train)=0.8485,  Loss(Valid)=0.6762 ACC(Valid)=0.8510\n",
            "Epoch 3 (0.7920 sec): Loss(Train)=0.5759 ACC(Train)=0.8884,  Loss(Valid)=0.6040 ACC(Valid)=0.8757\n",
            "Epoch 4 (1.0162 sec): Loss(Train)=0.6018 ACC(Train)=0.8748,  Loss(Valid)=0.6448 ACC(Valid)=0.8608\n",
            "Epoch 5 (1.1089 sec): Loss(Train)=0.5658 ACC(Train)=0.8930,  Loss(Valid)=0.6177 ACC(Valid)=0.8645\n",
            "Epoch 6 (1.0816 sec): Loss(Train)=0.5901 ACC(Train)=0.8885,  Loss(Valid)=0.6431 ACC(Valid)=0.8593\n",
            "Epoch 7 (1.0020 sec): Loss(Train)=0.5254 ACC(Train)=0.9235,  Loss(Valid)=0.5969 ACC(Valid)=0.8862\n",
            "Epoch 8 (0.8108 sec): Loss(Train)=0.4994 ACC(Train)=0.9272,  Loss(Valid)=0.5913 ACC(Valid)=0.8907\n",
            "Epoch 9 (0.7926 sec): Loss(Train)=0.5177 ACC(Train)=0.9218,  Loss(Valid)=0.6185 ACC(Valid)=0.8757\n",
            "Epoch 10 (0.8018 sec): Loss(Train)=0.4751 ACC(Train)=0.9444,  Loss(Valid)=0.5888 ACC(Valid)=0.8877\n",
            "Epoch 11 (0.8060 sec): Loss(Train)=0.4544 ACC(Train)=0.9579,  Loss(Valid)=0.5773 ACC(Valid)=0.8945\n",
            "Epoch 12 (0.8346 sec): Loss(Train)=0.4565 ACC(Train)=0.9573,  Loss(Valid)=0.5990 ACC(Valid)=0.8825\n",
            "Epoch 13 (0.7913 sec): Loss(Train)=0.4410 ACC(Train)=0.9625,  Loss(Valid)=0.5878 ACC(Valid)=0.8960\n",
            "Epoch 14 (0.8240 sec): Loss(Train)=0.4311 ACC(Train)=0.9716,  Loss(Valid)=0.5793 ACC(Valid)=0.8952\n",
            "Epoch 15 (0.8274 sec): Loss(Train)=0.4191 ACC(Train)=0.9747,  Loss(Valid)=0.5830 ACC(Valid)=0.8930\n",
            "Epoch 16 (0.8094 sec): Loss(Train)=0.4078 ACC(Train)=0.9795,  Loss(Valid)=0.5785 ACC(Valid)=0.8975\n",
            "Epoch 17 (0.8123 sec): Loss(Train)=0.4189 ACC(Train)=0.9773,  Loss(Valid)=0.6020 ACC(Valid)=0.8847\n",
            "Epoch 18 (0.7968 sec): Loss(Train)=0.4002 ACC(Train)=0.9853,  Loss(Valid)=0.5799 ACC(Valid)=0.8922\n",
            "Epoch 19 (0.8065 sec): Loss(Train)=0.3951 ACC(Train)=0.9863,  Loss(Valid)=0.5790 ACC(Valid)=0.8930\n",
            "Epoch 20 (1.0822 sec): Loss(Train)=0.3908 ACC(Train)=0.9872,  Loss(Valid)=0.5821 ACC(Valid)=0.8945\n",
            "Epoch 21 (1.0866 sec): Loss(Train)=0.3894 ACC(Train)=0.9879,  Loss(Valid)=0.5829 ACC(Valid)=0.8945\n",
            "Epoch 22 (1.0661 sec): Loss(Train)=0.3875 ACC(Train)=0.9885,  Loss(Valid)=0.5843 ACC(Valid)=0.8952\n",
            "Epoch 23 (0.9326 sec): Loss(Train)=0.3861 ACC(Train)=0.9890,  Loss(Valid)=0.5823 ACC(Valid)=0.8952\n",
            "Epoch 24 (0.8035 sec): Loss(Train)=0.3855 ACC(Train)=0.9888,  Loss(Valid)=0.5846 ACC(Valid)=0.8967\n",
            "Epoch 25 (0.8363 sec): Loss(Train)=0.3846 ACC(Train)=0.9890,  Loss(Valid)=0.5836 ACC(Valid)=0.8922\n",
            "Epoch 26 (0.8240 sec): Loss(Train)=0.3837 ACC(Train)=0.9891,  Loss(Valid)=0.5833 ACC(Valid)=0.8952\n",
            "Epoch 27 (0.7997 sec): Loss(Train)=0.3833 ACC(Train)=0.9892,  Loss(Valid)=0.5829 ACC(Valid)=0.8960\n",
            "Epoch 28 (0.8136 sec): Loss(Train)=0.3831 ACC(Train)=0.9892,  Loss(Valid)=0.5831 ACC(Valid)=0.8967\n",
            "Epoch 29 (0.8399 sec): Loss(Train)=0.3830 ACC(Train)=0.9893,  Loss(Valid)=0.5830 ACC(Valid)=0.8960\n",
            "Epoch 30 (0.8145 sec): Loss(Train)=0.3830 ACC(Train)=0.9893,  Loss(Valid)=0.5831 ACC(Valid)=0.8960\n"
          ]
        }
      ]
    }
  ]
}