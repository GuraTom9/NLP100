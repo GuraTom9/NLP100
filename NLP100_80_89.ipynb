{
  "nbformat": 4,
  "nbformat_minor": 0,
  "metadata": {
    "colab": {
      "provenance": [],
      "gpuType": "T4",
      "mount_file_id": "1iqtf6L_X0qFlaVkD09K23ZNrtQU1kzk4",
      "authorship_tag": "ABX9TyNWT2jjQMAIuDxmdGrgVK9Z",
      "include_colab_link": true
    },
    "kernelspec": {
      "name": "python3",
      "display_name": "Python 3"
    },
    "language_info": {
      "name": "python"
    },
    "accelerator": "GPU",
    "widgets": {
      "application/vnd.jupyter.widget-state+json": {
        "01090d2ea85f4307923b2965226a7257": {
          "model_module": "@jupyter-widgets/controls",
          "model_name": "HBoxModel",
          "model_module_version": "1.5.0",
          "state": {
            "_dom_classes": [],
            "_model_module": "@jupyter-widgets/controls",
            "_model_module_version": "1.5.0",
            "_model_name": "HBoxModel",
            "_view_count": null,
            "_view_module": "@jupyter-widgets/controls",
            "_view_module_version": "1.5.0",
            "_view_name": "HBoxView",
            "box_style": "",
            "children": [
              "IPY_MODEL_9aec092fd7bd4ef19adc011af7d38c11",
              "IPY_MODEL_059c7eebe76b4b96866df99d9ec962cd",
              "IPY_MODEL_d8c6bf6ee9434ed79cc1f89ecbdc23f4"
            ],
            "layout": "IPY_MODEL_cb8f4cd9f3ed4d94b91136fd9504ed0d"
          }
        },
        "9aec092fd7bd4ef19adc011af7d38c11": {
          "model_module": "@jupyter-widgets/controls",
          "model_name": "HTMLModel",
          "model_module_version": "1.5.0",
          "state": {
            "_dom_classes": [],
            "_model_module": "@jupyter-widgets/controls",
            "_model_module_version": "1.5.0",
            "_model_name": "HTMLModel",
            "_view_count": null,
            "_view_module": "@jupyter-widgets/controls",
            "_view_module_version": "1.5.0",
            "_view_name": "HTMLView",
            "description": "",
            "description_tooltip": null,
            "layout": "IPY_MODEL_cd1345b759064890ab0ca477514c4a31",
            "placeholder": "​",
            "style": "IPY_MODEL_c864042a565344ada9383fd42374816b",
            "value": "Downloading model.safetensors: 100%"
          }
        },
        "059c7eebe76b4b96866df99d9ec962cd": {
          "model_module": "@jupyter-widgets/controls",
          "model_name": "FloatProgressModel",
          "model_module_version": "1.5.0",
          "state": {
            "_dom_classes": [],
            "_model_module": "@jupyter-widgets/controls",
            "_model_module_version": "1.5.0",
            "_model_name": "FloatProgressModel",
            "_view_count": null,
            "_view_module": "@jupyter-widgets/controls",
            "_view_module_version": "1.5.0",
            "_view_name": "ProgressView",
            "bar_style": "success",
            "description": "",
            "description_tooltip": null,
            "layout": "IPY_MODEL_389c8e265e6b4fdeb6e128b045d1883b",
            "max": 440449768,
            "min": 0,
            "orientation": "horizontal",
            "style": "IPY_MODEL_1ebd2a4bb1434ef78e42326d24ae65e4",
            "value": 440449768
          }
        },
        "d8c6bf6ee9434ed79cc1f89ecbdc23f4": {
          "model_module": "@jupyter-widgets/controls",
          "model_name": "HTMLModel",
          "model_module_version": "1.5.0",
          "state": {
            "_dom_classes": [],
            "_model_module": "@jupyter-widgets/controls",
            "_model_module_version": "1.5.0",
            "_model_name": "HTMLModel",
            "_view_count": null,
            "_view_module": "@jupyter-widgets/controls",
            "_view_module_version": "1.5.0",
            "_view_name": "HTMLView",
            "description": "",
            "description_tooltip": null,
            "layout": "IPY_MODEL_0224662a32cc4728a150fe34ecbff318",
            "placeholder": "​",
            "style": "IPY_MODEL_779eca90c71a4bcd834c1c464e36710f",
            "value": " 440M/440M [00:04&lt;00:00, 133MB/s]"
          }
        },
        "cb8f4cd9f3ed4d94b91136fd9504ed0d": {
          "model_module": "@jupyter-widgets/base",
          "model_name": "LayoutModel",
          "model_module_version": "1.2.0",
          "state": {
            "_model_module": "@jupyter-widgets/base",
            "_model_module_version": "1.2.0",
            "_model_name": "LayoutModel",
            "_view_count": null,
            "_view_module": "@jupyter-widgets/base",
            "_view_module_version": "1.2.0",
            "_view_name": "LayoutView",
            "align_content": null,
            "align_items": null,
            "align_self": null,
            "border": null,
            "bottom": null,
            "display": null,
            "flex": null,
            "flex_flow": null,
            "grid_area": null,
            "grid_auto_columns": null,
            "grid_auto_flow": null,
            "grid_auto_rows": null,
            "grid_column": null,
            "grid_gap": null,
            "grid_row": null,
            "grid_template_areas": null,
            "grid_template_columns": null,
            "grid_template_rows": null,
            "height": null,
            "justify_content": null,
            "justify_items": null,
            "left": null,
            "margin": null,
            "max_height": null,
            "max_width": null,
            "min_height": null,
            "min_width": null,
            "object_fit": null,
            "object_position": null,
            "order": null,
            "overflow": null,
            "overflow_x": null,
            "overflow_y": null,
            "padding": null,
            "right": null,
            "top": null,
            "visibility": null,
            "width": null
          }
        },
        "cd1345b759064890ab0ca477514c4a31": {
          "model_module": "@jupyter-widgets/base",
          "model_name": "LayoutModel",
          "model_module_version": "1.2.0",
          "state": {
            "_model_module": "@jupyter-widgets/base",
            "_model_module_version": "1.2.0",
            "_model_name": "LayoutModel",
            "_view_count": null,
            "_view_module": "@jupyter-widgets/base",
            "_view_module_version": "1.2.0",
            "_view_name": "LayoutView",
            "align_content": null,
            "align_items": null,
            "align_self": null,
            "border": null,
            "bottom": null,
            "display": null,
            "flex": null,
            "flex_flow": null,
            "grid_area": null,
            "grid_auto_columns": null,
            "grid_auto_flow": null,
            "grid_auto_rows": null,
            "grid_column": null,
            "grid_gap": null,
            "grid_row": null,
            "grid_template_areas": null,
            "grid_template_columns": null,
            "grid_template_rows": null,
            "height": null,
            "justify_content": null,
            "justify_items": null,
            "left": null,
            "margin": null,
            "max_height": null,
            "max_width": null,
            "min_height": null,
            "min_width": null,
            "object_fit": null,
            "object_position": null,
            "order": null,
            "overflow": null,
            "overflow_x": null,
            "overflow_y": null,
            "padding": null,
            "right": null,
            "top": null,
            "visibility": null,
            "width": null
          }
        },
        "c864042a565344ada9383fd42374816b": {
          "model_module": "@jupyter-widgets/controls",
          "model_name": "DescriptionStyleModel",
          "model_module_version": "1.5.0",
          "state": {
            "_model_module": "@jupyter-widgets/controls",
            "_model_module_version": "1.5.0",
            "_model_name": "DescriptionStyleModel",
            "_view_count": null,
            "_view_module": "@jupyter-widgets/base",
            "_view_module_version": "1.2.0",
            "_view_name": "StyleView",
            "description_width": ""
          }
        },
        "389c8e265e6b4fdeb6e128b045d1883b": {
          "model_module": "@jupyter-widgets/base",
          "model_name": "LayoutModel",
          "model_module_version": "1.2.0",
          "state": {
            "_model_module": "@jupyter-widgets/base",
            "_model_module_version": "1.2.0",
            "_model_name": "LayoutModel",
            "_view_count": null,
            "_view_module": "@jupyter-widgets/base",
            "_view_module_version": "1.2.0",
            "_view_name": "LayoutView",
            "align_content": null,
            "align_items": null,
            "align_self": null,
            "border": null,
            "bottom": null,
            "display": null,
            "flex": null,
            "flex_flow": null,
            "grid_area": null,
            "grid_auto_columns": null,
            "grid_auto_flow": null,
            "grid_auto_rows": null,
            "grid_column": null,
            "grid_gap": null,
            "grid_row": null,
            "grid_template_areas": null,
            "grid_template_columns": null,
            "grid_template_rows": null,
            "height": null,
            "justify_content": null,
            "justify_items": null,
            "left": null,
            "margin": null,
            "max_height": null,
            "max_width": null,
            "min_height": null,
            "min_width": null,
            "object_fit": null,
            "object_position": null,
            "order": null,
            "overflow": null,
            "overflow_x": null,
            "overflow_y": null,
            "padding": null,
            "right": null,
            "top": null,
            "visibility": null,
            "width": null
          }
        },
        "1ebd2a4bb1434ef78e42326d24ae65e4": {
          "model_module": "@jupyter-widgets/controls",
          "model_name": "ProgressStyleModel",
          "model_module_version": "1.5.0",
          "state": {
            "_model_module": "@jupyter-widgets/controls",
            "_model_module_version": "1.5.0",
            "_model_name": "ProgressStyleModel",
            "_view_count": null,
            "_view_module": "@jupyter-widgets/base",
            "_view_module_version": "1.2.0",
            "_view_name": "StyleView",
            "bar_color": null,
            "description_width": ""
          }
        },
        "0224662a32cc4728a150fe34ecbff318": {
          "model_module": "@jupyter-widgets/base",
          "model_name": "LayoutModel",
          "model_module_version": "1.2.0",
          "state": {
            "_model_module": "@jupyter-widgets/base",
            "_model_module_version": "1.2.0",
            "_model_name": "LayoutModel",
            "_view_count": null,
            "_view_module": "@jupyter-widgets/base",
            "_view_module_version": "1.2.0",
            "_view_name": "LayoutView",
            "align_content": null,
            "align_items": null,
            "align_self": null,
            "border": null,
            "bottom": null,
            "display": null,
            "flex": null,
            "flex_flow": null,
            "grid_area": null,
            "grid_auto_columns": null,
            "grid_auto_flow": null,
            "grid_auto_rows": null,
            "grid_column": null,
            "grid_gap": null,
            "grid_row": null,
            "grid_template_areas": null,
            "grid_template_columns": null,
            "grid_template_rows": null,
            "height": null,
            "justify_content": null,
            "justify_items": null,
            "left": null,
            "margin": null,
            "max_height": null,
            "max_width": null,
            "min_height": null,
            "min_width": null,
            "object_fit": null,
            "object_position": null,
            "order": null,
            "overflow": null,
            "overflow_x": null,
            "overflow_y": null,
            "padding": null,
            "right": null,
            "top": null,
            "visibility": null,
            "width": null
          }
        },
        "779eca90c71a4bcd834c1c464e36710f": {
          "model_module": "@jupyter-widgets/controls",
          "model_name": "DescriptionStyleModel",
          "model_module_version": "1.5.0",
          "state": {
            "_model_module": "@jupyter-widgets/controls",
            "_model_module_version": "1.5.0",
            "_model_name": "DescriptionStyleModel",
            "_view_count": null,
            "_view_module": "@jupyter-widgets/base",
            "_view_module_version": "1.2.0",
            "_view_name": "StyleView",
            "description_width": ""
          }
        }
      }
    }
  },
  "cells": [
    {
      "cell_type": "markdown",
      "metadata": {
        "id": "view-in-github",
        "colab_type": "text"
      },
      "source": [
        "<a href=\"https://colab.research.google.com/github/GuraTom9/NLP100/blob/main/NLP100_80_89.ipynb\" target=\"_parent\"><img src=\"https://colab.research.google.com/assets/colab-badge.svg\" alt=\"Open In Colab\"/></a>"
      ]
    },
    {
      "cell_type": "markdown",
      "source": [
        "#第9章　RNN, CNN"
      ],
      "metadata": {
        "id": "wNHmxre5cEKP"
      }
    },
    {
      "cell_type": "markdown",
      "source": [
        "##80. ID番号への変換"
      ],
      "metadata": {
        "id": "OwS07FcecQMm"
      }
    },
    {
      "cell_type": "code",
      "source": [
        "%cd \"drive/MyDrive/NLP100\""
      ],
      "metadata": {
        "colab": {
          "base_uri": "https://localhost:8080/"
        },
        "id": "l-gf7dzxpmAx",
        "outputId": "052f7bb3-b1b9-4104-890f-cac4615c7848"
      },
      "execution_count": null,
      "outputs": [
        {
          "output_type": "stream",
          "name": "stdout",
          "text": [
            "/content/drive/MyDrive/NLP100\n"
          ]
        }
      ]
    },
    {
      "cell_type": "code",
      "execution_count": null,
      "metadata": {
        "id": "2gqXUJj9cAQs",
        "colab": {
          "base_uri": "https://localhost:8080/"
        },
        "outputId": "f4961b65-981b-42ed-f4eb-9b75575a87c6"
      },
      "outputs": [
        {
          "output_type": "stream",
          "name": "stdout",
          "text": [
            "TITLE\tCATEGORY\n",
            "UPDATE 1-Sandwich chain Quiznos files for bankruptcy protection\tb\n",
            "Iraq concerns lift top-rated euro zone bonds but Fed limits gains\tb\n",
            "China Manufacturing Gauge Rises in Stabilization Sign: Economy\tb\n",
            "Crucifixion: A New Way to Think About Jesus' Death\te\n",
            "Tracy Morgan still critical but 'doing better' following deadly crash which killed his  ...\te\n",
            "FOREX-Dollar off to slow start in event-packed week\tb\n",
            "Alstom should be a good investment for France, says CEO Kron\tb\n",
            "Diabetes-Related Problems Have Decreased Over Last 20 Years\tm\n",
            "2 Cases Of Ebola Confirmed In Liberia\tm\n",
            "'You Are Not Pregnant. We're Pregnant!' Mila Kunis Tells Off Overeager Fathers  ...\te\n",
            "Home > Justin Bieber > Justin Bieber Sends Selena Gomez $10k Flowers?\te\n",
            "Data storage firm Box files for US IPO of about $250 million\tb\n",
            "Cocaine use in U.S. cut in HALF while marijuana use jumps 30 per cent\tm\n",
            "UPDATE 1-HKMA intervenes as deals, China optimism spur Hong Kong dollar  ...\tb\n"
          ]
        }
      ],
      "source": [
        "! head -15 train.txt"
      ]
    },
    {
      "cell_type": "code",
      "source": [
        "import re\n",
        "from collections import Counter\n",
        "import pickle\n",
        "\n",
        "# 学習データから辞書を作成する関数\n",
        "def create_dictionary(file_path):\n",
        "    # 単語のリストを作成\n",
        "    words_list = []\n",
        "    with open(file_path, 'r') as f:\n",
        "        next(f)\n",
        "        for line in f:\n",
        "            text = line.strip().split('\\t')[0]\n",
        "            words_list.append(re.findall(r'\\w+', text.lower()))\n",
        "\n",
        "    words = [item for sublist in words_list for item in sublist]\n",
        "\n",
        "    # 単語の頻度を数える\n",
        "    word_counts = Counter(words)\n",
        "\n",
        "    # 2回以上出現する単語を抽出\n",
        "    frequent_words = [word for word, count in word_counts.items() if count >= 2]\n",
        "\n",
        "    # 単語の頻度でソート\n",
        "    frequent_words.sort(key=lambda word: word_counts[word], reverse=True)\n",
        "\n",
        "    # 辞書を作成\n",
        "    dictionary = {}\n",
        "    for i, word in enumerate(frequent_words):\n",
        "        dictionary[word] = i + 1\n",
        "\n",
        "    return dictionary\n",
        "\n",
        "# 学習データのパスを指定して辞書を作成\n",
        "train_file_path = 'train.txt'\n",
        "w2id_dict = create_dictionary(train_file_path)\n",
        "print(w2id_dict)\n",
        "\n",
        "# pickleで辞書を保存\n",
        "with open(\"w2id_dict.pkl\", 'wb') as f:\n",
        "    pickle.dump(w2id_dict, f)\n"
      ],
      "metadata": {
        "colab": {
          "base_uri": "https://localhost:8080/"
        },
        "id": "2V5JHovot-yY",
        "outputId": "28fe44cf-95e2-4ca0-f799-6c9139a64437"
      },
      "execution_count": null,
      "outputs": [
        {
          "output_type": "stream",
          "name": "stdout",
          "text": [
            "{'to': 1, 's': 2, 'in': 3, 'the': 4, 'of': 5, 'on': 6, 'for': 7, 'as': 8, 'update': 9, 'us': 10, 'and': 11, 'a': 12, '1': 13, 'with': 14, 'at': 15, '2': 16, 'is': 17, 'after': 18, 'new': 19, 'up': 20, 'says': 21, 'stocks': 22, 'from': 23, 'by': 24, '3': 25, 'kardashian': 26, 'china': 27, 't': 28, 'over': 29, 'it': 30, 'her': 31, 'kim': 32, 'euro': 33, 'first': 34, 'be': 35, 'shares': 36, 'ecb': 37, 'more': 38, 'about': 39, 'will': 40, 'fed': 41, 'may': 42, 'dollar': 43, 'are': 44, 'data': 45, 'not': 46, 'she': 47, '4': 48, 'out': 49, 'that': 50, 'you': 51, 'day': 52, 'deal': 53, 'sales': 54, 'star': 55, 'high': 56, 'wall': 57, 'miley': 58, 'cyrus': 59, 'off': 60, 'year': 61, 'but': 62, 'forex': 63, 'global': 64, 'rise': 65, 'billion': 66, 'profit': 67, '5': 68, 'ceo': 69, 'his': 70, 'was': 71, 'google': 72, 'west': 73, 'st': 74, 'bank': 75, 'month': 76, 'time': 77, 'could': 78, 'buy': 79, 'video': 80, 'growth': 81, 'low': 82, 'he': 83, 'ukraine': 84, 'has': 85, 'bln': 86, 'no': 87, 'week': 88, 'chris': 89, 'than': 90, 'million': 91, 'home': 92, 'oil': 93, 'kanye': 94, 'justin': 95, 'wedding': 96, 'set': 97, 'one': 98, 'shows': 99, 'rises': 100, 'bieber': 101, '2014': 102, 'uk': 103, 'into': 104, 'before': 105, 'rate': 106, 'this': 107, 'show': 108, 'down': 109, 'who': 110, 'how': 111, 'two': 112, 'markets': 113, 'i': 114, 'have': 115, 'can': 116, 'near': 117, 'apple': 118, 'gold': 119, 'falls': 120, 'record': 121, 'report': 122, 'fall': 123, 'gm': 124, 'inflation': 125, 'gains': 126, 'your': 127, 'all': 128, 'against': 129, 'higher': 130, '7': 131, 'game': 132, 'what': 133, 'world': 134, 'top': 135, 'reveals': 136, 'rpt': 137, 'twitter': 138, 'pay': 139, 'york': 140, 'court': 141, 'yellen': 142, 'most': 143, 'market': 144, 'drop': 145, 'pct': 146, 'economy': 147, 'years': 148, 'since': 149, 'p': 150, 'tv': 151, 'study': 152, 'man': 153, 'movie': 154, 'just': 155, 'its': 156, 'corrected': 157, '6': 158, 'talks': 159, 'prices': 160, 'outlook': 161, 'ahead': 162, 'back': 163, 'lohan': 164, 'sees': 165, 'ipo': 166, 'lindsay': 167, 'seen': 168, 'death': 169, 'american': 170, 'still': 171, 'big': 172, 'get': 173, 'beyonce': 174, 'why': 175, 'amid': 176, 'an': 177, 'jay': 178, 'facebook': 179, 'amazon': 180, 'cuts': 181, 'film': 182, 'estimates': 183, 'we': 184, 'drops': 185, 'jobs': 186, 'second': 187, 'men': 188, 'health': 189, 'banks': 190, 'thrones': 191, 'draghi': 192, 'george': 193, 'hit': 194, 'revenue': 195, 'make': 196, 'bond': 197, 'bonds': 198, 'selena': 199, 'gomez': 200, 'takes': 201, 'russia': 202, 'take': 203, 'drug': 204, 'america': 205, 'case': 206, 'paul': 207, 'z': 208, 'europe': 209, 'dies': 210, 'end': 211, 'gain': 212, 'bid': 213, 'people': 214, 'gets': 215, 'european': 216, 'michael': 217, 'cut': 218, 'mobile': 219, 'wrapup': 220, 'business': 221, 'music': 222, 'now': 223, 'bnp': 224, 'l': 225, 'rates': 226, 'iraq': 227, 'they': 228, '9': 229, 'june': 230, 'awards': 231, 'lower': 232, 'fitch': 233, 'jennifer': 234, 'yen': 235, 'gas': 236, 'ebola': 237, 'hits': 238, '8': 239, 'james': 240, 'credit': 241, 'risk': 242, 'love': 243, 'best': 244, 'review': 245, '500': 246, 'loss': 247, 'scott': 248, 'debt': 249, '10': 250, 'said': 251, 'precious': 252, 'change': 253, 'plan': 254, 'cancer': 255, 'forecast': 256, 'season': 257, 'alibaba': 258, 'yields': 259, 'japan': 260, 'claims': 261, 'wars': 262, 'tour': 263, 'again': 264, 'o': 265, 'box': 266, 'offer': 267, 'baby': 268, 'mother': 269, 'met': 270, 'office': 271, 'martin': 272, 'some': 273, 'futures': 274, 'quarter': 275, 'climate': 276, 'white': 277, 'cars': 278, 'pfizer': 279, 'fans': 280, 'news': 281, 'life': 282, 'red': 283, 'three': 284, 'their': 285, 'being': 286, 'beats': 287, 'percent': 288, 'rally': 289, 'opens': 290, 'earnings': 291, 'look': 292, 'air': 293, 'during': 294, 'face': 295, 'mln': 296, 'sex': 297, 'wants': 298, 'robert': 299, 'real': 300, 'ex': 301, 'maker': 302, 'makes': 303, 'm': 304, 'dead': 305, 'zone': 306, 'hong': 307, 'kong': 308, 'microsoft': 309, 'wren': 310, 'six': 311, 'so': 312, 'north': 313, 'probe': 314, 'samsung': 315, 'ford': 316, 'german': 317, 'family': 318, 'policy': 319, 'open': 320, 'street': 321, 'raises': 322, 'like': 323, 'plans': 324, 'trailer': 325, 'stars': 326, 'watch': 327, 'car': 328, 'my': 329, 'party': 330, 'or': 331, 'obama': 332, 'posts': 333, 'ends': 334, 'don': 335, 'gwyneth': 336, 'jessica': 337, 'demand': 338, 'won': 339, 'e': 340, 'good': 341, 'pregnant': 342, 'next': 343, 'tax': 344, 'williams': 345, 'internet': 346, 'under': 347, 'jagger': 348, 'flat': 349, 'april': 350, 'view': 351, 'house': 352, 'jolie': 353, 'investors': 354, 'sell': 355, 'robin': 356, 'firm': 357, 'refile': 358, 'bad': 359, 'paltrow': 360, 'fight': 361, 'angelina': 362, 'if': 363, 'emma': 364, 'half': 365, 'affirms': 366, 'episode': 367, 'source': 368, 'french': 369, 'even': 370, 'black': 371, 'live': 372, 'astrazeneca': 373, 'recall': 374, 'festival': 375, 'target': 376, 'netflix': 377, 'should': 378, 'mick': 379, 'trading': 380, 'company': 381, 'go': 382, 'calls': 383, 'obamacare': 384, 'debut': 385, 'heart': 386, 'rules': 387, 'young': 388, 'asia': 389, 'close': 390, 'found': 391, 'five': 392, 'lawsuit': 393, 'dress': 394, 'virus': 395, 'boost': 396, 'goes': 397, 'snapshot': 398, 'little': 399, 'march': 400, 'jackson': 401, 'while': 402, 'johnny': 403, 'strong': 404, 'kids': 405, 'another': 406, 'help': 407, 'premiere': 408, 'comcast': 409, 'steps': 410, 'canada': 411, 'comments': 412, 'role': 413, 'play': 414, 'too': 415, 'brown': 416, 'arrested': 417, 'here': 418, 'wife': 419, 'clooney': 420, 'last': 421, 'tech': 422, 'fda': 423, 'action': 424, 'know': 425, 'long': 426, 'argentina': 427, 'split': 428, 'alstom': 429, 'france': 430, 'photo': 431, 'decline': 432, 'when': 433, 'holds': 434, 'test': 435, 'results': 436, 'zac': 437, 'efron': 438, 'cover': 439, 'service': 440, 'tops': 441, 'birthday': 442, 'seeks': 443, 'despite': 444, 'had': 445, 'see': 446, 'way': 447, 'use': 448, 'really': 449, 'jenner': 450, 'warns': 451, 'director': 452, 'call': 453, '100': 454, 'cast': 455, 'months': 456, 'mortgage': 457, 'boj': 458, 'say': 459, 'merger': 460, 'india': 461, 'david': 462, 'asian': 463, 'old': 464, 'wins': 465, 'chinese': 466, 'biggest': 467, 'slips': 468, 'spider': 469, 'u': 470, 'brent': 471, 'four': 472, 'energy': 473, 'guilty': 474, 'looks': 475, 'days': 476, 'child': 477, 'kate': 478, 'eu': 479, 'taylor': 480, 'free': 481, 'do': 482, 'economic': 483, 'khloe': 484, 'future': 485, 'push': 486, 'capital': 487, 'singer': 488, 'manufacturing': 489, 'morgan': 490, '20': 491, 'tesla': 492, 'stable': 493, 'list': 494, 'imf': 495, 'raise': 496, '50': 497, 'finds': 498, 'short': 499, 'late': 500, 'price': 501, 'un': 502, 'thicke': 503, 'swift': 504, 'simpson': 505, 'valeant': 506, 'ignition': 507, 're': 508, 'cannes': 509, 'costs': 510, 'walker': 511, 'harris': 512, 'girl': 513, 'brad': 514, 'pound': 515, 'weak': 516, 'treasuries': 517, 'night': 518, 'bets': 519, 'stimulus': 520, 'stone': 521, 'made': 522, 'stake': 523, 'seth': 524, 'allergan': 525, 'joins': 526, 'daughter': 527, 'fox': 528, 'jumps': 529, 'women': 530, 'noah': 531, 'ever': 532, 'head': 533, 'depp': 534, 'space': 535, '2015': 536, 'july': 537, 'steady': 538, 'money': 539, 'judge': 540, 'gives': 541, 'eyes': 542, 'fund': 543, 'quarterly': 544, 'crude': 545, 'sale': 546, 'plane': 547, 'full': 548, 'own': 549, 'auto': 550, 'barclays': 551, 'lead': 552, 'lana': 553, 'would': 554, 'leaves': 555, 'supply': 556, 'nearly': 557, 'leads': 558, 'reports': 559, 'jump': 560, 'chief': 561, 'actor': 562, 'return': 563, 'power': 564, 'former': 565, 'trade': 566, 'mers': 567, 'concerns': 568, 'deals': 569, 'south': 570, 'jet': 571, 'del': 572, 'rey': 573, 'crisis': 574, 'voice': 575, 'did': 576, 'book': 577, 'early': 578, 'gay': 579, 'anti': 580, 'times': 581, 'third': 582, 'latest': 583, 'missing': 584, 'hollywood': 585, 'harrison': 586, 'father': 587, 'ap': 588, 'due': 589, 'possible': 590, 'war': 591, 'support': 592, 'files': 593, 'start': 594, 'got': 595, 'away': 596, 'children': 597, 'photos': 598, 'public': 599, 'share': 600, 'bill': 601, 'ryan': 602, 'age': 603, 'other': 604, 'pitt': 605, 'confirms': 606, 'food': 607, 'mcdonald': 608, 'mtv': 609, 'net': 610, 'stock': 611, 'recalls': 612, 'john': 613, 'been': 614, 'j': 615, 'edge': 616, 'going': 617, 'phone': 618, 'yahoo': 619, 'search': 620, 'ice': 621, 'ban': 622, 'mad': 623, 'hike': 624, 'much': 625, 'orders': 626, 'nasdaq': 627, 'misses': 628, 'woman': 629, 'lady': 630, 'our': 631, 'things': 632, 'post': 633, 'sanctions': 634, 'album': 635, 'less': 636, 'names': 637, 'users': 638, 'gala': 639, 'settle': 640, 'cost': 641, 'increase': 642, 'fears': 643, 'labeouf': 644, 'very': 645, 'dark': 646, 'disney': 647, 'franco': 648, 'glass': 649, 'spending': 650, 'nick': 651, 'warner': 652, 'focus': 653, 'adds': 654, 'chrysler': 655, 'expected': 656, 'australia': 657, 'boe': 658, 'vs': 659, 'cash': 660, 'making': 661, 'sources': 662, 'co': 663, 'were': 664, 'scientists': 665, 'husband': 666, 'want': 667, 'below': 668, 'unit': 669, 'behind': 670, 'christina': 671, 'pharrell': 672, 'grains': 673, 'stage': 674, 'financial': 675, 'need': 676, 'app': 677, 'buys': 678, 'johnson': 679, 'tribute': 680, 'job': 681, 'yet': 682, 'government': 683, 'shire': 684, '12': 685, 'shia': 686, 'amazing': 687, 'settlement': 688, 'bell': 689, 'mila': 690, 'kunis': 691, 'marriage': 692, 'vii': 693, 'stanley': 694, 'instagram': 695, 'release': 696, 'nasa': 697, 'meet': 698, 'earth': 699, 'corn': 700, 'cable': 701, 'ready': 702, 'lows': 703, 'join': 704, 'easing': 705, 'meeting': 706, 'london': 707, 'story': 708, 'him': 709, 'sells': 710, 'rogen': 711, 'bet': 712, 'step': 713, 'apparel': 714, 'la': 715, 'takeover': 716, 'work': 717, 'deadly': 718, 'stay': 719, 'paribas': 720, 'above': 721, 'run': 722, 'key': 723, 'fire': 724, 'safety': 725, 'ge': 726, 'dating': 727, 'mars': 728, 'gaga': 729, 'recovery': 730, 'president': 731, 'sister': 732, 'c': 733, 'neil': 734, 'industry': 735, 'son': 736, 'jr': 737, 'africa': 738, 'secret': 739, 'hospital': 740, 'fcc': 741, 'rolling': 742, 'consumer': 743, 'andrew': 744, 'signs': 745, 'sequel': 746, 'â': 747, 'de': 748, 'battle': 749, 'kristen': 750, 'better': 751, 'tells': 752, 'optimism': 753, 'model': 754, 'rolf': 755, 'climbs': 756, 'challenge': 757, 'trial': 758, 'broadway': 759, 'getting': 760, 'king': 761, 'driving': 762, 'weeks': 763, 'charges': 764, 'fiat': 765, 'production': 766, 'carney': 767, 'losses': 768, 'state': 769, 'wsj': 770, 'soon': 771, 'only': 772, 'california': 773, 'revealed': 774, 'garfield': 775, 'blood': 776, 'hbo': 777, 'russell': 778, 'flight': 779, 'boeing': 780, 'stop': 781, 'com': 782, 'launch': 783, 'yuan': 784, 'toyota': 785, 'treasury': 786, 'official': 787, 'almost': 788, 'beat': 789, 'group': 790, 'keep': 791, 'suisse': 792, 'worst': 793, 'advance': 794, 'mccarthy': 795, 'officials': 796, 'smith': 797, 'aereo': 798, 'series': 799, 'gown': 800, 'stones': 801, 'critics': 802, 'morning': 803, 'weekend': 804, 'airlines': 805, 'lena': 806, 'dunham': 807, 'reality': 808, 'approves': 809, 'general': 810, 'denies': 811, 'crash': 812, 'investment': 813, 'cases': 814, 'ny': 815, 'bachelor': 816, 'once': 817, 'jimmy': 818, 'winter': 819, 'released': 820, 'urges': 821, '13': 822, 'media': 823, 'goldman': 824, 'law': 825, 'friends': 826, 'lea': 827, '14': 828, 'ring': 829, 'british': 830, 'lost': 831, 'between': 832, 'forecasts': 833, 'firms': 834, 'index': 835, 'right': 836, 'find': 837, 'final': 838, 'los': 839, 'angeles': 840, 'dow': 841, 'reveal': 842, 'dip': 843, 'katie': 844, 'panel': 845, 'outbreak': 846, 'rising': 847, 'peaches': 848, 'geldof': 849, 'directv': 850, 'interest': 851, 'offers': 852, 'pays': 853, 'talk': 854, 'russian': 855, 'boosts': 856, 'puts': 857, 'abbvie': 858, 'streaming': 859, 'minutes': 860, 'retail': 861, 'does': 862, 'think': 863, 'following': 864, 'investigation': 865, 'married': 866, 'sterling': 867, 'lowest': 868, 'breaks': 869, 'factory': 870, 'buying': 871, 'michele': 872, 'working': 873, 'housing': 874, '15': 875, 'summer': 876, 'there': 877, 'launches': 878, 'win': 879, 'water': 880, 'fine': 881, 'quit': 882, 'finale': 883, 'attack': 884, 'workers': 885, 'never': 886, 'suit': 887, 'swiss': 888, 'demi': 889, 'lovato': 890, 'canadian': 891, 'bofa': 892, 'fails': 893, 'fast': 894, 'city': 895, 'hopes': 896, 'give': 897, 'strike': 898, 'signals': 899, 'ben': 900, 'transformers': 901, 'minister': 902, 'song': 903, 'rihanna': 904, 'defends': 905, 'rare': 906, 'faces': 907, 'reaches': 908, 'bryan': 909, 'solange': 910, 'bankruptcy': 911, 'sign': 912, 'assault': 913, 'filming': 914, 'agrees': 915, 'turns': 916, '25': 917, 'fuel': 918, '11': 919, 'spread': 920, 'prince': 921, 'everything': 922, 'edges': 923, 'candy': 924, 'girls': 925, 'isn': 926, 'put': 927, 'weight': 928, 'coming': 929, 'pregnancy': 930, 'fix': 931, 'boy': 932, 'harry': 933, 'neutrality': 934, 'rapper': 935, '24': 936, 'eight': 937, 'dancing': 938, 'happy': 939, 'lifts': 940, 'host': 941, 'tensions': 942, 'treatment': 943, 'lewis': 944, 'pmi': 945, 'board': 946, 'switch': 947, 'americans': 948, 'announces': 949, 'negative': 950, 'charged': 951, 'cancels': 952, 'without': 953, 'spanish': 954, 'light': 955, '30': 956, 'electric': 957, 'sir': 958, 'police': 959, 'lawrence': 960, 'issues': 961, 'expectations': 962, 'area': 963, 'surge': 964, 'records': 965, 'weighs': 966, 'indian': 967, 'act': 968, 'libya': 969, 'selfie': 970, 'term': 971, 'bring': 972, 'biopic': 973, 'bachelorette': 974, 'small': 975, 'planet': 976, 'move': 977, 'huge': 978, 'finally': 979, 'smartphone': 980, 'keeps': 981, 'around': 982, 'galaxy': 983, 'kendall': 984, 'gdp': 985, 'paris': 986, 'slump': 987, 'patent': 988, 'sector': 989, 'factors': 990, 'rumours': 991, 'michelle': 992, 'products': 993, 'risks': 994, 'companies': 995, 'washington': 996, 'sues': 997, 'where': 998, 'oscar': 999, 'sets': 1000, 'true': 1001, 'hold': 1002, 'keith': 1003, 'drugs': 1004, 'central': 1005, 'fan': 1006, 'spears': 1007, 'yr': 1008, 'name': 1009, 'threat': 1010, 'highs': 1011, 'security': 1012, 'giant': 1013, 'remains': 1014, 'press': 1015, 'vogue': 1016, 'exports': 1017, 'rob': 1018, 'pattinson': 1019, 'exit': 1020, 'coachella': 1021, 'labor': 1022, 'miranda': 1023, 'online': 1024, 'celebrates': 1025, 'which': 1026, 'foods': 1027, 'malaysia': 1028, 'together': 1029, 'dips': 1030, 'regulator': 1031, 'surprise': 1032, 'private': 1033, 'jon': 1034, 'these': 1035, 'slightly': 1036, 'funeral': 1037, 'idol': 1038, 'jason': 1039, 'opening': 1040, 'olivia': 1041, 'weather': 1042, 'speculation': 1043, 'speed': 1044, 'sea': 1045, 'reunion': 1046, 'weekly': 1047, 'perry': 1048, 'past': 1049, 'many': 1050, 'style': 1051, 'traders': 1052, 'britney': 1053, 'supreme': 1054, 'vietnam': 1055, 'pressure': 1056, 'arrives': 1057, 'heartbleed': 1058, 'ackman': 1059, 'mark': 1060, 'unveils': 1061, 'moon': 1062, 'jpmorgan': 1063, 'surges': 1064, 'deutsche': 1065, 'announce': 1066, 'cdc': 1067, 'sexy': 1068, 'seek': 1069, 'miss': 1070, 'hemsworth': 1071, 'scandal': 1072, 'games': 1073, 'fx': 1074, 'nyong': 1075, 'lift': 1076, 'per': 1077, 'tori': 1078, 'rivals': 1079, '18': 1080, 'movies': 1081, 'well': 1082, 'through': 1083, 'line': 1084, 'admits': 1085, 'kourtney': 1086, 'slip': 1087, 'shailene': 1088, 'woodley': 1089, 'major': 1090, 'crush': 1091, 'led': 1092, 'carpet': 1093, 'cameron': 1094, 'ad': 1095, 'school': 1096, 'executive': 1097, 'leave': 1098, 'web': 1099, 'richard': 1100, 'output': 1101, 'returns': 1102, 'jenny': 1103, 'nikkei': 1104, 'jack': 1105, 'ebay': 1106, 'cloud': 1107, 'direct': 1108, 'putin': 1109, 'concert': 1110, 'declines': 1111, 'lopez': 1112, 'allen': 1113, 'system': 1114, 'mystery': 1115, 'emerging': 1116, 'customers': 1117, 'selling': 1118, 'body': 1119, 'criminal': 1120, 'birth': 1121, 'weaker': 1122, 'versus': 1123, 'manager': 1124, 'mom': 1125, 'must': 1126, 'niro': 1127, 'smart': 1128, 'taking': 1129, 'likely': 1130, 'number': 1131, 'agency': 1132, 'breaking': 1133, 'slams': 1134, 'point': 1135, 'rose': 1136, 'moment': 1137, 'bigger': 1138, 'level': 1139, 'cigarettes': 1140, 'abuse': 1141, 'lupita': 1142, 'spelling': 1143, 'mccartney': 1144, 'states': 1145, 'confidence': 1146, 'rock': 1147, 'b': 1148, 'brain': 1149, 'same': 1150, 'legal': 1151, 'great': 1152, 'positive': 1153, 'britain': 1154, 'qe': 1155, 'mexico': 1156, 'hair': 1157, 'wanted': 1158, 'nude': 1159, 'celebrate': 1160, 'fashion': 1161, 'blackberry': 1162, 'aged': 1163, 'chairman': 1164, 'divergent': 1165, 'currency': 1166, 'montana': 1167, 'comes': 1168, 'author': 1169, 'x': 1170, 'detroit': 1171, 'moves': 1172, 'members': 1173, 'iphone': 1174, 'pushes': 1175, 'malaysian': 1176, 'neighbors': 1177, 'cobain': 1178, 'hepatitis': 1179, 'network': 1180, 'room': 1181, 'blue': 1182, 'services': 1183, 'citigroup': 1184, 'save': 1185, 'double': 1186, 'date': 1187, '35': 1188, 'train': 1189, 'climb': 1190, 'sexual': 1191, 'order': 1192, 'ipad': 1193, 'doesn': 1194, 'property': 1195, 'ratings': 1196, 'chain': 1197, 'marijuana': 1198, 'slide': 1199, 'whole': 1200, 'sprint': 1201, 'single': 1202, 'mariah': 1203, 'carey': 1204, 'tweet': 1205, 'captain': 1206, '2013': 1207, 'leaving': 1208, 'dean': 1209, 'divorce': 1210, 'hours': 1211, 'tonight': 1212, 'picture': 1213, 'louis': 1214, 'wheat': 1215, 'teen': 1216, 'charge': 1217, 'solar': 1218, 'marvel': 1219, 'miners': 1220, 'profits': 1221, 'fame': 1222, 'rebound': 1223, 'senate': 1224, 'weigh': 1225, 'bikini': 1226, 'll': 1227, 'freddie': 1228, 'because': 1229, '22': 1230, 'rating': 1231, 'union': 1232, 'siemens': 1233, 'nothing': 1234, 'creator': 1235, 'marries': 1236, 'scarlett': 1237, 'daily': 1238, 'ellen': 1239, 'thanks': 1240, 'approval': 1241, 'korea': 1242, 'tests': 1243, 'alzheimer': 1244, 'linked': 1245, 'affleck': 1246, 'decision': 1247, 'worries': 1248, 'oprah': 1249, 'actress': 1250, 'crashes': 1251, 'q2': 1252, 'crowe': 1253, 'trying': 1254, 'outside': 1255, 'performance': 1256, 'needs': 1257, 'highest': 1258, 'called': 1259, 'parents': 1260, 'hall': 1261, 'stewart': 1262, 'engagement': 1263, 'forced': 1264, 'yield': 1265, 'italian': 1266, 'batman': 1267, 'hard': 1268, 'killed': 1269, 'diabetes': 1270, 'ibm': 1271, 'dispute': 1272, 'helps': 1273, 'track': 1274, 'snapchat': 1275, 'cannon': 1276, 'band': 1277, 'rick': 1278, 'transcendence': 1279, 'fees': 1280, 'topless': 1281, '17': 1282, 'straight': 1283, 'thing': 1284, 'equities': 1285, 'recap': 1286, 'shareholders': 1287, 'germany': 1288, 'boyfriend': 1289, 'vehicles': 1290, 'italy': 1291, 'african': 1292, 'wears': 1293, 'girlfriend': 1294, 'deadline': 1295, 'left': 1296, 'reviews': 1297, 'massive': 1298, 'medtronic': 1299, 'urban': 1300, 'breach': 1301, 'beautiful': 1302, 'rallies': 1303, 'tries': 1304, 'v': 1305, 'q1': 1306, 'card': 1307, 'slides': 1308, 'epa': 1309, 'johansson': 1310, 'plant': 1311, 'loan': 1312, 'fell': 1313, 'didn': 1314, 'auction': 1315, 'today': 1316, 'contract': 1317, 'hotel': 1318, '45': 1319, 'fargo': 1320, 'mrs': 1321, 'disease': 1322, 'downey': 1323, 'stephen': 1324, 'longer': 1325, 'class': 1326, 'rebounds': 1327, 'expecting': 1328, 'figure': 1329, 'controversial': 1330, 'prime': 1331, 'lives': 1332, 'kiss': 1333, 'among': 1334, 'intel': 1335, 'f': 1336, 'sun': 1337, 'reportedly': 1338, 'actually': 1339, 'tattoo': 1340, 'florida': 1341, 'adam': 1342, 'reason': 1343, 'sick': 1344, 'safe': 1345, 'gary': 1346, 'picks': 1347, 'joan': 1348, 'drew': 1349, 'asset': 1350, 'nears': 1351, 'delayed': 1352, '16': 1353, 'puerto': 1354, 'rico': 1355, 'peter': 1356, 'cent': 1357, 'fresh': 1358, 'team': 1359, 'pictured': 1360, 'works': 1361, 'claim': 1362, 'increases': 1363, 'doubles': 1364, 'steve': 1365, 'worth': 1366, 'warning': 1367, 'd': 1368, 'leaked': 1369, 'congress': 1370, 'soars': 1371, 'monster': 1372, 'dog': 1373, 'pace': 1374, 'julia': 1375, 'matthew': 1376, 'advances': 1377, 'begins': 1378, 'frozen': 1379, 'josh': 1380, 'stress': 1381, 'producer': 1382, 'competition': 1383, 'musical': 1384, 'guardians': 1385, 'flash': 1386, 'relationship': 1387, 'testimony': 1388, 'scene': 1389, 'rosie': 1390, 'donnell': 1391, 've': 1392, 'trapped': 1393, 'place': 1394, 'winslet': 1395, 'break': 1396, 'patrick': 1397, 'godzilla': 1398, 'ftc': 1399, 'duke': 1400, 'land': 1401, 'pleads': 1402, 'slumps': 1403, 'streak': 1404, 'england': 1405, 'lily': 1406, 'copyright': 1407, 'walk': 1408, 'turn': 1409, 'extends': 1410, 'warming': 1411, 'used': 1412, 'hill': 1413, 'technology': 1414, 'patients': 1415, 'books': 1416, 'inside': 1417, 'broken': 1418, 'columbus': 1419, 'tumble': 1420, 'hackers': 1421, 'charney': 1422, 'acting': 1423, 'giving': 1424, 'cfo': 1425, 'camera': 1426, 'loans': 1427, 'loses': 1428, 'friday': 1429, 'ruling': 1430, 'heard': 1431, 'every': 1432, 'medical': 1433, 'uber': 1434, 'rooney': 1435, 'nyc': 1436, 'stores': 1437, 'assets': 1438, 'supplies': 1439, 'using': 1440, 'billboard': 1441, 'cigarette': 1442, 'tom': 1443, 'argentine': 1444, 'changed': 1445, 'skin': 1446, 'android': 1447, 'sony': 1448, 'history': 1449, 'special': 1450, 'platinum': 1451, 'aguilera': 1452, 'plea': 1453, 'meets': 1454, 'watson': 1455, 'subdued': 1456, 'problem': 1457, 'mostly': 1458, 'katy': 1459, 'texas': 1460, 'weds': 1461, 'me': 1462, 'musk': 1463, 'magazine': 1464, 'blasts': 1465, 'frankie': 1466, 'slow': 1467, 'friend': 1468, 'cell': 1469, 'questions': 1470, 'aid': 1471, 'control': 1472, 'jd': 1473, 'kris': 1474, '2nd': 1475, 'brings': 1476, 'national': 1477, 'restaurant': 1478, 'means': 1479, 'healthcare': 1480, 'dee': 1481, 'words': 1482, 'allow': 1483, 'ann': 1484, 'beyoncé': 1485, 'citi': 1486, 'reduce': 1487, 'kevin': 1488, 'herbalife': 1489, 'millions': 1490, 'gibson': 1491, 'brands': 1492, 'raising': 1493, 'fourth': 1494, 'queen': 1495, 'jackman': 1496, 'ask': 1497, 'bear': 1498, 'comedy': 1499, '19': 1500, 'tony': 1501, 'releases': 1502, 'research': 1503, 'upbeat': 1504, 'speech': 1505, 'films': 1506, 'winning': 1507, 'satellite': 1508, 'text': 1509, 'federal': 1510, 'maleficent': 1511, 'tribeca': 1512, 'turnaround': 1513, 'drag': 1514, 'selloff': 1515, 'named': 1516, 'boys': 1517, 'multi': 1518, 'oscars': 1519, 'unemployment': 1520, 'growing': 1521, 'grow': 1522, 'arrest': 1523, 'wage': 1524, 'chelsea': 1525, 'fires': 1526, 'pretty': 1527, '27': 1528, 'held': 1529, 'default': 1530, 'airline': 1531, 'mara': 1532, 'struggle': 1533, 'device': 1534, 'survey': 1535, 'colbert': 1536, 'cbs': 1537, 'row': 1538, 'doctor': 1539, 'doctors': 1540, 'club': 1541, 'fraud': 1542, 'bitcoin': 1543, 'madonna': 1544, 'told': 1545, 'super': 1546, 'let': 1547, 'superman': 1548, 'die': 1549, 'orange': 1550, 'himself': 1551, 'porn': 1552, 'accused': 1553, 'worker': 1554, 'saudi': 1555, 'might': 1556, 'currencies': 1557, 'daniel': 1558, 'bp': 1559, 'abc': 1560, 'discovered': 1561, 'sparks': 1562, 'suicide': 1563, 'mice': 1564, 'barrymore': 1565, 'direction': 1566, 'backs': 1567, 'joe': 1568, 'prevent': 1569, 'grows': 1570, 'lawmakers': 1571, 'insider': 1572, 'violence': 1573, 'problems': 1574, 'confirmed': 1575, 'sends': 1576, 'storage': 1577, 'bbb': 1578, 'gig': 1579, 'jail': 1580, 'tell': 1581, 'alleged': 1582, 'aronofsky': 1583, 'kill': 1584, 'green': 1585, 'reaction': 1586, 'retreat': 1587, 'social': 1588, 'playstation': 1589, 'response': 1590, 'gosling': 1591, 'evans': 1592, 'far': 1593, 'continue': 1594, 'come': 1595, 'iconic': 1596, 'targets': 1597, 'cory': 1598, 'tanker': 1599, 'hurt': 1600, 'longest': 1601, 'everyone': 1602, 'japanese': 1603, 'hugh': 1604, 'guinea': 1605, 'warn': 1606, 'joke': 1607, 'k': 1608, 'suggests': 1609, 'blames': 1610, '90': 1611, 'message': 1612, 'east': 1613, '2012': 1614, 'needed': 1615, 'tight': 1616, 'losing': 1617, 'stays': 1618, 'size': 1619, 'slows': 1620, '1st': 1621, 'spreads': 1622, 'jada': 1623, 'contestant': 1624, 'ease': 1625, 'continues': 1626, 'burger': 1627, 'tyson': 1628, 'shoot': 1629, 'wti': 1630, 'care': 1631, 'pictures': 1632, 'nicole': 1633, 'kidman': 1634, 'access': 1635, 'turkey': 1636, 'faster': 1637, 'given': 1638, 'estimate': 1639, 'researchers': 1640, 'force': 1641, 'eye': 1642, 'avicii': 1643, 'shot': 1644, 'gilead': 1645, 'closes': 1646, 'digest': 1647, 'spring': 1648, 'scrutiny': 1649, 'perfect': 1650, 'heads': 1651, 'privacy': 1652, 'marry': 1653, 'bucket': 1654, 'fear': 1655, 'sac': 1656, 'khloé': 1657, 'easter': 1658, 'strengthens': 1659, 'sued': 1660, 'attacks': 1661, 'magic': 1662, 'middleton': 1663, 'roll': 1664, 'levels': 1665, 'fannie': 1666, 'side': 1667, 'concern': 1668, 'jobless': 1669, 'enough': 1670, 'investigating': 1671, 'traffic': 1672, 'rehab': 1673, 'potter': 1674, 'levine': 1675, 'stronger': 1676, 'naked': 1677, 'rivers': 1678, 'controversy': 1679, 'roberts': 1680, 'largest': 1681, 'pharma': 1682, 'casey': 1683, 'kasem': 1684, 'proposed': 1685, 'lambert': 1686, 'value': 1687, 'murder': 1688, 'welcome': 1689, 'aa': 1690, 'further': 1691, 'paula': 1692, 'road': 1693, 'guide': 1694, 'jones': 1695, 'deflation': 1696, 'colin': 1697, 'tammy': 1698, 'agree': 1699, 'become': 1700, 'interview': 1701, 'proposes': 1702, 'critical': 1703, 'pablo': 1704, 'facing': 1705, 'resolve': 1706, 'debate': 1707, 'expects': 1708, 'female': 1709, 'bids': 1710, 'hot': 1711, 'session': 1712, 'aren': 1713, 'lunch': 1714, 'starts': 1715, 'ruby': 1716, 'jamie': 1717, 'tracking': 1718, 'campaign': 1719, 'until': 1720, 'starbucks': 1721, 'store': 1722, 'illinois': 1723, 'elsa': 1724, 'andi': 1725, 'murray': 1726, 'engaged': 1727, 'total': 1728, 'monteith': 1729, 'diaz': 1730, 'stunning': 1731, 'xbox': 1732, 'tobacco': 1733, 'seven': 1734, 'software': 1735, 'nicki': 1736, 'minaj': 1737, 'fake': 1738, 'morrissey': 1739, 'across': 1740, 'honduran': 1741, 'career': 1742, 'crop': 1743, 'pot': 1744, 'protect': 1745, 'station': 1746, 'kylie': 1747, 'conscious': 1748, 'uncoupling': 1749, 'reasons': 1750, 'brother': 1751, 'protest': 1752, 'infection': 1753, 'dividend': 1754, 'tributes': 1755, 'complete': 1756, 'monty': 1757, 'python': 1758, 'reunite': 1759, 'explains': 1760, 'carbon': 1761, 'mh370': 1762, 'bride': 1763, 'chart': 1764, 'woody': 1765, 'herself': 1766, 'fights': 1767, 'healthy': 1768, 'lee': 1769, 'part': 1770, 'spain': 1771, 'issue': 1772, 'thursday': 1773, 'pinkett': 1774, 'kimye': 1775, 'eric': 1776, 'vmas': 1777, 'bags': 1778, 'orlando': 1779, 'international': 1780, 'vows': 1781, 'deaths': 1782, 'flies': 1783, 'floyd': 1784, 'highlights': 1785, 'ultra': 1786, 'alba': 1787, 'softbank': 1788, 'changes': 1789, 'notes': 1790, 'extend': 1791, 'asks': 1792, 'breast': 1793, 'ukrainian': 1794, 'develop': 1795, 'dallas': 1796, 'expands': 1797, 'cites': 1798, 'novartis': 1799, 'celebrities': 1800, 'defect': 1801, 'design': 1802, 'caught': 1803, 'wells': 1804, 'rights': 1805, 'gq': 1806, 'abramson': 1807, 'dovish': 1808, 'ftse': 1809, 'extinction': 1810, 'davis': 1811, 'celebrity': 1812, 'dawn': 1813, 'bang': 1814, 'shooting': 1815, 'curb': 1816, 'mac': 1817, 'student': 1818, 'dance': 1819, 'digital': 1820, 'lets': 1821, 'libyan': 1822, 'navy': 1823, 'founder': 1824, 'joint': 1825, 'subscribers': 1826, 'drink': 1827, 'february': 1828, 'middle': 1829, 'flashes': 1830, 'fired': 1831, 'attorney': 1832, 'fracking': 1833, 'barra': 1834, 'website': 1835, 'original': 1836, 'investor': 1837, '0': 1838, 'plus': 1839, 'cancel': 1840, 'check': 1841, '4th': 1842, 'lands': 1843, 'eases': 1844, 'rival': 1845, 'build': 1846, 'drone': 1847, 'melissa': 1848, 'monday': 1849, 'export': 1850, 'authorities': 1851, 'pink': 1852, 'bangerz': 1853, 'stacy': 1854, 'nine': 1855, 'poses': 1856, 'remain': 1857, 'spacex': 1858, 'animal': 1859, 'bob': 1860, 'settles': 1861, 'cause': 1862, 'sec': 1863, 'nuclear': 1864, 'jury': 1865, 'bug': 1866, '250': 1867, 'banking': 1868, 'snaps': 1869, 'juan': 1870, 'loves': 1871, 'tweets': 1872, 'them': 1873, 'amal': 1874, 'alamuddin': 1875, 'tsx': 1876, 'mixed': 1877, '2009': 1878, 'funds': 1879, 'surgery': 1880, 'coach': 1881, 'billionaire': 1882, 'evil': 1883, 'charity': 1884, 'hands': 1885, 'dr': 1886, 'potential': 1887, 'battery': 1888, 'boss': 1889, 'dorfman': 1890, 'awaited': 1891, 'door': 1892, 'schwarzenegger': 1893, 'hamm': 1894, 'aims': 1895, 'hillshire': 1896, 'race': 1897, 'pizza': 1898, 'officially': 1899, 'bmw': 1900, 'dancer': 1901, 'anniversary': 1902, 'retailer': 1903, 'ads': 1904, 'apps': 1905, 'prepares': 1906, 'advice': 1907, 'choice': 1908, 'sherri': 1909, 'shepherd': 1910, 'coal': 1911, 'trip': 1912, 'ariana': 1913, 'grande': 1914, 'ifo': 1915, 'probes': 1916, 'lot': 1917, 'shock': 1918, 'round': 1919, 'hilary': 1920, 'victims': 1921, 'teenage': 1922, 'fisher': 1923, 'helped': 1924, 'wrong': 1925, 'richards': 1926, 'entire': 1927, 'kiwi': 1928, 'hope': 1929, 'airways': 1930, 'bit': 1931, '26': 1932, 'rich': 1933, 'famous': 1934, 'saturday': 1935, 'tumbles': 1936, 'parts': 1937, 'nbc': 1938, 'amy': 1939, 'accident': 1940, 'replaces': 1941, 'aussie': 1942, 'begin': 1943, 'fallon': 1944, 'michigan': 1945, 'via': 1946, 'perform': 1947, 'haven': 1948, 'mail': 1949, 'mt': 1950, 'gox': 1951, 'comeback': 1952, 'jupiter': 1953, 'spot': 1954, 'wake': 1955, 'add': 1956, 'airport': 1957, 'matt': 1958, 'g': 1959, 'miami': 1960, 'consumers': 1961, 'doubtfire': 1962, 'megan': 1963, 'gap': 1964, 'honda': 1965, 'stolen': 1966, 'ways': 1967, 'eating': 1968, 'thousands': 1969, 'mickey': 1970, 'governor': 1971, 'shines': 1972, 'homeless': 1973, 'retirement': 1974, 'era': 1975, 'eyed': 1976, 'korean': 1977, 'pippa': 1978, 'thinks': 1979, 'hp': 1980, 'avril': 1981, 'lavigne': 1982, 'trend': 1983, 'ousted': 1984, 'avoid': 1985, 'trades': 1986, 'stem': 1987, 'palermo': 1988, 'simon': 1989, 'kerry': 1990, 'pre': 1991, 'payment': 1992, 'guidance': 1993, 'recalled': 1994, 'garth': 1995, 'dna': 1996, 'sentiment': 1997, 'letterman': 1998, 'radcliffe': 1999, 'oldman': 2000, 'charlie': 2001, 'exclusive': 2002, 'cooper': 2003, 'peace': 2004, 'rowling': 2005, 'emergency': 2006, 'sorry': 2007, 'kurt': 2008, 'living': 2009, 'activists': 2010, 'blogs': 2011, 'plunging': 2012, 'dicaprio': 2013, 'jeans': 2014, 'passengers': 2015, 'revises': 2016, 'tatum': 2017, 'veronica': 2018, 'upcoming': 2019, 'incident': 2020, 'hunt': 2021, 'nissan': 2022, 'brothers': 2023, 'gwen': 2024, 'ashton': 2025, 'kutcher': 2026, 'ross': 2027, 'marc': 2028, 'vote': 2029, 'murdoch': 2030, 'spin': 2031, 'cheating': 2032, 'stance': 2033, 'cool': 2034, 'soybeans': 2035, 'doing': 2036, 'event': 2037, 'prompt': 2038, 'later': 2039, 'effects': 2040, 'statement': 2041, 'hint': 2042, 'cap': 2043, 'models': 2044, 'chipotle': 2045, 'mike': 2046, 'something': 2047, 'cube': 2048, 'allergic': 2049, 'corporate': 2050, 'common': 2051, 'anna': 2052, 'spends': 2053, 'pulled': 2054, 'bulgaria': 2055, 'normal': 2056, 'mission': 2057, 'caps': 2058, 'cools': 2059, 'lifetime': 2060, 'college': 2061, 'alcohol': 2062, 'htc': 2063, 'scare': 2064, 'yum': 2065, 'demands': 2066, 'flights': 2067, 'upon': 2068, 'drones': 2069, 'january': 2070, 'toll': 2071, 'slammed': 2072, 'refuses': 2073, 'racist': 2074, 'hiv': 2075, 'patient': 2076, 'equal': 2077, 'promise': 2078, 'progress': 2079, 'towards': 2080, 'lose': 2081, 'bus': 2082, 'alert': 2083, 'false': 2084, 'kiefer': 2085, 'pop': 2086, 'links': 2087, 'travel': 2088, 'dui': 2089, 'strikes': 2090, 'duff': 2091, 'receive': 2092, 'least': 2093, 'reach': 2094, 'block': 2095, 'youtube': 2096, 'couric': 2097, 'hacked': 2098, 'valued': 2099, 'seeking': 2100, 'makers': 2101, 'teva': 2102, 'measures': 2103, 'forgotten': 2104, 'irish': 2105, 'illegal': 2106, 'timeline': 2107, 'pipeline': 2108, 'stuns': 2109, 'sue': 2110, 'gun': 2111, 'arnold': 2112, 'gopro': 2113, 'poised': 2114, 'expansion': 2115, 'degeneres': 2116, 'kelly': 2117, 'faulty': 2118, 'zendaya': 2119, 'sxsw': 2120, 'injured': 2121, 'ride': 2122, 'strategy': 2123, 'lawyer': 2124, 'older': 2125, 'payrolls': 2126, 'port': 2127, 'leather': 2128, 'gazprom': 2129, 'ireland': 2130, '1300': 2131, 'unveil': 2132, 'dressed': 2133, 'viewers': 2134, 'speaks': 2135, 'blonde': 2136, 'hints': 2137, 'award': 2138, 'driver': 2139, 'twice': 2140, 'wear': 2141, 'guest': 2142, 'carolina': 2143, 'read': 2144, 'shower': 2145, 'hedge': 2146, 'hearing': 2147, 'pool': 2148, 'seat': 2149, 'sinks': 2150, 'thomas': 2151, 'disappoints': 2152, 'becomes': 2153, 'bans': 2154, 'joining': 2155, 'steel': 2156, 'separate': 2157, 'machine': 2158, 'ship': 2159, 'momentum': 2160, 'income': 2161, 'drags': 2162, 'pope': 2163, 'smaller': 2164, 'apology': 2165, 'wild': 2166, 'defense': 2167, 'muppets': 2168, 'fat': 2169, 'drive': 2170, 'fun': 2171, 'moms': 2172, 'bunch': 2173, 'skirt': 2174, 'tape': 2175, 'imports': 2176, 'experiment': 2177, 'plays': 2178, 'human': 2179, 'pal': 2180, 'eli': 2181, 'sons': 2182, 'rape': 2183, 'cup': 2184, 'bloom': 2185, 'kerr': 2186, 'budget': 2187, 'cbo': 2188, 'rocket': 2189, 'commodity': 2190, 'spills': 2191, 'oracle': 2192, 'wish': 2193, 'arabia': 2194, 'shut': 2195, 'lagarde': 2196, 'project': 2197, 'diane': 2198, 'fair': 2199, 'qtr': 2200, 'chic': 2201, 'woes': 2202, 'page': 2203, 'dave': 2204, 'condition': 2205, 'suspends': 2206, 'mean': 2207, 'wireless': 2208, 'changing': 2209, 'winner': 2210, 'fail': 2211, 'guy': 2212, 'ac': 2213, 'dc': 2214, 'liam': 2215, 'financing': 2216, 'leonardo': 2217, 'drama': 2218, 'keibler': 2219, 'patton': 2220, 'sutherland': 2221, 'tied': 2222, 'glee': 2223, 'taxes': 2224, 'struggles': 2225, 'soft': 2226, 'valuation': 2227, 'actors': 2228, 'bullard': 2229, 'taco': 2230, 'sunday': 2231, 'humans': 2232, 'link': 2233, 'trust': 2234, 'images': 2235, 'proves': 2236, 'recovers': 2237, 'knuckles': 2238, 'arquette': 2239, 'elle': 2240, 'uninsured': 2241, 'furious': 2242, 'darren': 2243, 'cruise': 2244, 'sierra': 2245, 'leone': 2246, 'scenes': 2247, 'comic': 2248, 'rated': 2249, 'limits': 2250, 'wasn': 2251, 'twitch': 2252, 'compensation': 2253, 'jumpsuit': 2254, 'including': 2255, 'soldier': 2256, 'makeup': 2257, 'coast': 2258, 'emirates': 2259, 'spotted': 2260, 'oh': 2261, 'museum': 2262, 'teaser': 2263, 'abortion': 2264, 'lung': 2265, 'rule': 2266, 'lights': 2267, 'hunting': 2268, 'serious': 2269, 'katherine': 2270, 'fbi': 2271, 'hayden': 2272, 'having': 2273, 'any': 2274, 'wed': 2275, 'usda': 2276, 'hand': 2277, 'mid': 2278, 'covered': 2279, 'casts': 2280, 'theft': 2281, 'feature': 2282, 'options': 2283, 'personal': 2284, 'experts': 2285, 'disappointed': 2286, 'different': 2287, 'geithner': 2288, 'region': 2289, 'regulators': 2290, 'failure': 2291, 'wal': 2292, 'mart': 2293, 'couple': 2294, 'others': 2295, 'exposed': 2296, 'shouldn': 2297, 'usa': 2298, 'wilde': 2299, 'icahn': 2300, 'smoke': 2301, 'form': 2302, 'idina': 2303, 'menzel': 2304, 'halt': 2305, 'delay': 2306, 'accord': 2307, 'partners': 2308, 'prinze': 2309, 'iggy': 2310, 'cyber': 2311, 'thought': 2312, 'foreign': 2313, 'tran': 2314, 'republicans': 2315, 'legendary': 2316, 'runs': 2317, 'agreement': 2318, 'inspired': 2319, 'supports': 2320, 'swaps': 2321, 'church': 2322, 'management': 2323, 'site': 2324, 'ohio': 2325, 'kuroda': 2326, 'lending': 2327, 'tim': 2328, 'australian': 2329, 'jace': 2330, 'fighting': 2331, 'finance': 2332, 'blockbuster': 2333, 'died': 2334, 'earlier': 2335, 'ubs': 2336, 'events': 2337, 'construction': 2338, 'favreau': 2339, 'existing': 2340, 'done': 2341, 'dream': 2342, 'reduces': 2343, 'chef': 2344, 'buffett': 2345, 'raised': 2346, 'improved': 2347, 'pilot': 2348, 'looms': 2349, 'fiance': 2350, 'island': 2351, 'write': 2352, 'bean': 2353, 'hills': 2354, 'hospitalized': 2355, 'christian': 2356, 'copper': 2357, 'tyler': 2358, 'handler': 2359, 'jeopardy': 2360, 'debbie': 2361, 'political': 2362, 'dons': 2363, 'amber': 2364, 'walking': 2365, 'cold': 2366, 'already': 2367, 'elizabeth': 2368, 'unrest': 2369, 'conference': 2370, 'hosting': 2371, 'paid': 2372, 'fatal': 2373, 'allegedly': 2374, 'impact': 2375, 'console': 2376, 'receives': 2377, 'sean': 2378, 'daddy': 2379, '17000': 2380, 'tie': 2381, 'studios': 2382, 'ocean': 2383, 'snl': 2384, 'visits': 2385, 'brand': 2386, 'trigger': 2387, 'smoking': 2388, 'dov': 2389, 'dazzles': 2390, 'letter': 2391, 'funny': 2392, 'greek': 2393, 'non': 2394, 'awesome': 2395, 'river': 2396, 'fiancee': 2397, 'warrant': 2398, 'sing': 2399, 'mini': 2400, 'column': 2401, 'bizarre': 2402, 'obesity': 2403, 'bloomberg': 2404, 'rebels': 2405, 'ports': 2406, 'ending': 2407, 'improve': 2408, 'funding': 2409, 'thinking': 2410, 'according': 2411, 'beef': 2412, 'potentially': 2413, 'incredible': 2414, 'purchases': 2415, 'rest': 2416, 'employees': 2417, 'san': 2418, 'prospects': 2419, 'drives': 2420, 'lake': 2421, 'jan': 2422, 'sheen': 2423, 'country': 2424, 'signal': 2425, 'autism': 2426, 'emerges': 2427, 'terry': 2428, 'alien': 2429, 'scientific': 2430, 'nymex': 2431, 'christine': 2432, 'executives': 2433, 'economist': 2434, 'sofia': 2435, 'mae': 2436, 'lorde': 2437, 'mergers': 2438, 'rachel': 2439, 'francis': 2440, 'october': 2441, 'adp': 2442, 'phil': 2443, 'collins': 2444, 'crimea': 2445, 'seconds': 2446, '3d': 2447, 'hsbc': 2448, 'fedex': 2449, 'ginnifer': 2450, 'goodwin': 2451, 'tina': 2452, 'fey': 2453, 'coldplay': 2454, 'natural': 2455, 'broad': 2456, 'deputy': 2457, '23': 2458, 'jonah': 2459, 'paparazzi': 2460, 'activity': 2461, 'coca': 2462, 'cola': 2463, 'lab': 2464, 'monetary': 2465, 'sports': 2466, 'securities': 2467, 'course': 2468, 'mayor': 2469, 'rr': 2470, 'elon': 2471, 'hewitt': 2472, 'status': 2473, 'stefani': 2474, 'politics': 2475, 'dates': 2476, 'hosts': 2477, 'toward': 2478, 'accepts': 2479, 'teams': 2480, 'expand': 2481, 'lags': 2482, 'account': 2483, 'pilots': 2484, 'rolls': 2485, 'ed': 2486, 'limited': 2487, 'catch': 2488, 'wwe': 2489, 'brady': 2490, 'vegas': 2491, 'hip': 2492, 'walmart': 2493, 'economies': 2494, 'vw': 2495, 'lilly': 2496, 'h': 2497, 'r': 2498, 'cards': 2499, 'wig': 2500, 'silence': 2501, 'gene': 2502, 'within': 2503, 'legacy': 2504, 'favorite': 2505, 'wait': 2506, 'nfl': 2507, 'create': 2508, 'terrible': 2509, 'protection': 2510, 'tracy': 2511, 'spur': 2512, 'pan': 2513, 'lowers': 2514, 'saw': 2515, 'childhood': 2516, 'iliad': 2517, 'challenges': 2518, 'lover': 2519, 'switches': 2520, 'objects': 2521, 'spike': 2522, 'falling': 2523, 'injury': 2524, 'clean': 2525, 'brittany': 2526, 'murphy': 2527, 'cheaper': 2528, 'developers': 2529, 'aging': 2530, 'sarah': 2531, '51': 2532, 'damages': 2533, 'fifth': 2534, 'coffee': 2535, 'heigl': 2536, 'aniston': 2537, 'therapy': 2538, 'bossy': 2539, 'gloom': 2540, 'building': 2541, 'panettiere': 2542, 'portugal': 2543, 'bb': 2544, 'apologises': 2545, 'memorial': 2546, 'cfda': 2547, 'seized': 2548, '28': 2549, 'await': 2550, 'kicks': 2551, 'craig': 2552, 'ferguson': 2553, 'mockingjay': 2554, '78': 2555, 'killer': 2556, 'cancelled': 2557, 'speak': 2558, 'range': 2559, 'winners': 2560, 'clothes': 2561, 'inch': 2562, 'segel': 2563, 'approve': 2564, 'alexander': 2565, 'spill': 2566, 'venice': 2567, 'appeal': 2568, 'weakens': 2569, 'payments': 2570, 'shift': 2571, 'slowing': 2572, 'customer': 2573, 'feed': 2574, 'dresses': 2575, 'banana': 2576, 'forget': 2577, 'lyrics': 2578, 'hurts': 2579, 'toned': 2580, 'karrueche': 2581, 'piketty': 2582, 'front': 2583, 'hundreds': 2584, 'scores': 2585, 'covers': 2586, 'insurance': 2587, 'each': 2588, 'massachusetts': 2589, 'exchange': 2590, 'bny': 2591, 'activist': 2592, 'willow': 2593, 'marquez': 2594, 'prize': 2595, 'grand': 2596, 'blake': 2597, 'compares': 2598, 'pull': 2599, 'merrill': 2600, 'subscription': 2601, 'offering': 2602, 'note': 2603, 'fossil': 2604, 'points': 2605, 'hamptons': 2606, 'fate': 2607, 'sopranos': 2608, 'replace': 2609, 'planning': 2610, 'heading': 2611, 'mine': 2612, 'steals': 2613, 'dad': 2614, 'outflows': 2615, 'singers': 2616, 'macklemore': 2617, 'channel': 2618, 'billy': 2619, 'hyundai': 2620, 'protests': 2621, 'aig': 2622, 'tension': 2623, 'pill': 2624, 'threatens': 2625, 'dre': 2626, 'okcupid': 2627, 'songs': 2628, 'frances': 2629, 'motorola': 2630, 'beverly': 2631, 'morris': 2632, 'clears': 2633, 'awaits': 2634, 'snow': 2635, 'sedans': 2636, 'pratt': 2637, 'electronics': 2638, 'teens': 2639, 'happens': 2640, 'countries': 2641, 'version': 2642, 'targeted': 2643, 'pollution': 2644, 'jill': 2645, 'happiness': 2646, 'draper': 2647, 'expect': 2648, 'acm': 2649, '21': 2650, 'prove': 2651, 'parties': 2652, 'exposure': 2653, 'killing': 2654, 'tragic': 2655, 'spotify': 2656, 'appeals': 2657, 'modern': 2658, 'updates': 2659, 'soy': 2660, 'benefits': 2661, 'chocolate': 2662, 'increased': 2663, 'art': 2664, 'shrink': 2665, 'wto': 2666, 'image': 2667, 'debris': 2668, 'blow': 2669, 'cnbc': 2670, 'analysis': 2671, 'extra': 2672, 'invest': 2673, 'learned': 2674, 'carrying': 2675, 'pm': 2676, 'tears': 2677, 'flying': 2678, 'suing': 2679, 'table': 2680, 'produce': 2681, 'brazil': 2682, 'bosses': 2683, 'taken': 2684, 'lloyds': 2685, 'abrams': 2686, 'nirvana': 2687, 'appear': 2688, 'tablet': 2689, 'walks': 2690, 'pine': 2691, 'dramatic': 2692, 'halts': 2693, 'collapse': 2694, 'beatles': 2695, 'bes': 2696, 'theory': 2697, 'chance': 2698, 'soybean': 2699, 'rumors': 2700, 'fault': 2701, 'reopen': 2702, 'program': 2703, 'carter': 2704, '1000': 2705, 'park': 2706, 'advertising': 2707, 'revamp': 2708, 'spark': 2709, 'greece': 2710, '3rd': 2711, 'recent': 2712, 'blocks': 2713, 'saturn': 2714, 'september': 2715, 'nyt': 2716, 'ray': 2717, 'edwards': 2718, 'proposal': 2719, 'wearing': 2720, 'midnight': 2721, 'worsens': 2722, 'zealand': 2723, 'allure': 2724, 'virtual': 2725, 'kick': 2726, 'exec': 2727, 'faa': 2728, 'lips': 2729, 'refinery': 2730, 'knowles': 2731, 'honor': 2732, 'rainbow': 2733, 'looking': 2734, 'selfies': 2735, 'sawyer': 2736, 'qatar': 2737, 'returning': 2738, 'pulls': 2739, 'flu': 2740, 'designer': 2741, 'consider': 2742, 'dowd': 2743, 'follow': 2744, 'motors': 2745, 'steadies': 2746, 'ancier': 2747, 'fit': 2748, 'rail': 2749, 'terms': 2750, 'indexes': 2751, 'screen': 2752, 'investments': 2753, 'crushes': 2754, 'ago': 2755, 'ceremony': 2756, 'employee': 2757, 'costume': 2758, 'footage': 2759, 'praises': 2760, 'channing': 2761, 'attends': 2762, 'poster': 2763, 'features': 2764, 'lgbt': 2765, 'wayne': 2766, 'feud': 2767, 'probably': 2768, 'dynasty': 2769, 'shocking': 2770, 'enters': 2771, 'seals': 2772, 'eminem': 2773, '57': 2774, 'totally': 2775, 'filled': 2776, 'suspended': 2777, 'whether': 2778, 'pistorius': 2779, 'miscarriage': 2780, 'amanda': 2781, 'newly': 2782, 'few': 2783, 'baker': 2784, 'biotech': 2785, 'ruble': 2786, 'azalea': 2787, 'glory': 2788, 'unexpectedly': 2789, 'mel': 2790, 'main': 2791, 'networks': 2792, 'lockheed': 2793, 'trims': 2794, 'drake': 2795, 'dj': 2796, 'hop': 2797, 'hires': 2798, 'dying': 2799, 'suntrust': 2800, 'explorer': 2801, 'plants': 2802, 'reuters': 2803, 'outkast': 2804, 'mental': 2805, 'restructuring': 2806, 'hate': 2807, 'wu': 2808, 'tang': 2809, 'clan': 2810, 'y': 2811, 'remove': 2812, 'alex': 2813, 'em': 2814, 'racy': 2815, 'zeppelin': 2816, 'robbery': 2817, 'legend': 2818, 'heavy': 2819, 'estranged': 2820, 'grey': 2821, 'jets': 2822, 'holmes': 2823, 'views': 2824, 'gauge': 2825, 'jesus': 2826, 'pushing': 2827, 'hacking': 2828, 'propose': 2829, 'zero': 2830, 'developing': 2831, 'kept': 2832, 'pamela': 2833, 'anderson': 2834, 'ridiculous': 2835, 'phones': 2836, 'rita': 2837, 'ora': 2838, 'jersey': 2839, '31': 2840, 'adele': 2841, 'foot': 2842, 'motor': 2843, 'ground': 2844, 'sisters': 2845, 'maps': 2846, 'nobody': 2847, 'wintour': 2848, 'mcdermott': 2849, 'prison': 2850, 'believe': 2851, 'trails': 2852, 'webb': 2853, 'caterpillar': 2854, 'tea': 2855, 'planting': 2856, 'delays': 2857, 'pinnacle': 2858, 'underground': 2859, 'storm': 2860, 'vodafone': 2861, 'forces': 2862, 'carriers': 2863, 'quits': 2864, 'gov': 2865, 'thor': 2866, 'kissing': 2867, 'exodus': 2868, 'rescuers': 2869, 'adrienne': 2870, 'bailon': 2871, 'responds': 2872, 'ant': 2873, 'angry': 2874, 'hilarious': 2875, 'actions': 2876, 'match': 2877, 'dealers': 2878, 'bogus': 2879, 'bills': 2880, 'otis': 2881, 'fantastic': 2882, 'mansion': 2883, 'justices': 2884, 'leg': 2885, '64': 2886, 'knew': 2887, 'cleavage': 2888, 'detective': 2889, 'valve': 2890, 'cara': 2891, 'rodriguez': 2892, 'romance': 2893, 'stunt': 2894, 'mh17': 2895, 'backlash': 2896, 'boom': 2897, 'cents': 2898, 'deep': 2899, 'anthrax': 2900, 'arizona': 2901, 'bird': 2902, 'bringing': 2903, 'improving': 2904, 'along': 2905, 'ma': 2906, 'comment': 2907, 'andre': 2908, 'penis': 2909, 'ill': 2910, 'beyond': 2911, 'gabriel': 2912, 'commodities': 2913, 'driven': 2914, 'bbc': 2915, 'painkiller': 2916, 'pandora': 2917, 'fewer': 2918, 'enrollment': 2919, 'resumes': 2920, 'ticket': 2921, 'ministers': 2922, 'gorgeous': 2923, 'sheer': 2924, 'bullish': 2925, 'went': 2926, 'lion': 2927, 'virgin': 2928, 'grace': 2929, 'mum': 2930, 'limit': 2931, 'spoiler': 2932, 'justice': 2933, 'snap': 2934, 'watchdog': 2935, 'curbs': 2936, 'danica': 2937, 'steal': 2938, 'helping': 2939, 'nervous': 2940, 'rejects': 2941, 'elec': 2942, 'aaliyah': 2943, 'pitch': 2944, 'display': 2945, 'emotional': 2946, 'arrive': 2947, 'pershing': 2948, 'botox': 2949, 'noto': 2950, 'approved': 2951, 'explodes': 2952, 'upgrade': 2953, 'builds': 2954, 'philip': 2955, '68': 2956, 'revive': 2957, 'estimated': 2958, 'las': 2959, 'minimum': 2960, 'worse': 2961, 'mitsubishi': 2962, 'takata': 2963, 'strahan': 2964, 'brave': 2965, 'firing': 2966, 'acquire': 2967, 'covidien': 2968, 'addresses': 2969, 'vma': 2970, 'mass': 2971, 'frequency': 2972, 'attend': 2973, 'schumacher': 2974, 'closer': 2975, 'william': 2976, 'beloved': 2977, 'activision': 2978, 'drinking': 2979, 'guns': 2980, 'created': 2981, 'modest': 2982, 'claire': 2983, 'count': 2984, 'beer': 2985, 'emmy': 2986, 'officer': 2987, 'adams': 2988, 'volatility': 2989, 'infected': 2990, 'monthly': 2991, 'factbox': 2992, 'inches': 2993, 'strip': 2994, 'structure': 2995, 'prank': 2996, 'minute': 2997, 'organic': 2998, 'adaptation': 2999, 'egypt': 3000, 'cannabis': 3001, 'affect': 3002, 'sleep': 3003, 'outdoor': 3004, 'cabaret': 3005, 'franc': 3006, 'dangerous': 3007, '40': 3008, 'fever': 3009, 'those': 3010, 'twins': 3011, 'artist': 3012, 'kitty': 3013, 'pending': 3014, 'bright': 3015, 'pose': 3016, 'self': 3017, 'allergy': 3018, 'eagle': 3019, 'confused': 3020, 'involved': 3021, 'buoyed': 3022, 'clients': 3023, 'diamond': 3024, 'honours': 3025, 'homes': 3026, 'custody': 3027, 'nose': 3028, 'deficit': 3029, 'oculus': 3030, 'smokers': 3031, 'managers': 3032, 'quentin': 3033, 'tarantino': 3034, 'renewed': 3035, 'dads': 3036, 'neighbours': 3037, 'erste': 3038, 'character': 3039, 'draws': 3040, '5000': 3041, 'decade': 3042, 'worldwide': 3043, 'strips': 3044, 'restrictions': 3045, 'trail': 3046, 'osborne': 3047, 'mega': 3048, 'toby': 3049, 'kebbell': 3050, 'valley': 3051, 'estate': 3052, 'tesco': 3053, 'rupert': 3054, 'taiwan': 3055, 'palladium': 3056, 'mannkind': 3057, 'robust': 3058, 'evidence': 3059, 'rant': 3060, 'tap': 3061, 'mozilla': 3062, '47': 3063, 'damage': 3064, 'anchor': 3065, 'rupee': 3066, 'holcim': 3067, 'lafarge': 3068, '200': 3069, 'twin': 3070, 'consoles': 3071, 'rep': 3072, 'verizon': 3073, 'vergara': 3074, 'person': 3075, 'reverse': 3076, 'tuesday': 3077, 'hollande': 3078, 'acquisitions': 3079, 'saved': 3080, 'swings': 3081, 'richardson': 3082, 'accuser': 3083, 'cargo': 3084, 'cameras': 3085, 'brockie': 3086, 'heroin': 3087, 'overdose': 3088, 'heaven': 3089, 'wash': 3090, 'gordimer': 3091, 'yellow': 3092, 'owner': 3093, 'hole': 3094, 'fly': 3095, 'secrets': 3096, 'solve': 3097, 'harder': 3098, 'label': 3099, 'riot': 3100, 'barbara': 3101, 'walters': 3102, 'manganiello': 3103, 'hospitalised': 3104, 'practices': 3105, 'effect': 3106, 'ivy': 3107, 'ft': 3108, 'sandra': 3109, 'bomb': 3110, 'eva': 3111, '55': 3112, 'winfrey': 3113, 'patents': 3114, 'marketing': 3115, 'includes': 3116, 'confronts': 3117, 'nintendo': 3118, 'hitting': 3119, 'alcoa': 3120, 'screens': 3121, 'senior': 3122, 'shuts': 3123, 'ouster': 3124, 'creates': 3125, 'mary': 3126, 'beard': 3127, 'weird': 3128, 'dinner': 3129, 'markit': 3130, 'television': 3131, 'luxury': 3132, 'midriff': 3133, 'anything': 3134, 'airbus': 3135, 'allows': 3136, 'telecom': 3137, 'apologizes': 3138, '70': 3139, 'lawsuits': 3140, 'blast': 3141, 'horse': 3142, 'kaley': 3143, 'cuoco': 3144, 'topix': 3145, 'duchess': 3146, 'cambridge': 3147, 'halle': 3148, 'clown': 3149, 'tried': 3150, 'hat': 3151, 'faced': 3152, 'astronauts': 3153, 'nancy': 3154, '2000': 3155, 'takeda': 3156, 'dropped': 3157, 'cranston': 3158, 'pillinger': 3159, 'scientist': 3160, 'wisconsin': 3161, 'omnicom': 3162, 'sufferers': 3163, 'partnership': 3164, 'mercedes': 3165, 'beauty': 3166, 'bouygues': 3167, 'kickstarter': 3168, '36': 3169, 'polio': 3170, 'lamar': 3171, 'happened': 3172, 'op': 3173, 'allegations': 3174, 'mayhew': 3175, 'hastings': 3176, 'pledge': 3177, 'chase': 3178, 'upholds': 3179, 'performs': 3180, 'quick': 3181, 'promotes': 3182, 'sold': 3183, 'weibo': 3184, 'struggling': 3185, 'brief': 3186, 'falters': 3187, 'bradley': 3188, 'current': 3189, 'experience': 3190, 'sags': 3191, 'paper': 3192, 'mulls': 3193, 'pet': 3194, 'radio': 3195, 'resigns': 3196, 'merge': 3197, 'babies': 3198, 'easy': 3199, 'academy': 3200, 'pledges': 3201, 'hour': 3202, 'enter': 3203, 'reject': 3204, 'chicago': 3205, 'inc': 3206, 'moving': 3207, 'average': 3208, 'garner': 3209, 'banned': 3210, 'defensive': 3211, 'gasoline': 3212, 'zebra': 3213, 'fonda': 3214, 'player': 3215, 'israel': 3216, 'iran': 3217, 'holiday': 3218, 'planes': 3219, 'stops': 3220, 'solid': 3221, 'finish': 3222, 'beach': 3223, 'plunge': 3224, 'aaa': 3225, 'bursts': 3226, 'katt': 3227, 'try': 3228, 'kimmel': 3229, 'bed': 3230, 'liberia': 3231, 'stream': 3232, 'extortion': 3233, 'plot': 3234, 'horizon': 3235, 'bottom': 3236, 'word': 3237, 'exist': 3238, 'overseas': 3239, 'bankers': 3240, 'ken': 3241, 'wicked': 3242, 'clarifies': 3243, 'beginning': 3244, 'wk': 3245, 'wealth': 3246, 'threatened': 3247, 'eve': 3248, 'starring': 3249, 'replacing': 3250, 'shades': 3251, 'loving': 3252, 'primary': 3253, 'albums': 3254, 'victory': 3255, 'spokesman': 3256, 'telescope': 3257, 'bar': 3258, 'bike': 3259, 'gave': 3260, 'mount': 3261, 'prom': 3262, 'scheme': 3263, 'depot': 3264, 'talking': 3265, 'obese': 3266, 'pro': 3267, 'tips': 3268, 'debuts': 3269, 'culkin': 3270, 'screening': 3271, 'holy': 3272, 'diners': 3273, 'sink': 3274, 'storms': 3275, 'insurers': 3276, 'bite': 3277, 'fuels': 3278, 'calm': 3279, 'michaels': 3280, 'attacked': 3281, 'hugging': 3282, 'cliff': 3283, 'accelerates': 3284, 'replaced': 3285, 'bare': 3286, 'explain': 3287, 'recreational': 3288, 'laws': 3289, 'welcomes': 3290, 'reform': 3291, 'lag': 3292, 'visit': 3293, 'slower': 3294, 'opener': 3295, 'birdman': 3296, 'versace': 3297, 'unilever': 3298, 'mood': 3299, 'tankan': 3300, 'pricing': 3301, 'touch': 3302, 'deposits': 3303, 'sharp': 3304, 'available': 3305, 'miles': 3306, 'rumor': 3307, 'issued': 3308, 'shipping': 3309, 'reckless': 3310, 'prosecutors': 3311, 'doom': 3312, 'expert': 3313, 'q': 3314, 'finding': 3315, 'iwatch': 3316, 'billions': 3317, 'cement': 3318, 'maine': 3319, 'gallon': 3320, 'surprises': 3321, 'enjoys': 3322, 'romantic': 3323, 'hungary': 3324, 'rides': 3325, 'bulgarian': 3326, 'tiger': 3327, 'flags': 3328, 'aka': 3329, 'seas': 3330, 'oecd': 3331, 'corp': 3332, 'listing': 3333, 'mellon': 3334, 'farley': 3335, 'mowat': 3336, '87': 3337, 'iphones': 3338, 'lively': 3339, 'modestly': 3340, 'dinosaur': 3341, 'journey': 3342, 'pat': 3343, 'probing': 3344, 'degrasse': 3345, 'longtime': 3346, 'situation': 3347, 'euros': 3348, 'tough': 3349, 'avert': 3350, 'bailout': 3351, 'morale': 3352, 'dolly': 3353, 'parton': 3354, 'dish': 3355, 'file': 3356, 'trio': 3357, 'rush': 3358, 'recession': 3359, 'pimco': 3360, 'defending': 3361, 'then': 3362, 'owners': 3363, 'mckellar': 3364, 'overhaul': 3365, 'keys': 3366, 'broadband': 3367, 'durable': 3368, 'goods': 3369, 'strength': 3370, 'journal': 3371, 'displays': 3372, 'moments': 3373, 'coleman': 3374, 'disputes': 3375, 'sharing': 3376, 'ciara': 3377, 'treat': 3378, 'chicken': 3379, 'member': 3380, 'appoints': 3381, 'turning': 3382, 'devices': 3383, 'arm': 3384, '280': 3385, 'annual': 3386, 'hasn': 3387, 'medicare': 3388, 'stockpiles': 3389, 'analysts': 3390, 'benzino': 3391, 'nephew': 3392, 'ramp': 3393, '76': 3394, 'geopolitical': 3395, 'equipment': 3396, 'richie': 3397, 'reported': 3398, 'spurs': 3399, 'crazy': 3400, 'victim': 3401, 'wilson': 3402, 'crown': 3403, 'lax': 3404, 'watching': 3405, 'maya': 3406, 'lobster': 3407, 'alice': 3408, 'sky': 3409, 'olsen': 3410, 'jude': 3411, 'diet': 3412, 'penney': 3413, 'analyst': 3414, '93': 3415, 'nations': 3416, 'viral': 3417, '96': 3418, 'meteor': 3419, 'duties': 3420, 'outrage': 3421, 'steinberg': 3422, 'litigation': 3423, 'cautious': 3424, 'mth': 3425, 'chasing': 3426, '42': 3427, 'crumbs': 3428, 'dimon': 3429, 'publisher': 3430, 'also': 3431, 'copaxone': 3432, 'tiny': 3433, 'employment': 3434, 'independent': 3435, 'mr': 3436, 'combs': 3437, 'impress': 3438, 'republican': 3439, 'southern': 3440, 'regulations': 3441, 'lesson': 3442, 'filing': 3443, 'shirt': 3444, 'barnes': 3445, 'noble': 3446, 'rebel': 3447, 'tools': 3448, 'gym': 3449, 'discusses': 3450, 'daimler': 3451, 'chair': 3452, 'question': 3453, 'adobe': 3454, 'horrible': 3455, 'fixed': 3456, 'pounds': 3457, 'always': 3458, 'bondholders': 3459, 'thailand': 3460, 'nashville': 3461, 'engine': 3462, 'bruce': 3463, 'andy': 3464, 'commercial': 3465, 'paying': 3466, 'retailers': 3467, 'pollen': 3468, 'sent': 3469, 'booed': 3470, 'standoff': 3471, 'pals': 3472, 'dragon': 3473, 'considers': 3474, 'send': 3475, 'simple': 3476, 'holding': 3477, 'appearance': 3478, 'ups': 3479, 'awarded': 3480, 'whaling': 3481, 'bodyguard': 3482, 'dreams': 3483, 'awkward': 3484, 'artificial': 3485, 'epidemic': 3486, 'belle': 3487, 'hachette': 3488, 'stalker': 3489, 'trillion': 3490, 'bros': 3491, 'ascending': 3492, 'grant': 3493, 'commission': 3494, 'deliver': 3495, 'robot': 3496, 'driverless': 3497, 'cinco': 3498, 'mayo': 3499, 'community': 3500, 'turned': 3501, 'protein': 3502, 'sachs': 3503, 'grease': 3504, 'unicredit': 3505, 'austria': 3506, '98': 3507, 'rebhorn': 3508, 'knows': 3509, 'crime': 3510, 'brooks': 3511, 'greenhouse': 3512, 'palme': 3513, 'narrows': 3514, '2007': 3515, 'tupac': 3516, 'shakur': 3517, 'recommends': 3518, 'boycott': 3519, 'govt': 3520, '60': 3521, 'blame': 3522, 'dotcom': 3523, 'confirm': 3524, 'repair': 3525, 'empire': 3526, 'silicon': 3527, 'running': 3528, 'grown': 3529, 'nominated': 3530, 'mazursky': 3531, 'vanessa': 3532, 'computer': 3533, 'mayer': 3534, 'factories': 3535, 'treatments': 3536, 'controls': 3537, 'border': 3538, 'editor': 3539, 'learning': 3540, 'cops': 3541, 'significant': 3542, 'skills': 3543, 'please': 3544, 'reading': 3545, 'strange': 3546, 'dinosaurs': 3547, 'antitrust': 3548, 'alongside': 3549, 'planned': 3550, 'mcvie': 3551, 'fleetwood': 3552, 'explosive': 3553, '3000': 3554, 'carry': 3555, 'dismissed': 3556, 'discuss': 3557, 'satellites': 3558, 'adult': 3559, 'passwords': 3560, 'writes': 3561, 'sought': 3562, 'hunger': 3563, 'warned': 3564, 'bash': 3565, 'tickets': 3566, 'venture': 3567, 'bennett': 3568, 'landing': 3569, 'daring': 3570, 'courtney': 3571, 'widow': 3572, 'collection': 3573, 'delevingne': 3574, 'aim': 3575, 'troops': 3576, 'touts': 3577, 'gwar': 3578, 'janet': 3579, 'naomi': 3580, 'gamestop': 3581, 'ten': 3582, 'sfr': 3583, '91': 3584, 'nadine': 3585, 'benchmark': 3586, 'passenger': 3587, 'dakota': 3588, 'widens': 3589, 'obsessed': 3590, 'cross': 3591, 'purchase': 3592, 'cyprus': 3593, 'staff': 3594, 'option': 3595, 'pain': 3596, 'beating': 3597, 'roles': 3598, 'policies': 3599, 'shop': 3600, 'details': 3601, 'bump': 3602, 'apes': 3603, 'rex': 3604, 'bullock': 3605, 'meg': 3606, 'soar': 3607, 'pride': 3608, 'noyer': 3609, 'sharknado': 3610, 'legs': 3611, 'metals': 3612, 'rejected': 3613, 'flaw': 3614, 'glamour': 3615, 'information': 3616, 'indiana': 3617, 'elevator': 3618, 'caused': 3619, 'junk': 3620, 'southeast': 3621, 'playing': 3622, 'print': 3623, 'testing': 3624, 'tiffany': 3625, 'honorary': 3626, 'walter': 3627, 'freeman': 3628, 'accuses': 3629, 'hell': 3630, 'commerce': 3631, '56': 3632, 'philips': 3633, 'decide': 3634, 'nike': 3635, 'makeover': 3636, 'warrior': 3637, 'wows': 3638, 'local': 3639, 'extended': 3640, 'negotiate': 3641, 'standing': 3642, 'crew': 3643, 'employers': 3644, 'rig': 3645, 'failing': 3646, 'alarm': 3647, 'shake': 3648, 'user': 3649, '49': 3650, 'bynes': 3651, 'soul': 3652, 'distant': 3653, 'checks': 3654, 'firth': 3655, 'swap': 3656, 'weed': 3657, 'anxiety': 3658, 'berry': 3659, 'gaps': 3660, 'insane': 3661, 'core': 3662, 'both': 3663, 'anita': 3664, 'asiana': 3665, 'clinton': 3666, 'tool': 3667, 'colfer': 3668, '2008': 3669, 'emissions': 3670, 'forward': 3671, 'wright': 3672, 'damon': 3673, 'slack': 3674, 'prompts': 3675, 'opportunity': 3676, 'knight': 3677, 'seinfeld': 3678, 'soda': 3679, 'purple': 3680, 'vials': 3681, 'postpones': 3682, 'princess': 3683, 'restraining': 3684, 'publicis': 3685, 'hero': 3686, 'feels': 3687, 'fixing': 3688, 'veteran': 3689, 'leaks': 3690, 'jetblue': 3691, 'hunts': 3692, 'muni': 3693, 'everywhere': 3694, 'attempts': 3695, 'took': 3696, 'attempt': 3697, 'am': 3698, 'sings': 3699, 'cargill': 3700, 'sad': 3701, 'addiction': 3702, 'august': 3703, 'eurovision': 3704, 'rental': 3705, 'lew': 3706, 'listen': 3707, 'warm': 3708, 'remaining': 3709, 'concerned': 3710, 'jenna': 3711, 'dewan': 3712, 'holdings': 3713, 'holder': 3714, '2011': 3715, 'genetic': 3716, 'horror': 3717, 'midstream': 3718, 'contact': 3719, 'drunk': 3720, 'paramount': 3721, 'kocherlakota': 3722, 'whitey': 3723, 'bulger': 3724, 'center': 3725, 'worked': 3726, 'cycle': 3727, 'fanning': 3728, 'effective': 3729, 'wary': 3730, 'danielle': 3731, 'sweet': 3732, 'merkel': 3733, 'nikki': 3734, 'leaders': 3735, 'cheapest': 3736, 'abs': 3737, 'boston': 3738, 'battling': 3739, 'cheerleader': 3740, 'van': 3741, 'colorado': 3742, 'hobbit': 3743, 'kit': 3744, 'ingredients': 3745, 'joss': 3746, 'whedon': 3747, 'troubled': 3748, 'shy': 3749, 'weir': 3750, 'culture': 3751, 'chad': 3752, 'leading': 3753, 'predictions': 3754, 'advantage': 3755, 'knot': 3756, 'studies': 3757, 'reverses': 3758, '88': 3759, 'closing': 3760, 'duck': 3761, 'roseland': 3762, 'peers': 3763, 'tested': 3764, 'path': 3765, 'tomlin': 3766, 'styles': 3767, 'jane': 3768, 'tomlinson': 3769, 'criticism': 3770, 'priced': 3771, '30th': 3772, 'worried': 3773, 'aquaman': 3774, 'newspaper': 3775, 'downgrades': 3776, 'macfarlane': 3777, 'vaccine': 3778, 'sitcom': 3779, 'headed': 3780, 'maybe': 3781, 'flames': 3782, 'bag': 3783, 'anthony': 3784, 'disick': 3785, 'osbourne': 3786, 'inspiration': 3787, 'related': 3788, 'fathers': 3789, 'nj': 3790, '110': 3791, 'quiet': 3792, 'bergdahl': 3793, 'rumoured': 3794, 'lavrov': 3795, 'throw': 3796, 'garden': 3797, 'dismisses': 3798, 'probed': 3799, 'multiple': 3800, 'baseball': 3801, 'disorder': 3802, 'printed': 3803, '37': 3804, 'diversity': 3805, 'chikungunya': 3806, 'farewell': 3807, 'cryptic': 3808, 'als': 3809, 'smashes': 3810, 'loach': 3811, 'stark': 3812, 'extreme': 3813, 'dodge': 3814, 'development': 3815, 'mosquitoes': 3816, 'danny': 3817, 'shocked': 3818, 'kindred': 3819, 'gentiva': 3820, 'gupta': 3821, 'hendricks': 3822, 'lo': 3823, 'fifty': 3824, 'alabama': 3825, 'dimmed': 3826, 'honour': 3827, 'dreyfus': 3828, '2016': 3829, 'serves': 3830, 'field': 3831, 'glittering': 3832, 'flagship': 3833, 'macaulay': 3834, 'numericable': 3835, 'clips': 3836, 'introduces': 3837, 'quest': 3838, 'jem': 3839, 'holograms': 3840, 'lithuania': 3841, 'adopt': 3842, 'georgina': 3843, 'haig': 3844, 'mulberry': 3845, 'guillon': 3846, 'sweeney': 3847, 'vacation': 3848, 'heights': 3849, '50th': 3850, 'gear': 3851, 'lessons': 3852, 'draft': 3853, 'tones': 3854, 'hedwig': 3855, 'duet': 3856, 'w': 3857, 'alleges': 3858, 'dutch': 3859, 'sudeikis': 3860, 'restart': 3861, 'breakthrough': 3862, 'cyclicals': 3863, 'ash': 3864, 'travolta': 3865, 'faux': 3866, 'pas': 3867, 'dolce': 3868, 'evasion': 3869, 'catches': 3870, 'iceland': 3871, 'aviation': 3872, 'goal': 3873, 'operating': 3874, 'stooges': 3875, 'jokes': 3876, 'hawkish': 3877, 'follows': 3878, 'wanna': 3879, 'cheese': 3880, 'chiquita': 3881, 'fyffes': 3882, 'plead': 3883, 'summit': 3884, 'prepare': 3885, 'gigs': 3886, 'scope': 3887, 'dances': 3888, 'finalists': 3889, 'tencent': 3890, 'monitor': 3891, 'clear': 3892, 'grandfather': 3893, 'clock': 3894, 'suspected': 3895, 'treats': 3896, 'considering': 3897, 'lenders': 3898, 'thrilled': 3899, 'sara': 3900, 'gilbert': 3901, 'linda': 3902, 'anemic': 3903, 'chugs': 3904, 'prepared': 3905, 'impacts': 3906, 'university': 3907, 'inequality': 3908, '92': 3909, 'approach': 3910, 'garcia': 3911, 'nobel': 3912, 'ipads': 3913, 'claiming': 3914, 'putting': 3915, 'rba': 3916, 'rio': 3917, 'anglo': 3918, 'mortgages': 3919, 'toy': 3920, 'hortons': 3921, 'defaults': 3922, 'chemical': 3923, 'molner': 3924, 'intimate': 3925, 'kind': 3926, 'rocks': 3927, 'semi': 3928, 'cutting': 3929, '7th': 3930, 'canceled': 3931, 'craft': 3932, 'diary': 3933, 'alaska': 3934, 'bobby': 3935, 'womack': 3936, 'xscape': 3937, 'adidas': 3938, 'oz': 3939, 'returned': 3940, 'compliance': 3941, 'religious': 3942, 'seacrest': 3943, 'waters': 3944, 'aol': 3945, '300': 3946, 'powered': 3947, 'retiring': 3948, 'margins': 3949, 'shrinks': 3950, 'toxic': 3951, 'singing': 3952, 'airliner': 3953, 'joel': 3954, 'memorable': 3955, 'lufthansa': 3956, 'scraps': 3957, 'lucky': 3958, 'maintains': 3959, 'clause': 3960, 'rhode': 3961, 'doubt': 3962, 'chip': 3963, '4000': 3964, 'banker': 3965, 'adding': 3966, 'revival': 3967, 'efforts': 3968, 'periphery': 3969, 'gisele': 3970, 'lauer': 3971, 'splits': 3972, 'angers': 3973, 'tank': 3974, 'kroger': 3975, 'vitacost': 3976, 'releasing': 3977, 'sticks': 3978, 'houston': 3979, 'celebrating': 3980, 'verdict': 3981, 'bridesmaid': 3982, 'operators': 3983, 'projected': 3984, 'emc': 3985, 'touches': 3986, 'fincher': 3987, 'lately': 3988, 'forbes': 3989, 'outing': 3990, 'downtown': 3991, 'lack': 3992, 'shane': 3993, 'recordings': 3994, 'ransom': 3995, 'friendly': 3996, 'gotham': 3997, 'swedish': 3998, 'devastating': 3999, 'zuckerberg': 4000, 'iranian': 4001, 'incredibles': 4002, 'missed': 4003, 'severe': 4004, 'angelou': 4005, 'drawn': 4006, 'shakespeare': 4007, 'housekeeper': 4008, 'places': 4009, 'franchise': 4010, 'landed': 4011, 'failed': 4012, 'jc': 4013, 'duty': 4014, 'large': 4015, 'cat': 4016, 'tree': 4017, 'kid': 4018, 'holt': 4019, 'shops': 4020, 'texting': 4021, 'heathers': 4022, 'dives': 4023, 'brunei': 4024, 'easier': 4025, 'zillow': 4026, 'coveted': 4027, '2006': 4028, 'god': 4029, 'stalls': 4030, 'decades': 4031, 'inquiry': 4032, 'puff': 4033, 'bidding': 4034, 'icon': 4035, 'tokyo': 4036, 'spots': 4037, 'bat': 4038, 'nokia': 4039, 'tepid': 4040, 'joined': 4041, 'hanks': 4042, 'hologram': 4043, 'paypal': 4044, 'spreading': 4045, 'iron': 4046, 'disputed': 4047, 'nook': 4048, 'vix': 4049, 'aside': 4050, 'popular': 4051, 'holdouts': 4052, 'publicly': 4053, 'dear': 4054, 'announced': 4055, 'checking': 4056, 'boots': 4057, 'saves': 4058, 'publicist': 4059, 'promo': 4060, 'lng': 4061, 'throws': 4062, 'sperm': 4063, 'reynolds': 4064, 'rap': 4065, 'pataky': 4066, 'lachey': 4067, 'secures': 4068, 'channels': 4069, 'entertainer': 4070, 'hello': 4071, 'landmark': 4072, 'asteroid': 4073, 'jj': 4074, 'newest': 4075, 'suits': 4076, 'nighter': 4077, 'willis': 4078, 'revealing': 4079, 'blown': 4080, 'contender': 4081, 'hammer': 4082, 'eclipse': 4083, 'sight': 4084, 'lg': 4085, 'arguments': 4086, 'roche': 4087, 'waste': 4088, 'telefonica': 4089, 'clip': 4090, 'chaos': 4091, 'antarctic': 4092, 'dina': 4093, 'pleading': 4094, 'accidentally': 4095, 'buoyant': 4096, 'knox': 4097, 'closely': 4098, 'authors': 4099, 'airbnb': 4100, 'jeep': 4101, 'theme': 4102, 'came': 4103, 'savage': 4104, 'clearing': 4105, 'fill': 4106, 'kendra': 4107, 'payout': 4108, 'mothers': 4109, 'wallach': 4110, 'calling': 4111, 'exactly': 4112, 'twist': 4113, 'squeeze': 4114, 'drinks': 4115, 'groceries': 4116, 'spinoff': 4117, '97': 4118, 'thriller': 4119, 'minidress': 4120, 'department': 4121, 'cosmos': 4122, 'hovers': 4123, 'spent': 4124, 'sultry': 4125, 'rider': 4126, 'producers': 4127, 'ministry': 4128, 'erases': 4129, 'barrie': 4130, 'ranbaxy': 4131, 'downing': 4132, 'shakira': 4133, 'bears': 4134, 'shell': 4135, 'charlize': 4136, 'theron': 4137, 'became': 4138, 'eastern': 4139, 'costco': 4140, 'hostile': 4141, 'planets': 4142, 'bull': 4143, 'grint': 4144, '787': 4145, 'dreamliner': 4146, 'peak': 4147, 'astronomers': 4148, 'sized': 4149, 'turmoil': 4150, 'inhaled': 4151, 'nato': 4152, 'apart': 4153, '43': 4154, 'cheer': 4155, 'guard': 4156, 'secretary': 4157, 'tightening': 4158, 'kurdish': 4159, 'uncertainty': 4160, 'reserves': 4161, 'buyers': 4162, 'startup': 4163, 'levar': 4164, 'burton': 4165, 'lynn': 4166, 'alliance': 4167, 'silent': 4168, 'greater': 4169, 'singpost': 4170, 'dozens': 4171, 'artworks': 4172, 'discovery': 4173, 'lure': 4174, 'excited': 4175, 'crashed': 4176, 'shareholder': 4177, 'enlists': 4178, 'photographer': 4179, 'flow': 4180, 'turkish': 4181, 'preparing': 4182, 'risky': 4183, 'flood': 4184, 'octopus': 4185, 'unchanged': 4186, 'ruffalo': 4187, 'symantec': 4188, '89': 4189, 'acquires': 4190, 'pact': 4191, 'apparently': 4192, 'revolution': 4193, 'alamo': 4194, 'pokerstars': 4195, 'loyal': 4196, 'beyoncã': 4197, 'twc': 4198, 'campbell': 4199, 'flows': 4200, 'comedian': 4201, 'anne': 4202, 'premiums': 4203, 'paisley': 4204, 'winds': 4205, 'slowest': 4206, 'lanes': 4207, 'declares': 4208, 'fish': 4209, 'success': 4210, 'generation': 4211, 'slapped': 4212, 'stealing': 4213, 'unhappy': 4214, 'wearhouse': 4215, 'jos': 4216, 'committee': 4217, 'amidst': 4218, 'ii': 4219, 'dressing': 4220, 'royal': 4221, 'reacts': 4222, 'ryanair': 4223, 'condensate': 4224, 'ninja': 4225, 'turtles': 4226, 'tapering': 4227, 'slur': 4228, 'dioxide': 4229, 'orbit': 4230, 'urged': 4231, 'adjusted': 4232, 'unlikely': 4233, 'skid': 4234, 'bars': 4235, 'nominations': 4236, 'united': 4237, 'technologies': 4238, 'helicopter': 4239, 'volumes': 4240, 'edie': 4241, 'brickell': 4242, 'domestic': 4243, 'maternity': 4244, 'restores': 4245, 'savings': 4246, 'glimpse': 4247, 'feb': 4248, 'mix': 4249, 'remake': 4250, 'started': 4251, 'matter': 4252, 'brought': 4253, 'universal': 4254, 'gone': 4255, 'dame': 4256, 'lions': 4257, '370': 4258, 'transit': 4259, 'mta': 4260, 'tequila': 4261, 'content': 4262, 'divided': 4263, 'biblical': 4264, 'backed': 4265, 'predicts': 4266, 'soccer': 4267, 'settings': 4268, 'retreats': 4269, 'designed': 4270, 'devastated': 4271, 'myers': 4272, 'seafood': 4273, 'sleeping': 4274, 'rowe': 4275, 'shifts': 4276, 'fiancée': 4277, 'cities': 4278, 'lunar': 4279, 'tomorrow': 4280, 'flashback': 4281, 'attention': 4282, 'attacking': 4283, 'hank': 4284, 'methane': 4285, 'showing': 4286, 'avoided': 4287, 'idr': 4288, 'rangers': 4289, 'amgen': 4290, 'listings': 4291, 'boosted': 4292, 'pushed': 4293, 'processed': 4294, 'added': 4295, 'freeze': 4296, 'scotty': 4297, 'mccreery': 4298, 'classic': 4299, 'posting': 4300, 'muse': 4301, 'grab': 4302, 'gender': 4303, 'stability': 4304, 'studio': 4305, 'refused': 4306, 'dealtalk': 4307, 'defence': 4308, '101': 4309, 'male': 4310, 'sharply': 4311, 'hillary': 4312, 'dudley': 4313, 'stall': 4314, 'voted': 4315, 'keen': 4316, 'promises': 4317, 'edgar': 4318, 'sentenced': 4319, 'allowed': 4320, 'bis': 4321, 'rethink': 4322, 'stg': 4323, 'alive': 4324, 'chai': 4325, 'smallpox': 4326, 'revised': 4327, 'larry': 4328, 'lashes': 4329, 'insulin': 4330, 'harm': 4331, 'magical': 4332, 'poison': 4333, 'throat': 4334, 'unitedhealth': 4335, 'fee': 4336, 'alternative': 4337, 'uses': 4338, 'mexican': 4339, 'invite': 4340, 'swing': 4341, 'brawl': 4342, 'tablets': 4343, 'email': 4344, 'irs': 4345, 'premium': 4346, 'leftovers': 4347, 'nudge': 4348, 'cracks': 4349, 'jailed': 4350, 'thank': 4351, 'delta': 4352, 'ladies': 4353, 'airshow': 4354, 'hiring': 4355, 'smartphones': 4356, 'heat': 4357, 'inner': 4358, 'saft': 4359, 'autos': 4360, 'villain': 4361, 'blooded': 4362, 'avengers': 4363, 'leno': 4364, 'forever': 4365, '20000': 4366, 'updated': 4367, 'weekahead': 4368, 'peltz': 4369, 'gustin': 4370, 'ancient': 4371, 'mcconaughey': 4372, 'disaster': 4373, 'meryl': 4374, 'ricci': 4375, 'akb48': 4376, 'treated': 4377, 'mya': 4378, 'button': 4379, 'creating': 4380, 'proud': 4381, 'fools': 4382, 'willing': 4383, 'lovers': 4384, 'juniper': 4385, 'chapter': 4386, 'cook': 4387, 'southwest': 4388, 'apache': 4389, 'prankster': 4390, 'town': 4391, 'lionel': 4392, 'portfolio': 4393, 'aids': 4394, 'mclarty': 4395, 'seventh': 4396, 'flaming': 4397, 'nsfw': 4398, 'fighter': 4399, 'cholesterol': 4400, 'polluted': 4401, 'swimming': 4402, 'affair': 4403, 'bra': 4404, 'stand': 4405, 'benefit': 4406, 'calista': 4407, 'flockhart': 4408, 'epic': 4409, 'attendant': 4410, 'soil': 4411, 'election': 4412, 'location': 4413, 'poor': 4414, 'buyout': 4415, 'trebek': 4416, 'several': 4417, 'dab': 4418, 'malcolm': 4419, 'rover': 4420, 'sanofi': 4421, 'worsen': 4422, 'faith': 4423, 'mario': 4424, 'brighten': 4425, 'warnings': 4426, 'harington': 4427, 'similar': 4428, 'authority': 4429, 'mourn': 4430, '114': 4431, 'odds': 4432, 'royce': 4433, 'lenovo': 4434, 'barely': 4435, 'science': 4436, 'ties': 4437, 'scary': 4438, 'pursuing': 4439, 'guardianship': 4440, 'preparations': 4441, 'saga': 4442, 'dedicates': 4443, 'import': 4444, 'borrowing': 4445, 'trouble': 4446, 'theatre': 4447, 'broadcast': 4448, 'ended': 4449, 'fischer': 4450, 'vice': 4451, 'bound': 4452, 'stroke': 4453, 'disappoint': 4454, 'spacecraft': 4455, 'critic': 4456, 'ally': 4457, 'broader': 4458, '120': 4459, 'carrier': 4460, 'stairway': 4461, 'hikes': 4462, 'themed': 4463, 'holdout': 4464, 'collaboration': 4465, 'cervical': 4466, 'orbital': 4467, 'reboot': 4468, '108': 4469, 'wikipedia': 4470, 'swipe': 4471, 'dementia': 4472, 'lucas': 4473, 'master': 4474, 'remarks': 4475, 'ripples': 4476, 'outfits': 4477, 'angus': 4478, 'barack': 4479, 'constancio': 4480, 'nowotny': 4481, 'cells': 4482, 'pins': 4483, 'lines': 4484, 'illness': 4485, 'odom': 4486, 'senator': 4487, 'collide': 4488, 'slowdown': 4489, 'remembers': 4490, 'dilemma': 4491, 'spacey': 4492, 'intellectual': 4493, 'lazaretto': 4494, 'documentary': 4495, 'discover': 4496, 'nsa': 4497, 'charter': 4498, 'groups': 4499, 'honey': 4500, 'exxon': 4501, '83': 4502, '69': 4503, 'flick': 4504, 'gsk': 4505, 'cruze': 4506, 'fiscal': 4507, 'complaints': 4508, 'connor': 4509, 'drilling': 4510, 'ethan': 4511, 'hawke': 4512, 'stands': 4513, 'adjust': 4514, 'alli': 4515, 'tampering': 4516, 'hawaii': 4517, 'moonlight': 4518, 'novatek': 4519, '5th': 4520, 'okay': 4521, 'frank': 4522, 'redskins': 4523, 'counter': 4524, 'beastie': 4525, 'con': 4526, 'asked': 4527, 'inflows': 4528, 'nightmare': 4529, 'messages': 4530, 'handling': 4531, 'drought': 4532, 'parrot': 4533, 'iwata': 4534, 'overheats': 4535, 'weakness': 4536, 'volume': 4537, 'goddard': 4538, 'momoa': 4539, 'packed': 4540, 'decreased': 4541, 'flowers': 4542, 'cocaine': 4543, 'oks': 4544, 'corporation': 4545, 'wiz': 4546, 'khalifa': 4547, 'bowe': 4548, 'discussion': 4549, 'centre': 4550, 'unknown': 4551, 'surprised': 4552, 'windows': 4553, 'beware': 4554, 'trademark': 4555, 'passover': 4556, 'foundation': 4557, 'wide': 4558, 'sarepta': 4559, 'muscle': 4560, 'romania': 4561, 'communications': 4562, 'mocks': 4563, 'blamed': 4564, 'recover': 4565, '111': 4566, 'fines': 4567, 'client': 4568, 'ticks': 4569, 'anyone': 4570, 'uterine': 4571, 'annie': 4572, 'cee': 4573, 'brains': 4574, 'hacker': 4575, '60000': 4576, 'transplant': 4577, 'kepler': 4578, 'attached': 4579, 'nearby': 4580, 'beau': 4581, 'paetz': 4582, 'dove': 4583, 'metro': 4584, 'duane': 4585, 'reade': 4586, 'numbers': 4587, 'chooses': 4588, 'joseph': 4589, 'balance': 4590, 'bounce': 4591, 'investigates': 4592, 'silver': 4593, 'telecoms': 4594, 'affirmed': 4595, 'chains': 4596, 'secretly': 4597, 'bundesbank': 4598, 'heroes': 4599, 'powdered': 4600, 'meaningful': 4601, 'difference': 4602, 'establishment': 4603, 'upton': 4604, 'christians': 4605, 'bible': 4606, '2017': 4607, 'pelvic': 4608, 'icy': 4609, 'threats': 4610, 'sandisk': 4611, 'fusion': 4612, 'io': 4613, 'bruno': 4614, 'triples': 4615, 'poll': 4616, 'sardinia': 4617, 'mustang': 4618, 'crafts': 4619, 'lackluster': 4620, 'hijacked': 4621, 'meat': 4622, 'usher': 4623, 's5': 4624, 'corey': 4625, 'hey': 4626, 'sound': 4627, 'abercrombie': 4628, 'calorie': 4629, 'minnesota': 4630, 'muted': 4631, 'realistic': 4632, 'el': 4633, 'oilfield': 4634, 'traced': 4635, 'keaton': 4636, 'fin': 4637, 'min': 4638, 'ragu': 4639, 'buddies': 4640, 'gabbana': 4641, 'drummer': 4642, 'asheton': 4643, 'ism': 4644, 'ample': 4645, 'rankings': 4646, 'mountain': 4647, 'lawyers': 4648, 'footsteps': 4649, 'removing': 4650, 'slashed': 4651, 'defects': 4652, 'sits': 4653, 'allegiant': 4654, 'extant': 4655, 'reprise': 4656, 'o2': 4657, 'widen': 4658, 'tummy': 4659, 'texts': 4660, 'happen': 4661, 'wealthy': 4662, 'denial': 4663, 'lay': 4664, 'orbiting': 4665, 'singapore': 4666, 'monitored': 4667, 'limiting': 4668, 'viacom': 4669, 'eat': 4670, 'arthur': 4671, 'prays': 4672, 'outsider': 4673, 'infamous': 4674, 'initial': 4675, 'mumps': 4676, 'kakao': 4677, 'daum': 4678, 'dropping': 4679, 'meester': 4680, 'enjoy': 4681, 'paragliding': 4682, 'utah': 4683, 'mess': 4684, 'printing': 4685, 'flops': 4686, 'advises': 4687, 'requests': 4688, 'pursues': 4689, 'bum': 4690, 'unveiled': 4691, 'tinder': 4692, 'widened': 4693, 'embarks': 4694, 'wheel': 4695, 'fortune': 4696, 'dmv': 4697, 'kardashians': 4698, 'glaxo': 4699, 'sorrentino': 4700, 'gigolo': 4701, 'elisabeth': 4702, 'moss': 4703, 'broadly': 4704, 'pare': 4705, 'successfully': 4706, 'salesforce': 4707, 'gamble': 4708, 'floor': 4709, 'knocks': 4710, 'mobileye': 4711, 'bumper': 4712, 'square': 4713, 'nestle': 4714, 'connick': 4715, 'suffers': 4716, 'zaki': 4717, 'gp': 4718, 'mentor': 4719, 'spree': 4720, 'rehearsal': 4721, 'experiencing': 4722, 'harley': 4723, 'briefly': 4724, 'gere': 4725, 'warren': 4726, 'bridge': 4727, 'smallest': 4728, 'capex': 4729, 'clarkson': 4730, 'clint': 4731, 'eastwood': 4732, 'vision': 4733, 'moonie': 4734, 'replica': 4735, 'error': 4736, 'majority': 4737, '650': 4738, 'nudity': 4739, 'renesas': 4740, 'task': 4741, 'zynga': 4742, 'lures': 4743, 'historical': 4744, 'staying': 4745, 'setting': 4746, 'awful': 4747, 'matches': 4748, 'unheard': 4749, 'punished': 4750, 'bezos': 4751, 'whitney': 4752, 'goals': 4753, '218000': 4754, 'shanghai': 4755, 'urgent': 4756, 'glencore': 4757, 'progresses': 4758, 'elusive': 4759, 'lancer': 4760, 'passes': 4761, 'foxx': 4762, 'hook': 4763, 'creepy': 4764, 'undervalued': 4765, 'drugmaker': 4766, 'equity': 4767, 'adults': 4768, 'fruit': 4769, 'pilgrim': 4770, 'stuff': 4771, 'denzel': 4772, 'champion': 4773, 'grabs': 4774, 'petsmart': 4775, 'painful': 4776, 'stung': 4777, 'liars': 4778, 'string': 4779, 'detained': 4780, 'malfunction': 4781, 'astra': 4782, 'grilling': 4783, 'summons': 4784, 'thigh': 4785, 'insists': 4786, 'receipts': 4787, 'schedules': 4788, 'poet': 4789, 'apologizing': 4790, 'biodelivery': 4791, 'endo': 4792, 'darden': 4793, '59': 4794, 'offered': 4795, 'rip': 4796, 'shepard': 4797, 'elton': 4798, '80': 4799, 'effort': 4800, 'afraid': 4801, 'originals': 4802, 'striped': 4803, 'frock': 4804, 'bskyb': 4805, 'lone': 4806, 'siblings': 4807, 'iraqi': 4808, 'nab': 4809, 'awareness': 4810, 'damp': 4811, 'imminent': 4812, 'chevron': 4813, 'trulia': 4814, 'gurlitt': 4815, 'cupcake': 4816, 'comics': 4817, 'century': 4818, 'hurdles': 4819, 'hardware': 4820, 'labour': 4821, 'pauses': 4822, 'rescue': 4823, 'happily': 4824, 'megaupload': 4825, 'couldn': 4826, 'truecar': 4827, 'shopping': 4828, 'n': 4829, 'truck': 4830, 'advanced': 4831, 'sacked': 4832, 'dupont': 4833, 'industrial': 4834, 'matching': 4835, '1990s': 4836, 'opera': 4837, 'rear': 4838, 'computing': 4839, 'satisfy': 4840, 'liza': 4841, 'minnelli': 4842, 'dvd': 4843, 'copy': 4844, 'msnbc': 4845, 'huntsman': 4846, 'autonomy': 4847, 'describes': 4848, 'nationwide': 4849, 'powerful': 4850, 'premature': 4851, 'bullying': 4852, 'cure': 4853, 'volkswagen': 4854, 'reserve': 4855, 'opposed': 4856, 'painting': 4857, 'racism': 4858, 'computers': 4859, 'vulnerable': 4860, 'talent': 4861, 'rubik': 4862, 'mendes': 4863, 'fleet': 4864, 'inspections': 4865, 'foxcatcher': 4866, 'portrait': 4867, 'smartwatch': 4868, 'yacht': 4869, 'whilst': 4870, 'piece': 4871, 'knocked': 4872, 'dragons': 4873, 'mersch': 4874, 'likeness': 4875, 'snub': 4876, 'harvard': 4877, '179': 4878, 'taxpayers': 4879, 'norway': 4880, 'cadillac': 4881, 'ditched': 4882, 'itself': 4883, 'wet': 4884, 'confirming': 4885, 'slam': 4886, 'kpn': 4887, 'conditions': 4888, 'harassment': 4889, 'begged': 4890, 'solarcity': 4891, 'yukos': 4892, 'bey': 4893, 'dreadful': 4894, 'convicted': 4895, 'carat': 4896, 'disclosure': 4897, 'ball': 4898, 'hess': 4899, 'marathon': 4900, 'foothold': 4901, 'bidders': 4902, 'dan': 4903, 'reactions': 4904, 'watched': 4905, 'proposing': 4906, 'units': 4907, 'removed': 4908, 'emoji': 4909, 'alfa': 4910, 'accept': 4911, 'leak': 4912, 'wilkinson': 4913, 'brushes': 4914, 'clone': 4915, 'appears': 4916, 'boring': 4917, 'trim': 4918, 'crystal': 4919, 'homeland': 4920, '65': 4921, 'martha': 4922, 'rumored': 4923, 'gareth': 4924, 'intensifies': 4925, 'dublin': 4926, 'forms': 4927, 'finalise': 4928, 'sort': 4929, 'waits': 4930, 'feet': 4931, 'deliveries': 4932, 'randall': 4933, 'miller': 4934, 'indicted': 4935, 'punching': 4936, 'neill': 4937, 'kristeen': 4938, 'conan': 4939, 'cinema': 4940, 'friendship': 4941, 'tick': 4942, 'drivers': 4943, 'stick': 4944, 'idris': 4945, 'elba': 4946, 'winston': 4947, 'accounts': 4948, 'favors': 4949, 'crops': 4950, 'disappointing': 4951, 'spectacular': 4952, 'bracelet': 4953, 'dwarf': 4954, 'christie': 4955, 'advisers': 4956, 'pursue': 4957, 'ankle': 4958, 'unleashes': 4959, 'emily': 4960, 'cnn': 4961, 'lyondellbasell': 4962, 'infidelity': 4963, 'misguided': 4964, 'guitarist': 4965, 'batmobile': 4966, 'bandmates': 4967, 'wrap': 4968, 'tear': 4969, 'clinic': 4970, 'improves': 4971, 'info': 4972, 'wages': 4973, 'warhol': 4974, 'floppy': 4975, 'disks': 4976, 'guests': 4977, 'cbank': 4978, 'numsa': 4979, 'chat': 4980, 'remember': 4981, 'gates': 4982, 'heartbreaking': 4983, 'mile': 4984, 'survivors': 4985, 'noriega': 4986, 'outlines': 4987, 'bunny': 4988, 'pin': 4989, 'mideast': 4990, 'frieze': 4991, 'dive': 4992, 'tower': 4993, 'festivals': 4994, 'divorced': 4995, 'priceline': 4996, 'opentable': 4997, '150': 4998, 'pc': 4999, 'monolith': 5000, 'striking': 5001, 'titan': 5002, 'aerospace': 5003, 'advise': 5004, 'infective': 5005, 'amaya': 5006, 'fought': 5007, 'shine': 5008, 'emmys': 5009, 'bubbles': 5010, 'zip': 5011, 'travelers': 5012, 'grinds': 5013, 'tiaa': 5014, 'cref': 5015, 'nuveen': 5016, 'felony': 5017, 'audiences': 5018, 'shortage': 5019, 'onscreen': 5020, 'maserati': 5021, 'rwe': 5022, 'afterparty': 5023, 'harvest': 5024, 'depressed': 5025, 'type': 5026, 'dots': 5027, 'sending': 5028, 'included': 5029, 'pricey': 5030, 'bush': 5031, 'fiancã': 5032, 'introduce': 5033, 'charging': 5034, 'unite': 5035, 'expanding': 5036, 'whiting': 5037, 'spilled': 5038, 'ripped': 5039, 'conflict': 5040, 'casting': 5041, 'christopher': 5042, 'pussy': 5043, 'breakers': 5044, 'syndrome': 5045, 'damps': 5046, 'conducting': 5047, '84': 5048, 'writer': 5049, 'prescription': 5050, 'monopoly': 5051, 'bisexual': 5052, 'mastectomies': 5053, 'te': 5054, 'connectivity': 5055, 'sensor': 5056, 'signers': 5057, 'shield': 5058, 'performers': 5059, 'happening': 5060, 'krispy': 5061, 'kreme': 5062, 'testifies': 5063, 'touching': 5064, 'mugshots': 5065, 'macquarie': 5066, 'johannes': 5067, 'package': 5068, 'presses': 5069, '46': 5070, 'defies': 5071, 'wielding': 5072, 'riding': 5073, 'military': 5074, 'familiar': 5075, 'paedophile': 5076, 'reese': 5077, 'witherspoon': 5078, 'threaten': 5079, 'compete': 5080, 'usual': 5081, 'basks': 5082, 'followed': 5083, 'ratio': 5084, 'jungle': 5085, 'rocky': 5086, 'advert': 5087, 'pooch': 5088, 'antarctica': 5089, 'gorman': 5090, 'nest': 5091, 'wounded': 5092, 'israeli': 5093, 'curry': 5094, 'scouts': 5095, 'autonation': 5096, 'exits': 5097, 'ashley': 5098, 'busts': 5099, 'binoche': 5100, 'ageing': 5101, 'motherhood': 5102, 'contracts': 5103, 'fy': 5104, 'flooding': 5105, 'frequent': 5106, 'sounds': 5107, 'paradis': 5108, 'elegant': 5109, 'shaquille': 5110, 'neal': 5111, 'lisa': 5112, 'marie': 5113, 'sikorsky': 5114, 'historic': 5115, 'neeson': 5116, 'exhibition': 5117, 'tjx': 5118, 'unusual': 5119, '74': 5120, 'football': 5121, 'struck': 5122, 'predict': 5123, 'privileged': 5124, 'complain': 5125, 'knock': 5126, 'gaming': 5127, 'jared': 5128, 'pobre': 5129, 'controllers': 5130, 'surprisingly': 5131, 'sustain': 5132, 'healthier': 5133, 'jewelry': 5134, 'submit': 5135, 'bankrupt': 5136, 'ultimate': 5137, 'engineering': 5138, 'garment': 5139, 'devoted': 5140, 'delivers': 5141, 'surfaces': 5142, 'wahlberg': 5143, 'translate': 5144, 'inducted': 5145, 'conduct': 5146, 'reunites': 5147, 'headlights': 5148, 'proxy': 5149, 'spying': 5150, 'hudson': 5151, 'stumbles': 5152, 'drillers': 5153, 'saving': 5154, 'zara': 5155, 'reset': 5156, 'payouts': 5157, 'gunpoint': 5158, 'invasion': 5159, 'pg': 5160, 'shared': 5161, 'ensemble': 5162, 'appetite': 5163, 'representative': 5164, 'homophobic': 5165, 'reforms': 5166, 'paddington': 5167, 'samuel': 5168, 'coulier': 5169, 'honoured': 5170, 'spy': 5171, 'nurses': 5172, 'ebbs': 5173, 'dismiss': 5174, 'colon': 5175, 'posse': 5176, 'elliot': 5177, 'truth': 5178, 'burrito': 5179, 'excessive': 5180, 'pattern': 5181, 'applications': 5182, 'avoids': 5183, 'repo': 5184, 'susan': 5185, 'unprecedented': 5186, 'harsh': 5187, 'crossover': 5188, 'feared': 5189, 'messaging': 5190, 'clash': 5191, 'thefts': 5192, 'henry': 5193, 'cavill': 5194, 'glow': 5195, 'hubble': 5196, 'stricken': 5197, 'pole': 5198, 'assigns': 5199, 'eczema': 5200, 'defeat': 5201, 'burberry': 5202, 'caleb': 5203, 'cody': 5204, 'tale': 5205, 'toilet': 5206, 'airplane': 5207, 'vmware': 5208, 'nhtsa': 5209, 'literally': 5210, 'dealer': 5211, 'viewing': 5212, 'lend': 5213, 'avoiding': 5214, 'earns': 5215, 'censorship': 5216, 'nas': 5217, 'pares': 5218, '1950s': 5219, 'alec': 5220, 'confident': 5221, 'request': 5222, 'angara': 5223, 'robbed': 5224, 'barbra': 5225, 'streisand': 5226, 'raytheon': 5227, 'fence': 5228, 'lululemon': 5229, 'upset': 5230, 'doubts': 5231, 'rout': 5232, 'falcon': 5233, 'baptist': 5234, 'unacceptable': 5235, 'trimmed': 5236, 'getty': 5237, 'uptick': 5238, 'attenborough': 5239, 'sia': 5240, 'misconduct': 5241, 'address': 5242, 'cooperation': 5243, 'bundchen': 5244, 'laid': 5245, 'mayweather': 5246, 'salute': 5247, 'raccoon': 5248, 'ear': 5249, 'potato': 5250, 'salad': 5251, 'approaches': 5252, 'carlyle': 5253, 'alone': 5254, 'pulling': 5255, 'portrayal': 5256, 'remote': 5257, 'hears': 5258, 'conviction': 5259, 'ballet': 5260, 'isaac': 5261, 'kathleen': 5262, 'sebelius': 5263, 'finger': 5264, 'newborn': 5265, 'motorcycling': 5266, 'candidate': 5267, 'derrickson': 5268, 'lip': 5269, 'expensive': 5270, 'annex': 5271, 'league': 5272, 'students': 5273, 'burial': 5274, 'allison': 5275, 'cellphone': 5276, 'investigated': 5277, 'bubble': 5278, 'teenagers': 5279, 'conchita': 5280, 'wurst': 5281, 'bought': 5282, 'boyfriends': 5283, 'fastest': 5284, 'veterans': 5285, 'deceptive': 5286, 'incentives': 5287, 'sugar': 5288, 'army': 5289, 'al': 5290, 'themselves': 5291, 'leader': 5292, 'finland': 5293, 'keri': 5294, 'jessie': 5295, 'qualcomm': 5296, 'philadelphia': 5297, 'wale': 5298, '66': 5299, 'underwear': 5300, 'shrugs': 5301, '100000': 5302, 'suvs': 5303, 'brody': 5304, 'announcing': 5305, 'sbarro': 5306, 'audience': 5307, 'maksim': 5308, 'invade': 5309, 'bombshell': 5310, 'permits': 5311, 'pioneer': 5312, 'tracks': 5313, 'renewal': 5314, 'nigeria': 5315, 'chemicals': 5316, 'adopted': 5317, 'trek': 5318, 'lenses': 5319, 'outrageous': 5320, 'react': 5321, 'mcchrystal': 5322, '28th': 5323, 'closed': 5324, 'baldwin': 5325, 'negotiations': 5326, 'hk': 5327, 'sneak': 5328, 'peek': 5329, 'bulls': 5330, 'benz': 5331, 'bangladesh': 5332, 'proof': 5333, 'projects': 5334, 'declared': 5335, 'recoups': 5336, 'recognize': 5337, 'transforms': 5338, 'vaccines': 5339, 'easyjet': 5340, 'iss': 5341, 'arcade': 5342, 'continued': 5343, 'directing': 5344, 'echoes': 5345, 'betrayed': 5346, 'etihad': 5347, 'relatively': 5348, 'universe': 5349, 'beaches': 5350, 'cups': 5351, 'november': 5352, 'lace': 5353, 'armstrong': 5354, 'species': 5355, 'suffer': 5356, 'horrific': 5357, 'crazed': 5358, 'actos': 5359, 'fields': 5360, 'missile': 5361, 'feast': 5362, 'declining': 5363, 'vehicle': 5364, 'venue': 5365, 'code': 5366, 'directors': 5367, 'ing': 5368, 'hogs': 5369, 'fabulous': 5370, 'ok': 5371, 'celebs': 5372, 'puppy': 5373, '113': 5374, 'galavis': 5375, 'english': 5376, 'mentally': 5377, 'flawed': 5378, 'donations': 5379, 'nz': 5380, 'exotic': 5381, 'animals': 5382, 'remembering': 5383, 'explore': 5384, 'firming': 5385, 'strait': 5386, 'bloody': 5387, 'triumphs': 5388, 'surface': 5389, 'reed': 5390, 'derriere': 5391, 'accelerate': 5392, 'bureau': 5393, 'bridal': 5394, 'breakfast': 5395, 'surgical': 5396, 'desperate': 5397, 'pharmacies': 5398, 'mcadams': 5399, '99': 5400, 'barbie': 5401, 'meltdown': 5402, 'kills': 5403, 'stockpiling': 5404, 'halston': 5405, 'sage': 5406, 'contain': 5407, 'firmer': 5408, 'anger': 5409, 'walgreen': 5410, 'yours': 5411, 'heels': 5412, 'francisco': 5413, 'jam': 5414, 'brunch': 5415, 'worry': 5416, '72': 5417, 'lineup': 5418, '1999': 5419, 'denim': 5420, 'jacket': 5421, 'pops': 5422, 'nickelodeon': 5423, 'combat': 5424, 'product': 5425, 'loved': 5426, 'outfit': 5427, 'veep': 5428, 'ballroom': 5429, 'supplier': 5430, '2001': 5431, 'speeds': 5432, 'enterprise': 5433, 'brooklyn': 5434, 'stokes': 5435, 'smiling': 5436, 'shipments': 5437, 'chops': 5438, 'revenues': 5439, 'overdraft': 5440, 'guarantees': 5441, 'bolster': 5442, 'download': 5443, 'pono': 5444, 'transparency': 5445, 'drunken': 5446, 'shoes': 5447, 'haters': 5448, 'crushed': 5449, 'millennium': 5450, 'vivendi': 5451, 'expires': 5452, 'atk': 5453, 'provision': 5454, 'valuations': 5455, 'reasonable': 5456, 'researcher': 5457, 'rather': 5458, 'transmission': 5459, 'metal': 5460, 'portuguese': 5461, 'zombie': 5462, 'rescued': 5463, 'whatever': 5464, 'trucks': 5465, 'anytime': 5466, 'nominee': 5467, 'connelly': 5468, 'rejection': 5469, 'jennette': 5470, 'mccurdy': 5471, 'heartfelt': 5472, 'patricia': 5473, 'errors': 5474, 'flurry': 5475, 'luxottica': 5476, 'dot': 5477, '200000': 5478, 'espirito': 5479, 'santo': 5480, 'broke': 5481, 'unsettled': 5482, 'ingredient': 5483, 'carphone': 5484, 'dixons': 5485, 'oversight': 5486, 'immediate': 5487, 'corporations': 5488, 'departs': 5489, 'casual': 5490, 'soundtrack': 5491, 'jewish': 5492, 'correct': 5493, 'declined': 5494, 'grads': 5495, 'escapes': 5496, 'jk': 5497, 'cream': 5498, 'cpi': 5499, 'else': 5500, 'powers': 5501, 'offsets': 5502, 'hear': 5503, 'breakup': 5504, 'dempsey': 5505, 'robertson': 5506, 'measure': 5507, 'waves': 5508, 'tramples': 5509, 'olympic': 5510, 'ferrell': 5511, 'regrets': 5512, 'minds': 5513, 'honeymoon': 5514, 'medicine': 5515, 'accuse': 5516, 'wang': 5517, 'marion': 5518, 'cotillard': 5519, 'western': 5520, 'frontman': 5521, 'inaction': 5522, 'solo': 5523, 'cancelcolbert': 5524, 'focuses': 5525, 'disruption': 5526, 'utilities': 5527, 'clever': 5528, 'biotechs': 5529, 'getaway': 5530, 'bounces': 5531, 'bombs': 5532, 'hearts': 5533, 'skip': 5534, 'exelon': 5535, 'pepco': 5536, 'idea': 5537, 'coolest': 5538, 'wilmer': 5539, 'valderrama': 5540, 'buyback': 5541, 'someone': 5542, 'paulson': 5543, 'salary': 5544, 'airplanes': 5545, 'prevention': 5546, 'nation': 5547, 'position': 5548, 'nadella': 5549, 'quinta': 5550, 'solutions': 5551, 'businesses': 5552, 'quality': 5553, 'supposedly': 5554, '777x': 5555, 'born': 5556, 'orleans': 5557, 'disturbing': 5558, 'dose': 5559, 'disrupts': 5560, 'curve': 5561, 'gowex': 5562, 'younger': 5563, 'pick': 5564, 'jim': 5565, 'sandberg': 5566, 'greenpeace': 5567, 'arctic': 5568, 'weidmann': 5569, 'mint': 5570, 'emails': 5571, 'garcía': 5572, 'márquez': 5573, 'seem': 5574, 'honest': 5575, 'signed': 5576, 'maureen': 5577, '80s': 5578, 'lindt': 5579, 'slot': 5580, 'stover': 5581, 'wine': 5582, 'myself': 5583, 'bally': 5584, 'seventeen': 5585, 'tweeting': 5586, 'nyse': 5587, 'acquisition': 5588, 'intelligence': 5589, 'anatomy': 5590, 'retire': 5591, 'bruised': 5592, 'evolution': 5593, 'erykah': 5594, 'badu': 5595, 'interactive': 5596, 'circus': 5597, 'eliza': 5598, 'dushku': 5599, 'regional': 5600, 'strongly': 5601, 'bald': 5602, 'undercover': 5603, 'congressional': 5604, 'hertz': 5605, 'ditch': 5606, 'documents': 5607, 'partner': 5608, 'bitcoins': 5609, 'suspend': 5610, 'whatsapp': 5611, 'carrie': 5612, 'looser': 5613, 'wholesale': 5614, 'armies': 5615, 'pens': 5616, 'roundup': 5617, 'interim': 5618, 'license': 5619, 'levi': 5620, 'athlete': 5621, 'shore': 5622, 'lens': 5623, 'hidden': 5624, 'saying': 5625, 'earthquakes': 5626, 'prostate': 5627, 'operations': 5628, 'wishes': 5629, 'glastonbury': 5630, 'horn': 5631, 'witness': 5632, 'headgear': 5633, 'blocked': 5634, 'wheelchair': 5635, 'offshore': 5636, 'lombardi': 5637, 'stunned': 5638, 'jesse': 5639, 'violent': 5640, 'programming': 5641, 'melanoma': 5642, 'delhi': 5643, 'brokers': 5644, 'exceeds': 5645, 'strategic': 5646, 'chewbacca': 5647, 'dirty': 5648, 'cowell': 5649, 'greatest': 5650, 'crucifixion': 5651, 'kron': 5652, 'hkma': 5653, 'scared': 5654, 'lka': 5655, 'thirty': 5656, 'timelines': 5657, 'spiritual': 5658, 'owns': 5659, 'roughly': 5660, 'wraps': 5661, 'bodes': 5662, 'slept': 5663, 'separation': 5664, 'legally': 5665, 'floral': 5666, 'trials': 5667, 'raiffeisen': 5668, 'int': 5669, 'roots': 5670, 'flagging': 5671, 'donald': 5672, 'rubin': 5673, 'sobriety': 5674, 'axes': 5675, 'mama': 5676, 'leigh': 5677, 'tutorial': 5678, 'basically': 5679, 'flop': 5680, 'snooping': 5681, 'assaults': 5682, 'misled': 5683, 'loch': 5684, 'ness': 5685, 'fibroid': 5686, 'undetected': 5687, 'wise': 5688, 'dornan': 5689, 'speaking': 5690, 'languages': 5691, 'genius': 5692, 'taught': 5693, 'sexism': 5694, 'patches': 5695, 'chases': 5696, 'elope': 5697, 'conversion': 5698, 'saint': 5699, 'graft': 5700, 'bribery': 5701, 'sheet': 5702, 'hurdle': 5703, 'bittersweet': 5704, 'heavier': 5705, 'costner': 5706, 'pyramid': 5707, 'ranks': 5708, 'teleconf': 5709, '00': 5710, 'bst': 5711, 'breaker': 5712, '1m': 5713, 'penguin': 5714, 'subscriptions': 5715, 'stallone': 5716, '90s': 5717, 'movil': 5718, 'ignores': 5719, 'rosemary': 5720, 'restore': 5721, 'bones': 5722, 'muchmusic': 5723, '34': 5724, 'arrival': 5725, 'countdown': 5726, 'grounded': 5727, 'pickups': 5728, 'ian': 5729, 'ziering': 5730, 'torture': 5731, 'unfollowed': 5732, 'enroll': 5733, 'expresses': 5734, 'controlled': 5735, 'publishes': 5736, 'snake': 5737, 'enemy': 5738, 'blimey': 5739, 'superhero': 5740, 'sweater': 5741, 'gift': 5742, 'jena': 5743, 'irene': 5744, 'impresses': 5745, 'judges': 5746, 'elvis': 5747, 'infections': 5748, 'yale': 5749, 'stoll': 5750, 'leap': 5751, 'imply': 5752, 'transfer': 5753, 'nightclub': 5754, 'invades': 5755, 'legalized': 5756, 'toni': 5757, 'gop': 5758, 'suggestion': 5759, 'donahoe': 5760, 'thaw': 5761, 'tripoli': 5762, 'aboard': 5763, 'equitable': 5764, 'reilly': 5765, 'slimfast': 5766, 'dazeem': 5767, 'busted': 5768, 'imposes': 5769, 'eruption': 5770, 'fallen': 5771, 'wallows': 5772, 'cater': 5773, 'prosecutor': 5774, 'correction': 5775, 'fertility': 5776, 'calif': 5777, 'trips': 5778, 'memory': 5779, 'nigerian': 5780, 'meddling': 5781, 'annoying': 5782, 'chastain': 5783, 'sovereign': 5784, 'flip': 5785, 'clouds': 5786, 'cottage': 5787, 'mishap': 5788, 'backtracks': 5789, 'maersk': 5790, 'claimed': 5791, 'strain': 5792, 'wolverine': 5793, 'hedging': 5794, 'ton': 5795, 'gore': 5796, 'motiviation': 5797, 'families': 5798, 'lauds': 5799, 'observatory': 5800, 'asml': 5801, 'resilient': 5802, 'blackshades': 5803, 'malicious': 5804, 'ticking': 5805, 'keeping': 5806, 'furry': 5807, 'mask': 5808, 'flappy': 5809, 'wesfarmers': 5810, 'broking': 5811, 'shakeup': 5812, 'revamps': 5813, '6m': 5814, 'marshall': 5815, 'rbnz': 5816, 'butts': 5817, 'pinterest': 5818, 'tweeted': 5819, 'coin': 5820, 'dealings': 5821, 'christ': 5822, '63': 5823, 'seoul': 5824, 'iranians': 5825, 'elliott': 5826, 'deleting': 5827, 'alcatel': 5828, 'lucent': 5829, 'immigrants': 5830, 'iac': 5831, 'bg': 5832, 'puzzle': 5833, 'prevents': 5834, 'murdering': 5835, 'asteroids': 5836, 'lottery': 5837, 'pursuit': 5838, 'immunotherapy': 5839, 'tanning': 5840, 'salon': 5841, 'athens': 5842, 'bakken': 5843, 'pacemaker': 5844, '254': 5845, 'recording': 5846, 'docks': 5847, 'salmon': 5848, 'wonderful': 5849, 'bullied': 5850, 'survival': 5851, 'sneakers': 5852, 'legends': 5853, 'emerald': 5854, 'ergen': 5855, 'madison': 5856, 'gmail': 5857, 'scripts': 5858, 'sequels': 5859, 'wanting': 5860, '14th': 5861, 'sabotage': 5862, 'served': 5863, 'invitation': 5864, 'brace': 5865, 'tunnel': 5866, 'travellers': 5867, 'weighed': 5868, 'padma': 5869, 'lakshmi': 5870, 'encryption': 5871, '95': 5872, 'brighter': 5873, 'violated': 5874, 'cradles': 5875, 'fade': 5876, 'supportive': 5877, 'skype': 5878, 'learn': 5879, 'language': 5880, 'strict': 5881, 'ono': 5882, 'celgene': 5883, 'psoriatic': 5884, 'arthritis': 5885, 'radar': 5886, 'wings': 5887, '4g': 5888, 'regeneron': 5889, 'hiding': 5890, 'wearable': 5891, 'pension': 5892, 'oppose': 5893, 'resentment': 5894, 'ballas': 5895, 'moto': 5896, 'supporting': 5897, 'switzerland': 5898, 'explosion': 5899, 'clinch': 5900, 'officers': 5901, 'functioning': 5902, '85': 5903, 'buybacks': 5904, 'ikea': 5905, 'natco': 5906, 'oakley': 5907, 'wearables': 5908, 'nominees': 5909, 'sedan': 5910, 'quietly': 5911, 'suburb': 5912, 'holidays': 5913, 'equalizer': 5914, 'predator': 5915, 'toya': 5916, 'announcement': 5917, 'cries': 5918, 'scrap': 5919, 'lyme': 5920, 'resume': 5921, 'joker': 5922, 'shelves': 5923, 'photoshop': 5924, 'heightened': 5925, 'customs': 5926, 'wardrobe': 5927, 'patch': 5928, 'removes': 5929, 'slit': 5930, 'timeframe': 5931, 'administration': 5932, 'importance': 5933, 'burgers': 5934, 'bay': 5935, '86': 5936, 'shames': 5937, 'fury': 5938, '450th': 5939, 'flesh': 5940, 'played': 5941, 'missouri': 5942, 'deutschland': 5943, 'swoons': 5944, 'sneaks': 5945, 'kfc': 5946, 'antonoff': 5947, 'upgrades': 5948, 'labs': 5949, 'binge': 5950, 'efficient': 5951, 'sodas': 5952, 'hobart': 5953, 'alter': 5954, 'surfboard': 5955, 'hobie': 5956, 'hough': 5957, 'fifi': 5958, 'technical': 5959, 'disneyland': 5960, 'thrills': 5961, 'stargazers': 5962, 'kurdistan': 5963, 'bearish': 5964, 'gilts': 5965, 'ramped': 5966, 'clues': 5967, 'nazi': 5968, 'looted': 5969, 'salmonella': 5970, 'certain': 5971, 'suddenly': 5972, 'cushing': 5973, 'archie': 5974, 'meant': 5975, 'inspirational': 5976, '20th': 5977, 'bettany': 5978, 'strongest': 5979, 'peabody': 5980, 'shelf': 5981, 'prefers': 5982, 'im': 5983, 'overhauls': 5984, 'finalizing': 5985, 'enviable': 5986, 'wildlife': 5987, 'onto': 5988, 'crowd': 5989, 'sites': 5990, 'extension': 5991, 'deposit': 5992, 'stainless': 5993, 'forming': 5994, 'buyer': 5995, 'dumping': 5996, 'justify': 5997, 'subsidy': 5998, 'incoming': 5999, 'renault': 6000, 'melting': 6001, '560': 6002, 'wonders': 6003, 'forgiven': 6004, '300k': 6005, 'protesting': 6006, 'portions': 6007, 'bowl': 6008, 'aided': 6009, 'cultural': 6010, 'dengue': 6011, 'genetically': 6012, 'brian': 6013, 'videos': 6014, 'poop': 6015, 'beige': 6016, 'institute': 6017, 'bargain': 6018, 'hardcore': 6019, 'capitalists': 6020, 'quickens': 6021, 'rings': 6022, 'tapped': 6023, 'charming': 6024, 'instructions': 6025, 'pulp': 6026, 'fiction': 6027, 'ep': 6028, 'coup': 6029, 'durata': 6030, 'nia': 6031, 'vardalos': 6032, 'chips': 6033, 'doodle': 6034, 'revived': 6035, 'grounds': 6036, 'serkis': 6037, 'stresses': 6038, 'lucy': 6039, 'sotheby': 6040, 'shoppers': 6041, '230': 6042, 'wore': 6043, 'ragweed': 6044, 'peg': 6045, 'spend': 6046, 'webcam': 6047, 'frat': 6048, 'primed': 6049, 'deletes': 6050, 'reap': 6051, 'reward': 6052, '467': 6053, 'mull': 6054, 'conagra': 6055, 'tele2': 6056, 'teliasonera': 6057, 'singtel': 6058, 'edgy': 6059, 'frankel': 6060, 'jake': 6061, 'grants': 6062, 'example': 6063, 'condescending': 6064, 'coldwater': 6065, 'creek': 6066, 'manipulation': 6067, 'cabbies': 6068, 'religion': 6069, 'stripped': 6070, 'destroys': 6071, 'licence': 6072, 'remainder': 6073, 'pancreas': 6074, 'whoopi': 6075, 'goldberg': 6076, 'fluid': 6077, 'ios': 6078, 'teach': 6079, 'tricks': 6080, 'spotlight': 6081, 'acne': 6082, 'definition': 6083, 'identify': 6084, 'cancerous': 6085, 'unsung': 6086, 'valuing': 6087, 'molestation': 6088, 'vaping': 6089, 'mechanical': 6090, 'hopeful': 6091, 'parade': 6092, 'rutler': 6093, 'boc': 6094, 'raping': 6095, 'gawker': 6096, 'owned': 6097, 'hateful': 6098, 'compromise': 6099, 'math': 6100, 'orphan': 6101, 'thoughts': 6102, 'dodgers': 6103, 'mocked': 6104, 'teases': 6105, 'egg': 6106, 'mysterious': 6107, 'rewrite': 6108, 'aired': 6109, 'pucker': 6110, 'contamination': 6111, 'prolific': 6112, 'opportunities': 6113, 'eyewear': 6114, 'limes': 6115, 'doj': 6116, 'aiding': 6117, 'wand': 6118, 'dash': 6119, 'hybrids': 6120, 'conquer': 6121, 'concerts': 6122, 'licensing': 6123, 'resistance': 6124, 'chick': 6125, 'likes': 6126, 'blond': 6127, 'steven': 6128, 'spielberg': 6129, 'kicillof': 6130, 'doting': 6131, 'liu': 6132, 'governance': 6133, 'plosser': 6134, 'pilgrims': 6135, 'branson': 6136, 'sultan': 6137, 'determine': 6138, 'ancestors': 6139, 'dealerships': 6140, 'cafe': 6141, 'rounds': 6142, 'steak': 6143, 'avocados': 6144, 'hoped': 6145, 'refunds': 6146, 'detect': 6147, 'vindication': 6148, 'anxieties': 6149, 'milhiser': 6150, 'favour': 6151, 'atop': 6152, 'rejecting': 6153, 'golf': 6154, 'fi': 6155, 'startups': 6156, 'happier': 6157, 'revellers': 6158, 'abandoned': 6159, 'unless': 6160, 'stabilises': 6161, 'girlfriends': 6162, 'supermoon': 6163, 'reclaims': 6164, 'bleeding': 6165, 'fesival': 6166, 'troop': 6167, 'withdrawal': 6168, 'excess': 6169, 'filed': 6170, 'financials': 6171, 'letts': 6172, 'termination': 6173, 'benzene': 6174, 'spikes': 6175, 'eventual': 6176, 'smarter': 6177, 'piers': 6178, 'cp': 6179, 'hatred': 6180, 'farmers': 6181, 'privilege': 6182, 'zack': 6183, 'snyder': 6184, 'semitic': 6185, 'strangers': 6186, 'shrank': 6187, 'violate': 6188, 'amiga': 6189, 'dlr': 6190, 'defective': 6191, 'shortages': 6192, 'hinder': 6193, 'freebies': 6194, 'peaks': 6195, 'blu': 6196, 'promotion': 6197, 'reverting': 6198, 'tmz': 6199, 'tweetdeck': 6200, 'corps': 6201, 'richest': 6202, 'refrains': 6203, 'signaling': 6204, 'blouse': 6205, 'pencil': 6206, 'useless': 6207, 'questioned': 6208, 'increasing': 6209, 'waterloo': 6210, 'superbug': 6211, 'instant': 6212, 'wire': 6213, 'grins': 6214, 'lasers': 6215, 'yeager': 6216, 'bettie': 6217, 'distinguish': 6218, 'steinbeck': 6219, 'sub': 6220, 'rooms': 6221, '473': 6222, 'taper': 6223, 'grammy': 6224, 'handset': 6225, 'subsidies': 6226, 'dominate': 6227, 'arms': 6228, 'deciding': 6229, 'fairness': 6230, 'hottest': 6231, 'priciest': 6232, 'kitchens': 6233, 'bow': 6234, 'wrote': 6235, 'either': 6236, 'bautista': 6237, 'dwts': 6238, 'tariffs': 6239, 'mccarthyâ': 6240, 'tammyâ': 6241, 'filling': 6242, 'donate': 6243, 'vast': 6244, 'invites': 6245, 'scout': 6246, 'stroll': 6247, 'fitness': 6248, 'shippers': 6249, 'efficacy': 6250, 'slumping': 6251, 'dust': 6252, 'kiev': 6253, 'bigfoot': 6254, 'wolves': 6255, 'creatures': 6256, 'delivery': 6257, 'mastectomy': 6258, 'lining': 6259, 'booking': 6260, 'identified': 6261, 'shale': 6262, 'shifting': 6263, 'jerry': 6264, 'upgraded': 6265, 'hathaway': 6266, 'separated': 6267, 'mash': 6268, 'gleeson': 6269, 'industries': 6270, 'ire': 6271, 'beverage': 6272, 'agbank': 6273, 'december': 6274, '100k': 6275, 'silverman': 6276, 'pen': 6277, 'microbeads': 6278, 'millionaire': 6279, 'lied': 6280, 'gross': 6281, 'pipe': 6282, 'tow': 6283, 'infringement': 6284, 'partied': 6285, 'coeure': 6286, 'separates': 6287, 'rand': 6288, 'cosmic': 6289, 'barrels': 6290, 'tee': 6291, 'notice': 6292, 'contained': 6293, 'shipwreck': 6294, 'binding': 6295, 'geneva': 6296, 'mutant': 6297, 'scottish': 6298, 'dares': 6299, 'austin': 6300, 'meds': 6301, 'movement': 6302, 'sept': 6303, 'urinate': 6304, 'mintz': 6305, 'plasse': 6306, 'glaad': 6307, 'sinister': 6308, 'vary': 6309, 'widely': 6310, 'newcomers': 6311, 'nwa': 6312, 'syphilis': 6313, 'postponed': 6314, 'worrying': 6315, 'roth': 6316, 'votes': 6317, 'goonies': 6318, 'donner': 6319, 'tame': 6320, 'telling': 6321, 'elsewhere': 6322, 'tentative': 6323, 'pirate': 6324, 'huebl': 6325, 'sweeping': 6326, 'linn': 6327, 'devon': 6328, 'renews': 6329, 'micros': 6330, 'dedicated': 6331, 'nominating': 6332, 'livid': 6333, 'ccc': 6334, 'inevitable': 6335, 'cleared': 6336, 'independence': 6337, 'based': 6338, 'downfall': 6339, '118': 6340, 'skipping': 6341, 'ramps': 6342, 'princesses': 6343, 'hercules': 6344, 'dwayne': 6345, 'vegan': 6346, 'mobility': 6347, 'escape': 6348, 'locations': 6349, 'coy': 6350, 'satire': 6351, 'campaigns': 6352, 'cannot': 6353, 'tycoon': 6354, 'popularity': 6355, 'map': 6356, 'plastic': 6357, 'mercury': 6358, 'upheld': 6359, 'donation': 6360, 'treads': 6361, 'aaron': 6362, 'ag': 6363, 'gate': 6364, 'fugitive': 6365, 'immelt': 6366, 'energetic': 6367, 'youth': 6368, 'fare': 6369, 'tila': 6370, 'outstanding': 6371, 'kayne': 6372, 'gifts': 6373, 'footing': 6374, 'soaring': 6375, 'polish': 6376, 'sinking': 6377, 'reuniting': 6378, 'et': 6379, 'atari': 6380, 'landfill': 6381, 'uberx': 6382, 'daughters': 6383, 'transitions': 6384, 'fgic': 6385, 'previous': 6386, 'medicaid': 6387, '7b': 6388, 'propelling': 6389, 'linger': 6390, 'pile': 6391, 'publication': 6392, 'björk': 6393, 'ntsb': 6394, 'saucer': 6395, 'decisive': 6396, 'fades': 6397, 'pills': 6398, 'hr': 6399, 'giger': 6400, 'paddy': 6401, 'gaining': 6402, 'filan': 6403, 'thornton': 6404, 'cassette': 6405, 'develops': 6406, 'tapes': 6407, 'element': 6408, '117': 6409, 'symptoms': 6410, 'cox': 6411, 'stella': 6412, 'kodiak': 6413, 'journalist': 6414, 'recounts': 6415, 'infectious': 6416, 'den': 6417, 'beckel': 6418, 'facial': 6419, 'racial': 6420, 'beijing': 6421, 'curbing': 6422, 'beneath': 6423, 'skull': 6424, 'criminals': 6425, 'challenging': 6426, 'seems': 6427, 'trace': 6428, 'adkins': 6429, 'whimsical': 6430, 'intervene': 6431, 'dirtiest': 6432, 'foggy': 6433, 'apologies': 6434, 'leniency': 6435, 'mulally': 6436, 'brien': 6437, 'kleiner': 6438, 'grew': 6439, 'snb': 6440, 'entertainment': 6441, 'withdraws': 6442, 'gather': 6443, 'cochran': 6444, 'longoria': 6445, 'demure': 6446, 'safran': 6447, 'refining': 6448, 'zoe': 6449, 'saldana': 6450, 'truce': 6451, 'brandy': 6452, 'ships': 6453, 'directed': 6454, 'confusion': 6455, 'deepens': 6456, 'oligopoly': 6457, 'marlboro': 6458, 'cosies': 6459, 'credible': 6460, '2900': 6461, 'destination': 6462, 'length': 6463, 'cutout': 6464, 'lightly': 6465, 'exposes': 6466, 'plenty': 6467, 'concentration': 6468, 'camp': 6469, 'uniform': 6470, 'gnip': 6471, 'gal': 6472, 'obstruction': 6473, 'natgas': 6474, 'load': 6475, 'acquiring': 6476, 'unequal': 6477, 'comfort': 6478, 'aus': 6479, 'senators': 6480, '911': 6481, 'newlywed': 6482, 'embarrassed': 6483, 'performed': 6484, 'persisting': 6485, 'fiber': 6486, 'captured': 6487, 'curly': 6488, 'remarkable': 6489, 'cite': 6490, 'newark': 6491, 'altered': 6492, 'collision': 6493, 'stole': 6494, 'melt': 6495, 'stakes': 6496, 'raging': 6497, 'outfitters': 6498, 'stabilizes': 6499, 'gang': 6500, 'gma': 6501, 'donovan': 6502, 'leitch': 6503, 'dashes': 6504, 'stitches': 6505, 'restrained': 6506, 'additions': 6507, 'rough': 6508, 'pressures': 6509, 'inventory': 6510, 'widest': 6511, 'lapses': 6512, 'adecco': 6513, 'locks': 6514, 'volatile': 6515, 'sovaldi': 6516, 'tackles': 6517, 'bowie': 6518, 'sarandon': 6519, 'looked': 6520, 'mugshot': 6521, 'mizkan': 6522, 'bindi': 6523, 'artwork': 6524, 'polar': 6525, 'boosting': 6526, 'cited': 6527, 'definitely': 6528, 'peripheral': 6529, 'gus': 6530, 'wachowski': 6531, 'trumps': 6532, 'expletive': 6533, 'richer': 6534, 'adviser': 6535, 'speleers': 6536, 'ditches': 6537, 'diddy': 6538, 'northern': 6539, 'blind': 6540, 'greedy': 6541, 'writebol': 6542, 'missionary': 6543, 'phoenix': 6544, 'feds': 6545, 'stopped': 6546, 'lender': 6547, 'er': 6548, 'possibility': 6549, '450': 6550, 'pornographic': 6551, 'fernandez': 6552, 'washing': 6553, 'michel': 6554, 'soviet': 6555, 'sluggish': 6556, 'hoax': 6557, 'brags': 6558, 'prefer': 6559, 'stomach': 6560, 'microbes': 6561, 'cocoa': 6562, 'leverage': 6563, 'principal': 6564, 'supermarket': 6565, 'emotion': 6566, 'beagle': 6567, 'protects': 6568, 'presented': 6569, 'kramer': 6570, 'integrys': 6571, 'autopsy': 6572, 'ignore': 6573, 'surrender': 6574, 'reunited': 6575, 'blythe': 6576, 'danner': 6577, 'justina': 6578, 'pelletier': 6579, 'triggered': 6580, 'bust': 6581, 'exchanges': 6582, 'westboro': 6583, 'visa': 6584, 'transaction': 6585, 'founders': 6586, 'lovin': 6587, 'wheelan': 6588, 'doors': 6589, 'corrects': 6590, 'tail': 6591, 'grass': 6592, 'profitable': 6593, 'parole': 6594, 'afrezza': 6595, 'unintended': 6596, 'biden': 6597, 'manipulative': 6598, 'attended': 6599, 'templeton': 6600, 'chilling': 6601, 'counting': 6602, 'barring': 6603, 'cow': 6604, 'siberia': 6605, 'concludes': 6606, 'buried': 6607, 'ward': 6608, 'cavanagh': 6609, 'owe': 6610, 'panic': 6611, 'props': 6612, 'retaliation': 6613, 'evacuated': 6614, 'blunder': 6615, 'damaged': 6616, 'reeva': 6617, 'csuisse': 6618, 'materially': 6619, 'untoward': 6620, 'shrinking': 6621, 'cattle': 6622, 'mickelson': 6623, 'sisterly': 6624, 'roils': 6625, 'ruscak': 6626, 'raunchy': 6627, 'unsafe': 6628, 'marketwired': 6629, 'weale': 6630, 'loyalty': 6631, '320': 6632, 'peters': 6633, 'linkedin': 6634, 'covering': 6635, 'marking': 6636, 'donnie': 6637, 'dai': 6638, 'ichi': 6639, 'protective': 6640, 'bristol': 6641, 'cures': 6642, 'suggest': 6643, 'fob': 6644, 'iii': 6645, '30000': 6646, 'cramming': 6647, 'tread': 6648, 'blushing': 6649, 'reassures': 6650, 'quarterback': 6651, 'kaepernick': 6652, 'lunches': 6653, 'behemoth': 6654, 'overshadow': 6655, 'entry': 6656, 'opinion': 6657, 'fdr': 6658, 'complex': 6659, 'sally': 6660, 'sth': 6661, 'freaks': 6662, 'burglary': 6663, 'nup': 6664, 'complacent': 6665, 'grandmother': 6666, 'fooled': 6667, 'coke': 6668, 'values': 6669, '44': 6670, 'vanquishes': 6671, 'russians': 6672, 'telus': 6673, 'entwistle': 6674, 'brightly': 6675, 'connected': 6676, '15th': 6677, 'monkey': 6678, 'headset': 6679, 'commuter': 6680, 'respectfully': 6681, 'improvement': 6682, 'knowingly': 6683, 'volcano': 6684, 'chemistry': 6685, 'se': 6686, 'aust': 6687, 'nonfarm': 6688, 'cohen': 6689, 'altuzarra': 6690, 'prepayment': 6691, 'delphi': 6692, 'cctv': 6693, 'clarify': 6694, '33': 6695, 'tarullo': 6696, 'victor': 6697, 'chmerkovskiy': 6698, 'whale': 6699, 'discounts': 6700, 'mchale': 6701, 'dairy': 6702, 'influential': 6703, 'diem': 6704, 'rouhani': 6705, 'migraines': 6706, 'creditors': 6707, 'hindering': 6708, 'buzz': 6709, 'reweight': 6710, 'sharia': 6711, 'hated': 6712, 'penny': 6713, 'kitchen': 6714, 'cos': 6715, 'shatner': 6716, 'inflated': 6717, 'ability': 6718, 'hotels': 6719, 'empty': 6720, 'prospectus': 6721, 'stint': 6722, 'lengthy': 6723, 'woodside': 6724, 'wynn': 6725, 'disruptions': 6726, 'undies': 6727, 'preview': 6728, 'encounter': 6729, 'moscow': 6730, 'broker': 6731, 'ambition': 6732, 'licences': 6733, 'studded': 6734, 'underwriter': 6735, 'uncomfortable': 6736, 'refund': 6737, 'angela': 6738, 'bassett': 6739, 'towns': 6740, 'breached': 6741, 'modi': 6742, '281000': 6743, 'article': 6744, 'ivan': 6745, 'reitman': 6746, 'sights': 6747, 'vr': 6748, 'experimental': 6749, 'jitters': 6750, 'managed': 6751, 'dwindles': 6752, 'von': 6753, 'furstenberg': 6754, 'helium': 6755, 'bailed': 6756, 'favourite': 6757, 'clout': 6758, 'cooking': 6759, 'debating': 6760, 'everybody': 6761, 'alcoholic': 6762, 'turner': 6763, 'springs': 6764, 'untrue': 6765, 'rlpc': 6766, 'lobbying': 6767, 'swords': 6768, 'hasselbeck': 6769, 'cares': 6770, 'lord': 6771, 'predatory': 6772, 'dmitry': 6773, 'rybolovlev': 6774, 'absorb': 6775, 'affiliate': 6776, 'lifted': 6777, 'serving': 6778, 'towie': 6779, 'timothy': 6780, 'mouse': 6781, 'injuries': 6782, 'tw': 6783, 'siriusxm': 6784, 'routine': 6785, 'provide': 6786, 'shuns': 6787, 'skies': 6788, 'gallbladder': 6789, 'kisses': 6790, 'throwing': 6791, 'troubling': 6792, 'lukewarm': 6793, 'labels': 6794, 'reservoir': 6795, 'fairfax': 6796, 'glam': 6797, 'yawns': 6798, 'licenses': 6799, 'impressive': 6800, 'argues': 6801, 'resident': 6802, 'census': 6803, 'population': 6804, 'collapsing': 6805, 'stymie': 6806, 'krone': 6807, 'exact': 6808, 'dept': 6809, 'hammered': 6810, '1956': 6811, 'runway': 6812, 'organization': 6813, 'ralph': 6814, 'philly': 6815, 'flaunts': 6816, 'pitches': 6817, 'guinness': 6818, 'citizen': 6819, 'declare': 6820, 'askthicke': 6821, 'inspires': 6822, 'draw': 6823, 'swirl': 6824, 'contacts': 6825, 'previews': 6826, 'gritty': 6827, 'strapless': 6828, 'unexpected': 6829, 'ops': 6830, 'bisexuality': 6831, 'laura': 6832, 'prepon': 6833, 'aisle': 6834, 'vincent': 6835, 'gogh': 6836, 'severed': 6837, 'pass': 6838, 'sugary': 6839, 'unbelievable': 6840, 'heals': 6841, 'wii': 6842, 'godfather': 6843, 'proceed': 6844, 'adm': 6845, 'flavors': 6846, 'menino': 6847, 'blunt': 6848, 'husbands': 6849, 'cheap': 6850, 'jazz': 6851, 'oreal': 6852, 'collecting': 6853, 'emperor': 6854, 'surgeons': 6855, 'brosnan': 6856, 'feel': 6857, 'downed': 6858, '295': 6859, 'diplomat': 6860, 'metso': 6861, 'independently': 6862, 'recalling': 6863, '29': 6864, 'managing': 6865, 'digit': 6866, 'candice': 6867, 'swanepoel': 6868, 'alliances': 6869, 'printer': 6870, 'destroy': 6871, 'cosmetics': 6872, 'pip': 6873, 'andersen': 6874, 'creative': 6875, 'transformed': 6876, 'apparent': 6877, 'sanrio': 6878, 'shocker': 6879, 'empowerment': 6880, 'taxis': 6881, 'deleted': 6882, 'mamet': 6883, 'generic': 6884, 'corruption': 6885, 'superior': 6886, 'slashes': 6887, 'caracal': 6888, '2010': 6889, 'teacher': 6890, 'supported': 6891, 'fatigue': 6892, 'tepco': 6893, 'performances': 6894, '40m': 6895, 'finalises': 6896, 'chen': 6897, 'hospitalization': 6898, 'placenta': 6899, 'issuance': 6900, 'wechat': 6901, 'loud': 6902, 'chime': 6903, 'benelux': 6904, 'mba': 6905, 'dax': 6906, 'sneaking': 6907, 'hare': 6908, 'brake': 6909, 'observed': 6910, 'jodie': 6911, 'foster': 6912, 'alexandra': 6913, 'stories': 6914, 'wiped': 6915, 'sycamore': 6916, 'express': 6917, 'partially': 6918, 'edging': 6919, 'certify': 6920, 'rural': 6921, 'bury': 6922, 'mode': 6923, 'relativity': 6924, 'attempted': 6925, 'tourism': 6926, 'glasses': 6927, 'holders': 6928, 'livestream': 6929, 'cooling': 6930, 'shelton': 6931, 'successful': 6932, '53': 6933, 'uneven': 6934, 'exploiting': 6935, '84000': 6936, 'chateau': 6937, 'implementation': 6938, 'sides': 6939, 'jeff': 6940, 'eni': 6941, 'byrne': 6942, 'breakout': 6943, 'escalates': 6944, 'recede': 6945, 'filmmaker': 6946, 'narrow': 6947, 'tpg': 6948, 'wyoming': 6949, 'encana': 6950, 'bullets': 6951, 'sixth': 6952, 'hawking': 6953, 'cameo': 6954, 'candid': 6955, 'discourages': 6956, 'procedure': 6957, 'relaxes': 6958, 'regime': 6959, 'sucks': 6960, 'screaming': 6961, 'papers': 6962, 'pools': 6963, 'judd': 6964, 'apatow': 6965, 'rodger': 6966, 'spare': 6967, 'threshold': 6968, 'honeywell': 6969, 'texan': 6970, 'whose': 6971, 'seasons': 6972, 'howard': 6973, 'unique': 6974, 'flirts': 6975, 'trailers': 6976, 'obamas': 6977, 'kopelman': 6978, 'saucy': 6979, 'karaoke': 6980, '73': 6981, 'diapers': 6982, 'strapped': 6983, 'transactions': 6984, 'required': 6985, '106': 6986, 'gentleman': 6987, 'citizens': 6988, 'bionic': 6989, 'q4': 6990, 'blasted': 6991, 'responsible': 6992, 'inventories': 6993, 'tighter': 6994, 'gregg': 6995, 'allman': 6996, 'restructure': 6997, 'promote': 6998, 'tolmach': 6999, 'deserves': 7000, 'streets': 7001, 'pings': 7002, 'surgeon': 7003, 'fireeye': 7004, 'emt': 7005, 'voguing': 7006, 'insiders': 7007, 'mover': 7008, 'mock': 7009, 'flare': 7010, 'eventually': 7011, 'infect': 7012, 'dogs': 7013, 'economists': 7014, 'skinny': 7015, 'hug': 7016, 'svelte': 7017, 'intoxication': 7018, 'fluctuate': 7019, 'spell': 7020, 'chances': 7021, 'granddaughter': 7022, 'macbook': 7023, 'abyss': 7024, 'thrusters': 7025, 'zayn': 7026, 'malik': 7027, 'speakers': 7028, 'teary': 7029, 'embraces': 7030, 'yesallwomen': 7031, 'trends': 7032, 'seizures': 7033, 'selected': 7034, 'storytelling': 7035, 'paves': 7036, 'distraught': 7037, 'kent': 7038, 'colony': 7039, '2020': 7040, 'capitalist': 7041, 'li': 7042, 'focused': 7043, 'kicked': 7044, 'milestone': 7045, 'mild': 7046, 'explanation': 7047, 'parliament': 7048, 'offset': 7049, 'virtu': 7050, 'rbs': 7051, 'scotland': 7052, 'arresting': 7053, 'contains': 7054, 'snubbed': 7055, 'wider': 7056, 'exomoon': 7057, 'hails': 7058, 'departing': 7059, 'alsina': 7060, 'parenthood': 7061, 'permanent': 7062, 'rosneft': 7063, 'surviving': 7064, 'spice': 7065, '32': 7066, 'answer': 7067, 'powerade': 7068, '603': 7069, 'divesting': 7070, 'eaccess': 7071, 'ms': 7072, 'contractors': 7073, 'radiant': 7074, 'afford': 7075, 'specs': 7076, 'tenth': 7077, 'frames': 7078, 'irreversible': 7079, 'parades': 7080, 'thief': 7081, 'opts': 7082, 'subpoenaed': 7083, 'limo': 7084, 'spoof': 7085, 'partying': 7086, 'harness': 7087, 'feminist': 7088, 'abandoning': 7089, 'criticises': 7090, 'braces': 7091, 'lionsgate': 7092, 'courteney': 7093, 'raw': 7094, 'designing': 7095, 'training': 7096, 'foreclosures': 7097, 'spirit': 7098, 'domino': 7099, 'grain': 7100, 'embrace': 7101, 'enforcement': 7102, 'pinned': 7103, 'multibillion': 7104, 'chanel': 7105, 'earring': 7106, 'daniels': 7107, 'grips': 7108, 'skit': 7109, 'professional': 7110, 'spotlights': 7111, 'tracing': 7112, 'ted': 7113, 'mining': 7114, 'turbulent': 7115, 'spoils': 7116, 'mptf': 7117, 'churchill': 7118, 'co2': 7119, 'smash': 7120, 'unveiling': 7121, 'moody': 7122, 'underway': 7123, 'flag': 7124, 'camel': 7125, 'augurs': 7126, 'gadget': 7127, 'terminals': 7128, 'praise': 7129, 'axed': 7130, 'baskett': 7131, 'americas': 7132, 'tragedy': 7133, 'cripple': 7134, 'nickel': 7135, '16000': 7136, 'synchrony': 7137, 'knee': 7138, 'simply': 7139, 'salomon': 7140, 'steadying': 7141, 'jeeps': 7142, 'liver': 7143, 'sleek': 7144, 'unable': 7145, 'interested': 7146, 'vivienne': 7147, 'tibetans': 7148, 'altitude': 7149, 'premier': 7150, 'huffpollster': 7151, 'prenup': 7152, 'eia': 7153, 'divestitures': 7154, 'attract': 7155, 'revs': 7156, 'boxes': 7157, 'sciences': 7158, 'shadow': 7159, 'creep': 7160, 'busy': 7161, 'important': 7162, 'troubles': 7163, 'spooky': 7164, 'shamed': 7165, 'nowhere': 7166, 'flagged': 7167, 'welfare': 7168, 'picket': 7169, 'petroleum': 7170, 'barkhad': 7171, 'abdi': 7172, 'appoint': 7173, 'voices': 7174, 'machines': 7175, 'unearthed': 7176, 'affairs': 7177, '50000': 7178, '1964': 7179, 'expectancy': 7180, 'imagination': 7181, 'embellished': 7182, 'annualized': 7183, 'gradual': 7184, 'victoria': 7185, 'beckham': 7186, 'turks': 7187, 'caicos': 7188, 'fiancé': 7189, 'bacteria': 7190, 'consensual': 7191, 'favorable': 7192, 'alexa': 7193, 'onstage': 7194, 'envoy': 7195, 'moretz': 7196, 'cowles': 7197, 'implants': 7198, 'invited': 7199, 'granted': 7200, 'permit': 7201, 'intuit': 7202, 'rampage': 7203, 'tunes': 7204, 'blues': 7205, 'grandma': 7206, 'bates': 7207, 'tennessee': 7208, 'advised': 7209, 'odd': 7210, 'fitbit': 7211, 'godard': 7212, 'adieu': 7213, 'governors': 7214, 'rossiya': 7215, 'relaxed': 7216, 'caution': 7217, 'prep': 7218, 'audi': 7219, 'dominates': 7220, 'worldsmosttalkedabout': 7221, 'openings': 7222, 'manhattan': 7223, '13th': 7224, 'groomed': 7225, 'hunk': 7226, 'guess': 7227, 'fishel': 7228, 'gotta': 7229, 'boyle': 7230, 'nhs': 7231, 'provider': 7232, 'origination': 7233, 'rips': 7234, 'anymore': 7235, 'dated': 7236, 'cosmetic': 7237, 'zach': 7238, 'braff': 7239, 'surplus': 7240, 'elephants': 7241, 'tactics': 7242, 'unfollow': 7243, 'births': 7244, 'tougher': 7245, 'smell': 7246, 'elite': 7247, 'baxter': 7248, 'liquidity': 7249, 'jerusalem': 7250, 'commissioner': 7251, 'previously': 7252, 'absolutely': 7253, 'overcoming': 7254, 'petco': 7255, 'friendless': 7256, 'roaring': 7257, 'spoilers': 7258, 'mind': 7259, 'robotic': 7260, 'segway': 7261, 'opponents': 7262, 'wally': 7263, 'pfister': 7264, 'esposito': 7265, 'goodbye': 7266, 'siren': 7267, 'emerge': 7268, 'deflate': 7269, 'lifestyle': 7270, 'klan': 7271, 'caribbean': 7272, 'carnival': 7273, 'such': 7274, 'tender': 7275, 'carrey': 7276, 'steyer': 7277, 'tally': 7278, 'politicians': 7279, 'considered': 7280, 'cease': 7281, 'grading': 7282, 'sinead': 7283, 'protesters': 7284, 'statoil': 7285, 'fest': 7286, 'swan': 7287, 'surfs': 7288, 'slave': 7289, 'autographs': 7290, 'spader': 7291, 'ultron': 7292, 'ram': 7293, 'vulnerability': 7294, 'degree': 7295, 'establishes': 7296, 'bees': 7297, 'snoop': 7298, 'merck': 7299, 'committed': 7300, 'balmain': 7301, '2018': 7302, 'upscale': 7303, 'restored': 7304, 'dents': 7305, 'wladimir': 7306, 'klitschko': 7307, 'marietta': 7308, 'snc': 7309, 'lavalin': 7310, 'kentz': 7311, 'aussies': 7312, 'copies': 7313, 'chest': 7314, 'severance': 7315, 'distraction': 7316, 'hague': 7317, 'minor': 7318, 'optimistic': 7319, 'finished': 7320, 'edible': 7321, 'recently': 7322, 'resumed': 7323, 'gathers': 7324, 'travels': 7325, 'etf': 7326, 'lse': 7327, 'ensure': 7328, 'hordes': 7329, 'les': 7330, 'miserables': 7331, 'leslie': 7332, 'ftseurofirst': 7333, 'patterson': 7334, 'wind': 7335, 'rebellious': 7336, 'robots': 7337, 'apologize': 7338, 'undervalues': 7339, 'stamp': 7340, 'hunky': 7341, 'exporters': 7342, 'mazda': 7343, 'meditation': 7344, 'maundy': 7345, 'twerking': 7346, 'argument': 7347, 'reporter': 7348, 'palm': 7349, '5m': 7350, 'distance': 7351, 'appleton': 7352, 'urge': 7353, 'learns': 7354, 'breaches': 7355, 'pleased': 7356, 'sole': 7357, 'partial': 7358, 'skeptical': 7359, 'depression': 7360, 'cleary': 7361, 'soothe': 7362, 'yates': 7363, 'gears': 7364, 'nate': 7365, 'berkus': 7366, 'specter': 7367, 'unwanted': 7368, 'logic': 7369, 'drawing': 7370, 'trademarks': 7371, 'buoys': 7372, 'unaware': 7373, 'truths': 7374, 'electronic': 7375, 'bearded': 7376, 'capsule': 7377, 'balconies': 7378, 'superheroes': 7379, 'journalism': 7380, 'diabetics': 7381, 'sizzurp': 7382, 'crowded': 7383, 'pitching': 7384, 'window': 7385, 'consolidation': 7386, 'doldrums': 7387, 'aspiring': 7388, 'penalties': 7389, 'pixies': 7390, 'benedict': 7391, 'cumberbatch': 7392, 'broadcasters': 7393, 'strengthening': 7394, 'intuitive': 7395, 'writing': 7396, 'addressing': 7397, 'lennar': 7398, 'ordered': 7399, 'burke': 7400, 'olympian': 7401, 'schools': 7402, 'tabloid': 7403, 'golden': 7404, 'grapples': 7405, 'disorderly': 7406, 'spidey': 7407, 'period': 7408, 'overnight': 7409, 'confesses': 7410, 'believing': 7411, 'ringling': 7412, 'opec': 7413, 'competing': 7414, 'trader': 7415, 'hummus': 7416, 'gaza': 7417, 'cynk': 7418, 'costly': 7419, 'opened': 7420, 'isps': 7421, 'torn': 7422, 'coppola': 7423, 'mermaid': 7424, 'hearings': 7425, 'allergies': 7426, 'fetch': 7427, 'destiny': 7428, 'verbal': 7429, 'connecticut': 7430, 'laughs': 7431, 'quite': 7432, 'preacher': 7433, '249': 7434, 'logistics': 7435, 'indie': 7436, 'backing': 7437, 'proposals': 7438, 'lbd': 7439, 'dior': 7440, 'breasts': 7441, 'currently': 7442, 'developer': 7443, 'vienna': 7444, 'mrsa': 7445, 'lying': 7446, 'dented': 7447, 'alcoholics': 7448, 'darabont': 7449, 'characters': 7450, 'revoked': 7451, 'wallet': 7452, 'drove': 7453, 'mate': 7454, 'casino': 7455, 'paparazzo': 7456, 'impetus': 7457, 'convinced': 7458, 'solider': 7459, 'gallup': 7460, 'brink': 7461, 'bugs': 7462, '400': 7463, 'axe': 7464, 'insight': 7465, 'kirstie': 7466, 'alley': 7467, 'reached': 7468, 'brett': 7469, 'royals': 7470, 'except': 7471, 'sheryl': 7472, 'carmaker': 7473, 'urbanisation': 7474, 'overstated': 7475, 'disappearing': 7476, 'unfair': 7477, 'sookie': 7478, 'deter': 7479, 'vimeo': 7480, 'alters': 7481, 'architect': 7482, 'dem': 7483, 'reacted': 7484, 'georgia': 7485, '107': 7486, 'ifr': 7487, 'forexwatch': 7488, 'briefing': 7489, 'lorillard': 7490, 'democrats': 7491, 'relations': 7492, 'thieves': 7493, 'tedious': 7494, 'rash': 7495, 'ariel': 7496, 'castro': 7497, 'sand': 7498, 'sensational': 7499, 'cgi': 7500, 'undergoes': 7501, 'ore': 7502, 'respect': 7503, 'zew': 7504, 'struggled': 7505, 'misused': 7506, 'regular': 7507, 'passion': 7508, 'surrounded': 7509, 'superbugs': 7510, 'favorites': 7511, 'rappers': 7512, 'penelope': 7513, 'predicted': 7514, 'oxygen': 7515, 'interrupts': 7516, 'givenchy': 7517, 'colorful': 7518, 'plots': 7519, 'vin': 7520, 'diesel': 7521, 'interviews': 7522, 'charts': 7523, 'atlantic': 7524, 'offensive': 7525, 'crust': 7526, 'climbed': 7527, 'zamperini': 7528, 'wave': 7529, 'seizes': 7530, 'simmons': 7531, 'sparing': 7532, 'juice': 7533, 'winchester': 7534, 'dinklage': 7535, 'depends': 7536, 'cancellations': 7537, 'hgtv': 7538, 'sa': 7539, 'creationism': 7540, 'deborah': 7541, 'warfare': 7542, 'bhp': 7543, 'pythons': 7544, 'flogging': 7545, 'pint': 7546, 'hedgehog': 7547, 'scania': 7548, 'interesting': 7549, 'traditions': 7550, 'cirrus': 7551, 'wolfson': 7552, 'sophie': 7553, 'deadliest': 7554, 'cumia': 7555, 'maryland': 7556, 'himym': 7557, 'denver': 7558, 'adhd': 7559, 'rigging': 7560, 'halted': 7561, 'donetsk': 7562, 'assessment': 7563, 'transport': 7564, 'aircraft': 7565, 'solved': 7566, 'roads': 7567, 'slim': 7568, 'skeleton': 7569, 'conspiracy': 7570, 'theories': 7571, 'valerie': 7572, 'harper': 7573, 'neuman': 7574, 'mutual': 7575, 'often': 7576, 'punch': 7577, 'nail': 7578, '800000': 7579, 'coyne': 7580, 'corset': 7581, 'wyman': 7582, 'nature': 7583, 'retracts': 7584, 'citing': 7585, 'scanning': 7586, 'raid': 7587, 'rockwood': 7588, 'ghasemi': 7589, 'diagnosis': 7590, 'taps': 7591, 'hack': 7592, 'crucial': 7593, 'cristina': 7594, 'nvidia': 7595, 'waiting': 7596, 'chrissy': 7597, 'teigen': 7598, 'celine': 7599, 'dion': 7600, 'stranded': 7601, 'resist': 7602, 'concessions': 7603, 'dylan': 7604, 'proving': 7605, 'bunds': 7606, 'crowned': 7607, 'wrongful': 7608, 'wood': 7609, 'gotten': 7610, 'jaywalkers': 7611, 'chubby': 7612, 'sexuality': 7613, 'hers': 7614, 'artists': 7615, 'eleven': 7616, 'though': 7617, 'editing': 7618, 'cisco': 7619, 'wingspan': 7620, 'recruit': 7621, 'websites': 7622, 'sure': 7623, 'pig': 7624, 'smithsonian': 7625, 'camry': 7626, 'usd': 7627, 'overdrive': 7628, 'theater': 7629, 'unions': 7630, 'decreases': 7631, 'scooter': 7632, 'hide': 7633, 'unemployed': 7634, 'upstaged': 7635, 'pete': 7636, 'tong': 7637, 'solution': 7638, 'kermit': 7639, 'piggy': 7640, 'anonymous': 7641, 'glamorous': 7642, 'attending': 7643, 'arnett': 7644, 'poehler': 7645, 'bjork': 7646}\n"
          ]
        }
      ]
    },
    {
      "cell_type": "code",
      "source": [
        "# 単語列をID列に変換する関数\n",
        "import string\n",
        "\n",
        "def w2id(text, w2id_dict, UNK=0):\n",
        "    table = str.maketrans(string.punctuation, ' '*len(string.punctuation))\n",
        "    words = text.translate(table).lower().split()\n",
        "    id_list = [w2id_dict.get(word, UNK) for word in words]\n",
        "\n",
        "    return id_list\n",
        "\n",
        "text = \"UPDATE 1-Sandwich chain Quiznos files for bankruptcy protection\"\n",
        "text_id = w2id(text, w2id_dict)\n",
        "print(text_id)"
      ],
      "metadata": {
        "colab": {
          "base_uri": "https://localhost:8080/"
        },
        "id": "u9tp5YMk3_gx",
        "outputId": "8bb9c206-488d-498a-e166-04e3ece603a5"
      },
      "execution_count": null,
      "outputs": [
        {
          "output_type": "stream",
          "name": "stdout",
          "text": [
            "[9, 13, 0, 1197, 0, 593, 7, 911, 2510]\n"
          ]
        }
      ]
    },
    {
      "cell_type": "markdown",
      "source": [
        "##81. RNNによる予測"
      ],
      "metadata": {
        "id": "kUwQUf_ScW0d"
      }
    },
    {
      "cell_type": "code",
      "source": [
        "import torch\n",
        "import torch.nn as nn\n",
        "\n",
        "class RNN(nn.Module):\n",
        "    def __init__(self, dict_size, emb_size, hidden_size, output_size, n_layers, padding_idx):\n",
        "        super().__init__()\n",
        "        self.n_layers = n_layers\n",
        "        self.hidden_size = hidden_size\n",
        "        self.embedding = nn.Embedding(dict_size, emb_size, padding_idx=padding_idx)\n",
        "        self.dropout = nn.Dropout(p=0.1)\n",
        "        self.rnn = nn.RNN(emb_size, hidden_size,  n_layers, nonlinearity='tanh', batch_first=True)\n",
        "        self.fc = nn.Linear(hidden_size, output_size)\n",
        "\n",
        "    def forward(self, x):\n",
        "        batch_size = x.shape[0]\n",
        "        embedded = self.dropout(self.embedding(x))\n",
        "        init_hidden = torch.zeros(self.n_layers, batch_size, self.hidden_size)\n",
        "        out, hidden = self.rnn(embedded, init_hidden)\n",
        "        out = self.fc(out[:, -1, :])\n",
        "        return out"
      ],
      "metadata": {
        "id": "LZ5ftKwDccfA"
      },
      "execution_count": null,
      "outputs": []
    },
    {
      "cell_type": "code",
      "source": [
        "from torch.utils.data import Dataset\n",
        "\n",
        "class MyDataset(Dataset):\n",
        "\n",
        "    def __init__(self, X, y):\n",
        "        self.X = X\n",
        "        self.y = y\n",
        "\n",
        "    def __len__(self):\n",
        "        return len(self.X)\n",
        "\n",
        "    def __getitem__(self, idx):\n",
        "        inputs = self.X[idx]\n",
        "        inputs = torch.tensor(inputs, dtype=torch.int64)\n",
        "        outputs = self.y[idx]\n",
        "        outputs = torch.tensor(outputs, dtype=torch.int64)\n",
        "\n",
        "        return inputs, outputs"
      ],
      "metadata": {
        "id": "7Cwpn6-PYGla"
      },
      "execution_count": null,
      "outputs": []
    },
    {
      "cell_type": "code",
      "source": [
        "import numpy as np\n",
        "\n",
        "def divide_data(file_name, w2id):\n",
        "    with open(file_name, 'r', encoding='utf-8') as f:\n",
        "        lines = f.readlines()[1:]\n",
        "\n",
        "    # TITLEテキストからリストを作成\n",
        "    X = []\n",
        "    for line in lines:\n",
        "        text = line.split('\\t')[0]\n",
        "        X.append(w2id(text, w2id_dict))\n",
        "\n",
        "    # CATEGORYをラベルに変換\n",
        "    label_map = {'b': 0, 't': 1, 'e': 2, 'm': 3}\n",
        "    y = [label_map[line.split('\\t')[1].strip()] for line in lines]\n",
        "\n",
        "    return X, y\n",
        "\n",
        "train_file_path = 'train.txt'\n",
        "valid_file_path = 'valid.txt'\n",
        "test_file_path = 'test.txt'\n",
        "\n",
        "X_train, y_train = divide_data(train_file_path, w2id)\n",
        "X_valid, y_valid = divide_data(valid_file_path, w2id)\n",
        "X_test, y_test = divide_data(test_file_path, w2id)\n",
        "print(X_train[:10])\n",
        "print(y_train[:10])"
      ],
      "metadata": {
        "colab": {
          "base_uri": "https://localhost:8080/"
        },
        "id": "C5oeX9Vlc9bq",
        "outputId": "ef3c84bb-ba77-4be1-8f21-95f2047c2484"
      },
      "execution_count": null,
      "outputs": [
        {
          "output_type": "stream",
          "name": "stdout",
          "text": [
            "[[9, 13, 0, 1197, 0, 593, 7, 911, 2510], [227, 568, 1076, 135, 2249, 33, 306, 198, 62, 41, 2250, 126], [27, 489, 2825, 100, 3, 0, 912, 147], [5651, 12, 19, 447, 1, 863, 39, 2826, 169], [2511, 490, 171, 1703, 62, 2036, 751, 864, 718, 812, 1026, 1269, 70], [63, 43, 60, 1, 1467, 594, 3, 2037, 4540, 88], [429, 378, 35, 12, 341, 813, 7, 430, 21, 69, 5652], [1270, 3788, 1574, 115, 4541, 29, 421, 491, 148], [16, 814, 5, 237, 1575, 3, 3231], [51, 44, 46, 342, 184, 508, 342, 690, 691, 752, 60, 0, 3789]]\n",
            "[0, 0, 0, 2, 2, 0, 0, 3, 3, 2]\n"
          ]
        }
      ]
    },
    {
      "cell_type": "code",
      "source": [
        "# データセットの作成\n",
        "train_dataset = MyDataset(X_train, y_train)\n",
        "valid_dataset = MyDataset(X_valid, y_valid)\n",
        "test_dataset = MyDataset(X_test, y_test)\n",
        "print(train_dataset[0])"
      ],
      "metadata": {
        "colab": {
          "base_uri": "https://localhost:8080/"
        },
        "id": "4UdyREhUh-u8",
        "outputId": "04b2d50d-c4ac-403c-8e9c-cd2b38ff0317"
      },
      "execution_count": null,
      "outputs": [
        {
          "output_type": "stream",
          "name": "stdout",
          "text": [
            "(tensor([   9,   13,    0, 1197,    0,  593,    7,  911, 2510]), tensor(0))\n"
          ]
        }
      ]
    },
    {
      "cell_type": "code",
      "source": [
        "#　RNNの設定\n",
        "dict_size = len(w2id_dict) + 1\n",
        "emb_size = 256\n",
        "hidden_size = 64\n",
        "output_size = 4\n",
        "n_layers  = 1\n",
        "padding_idx = 0\n",
        "\n",
        "#　モデルのインスタンスを生成\n",
        "model = RNN(dict_size, emb_size, hidden_size, output_size, n_layers, padding_idx)\n",
        "print(model)"
      ],
      "metadata": {
        "colab": {
          "base_uri": "https://localhost:8080/"
        },
        "id": "O5dnTKwVlBy8",
        "outputId": "37394adf-8c4b-491e-9738-81cd9af7c09b"
      },
      "execution_count": null,
      "outputs": [
        {
          "output_type": "stream",
          "name": "stdout",
          "text": [
            "RNN(\n",
            "  (embedding): Embedding(7647, 256, padding_idx=0)\n",
            "  (dropout): Dropout(p=0.1, inplace=False)\n",
            "  (rnn): RNN(256, 64, batch_first=True)\n",
            "  (fc): Linear(in_features=64, out_features=4, bias=True)\n",
            ")\n"
          ]
        }
      ]
    },
    {
      "cell_type": "code",
      "source": [
        "for i in range(10):\n",
        "  X = train_dataset[i][0]\n",
        "  print(torch.softmax(model(X.unsqueeze(0)), dim=-1))"
      ],
      "metadata": {
        "colab": {
          "base_uri": "https://localhost:8080/"
        },
        "id": "58gnM-eLoxMr",
        "outputId": "22aa895f-87b3-45e6-f752-4d84ad145d11"
      },
      "execution_count": null,
      "outputs": [
        {
          "output_type": "stream",
          "name": "stdout",
          "text": [
            "tensor([[0.2617, 0.1955, 0.2329, 0.3099]], grad_fn=<SoftmaxBackward0>)\n",
            "tensor([[0.2742, 0.1428, 0.2713, 0.3116]], grad_fn=<SoftmaxBackward0>)\n",
            "tensor([[0.4855, 0.1992, 0.1721, 0.1432]], grad_fn=<SoftmaxBackward0>)\n",
            "tensor([[0.1153, 0.2781, 0.2975, 0.3092]], grad_fn=<SoftmaxBackward0>)\n",
            "tensor([[0.2616, 0.1923, 0.2893, 0.2569]], grad_fn=<SoftmaxBackward0>)\n",
            "tensor([[0.2899, 0.2068, 0.2517, 0.2515]], grad_fn=<SoftmaxBackward0>)\n",
            "tensor([[0.3666, 0.1737, 0.1682, 0.2914]], grad_fn=<SoftmaxBackward0>)\n",
            "tensor([[0.2697, 0.1686, 0.2415, 0.3202]], grad_fn=<SoftmaxBackward0>)\n",
            "tensor([[0.1379, 0.1636, 0.5344, 0.1641]], grad_fn=<SoftmaxBackward0>)\n",
            "tensor([[0.2753, 0.1644, 0.2909, 0.2693]], grad_fn=<SoftmaxBackward0>)\n"
          ]
        }
      ]
    },
    {
      "cell_type": "markdown",
      "source": [
        "##82. 確率的勾配降下法による学習"
      ],
      "metadata": {
        "id": "f63Mn4DIcePI"
      }
    },
    {
      "cell_type": "code",
      "source": [
        "import torch\n",
        "import torch.nn as nn\n",
        "\n",
        "class RNN(nn.Module):\n",
        "    def __init__(self, dict_size, emb_size, hidden_size, output_size, n_layers, padding_idx, device):\n",
        "        super().__init__()\n",
        "        self.device = device\n",
        "        self.n_layers = n_layers\n",
        "        self.hidden_size = hidden_size\n",
        "        self.embedding = nn.Embedding(dict_size, emb_size, padding_idx=padding_idx)\n",
        "        self.dropout = nn.Dropout(p=0.1)\n",
        "        self.rnn = nn.RNN(emb_size, hidden_size,  n_layers, nonlinearity='tanh', batch_first=True)\n",
        "        self.fc = nn.Linear(hidden_size, output_size)\n",
        "\n",
        "    def forward(self, x):\n",
        "        batch_size = x.shape[0]\n",
        "        embedded = self.dropout(self.embedding(x))\n",
        "        init_hidden = torch.zeros(self.n_layers, batch_size, self.hidden_size, device=self.device)\n",
        "        out, hidden = self.rnn(embedded, init_hidden)\n",
        "        out = self.fc(out[:, -1, :])\n",
        "        return out"
      ],
      "metadata": {
        "id": "amGl8oZ7rqkJ"
      },
      "execution_count": null,
      "outputs": []
    },
    {
      "cell_type": "code",
      "source": [
        "# 推論結果の正解率を計算\n",
        "def calc_acc(model, dataloader, device):\n",
        "    model.eval()\n",
        "    with torch.no_grad():\n",
        "        correct = 0\n",
        "        num_data = 0\n",
        "        for inputs, labels in dataloader:\n",
        "            inputs = inputs.to(device)\n",
        "            labels = labels.to(device)\n",
        "            outputs = model(inputs)\n",
        "            preds = torch.argmax(outputs, -1)\n",
        "            num_data += len(inputs)\n",
        "            correct += (preds == labels).sum().item()\n",
        "        accuracy = correct / num_data\n",
        "        return accuracy\n",
        "\n",
        "# 推論結果の損失を計算\n",
        "def calc_loss(model, dataloader, device):\n",
        "    model.eval()\n",
        "    with torch.no_grad():\n",
        "        loss = 0\n",
        "        for inputs, labels in dataloader:\n",
        "            inputs = inputs.to(device)\n",
        "            labels = labels.to(device)\n",
        "            outputs = model(inputs)\n",
        "            loss += criterion(outputs, labels).item()\n",
        "        return loss / len(dataloader)"
      ],
      "metadata": {
        "id": "urfan2Hc15it"
      },
      "execution_count": null,
      "outputs": []
    },
    {
      "cell_type": "code",
      "source": [
        "# モデルを学習し、損失と正解率を表示する関数\n",
        "def train_model(model, train_loader, valid_loader, epochs, criterion, optimizer, device=None):\n",
        "    model.to(device)\n",
        "    for epoch in range(epochs):\n",
        "        model.train() # 学習モード\n",
        "        running_loss =0.0 # 記録用loss初期化\n",
        "        for i, (x, y) in enumerate(train_loader): # データローダーからバッチ毎に取り出す\n",
        "            optimizer.zero_grad() # 勾配を初期化\n",
        "\n",
        "            x = x.to(device)\n",
        "            y = y.to(device)\n",
        "            outputs = model(x) # RNNで予測\n",
        "            loss = criterion(outputs, y) # loss計算\n",
        "            loss.backward()  # 逆伝番\n",
        "            optimizer.step()  # 勾配を更新\n",
        "\n",
        "        model.eval() # 予測モード\n",
        "        # 損失と正解率を計算\n",
        "        acc_train = calc_acc(model, train_loader, device=device)\n",
        "        loss_train = calc_loss(model, train_loader, device=device)\n",
        "        acc_valid = calc_acc(model, valid_loader, device=device)\n",
        "        loss_valid = calc_loss(model, valid_loader, device=device)\n",
        "\n",
        "        # ログを出力\n",
        "        print(f'epoch: {epoch + 1}, loss_train: {loss_train:.4f}, accuracy_train: {acc_train:.4f}, loss_valid: {loss_valid:.4f}, accuracy_valid: {acc_valid:.4f}')\n",
        "\n",
        "        # チェックポイントの保存\n",
        "        torch.save({'epoch': epoch, 'model_state_dict': model.state_dict(), 'optimizer_state_dict': optimizer.state_dict()}, f'checkpoint{epoch + 1}.pt')\n"
      ],
      "metadata": {
        "id": "Eggo7vSk7x1A"
      },
      "execution_count": null,
      "outputs": []
    },
    {
      "cell_type": "code",
      "source": [
        "from torch.utils.data import DataLoader\n",
        "from torch import optim\n",
        "\n",
        "# GPUが使用可能な場合は、deviceをGPUに設定する\n",
        "device = torch.device(\"cuda\" if torch.cuda.is_available() else \"cpu\")\n",
        "\n",
        "# RNNの設定\n",
        "dict_size = len(w2id_dict) + 1\n",
        "emb_size = 256\n",
        "hidden_size = 64\n",
        "output_size = 4\n",
        "n_layers  = 1\n",
        "padding_idx = 0\n",
        "\n",
        "# モデルのインスタンスを生成\n",
        "model = RNN(dict_size, emb_size, hidden_size, output_size, n_layers, padding_idx, device)\n",
        "print(model)\n",
        "\n",
        "epochs = 5\n",
        "lr = 0.01\n",
        "criterion = nn.CrossEntropyLoss()\n",
        "optimizer = optim.SGD(model.parameters(), lr=lr)\n",
        "\n",
        "# データローダーの作成\n",
        "train_dataset = MyDataset(X_train, y_train)\n",
        "train_loader = DataLoader(train_dataset, batch_size=1, shuffle=True)\n",
        "valid_dataset = MyDataset(X_valid, y_valid)\n",
        "valid_loader = DataLoader(valid_dataset, batch_size=1, shuffle=False)\n",
        "\n",
        "train_model(model, train_loader, valid_loader, epochs, criterion, optimizer, device=device)"
      ],
      "metadata": {
        "id": "IoMtPcTTcj6j",
        "colab": {
          "base_uri": "https://localhost:8080/"
        },
        "outputId": "64a8af81-95a7-48b8-f23c-ab08da3b7ad1"
      },
      "execution_count": null,
      "outputs": [
        {
          "output_type": "stream",
          "name": "stdout",
          "text": [
            "RNN(\n",
            "  (embedding): Embedding(7647, 256, padding_idx=0)\n",
            "  (dropout): Dropout(p=0.1, inplace=False)\n",
            "  (rnn): RNN(256, 64, batch_first=True)\n",
            "  (fc): Linear(in_features=64, out_features=4, bias=True)\n",
            ")\n",
            "epoch: 1, loss_train: 0.8597, accuracy_train: 0.7121, loss_valid: 0.9961, accuracy_valid: 0.6849\n",
            "epoch: 2, loss_train: 0.7187, accuracy_train: 0.7539, loss_valid: 0.8589, accuracy_valid: 0.7216\n",
            "epoch: 3, loss_train: 0.6754, accuracy_train: 0.7599, loss_valid: 0.8659, accuracy_valid: 0.7141\n",
            "epoch: 4, loss_train: 0.5632, accuracy_train: 0.8004, loss_valid: 0.7556, accuracy_valid: 0.7470\n",
            "epoch: 5, loss_train: 0.4715, accuracy_train: 0.8302, loss_valid: 0.6985, accuracy_valid: 0.7650\n"
          ]
        }
      ]
    },
    {
      "cell_type": "markdown",
      "source": [
        "##83. ミニバッチ化・GPU上での学習"
      ],
      "metadata": {
        "id": "PuzyFOD4clYs"
      }
    },
    {
      "cell_type": "code",
      "source": [
        "from torch.nn.utils.rnn import pad_sequence\n",
        "\n",
        "# ミニバッチ内のバディング処理\n",
        "def collate_fn(batch):\n",
        "    # テキストとラベルに分ける\n",
        "    x_batch, y_batch = zip(*batch)\n",
        "    # テキストのPadding処理\n",
        "    src_lengths = torch.tensor([len(src) for src in x_batch])\n",
        "    x_padded = pad_sequence(x_batch, batch_first=True, padding_value=0)\n",
        "    y_padded = torch.LongTensor(y_batch)\n",
        "\n",
        "    # Padding後のテンソルを返す\n",
        "    return x_padded, y_padded"
      ],
      "metadata": {
        "id": "CDVmzDVUAVe_"
      },
      "execution_count": null,
      "outputs": []
    },
    {
      "cell_type": "code",
      "source": [
        "from torch.utils.data import DataLoader\n",
        "from torch import optim\n",
        "\n",
        "# GPUが使用可能な場合は、deviceをGPUに設定する\n",
        "device = torch.device(\"cuda\" if torch.cuda.is_available() else \"cpu\")\n",
        "\n",
        "# RNNの設定\n",
        "dict_size = len(w2id_dict) + 1\n",
        "emb_size = 256\n",
        "hidden_size = 64\n",
        "output_size = 4\n",
        "n_layers  = 1\n",
        "padding_idx = 0\n",
        "\n",
        "# モデルのインスタンスを生成\n",
        "model = RNN(dict_size, emb_size, hidden_size, output_size, n_layers, padding_idx, device)\n",
        "print(model)\n",
        "\n",
        "epochs = 10\n",
        "batch_size = 64\n",
        "lr = 0.1\n",
        "criterion = nn.CrossEntropyLoss()\n",
        "optimizer = optim.SGD(model.parameters(), lr=lr)\n",
        "\n",
        "# データローダーの作成\n",
        "train_dataset = MyDataset(X_train, y_train)\n",
        "train_loader = DataLoader(train_dataset, batch_size=batch_size, collate_fn=collate_fn, shuffle=True)\n",
        "valid_dataset = MyDataset(X_valid, y_valid)\n",
        "valid_loader = DataLoader(valid_dataset, batch_size=batch_size, collate_fn=collate_fn, shuffle=False)\n",
        "\n",
        "# モデルの学習\n",
        "train_model(model, train_loader, valid_loader, epochs, criterion, optimizer, device=device)"
      ],
      "metadata": {
        "colab": {
          "base_uri": "https://localhost:8080/"
        },
        "id": "Nnqt3MRp7hwp",
        "outputId": "e8f5d3f9-d5c1-4cfd-e76e-6d7e0f495d95"
      },
      "execution_count": null,
      "outputs": [
        {
          "output_type": "stream",
          "name": "stdout",
          "text": [
            "RNN(\n",
            "  (embedding): Embedding(7647, 256, padding_idx=0)\n",
            "  (dropout): Dropout(p=0.1, inplace=False)\n",
            "  (rnn): RNN(256, 64, batch_first=True)\n",
            "  (fc): Linear(in_features=64, out_features=4, bias=True)\n",
            ")\n",
            "epoch: 1, loss_train: 1.1537, accuracy_train: 0.4645, loss_valid: 1.1595, accuracy_valid: 0.4506\n",
            "epoch: 2, loss_train: 1.1028, accuracy_train: 0.5343, loss_valid: 1.1247, accuracy_valid: 0.5195\n",
            "epoch: 3, loss_train: 1.0386, accuracy_train: 0.6249, loss_valid: 1.0739, accuracy_valid: 0.5958\n",
            "epoch: 4, loss_train: 1.0222, accuracy_train: 0.6303, loss_valid: 1.0440, accuracy_valid: 0.6160\n",
            "epoch: 5, loss_train: 1.1724, accuracy_train: 0.5923, loss_valid: 1.2393, accuracy_valid: 0.5636\n",
            "epoch: 6, loss_train: 1.0867, accuracy_train: 0.5949, loss_valid: 1.1062, accuracy_valid: 0.5689\n",
            "epoch: 7, loss_train: 1.0787, accuracy_train: 0.5905, loss_valid: 1.0938, accuracy_valid: 0.5831\n",
            "epoch: 8, loss_train: 1.1979, accuracy_train: 0.4015, loss_valid: 1.2027, accuracy_valid: 0.4019\n",
            "epoch: 9, loss_train: 1.1337, accuracy_train: 0.5127, loss_valid: 1.1491, accuracy_valid: 0.4978\n",
            "epoch: 10, loss_train: 1.0675, accuracy_train: 0.5984, loss_valid: 1.0881, accuracy_valid: 0.5831\n"
          ]
        }
      ]
    },
    {
      "cell_type": "markdown",
      "source": [
        "##84. 単語ベクトルの導入"
      ],
      "metadata": {
        "id": "HlR_WLTAcl0N"
      }
    },
    {
      "cell_type": "code",
      "source": [
        "from gensim.models import KeyedVectors\n",
        "\n",
        "# 学習済みモデルのロード\n",
        "w2v_model = KeyedVectors.load_word2vec_format(\"GoogleNews-vectors-negative300.bin\", binary=True)"
      ],
      "metadata": {
        "id": "nanO634sckxg"
      },
      "execution_count": null,
      "outputs": []
    },
    {
      "cell_type": "code",
      "source": [
        "import pickle\n",
        "\n",
        "# 辞書のロード\n",
        "with open(\"w2id_dict.pkl\", 'rb') as p:\n",
        "    w2id_dict = pickle.load(p)\n",
        "    print(w2id_dict)\n",
        "\n",
        "# 辞書に対応する単語ベクトルの取得\n",
        "dict_size = len(set(w2id_dict.values())) + 1\n",
        "emb_size = 300\n",
        "weights = np.zeros((dict_size, emb_size))\n",
        "\n",
        "for i, word in enumerate(w2id_dict.keys()):\n",
        "    try:\n",
        "        weights[i] = w2v_model[word]\n",
        "    except KeyError:\n",
        "        weights[i] = np.random.normal(scale=0.4, size=(emb_size,))\n",
        "weights = torch.from_numpy(weights.astype(np.float32))\n",
        "\n",
        "print(weights.shape)"
      ],
      "metadata": {
        "colab": {
          "base_uri": "https://localhost:8080/"
        },
        "id": "TRZ5xWTDKZzN",
        "outputId": "c508cb0f-f333-4358-c16e-d677ef583936"
      },
      "execution_count": null,
      "outputs": [
        {
          "output_type": "stream",
          "name": "stdout",
          "text": [
            "{'to': 1, 's': 2, 'in': 3, 'the': 4, 'of': 5, 'on': 6, 'for': 7, 'as': 8, 'update': 9, 'us': 10, 'and': 11, 'a': 12, '1': 13, 'with': 14, 'at': 15, '2': 16, 'is': 17, 'after': 18, 'new': 19, 'up': 20, 'says': 21, 'stocks': 22, 'from': 23, 'by': 24, '3': 25, 'kardashian': 26, 'china': 27, 't': 28, 'over': 29, 'it': 30, 'her': 31, 'kim': 32, 'euro': 33, 'first': 34, 'be': 35, 'shares': 36, 'ecb': 37, 'more': 38, 'about': 39, 'will': 40, 'fed': 41, 'may': 42, 'dollar': 43, 'are': 44, 'data': 45, 'not': 46, 'she': 47, '4': 48, 'out': 49, 'that': 50, 'you': 51, 'day': 52, 'deal': 53, 'sales': 54, 'star': 55, 'high': 56, 'wall': 57, 'miley': 58, 'cyrus': 59, 'off': 60, 'year': 61, 'but': 62, 'forex': 63, 'global': 64, 'rise': 65, 'billion': 66, 'profit': 67, '5': 68, 'ceo': 69, 'his': 70, 'was': 71, 'google': 72, 'west': 73, 'st': 74, 'bank': 75, 'month': 76, 'time': 77, 'could': 78, 'buy': 79, 'video': 80, 'growth': 81, 'low': 82, 'he': 83, 'ukraine': 84, 'has': 85, 'bln': 86, 'no': 87, 'week': 88, 'chris': 89, 'than': 90, 'million': 91, 'home': 92, 'oil': 93, 'kanye': 94, 'justin': 95, 'wedding': 96, 'set': 97, 'one': 98, 'shows': 99, 'rises': 100, 'bieber': 101, '2014': 102, 'uk': 103, 'into': 104, 'before': 105, 'rate': 106, 'this': 107, 'show': 108, 'down': 109, 'who': 110, 'how': 111, 'two': 112, 'markets': 113, 'i': 114, 'have': 115, 'can': 116, 'near': 117, 'apple': 118, 'gold': 119, 'falls': 120, 'record': 121, 'report': 122, 'fall': 123, 'gm': 124, 'inflation': 125, 'gains': 126, 'your': 127, 'all': 128, 'against': 129, 'higher': 130, '7': 131, 'game': 132, 'what': 133, 'world': 134, 'top': 135, 'reveals': 136, 'rpt': 137, 'twitter': 138, 'pay': 139, 'york': 140, 'court': 141, 'yellen': 142, 'most': 143, 'market': 144, 'drop': 145, 'pct': 146, 'economy': 147, 'years': 148, 'since': 149, 'p': 150, 'tv': 151, 'study': 152, 'man': 153, 'movie': 154, 'just': 155, 'its': 156, 'corrected': 157, '6': 158, 'talks': 159, 'prices': 160, 'outlook': 161, 'ahead': 162, 'back': 163, 'lohan': 164, 'sees': 165, 'ipo': 166, 'lindsay': 167, 'seen': 168, 'death': 169, 'american': 170, 'still': 171, 'big': 172, 'get': 173, 'beyonce': 174, 'why': 175, 'amid': 176, 'an': 177, 'jay': 178, 'facebook': 179, 'amazon': 180, 'cuts': 181, 'film': 182, 'estimates': 183, 'we': 184, 'drops': 185, 'jobs': 186, 'second': 187, 'men': 188, 'health': 189, 'banks': 190, 'thrones': 191, 'draghi': 192, 'george': 193, 'hit': 194, 'revenue': 195, 'make': 196, 'bond': 197, 'bonds': 198, 'selena': 199, 'gomez': 200, 'takes': 201, 'russia': 202, 'take': 203, 'drug': 204, 'america': 205, 'case': 206, 'paul': 207, 'z': 208, 'europe': 209, 'dies': 210, 'end': 211, 'gain': 212, 'bid': 213, 'people': 214, 'gets': 215, 'european': 216, 'michael': 217, 'cut': 218, 'mobile': 219, 'wrapup': 220, 'business': 221, 'music': 222, 'now': 223, 'bnp': 224, 'l': 225, 'rates': 226, 'iraq': 227, 'they': 228, '9': 229, 'june': 230, 'awards': 231, 'lower': 232, 'fitch': 233, 'jennifer': 234, 'yen': 235, 'gas': 236, 'ebola': 237, 'hits': 238, '8': 239, 'james': 240, 'credit': 241, 'risk': 242, 'love': 243, 'best': 244, 'review': 245, '500': 246, 'loss': 247, 'scott': 248, 'debt': 249, '10': 250, 'said': 251, 'precious': 252, 'change': 253, 'plan': 254, 'cancer': 255, 'forecast': 256, 'season': 257, 'alibaba': 258, 'yields': 259, 'japan': 260, 'claims': 261, 'wars': 262, 'tour': 263, 'again': 264, 'o': 265, 'box': 266, 'offer': 267, 'baby': 268, 'mother': 269, 'met': 270, 'office': 271, 'martin': 272, 'some': 273, 'futures': 274, 'quarter': 275, 'climate': 276, 'white': 277, 'cars': 278, 'pfizer': 279, 'fans': 280, 'news': 281, 'life': 282, 'red': 283, 'three': 284, 'their': 285, 'being': 286, 'beats': 287, 'percent': 288, 'rally': 289, 'opens': 290, 'earnings': 291, 'look': 292, 'air': 293, 'during': 294, 'face': 295, 'mln': 296, 'sex': 297, 'wants': 298, 'robert': 299, 'real': 300, 'ex': 301, 'maker': 302, 'makes': 303, 'm': 304, 'dead': 305, 'zone': 306, 'hong': 307, 'kong': 308, 'microsoft': 309, 'wren': 310, 'six': 311, 'so': 312, 'north': 313, 'probe': 314, 'samsung': 315, 'ford': 316, 'german': 317, 'family': 318, 'policy': 319, 'open': 320, 'street': 321, 'raises': 322, 'like': 323, 'plans': 324, 'trailer': 325, 'stars': 326, 'watch': 327, 'car': 328, 'my': 329, 'party': 330, 'or': 331, 'obama': 332, 'posts': 333, 'ends': 334, 'don': 335, 'gwyneth': 336, 'jessica': 337, 'demand': 338, 'won': 339, 'e': 340, 'good': 341, 'pregnant': 342, 'next': 343, 'tax': 344, 'williams': 345, 'internet': 346, 'under': 347, 'jagger': 348, 'flat': 349, 'april': 350, 'view': 351, 'house': 352, 'jolie': 353, 'investors': 354, 'sell': 355, 'robin': 356, 'firm': 357, 'refile': 358, 'bad': 359, 'paltrow': 360, 'fight': 361, 'angelina': 362, 'if': 363, 'emma': 364, 'half': 365, 'affirms': 366, 'episode': 367, 'source': 368, 'french': 369, 'even': 370, 'black': 371, 'live': 372, 'astrazeneca': 373, 'recall': 374, 'festival': 375, 'target': 376, 'netflix': 377, 'should': 378, 'mick': 379, 'trading': 380, 'company': 381, 'go': 382, 'calls': 383, 'obamacare': 384, 'debut': 385, 'heart': 386, 'rules': 387, 'young': 388, 'asia': 389, 'close': 390, 'found': 391, 'five': 392, 'lawsuit': 393, 'dress': 394, 'virus': 395, 'boost': 396, 'goes': 397, 'snapshot': 398, 'little': 399, 'march': 400, 'jackson': 401, 'while': 402, 'johnny': 403, 'strong': 404, 'kids': 405, 'another': 406, 'help': 407, 'premiere': 408, 'comcast': 409, 'steps': 410, 'canada': 411, 'comments': 412, 'role': 413, 'play': 414, 'too': 415, 'brown': 416, 'arrested': 417, 'here': 418, 'wife': 419, 'clooney': 420, 'last': 421, 'tech': 422, 'fda': 423, 'action': 424, 'know': 425, 'long': 426, 'argentina': 427, 'split': 428, 'alstom': 429, 'france': 430, 'photo': 431, 'decline': 432, 'when': 433, 'holds': 434, 'test': 435, 'results': 436, 'zac': 437, 'efron': 438, 'cover': 439, 'service': 440, 'tops': 441, 'birthday': 442, 'seeks': 443, 'despite': 444, 'had': 445, 'see': 446, 'way': 447, 'use': 448, 'really': 449, 'jenner': 450, 'warns': 451, 'director': 452, 'call': 453, '100': 454, 'cast': 455, 'months': 456, 'mortgage': 457, 'boj': 458, 'say': 459, 'merger': 460, 'india': 461, 'david': 462, 'asian': 463, 'old': 464, 'wins': 465, 'chinese': 466, 'biggest': 467, 'slips': 468, 'spider': 469, 'u': 470, 'brent': 471, 'four': 472, 'energy': 473, 'guilty': 474, 'looks': 475, 'days': 476, 'child': 477, 'kate': 478, 'eu': 479, 'taylor': 480, 'free': 481, 'do': 482, 'economic': 483, 'khloe': 484, 'future': 485, 'push': 486, 'capital': 487, 'singer': 488, 'manufacturing': 489, 'morgan': 490, '20': 491, 'tesla': 492, 'stable': 493, 'list': 494, 'imf': 495, 'raise': 496, '50': 497, 'finds': 498, 'short': 499, 'late': 500, 'price': 501, 'un': 502, 'thicke': 503, 'swift': 504, 'simpson': 505, 'valeant': 506, 'ignition': 507, 're': 508, 'cannes': 509, 'costs': 510, 'walker': 511, 'harris': 512, 'girl': 513, 'brad': 514, 'pound': 515, 'weak': 516, 'treasuries': 517, 'night': 518, 'bets': 519, 'stimulus': 520, 'stone': 521, 'made': 522, 'stake': 523, 'seth': 524, 'allergan': 525, 'joins': 526, 'daughter': 527, 'fox': 528, 'jumps': 529, 'women': 530, 'noah': 531, 'ever': 532, 'head': 533, 'depp': 534, 'space': 535, '2015': 536, 'july': 537, 'steady': 538, 'money': 539, 'judge': 540, 'gives': 541, 'eyes': 542, 'fund': 543, 'quarterly': 544, 'crude': 545, 'sale': 546, 'plane': 547, 'full': 548, 'own': 549, 'auto': 550, 'barclays': 551, 'lead': 552, 'lana': 553, 'would': 554, 'leaves': 555, 'supply': 556, 'nearly': 557, 'leads': 558, 'reports': 559, 'jump': 560, 'chief': 561, 'actor': 562, 'return': 563, 'power': 564, 'former': 565, 'trade': 566, 'mers': 567, 'concerns': 568, 'deals': 569, 'south': 570, 'jet': 571, 'del': 572, 'rey': 573, 'crisis': 574, 'voice': 575, 'did': 576, 'book': 577, 'early': 578, 'gay': 579, 'anti': 580, 'times': 581, 'third': 582, 'latest': 583, 'missing': 584, 'hollywood': 585, 'harrison': 586, 'father': 587, 'ap': 588, 'due': 589, 'possible': 590, 'war': 591, 'support': 592, 'files': 593, 'start': 594, 'got': 595, 'away': 596, 'children': 597, 'photos': 598, 'public': 599, 'share': 600, 'bill': 601, 'ryan': 602, 'age': 603, 'other': 604, 'pitt': 605, 'confirms': 606, 'food': 607, 'mcdonald': 608, 'mtv': 609, 'net': 610, 'stock': 611, 'recalls': 612, 'john': 613, 'been': 614, 'j': 615, 'edge': 616, 'going': 617, 'phone': 618, 'yahoo': 619, 'search': 620, 'ice': 621, 'ban': 622, 'mad': 623, 'hike': 624, 'much': 625, 'orders': 626, 'nasdaq': 627, 'misses': 628, 'woman': 629, 'lady': 630, 'our': 631, 'things': 632, 'post': 633, 'sanctions': 634, 'album': 635, 'less': 636, 'names': 637, 'users': 638, 'gala': 639, 'settle': 640, 'cost': 641, 'increase': 642, 'fears': 643, 'labeouf': 644, 'very': 645, 'dark': 646, 'disney': 647, 'franco': 648, 'glass': 649, 'spending': 650, 'nick': 651, 'warner': 652, 'focus': 653, 'adds': 654, 'chrysler': 655, 'expected': 656, 'australia': 657, 'boe': 658, 'vs': 659, 'cash': 660, 'making': 661, 'sources': 662, 'co': 663, 'were': 664, 'scientists': 665, 'husband': 666, 'want': 667, 'below': 668, 'unit': 669, 'behind': 670, 'christina': 671, 'pharrell': 672, 'grains': 673, 'stage': 674, 'financial': 675, 'need': 676, 'app': 677, 'buys': 678, 'johnson': 679, 'tribute': 680, 'job': 681, 'yet': 682, 'government': 683, 'shire': 684, '12': 685, 'shia': 686, 'amazing': 687, 'settlement': 688, 'bell': 689, 'mila': 690, 'kunis': 691, 'marriage': 692, 'vii': 693, 'stanley': 694, 'instagram': 695, 'release': 696, 'nasa': 697, 'meet': 698, 'earth': 699, 'corn': 700, 'cable': 701, 'ready': 702, 'lows': 703, 'join': 704, 'easing': 705, 'meeting': 706, 'london': 707, 'story': 708, 'him': 709, 'sells': 710, 'rogen': 711, 'bet': 712, 'step': 713, 'apparel': 714, 'la': 715, 'takeover': 716, 'work': 717, 'deadly': 718, 'stay': 719, 'paribas': 720, 'above': 721, 'run': 722, 'key': 723, 'fire': 724, 'safety': 725, 'ge': 726, 'dating': 727, 'mars': 728, 'gaga': 729, 'recovery': 730, 'president': 731, 'sister': 732, 'c': 733, 'neil': 734, 'industry': 735, 'son': 736, 'jr': 737, 'africa': 738, 'secret': 739, 'hospital': 740, 'fcc': 741, 'rolling': 742, 'consumer': 743, 'andrew': 744, 'signs': 745, 'sequel': 746, 'â': 747, 'de': 748, 'battle': 749, 'kristen': 750, 'better': 751, 'tells': 752, 'optimism': 753, 'model': 754, 'rolf': 755, 'climbs': 756, 'challenge': 757, 'trial': 758, 'broadway': 759, 'getting': 760, 'king': 761, 'driving': 762, 'weeks': 763, 'charges': 764, 'fiat': 765, 'production': 766, 'carney': 767, 'losses': 768, 'state': 769, 'wsj': 770, 'soon': 771, 'only': 772, 'california': 773, 'revealed': 774, 'garfield': 775, 'blood': 776, 'hbo': 777, 'russell': 778, 'flight': 779, 'boeing': 780, 'stop': 781, 'com': 782, 'launch': 783, 'yuan': 784, 'toyota': 785, 'treasury': 786, 'official': 787, 'almost': 788, 'beat': 789, 'group': 790, 'keep': 791, 'suisse': 792, 'worst': 793, 'advance': 794, 'mccarthy': 795, 'officials': 796, 'smith': 797, 'aereo': 798, 'series': 799, 'gown': 800, 'stones': 801, 'critics': 802, 'morning': 803, 'weekend': 804, 'airlines': 805, 'lena': 806, 'dunham': 807, 'reality': 808, 'approves': 809, 'general': 810, 'denies': 811, 'crash': 812, 'investment': 813, 'cases': 814, 'ny': 815, 'bachelor': 816, 'once': 817, 'jimmy': 818, 'winter': 819, 'released': 820, 'urges': 821, '13': 822, 'media': 823, 'goldman': 824, 'law': 825, 'friends': 826, 'lea': 827, '14': 828, 'ring': 829, 'british': 830, 'lost': 831, 'between': 832, 'forecasts': 833, 'firms': 834, 'index': 835, 'right': 836, 'find': 837, 'final': 838, 'los': 839, 'angeles': 840, 'dow': 841, 'reveal': 842, 'dip': 843, 'katie': 844, 'panel': 845, 'outbreak': 846, 'rising': 847, 'peaches': 848, 'geldof': 849, 'directv': 850, 'interest': 851, 'offers': 852, 'pays': 853, 'talk': 854, 'russian': 855, 'boosts': 856, 'puts': 857, 'abbvie': 858, 'streaming': 859, 'minutes': 860, 'retail': 861, 'does': 862, 'think': 863, 'following': 864, 'investigation': 865, 'married': 866, 'sterling': 867, 'lowest': 868, 'breaks': 869, 'factory': 870, 'buying': 871, 'michele': 872, 'working': 873, 'housing': 874, '15': 875, 'summer': 876, 'there': 877, 'launches': 878, 'win': 879, 'water': 880, 'fine': 881, 'quit': 882, 'finale': 883, 'attack': 884, 'workers': 885, 'never': 886, 'suit': 887, 'swiss': 888, 'demi': 889, 'lovato': 890, 'canadian': 891, 'bofa': 892, 'fails': 893, 'fast': 894, 'city': 895, 'hopes': 896, 'give': 897, 'strike': 898, 'signals': 899, 'ben': 900, 'transformers': 901, 'minister': 902, 'song': 903, 'rihanna': 904, 'defends': 905, 'rare': 906, 'faces': 907, 'reaches': 908, 'bryan': 909, 'solange': 910, 'bankruptcy': 911, 'sign': 912, 'assault': 913, 'filming': 914, 'agrees': 915, 'turns': 916, '25': 917, 'fuel': 918, '11': 919, 'spread': 920, 'prince': 921, 'everything': 922, 'edges': 923, 'candy': 924, 'girls': 925, 'isn': 926, 'put': 927, 'weight': 928, 'coming': 929, 'pregnancy': 930, 'fix': 931, 'boy': 932, 'harry': 933, 'neutrality': 934, 'rapper': 935, '24': 936, 'eight': 937, 'dancing': 938, 'happy': 939, 'lifts': 940, 'host': 941, 'tensions': 942, 'treatment': 943, 'lewis': 944, 'pmi': 945, 'board': 946, 'switch': 947, 'americans': 948, 'announces': 949, 'negative': 950, 'charged': 951, 'cancels': 952, 'without': 953, 'spanish': 954, 'light': 955, '30': 956, 'electric': 957, 'sir': 958, 'police': 959, 'lawrence': 960, 'issues': 961, 'expectations': 962, 'area': 963, 'surge': 964, 'records': 965, 'weighs': 966, 'indian': 967, 'act': 968, 'libya': 969, 'selfie': 970, 'term': 971, 'bring': 972, 'biopic': 973, 'bachelorette': 974, 'small': 975, 'planet': 976, 'move': 977, 'huge': 978, 'finally': 979, 'smartphone': 980, 'keeps': 981, 'around': 982, 'galaxy': 983, 'kendall': 984, 'gdp': 985, 'paris': 986, 'slump': 987, 'patent': 988, 'sector': 989, 'factors': 990, 'rumours': 991, 'michelle': 992, 'products': 993, 'risks': 994, 'companies': 995, 'washington': 996, 'sues': 997, 'where': 998, 'oscar': 999, 'sets': 1000, 'true': 1001, 'hold': 1002, 'keith': 1003, 'drugs': 1004, 'central': 1005, 'fan': 1006, 'spears': 1007, 'yr': 1008, 'name': 1009, 'threat': 1010, 'highs': 1011, 'security': 1012, 'giant': 1013, 'remains': 1014, 'press': 1015, 'vogue': 1016, 'exports': 1017, 'rob': 1018, 'pattinson': 1019, 'exit': 1020, 'coachella': 1021, 'labor': 1022, 'miranda': 1023, 'online': 1024, 'celebrates': 1025, 'which': 1026, 'foods': 1027, 'malaysia': 1028, 'together': 1029, 'dips': 1030, 'regulator': 1031, 'surprise': 1032, 'private': 1033, 'jon': 1034, 'these': 1035, 'slightly': 1036, 'funeral': 1037, 'idol': 1038, 'jason': 1039, 'opening': 1040, 'olivia': 1041, 'weather': 1042, 'speculation': 1043, 'speed': 1044, 'sea': 1045, 'reunion': 1046, 'weekly': 1047, 'perry': 1048, 'past': 1049, 'many': 1050, 'style': 1051, 'traders': 1052, 'britney': 1053, 'supreme': 1054, 'vietnam': 1055, 'pressure': 1056, 'arrives': 1057, 'heartbleed': 1058, 'ackman': 1059, 'mark': 1060, 'unveils': 1061, 'moon': 1062, 'jpmorgan': 1063, 'surges': 1064, 'deutsche': 1065, 'announce': 1066, 'cdc': 1067, 'sexy': 1068, 'seek': 1069, 'miss': 1070, 'hemsworth': 1071, 'scandal': 1072, 'games': 1073, 'fx': 1074, 'nyong': 1075, 'lift': 1076, 'per': 1077, 'tori': 1078, 'rivals': 1079, '18': 1080, 'movies': 1081, 'well': 1082, 'through': 1083, 'line': 1084, 'admits': 1085, 'kourtney': 1086, 'slip': 1087, 'shailene': 1088, 'woodley': 1089, 'major': 1090, 'crush': 1091, 'led': 1092, 'carpet': 1093, 'cameron': 1094, 'ad': 1095, 'school': 1096, 'executive': 1097, 'leave': 1098, 'web': 1099, 'richard': 1100, 'output': 1101, 'returns': 1102, 'jenny': 1103, 'nikkei': 1104, 'jack': 1105, 'ebay': 1106, 'cloud': 1107, 'direct': 1108, 'putin': 1109, 'concert': 1110, 'declines': 1111, 'lopez': 1112, 'allen': 1113, 'system': 1114, 'mystery': 1115, 'emerging': 1116, 'customers': 1117, 'selling': 1118, 'body': 1119, 'criminal': 1120, 'birth': 1121, 'weaker': 1122, 'versus': 1123, 'manager': 1124, 'mom': 1125, 'must': 1126, 'niro': 1127, 'smart': 1128, 'taking': 1129, 'likely': 1130, 'number': 1131, 'agency': 1132, 'breaking': 1133, 'slams': 1134, 'point': 1135, 'rose': 1136, 'moment': 1137, 'bigger': 1138, 'level': 1139, 'cigarettes': 1140, 'abuse': 1141, 'lupita': 1142, 'spelling': 1143, 'mccartney': 1144, 'states': 1145, 'confidence': 1146, 'rock': 1147, 'b': 1148, 'brain': 1149, 'same': 1150, 'legal': 1151, 'great': 1152, 'positive': 1153, 'britain': 1154, 'qe': 1155, 'mexico': 1156, 'hair': 1157, 'wanted': 1158, 'nude': 1159, 'celebrate': 1160, 'fashion': 1161, 'blackberry': 1162, 'aged': 1163, 'chairman': 1164, 'divergent': 1165, 'currency': 1166, 'montana': 1167, 'comes': 1168, 'author': 1169, 'x': 1170, 'detroit': 1171, 'moves': 1172, 'members': 1173, 'iphone': 1174, 'pushes': 1175, 'malaysian': 1176, 'neighbors': 1177, 'cobain': 1178, 'hepatitis': 1179, 'network': 1180, 'room': 1181, 'blue': 1182, 'services': 1183, 'citigroup': 1184, 'save': 1185, 'double': 1186, 'date': 1187, '35': 1188, 'train': 1189, 'climb': 1190, 'sexual': 1191, 'order': 1192, 'ipad': 1193, 'doesn': 1194, 'property': 1195, 'ratings': 1196, 'chain': 1197, 'marijuana': 1198, 'slide': 1199, 'whole': 1200, 'sprint': 1201, 'single': 1202, 'mariah': 1203, 'carey': 1204, 'tweet': 1205, 'captain': 1206, '2013': 1207, 'leaving': 1208, 'dean': 1209, 'divorce': 1210, 'hours': 1211, 'tonight': 1212, 'picture': 1213, 'louis': 1214, 'wheat': 1215, 'teen': 1216, 'charge': 1217, 'solar': 1218, 'marvel': 1219, 'miners': 1220, 'profits': 1221, 'fame': 1222, 'rebound': 1223, 'senate': 1224, 'weigh': 1225, 'bikini': 1226, 'll': 1227, 'freddie': 1228, 'because': 1229, '22': 1230, 'rating': 1231, 'union': 1232, 'siemens': 1233, 'nothing': 1234, 'creator': 1235, 'marries': 1236, 'scarlett': 1237, 'daily': 1238, 'ellen': 1239, 'thanks': 1240, 'approval': 1241, 'korea': 1242, 'tests': 1243, 'alzheimer': 1244, 'linked': 1245, 'affleck': 1246, 'decision': 1247, 'worries': 1248, 'oprah': 1249, 'actress': 1250, 'crashes': 1251, 'q2': 1252, 'crowe': 1253, 'trying': 1254, 'outside': 1255, 'performance': 1256, 'needs': 1257, 'highest': 1258, 'called': 1259, 'parents': 1260, 'hall': 1261, 'stewart': 1262, 'engagement': 1263, 'forced': 1264, 'yield': 1265, 'italian': 1266, 'batman': 1267, 'hard': 1268, 'killed': 1269, 'diabetes': 1270, 'ibm': 1271, 'dispute': 1272, 'helps': 1273, 'track': 1274, 'snapchat': 1275, 'cannon': 1276, 'band': 1277, 'rick': 1278, 'transcendence': 1279, 'fees': 1280, 'topless': 1281, '17': 1282, 'straight': 1283, 'thing': 1284, 'equities': 1285, 'recap': 1286, 'shareholders': 1287, 'germany': 1288, 'boyfriend': 1289, 'vehicles': 1290, 'italy': 1291, 'african': 1292, 'wears': 1293, 'girlfriend': 1294, 'deadline': 1295, 'left': 1296, 'reviews': 1297, 'massive': 1298, 'medtronic': 1299, 'urban': 1300, 'breach': 1301, 'beautiful': 1302, 'rallies': 1303, 'tries': 1304, 'v': 1305, 'q1': 1306, 'card': 1307, 'slides': 1308, 'epa': 1309, 'johansson': 1310, 'plant': 1311, 'loan': 1312, 'fell': 1313, 'didn': 1314, 'auction': 1315, 'today': 1316, 'contract': 1317, 'hotel': 1318, '45': 1319, 'fargo': 1320, 'mrs': 1321, 'disease': 1322, 'downey': 1323, 'stephen': 1324, 'longer': 1325, 'class': 1326, 'rebounds': 1327, 'expecting': 1328, 'figure': 1329, 'controversial': 1330, 'prime': 1331, 'lives': 1332, 'kiss': 1333, 'among': 1334, 'intel': 1335, 'f': 1336, 'sun': 1337, 'reportedly': 1338, 'actually': 1339, 'tattoo': 1340, 'florida': 1341, 'adam': 1342, 'reason': 1343, 'sick': 1344, 'safe': 1345, 'gary': 1346, 'picks': 1347, 'joan': 1348, 'drew': 1349, 'asset': 1350, 'nears': 1351, 'delayed': 1352, '16': 1353, 'puerto': 1354, 'rico': 1355, 'peter': 1356, 'cent': 1357, 'fresh': 1358, 'team': 1359, 'pictured': 1360, 'works': 1361, 'claim': 1362, 'increases': 1363, 'doubles': 1364, 'steve': 1365, 'worth': 1366, 'warning': 1367, 'd': 1368, 'leaked': 1369, 'congress': 1370, 'soars': 1371, 'monster': 1372, 'dog': 1373, 'pace': 1374, 'julia': 1375, 'matthew': 1376, 'advances': 1377, 'begins': 1378, 'frozen': 1379, 'josh': 1380, 'stress': 1381, 'producer': 1382, 'competition': 1383, 'musical': 1384, 'guardians': 1385, 'flash': 1386, 'relationship': 1387, 'testimony': 1388, 'scene': 1389, 'rosie': 1390, 'donnell': 1391, 've': 1392, 'trapped': 1393, 'place': 1394, 'winslet': 1395, 'break': 1396, 'patrick': 1397, 'godzilla': 1398, 'ftc': 1399, 'duke': 1400, 'land': 1401, 'pleads': 1402, 'slumps': 1403, 'streak': 1404, 'england': 1405, 'lily': 1406, 'copyright': 1407, 'walk': 1408, 'turn': 1409, 'extends': 1410, 'warming': 1411, 'used': 1412, 'hill': 1413, 'technology': 1414, 'patients': 1415, 'books': 1416, 'inside': 1417, 'broken': 1418, 'columbus': 1419, 'tumble': 1420, 'hackers': 1421, 'charney': 1422, 'acting': 1423, 'giving': 1424, 'cfo': 1425, 'camera': 1426, 'loans': 1427, 'loses': 1428, 'friday': 1429, 'ruling': 1430, 'heard': 1431, 'every': 1432, 'medical': 1433, 'uber': 1434, 'rooney': 1435, 'nyc': 1436, 'stores': 1437, 'assets': 1438, 'supplies': 1439, 'using': 1440, 'billboard': 1441, 'cigarette': 1442, 'tom': 1443, 'argentine': 1444, 'changed': 1445, 'skin': 1446, 'android': 1447, 'sony': 1448, 'history': 1449, 'special': 1450, 'platinum': 1451, 'aguilera': 1452, 'plea': 1453, 'meets': 1454, 'watson': 1455, 'subdued': 1456, 'problem': 1457, 'mostly': 1458, 'katy': 1459, 'texas': 1460, 'weds': 1461, 'me': 1462, 'musk': 1463, 'magazine': 1464, 'blasts': 1465, 'frankie': 1466, 'slow': 1467, 'friend': 1468, 'cell': 1469, 'questions': 1470, 'aid': 1471, 'control': 1472, 'jd': 1473, 'kris': 1474, '2nd': 1475, 'brings': 1476, 'national': 1477, 'restaurant': 1478, 'means': 1479, 'healthcare': 1480, 'dee': 1481, 'words': 1482, 'allow': 1483, 'ann': 1484, 'beyoncé': 1485, 'citi': 1486, 'reduce': 1487, 'kevin': 1488, 'herbalife': 1489, 'millions': 1490, 'gibson': 1491, 'brands': 1492, 'raising': 1493, 'fourth': 1494, 'queen': 1495, 'jackman': 1496, 'ask': 1497, 'bear': 1498, 'comedy': 1499, '19': 1500, 'tony': 1501, 'releases': 1502, 'research': 1503, 'upbeat': 1504, 'speech': 1505, 'films': 1506, 'winning': 1507, 'satellite': 1508, 'text': 1509, 'federal': 1510, 'maleficent': 1511, 'tribeca': 1512, 'turnaround': 1513, 'drag': 1514, 'selloff': 1515, 'named': 1516, 'boys': 1517, 'multi': 1518, 'oscars': 1519, 'unemployment': 1520, 'growing': 1521, 'grow': 1522, 'arrest': 1523, 'wage': 1524, 'chelsea': 1525, 'fires': 1526, 'pretty': 1527, '27': 1528, 'held': 1529, 'default': 1530, 'airline': 1531, 'mara': 1532, 'struggle': 1533, 'device': 1534, 'survey': 1535, 'colbert': 1536, 'cbs': 1537, 'row': 1538, 'doctor': 1539, 'doctors': 1540, 'club': 1541, 'fraud': 1542, 'bitcoin': 1543, 'madonna': 1544, 'told': 1545, 'super': 1546, 'let': 1547, 'superman': 1548, 'die': 1549, 'orange': 1550, 'himself': 1551, 'porn': 1552, 'accused': 1553, 'worker': 1554, 'saudi': 1555, 'might': 1556, 'currencies': 1557, 'daniel': 1558, 'bp': 1559, 'abc': 1560, 'discovered': 1561, 'sparks': 1562, 'suicide': 1563, 'mice': 1564, 'barrymore': 1565, 'direction': 1566, 'backs': 1567, 'joe': 1568, 'prevent': 1569, 'grows': 1570, 'lawmakers': 1571, 'insider': 1572, 'violence': 1573, 'problems': 1574, 'confirmed': 1575, 'sends': 1576, 'storage': 1577, 'bbb': 1578, 'gig': 1579, 'jail': 1580, 'tell': 1581, 'alleged': 1582, 'aronofsky': 1583, 'kill': 1584, 'green': 1585, 'reaction': 1586, 'retreat': 1587, 'social': 1588, 'playstation': 1589, 'response': 1590, 'gosling': 1591, 'evans': 1592, 'far': 1593, 'continue': 1594, 'come': 1595, 'iconic': 1596, 'targets': 1597, 'cory': 1598, 'tanker': 1599, 'hurt': 1600, 'longest': 1601, 'everyone': 1602, 'japanese': 1603, 'hugh': 1604, 'guinea': 1605, 'warn': 1606, 'joke': 1607, 'k': 1608, 'suggests': 1609, 'blames': 1610, '90': 1611, 'message': 1612, 'east': 1613, '2012': 1614, 'needed': 1615, 'tight': 1616, 'losing': 1617, 'stays': 1618, 'size': 1619, 'slows': 1620, '1st': 1621, 'spreads': 1622, 'jada': 1623, 'contestant': 1624, 'ease': 1625, 'continues': 1626, 'burger': 1627, 'tyson': 1628, 'shoot': 1629, 'wti': 1630, 'care': 1631, 'pictures': 1632, 'nicole': 1633, 'kidman': 1634, 'access': 1635, 'turkey': 1636, 'faster': 1637, 'given': 1638, 'estimate': 1639, 'researchers': 1640, 'force': 1641, 'eye': 1642, 'avicii': 1643, 'shot': 1644, 'gilead': 1645, 'closes': 1646, 'digest': 1647, 'spring': 1648, 'scrutiny': 1649, 'perfect': 1650, 'heads': 1651, 'privacy': 1652, 'marry': 1653, 'bucket': 1654, 'fear': 1655, 'sac': 1656, 'khloé': 1657, 'easter': 1658, 'strengthens': 1659, 'sued': 1660, 'attacks': 1661, 'magic': 1662, 'middleton': 1663, 'roll': 1664, 'levels': 1665, 'fannie': 1666, 'side': 1667, 'concern': 1668, 'jobless': 1669, 'enough': 1670, 'investigating': 1671, 'traffic': 1672, 'rehab': 1673, 'potter': 1674, 'levine': 1675, 'stronger': 1676, 'naked': 1677, 'rivers': 1678, 'controversy': 1679, 'roberts': 1680, 'largest': 1681, 'pharma': 1682, 'casey': 1683, 'kasem': 1684, 'proposed': 1685, 'lambert': 1686, 'value': 1687, 'murder': 1688, 'welcome': 1689, 'aa': 1690, 'further': 1691, 'paula': 1692, 'road': 1693, 'guide': 1694, 'jones': 1695, 'deflation': 1696, 'colin': 1697, 'tammy': 1698, 'agree': 1699, 'become': 1700, 'interview': 1701, 'proposes': 1702, 'critical': 1703, 'pablo': 1704, 'facing': 1705, 'resolve': 1706, 'debate': 1707, 'expects': 1708, 'female': 1709, 'bids': 1710, 'hot': 1711, 'session': 1712, 'aren': 1713, 'lunch': 1714, 'starts': 1715, 'ruby': 1716, 'jamie': 1717, 'tracking': 1718, 'campaign': 1719, 'until': 1720, 'starbucks': 1721, 'store': 1722, 'illinois': 1723, 'elsa': 1724, 'andi': 1725, 'murray': 1726, 'engaged': 1727, 'total': 1728, 'monteith': 1729, 'diaz': 1730, 'stunning': 1731, 'xbox': 1732, 'tobacco': 1733, 'seven': 1734, 'software': 1735, 'nicki': 1736, 'minaj': 1737, 'fake': 1738, 'morrissey': 1739, 'across': 1740, 'honduran': 1741, 'career': 1742, 'crop': 1743, 'pot': 1744, 'protect': 1745, 'station': 1746, 'kylie': 1747, 'conscious': 1748, 'uncoupling': 1749, 'reasons': 1750, 'brother': 1751, 'protest': 1752, 'infection': 1753, 'dividend': 1754, 'tributes': 1755, 'complete': 1756, 'monty': 1757, 'python': 1758, 'reunite': 1759, 'explains': 1760, 'carbon': 1761, 'mh370': 1762, 'bride': 1763, 'chart': 1764, 'woody': 1765, 'herself': 1766, 'fights': 1767, 'healthy': 1768, 'lee': 1769, 'part': 1770, 'spain': 1771, 'issue': 1772, 'thursday': 1773, 'pinkett': 1774, 'kimye': 1775, 'eric': 1776, 'vmas': 1777, 'bags': 1778, 'orlando': 1779, 'international': 1780, 'vows': 1781, 'deaths': 1782, 'flies': 1783, 'floyd': 1784, 'highlights': 1785, 'ultra': 1786, 'alba': 1787, 'softbank': 1788, 'changes': 1789, 'notes': 1790, 'extend': 1791, 'asks': 1792, 'breast': 1793, 'ukrainian': 1794, 'develop': 1795, 'dallas': 1796, 'expands': 1797, 'cites': 1798, 'novartis': 1799, 'celebrities': 1800, 'defect': 1801, 'design': 1802, 'caught': 1803, 'wells': 1804, 'rights': 1805, 'gq': 1806, 'abramson': 1807, 'dovish': 1808, 'ftse': 1809, 'extinction': 1810, 'davis': 1811, 'celebrity': 1812, 'dawn': 1813, 'bang': 1814, 'shooting': 1815, 'curb': 1816, 'mac': 1817, 'student': 1818, 'dance': 1819, 'digital': 1820, 'lets': 1821, 'libyan': 1822, 'navy': 1823, 'founder': 1824, 'joint': 1825, 'subscribers': 1826, 'drink': 1827, 'february': 1828, 'middle': 1829, 'flashes': 1830, 'fired': 1831, 'attorney': 1832, 'fracking': 1833, 'barra': 1834, 'website': 1835, 'original': 1836, 'investor': 1837, '0': 1838, 'plus': 1839, 'cancel': 1840, 'check': 1841, '4th': 1842, 'lands': 1843, 'eases': 1844, 'rival': 1845, 'build': 1846, 'drone': 1847, 'melissa': 1848, 'monday': 1849, 'export': 1850, 'authorities': 1851, 'pink': 1852, 'bangerz': 1853, 'stacy': 1854, 'nine': 1855, 'poses': 1856, 'remain': 1857, 'spacex': 1858, 'animal': 1859, 'bob': 1860, 'settles': 1861, 'cause': 1862, 'sec': 1863, 'nuclear': 1864, 'jury': 1865, 'bug': 1866, '250': 1867, 'banking': 1868, 'snaps': 1869, 'juan': 1870, 'loves': 1871, 'tweets': 1872, 'them': 1873, 'amal': 1874, 'alamuddin': 1875, 'tsx': 1876, 'mixed': 1877, '2009': 1878, 'funds': 1879, 'surgery': 1880, 'coach': 1881, 'billionaire': 1882, 'evil': 1883, 'charity': 1884, 'hands': 1885, 'dr': 1886, 'potential': 1887, 'battery': 1888, 'boss': 1889, 'dorfman': 1890, 'awaited': 1891, 'door': 1892, 'schwarzenegger': 1893, 'hamm': 1894, 'aims': 1895, 'hillshire': 1896, 'race': 1897, 'pizza': 1898, 'officially': 1899, 'bmw': 1900, 'dancer': 1901, 'anniversary': 1902, 'retailer': 1903, 'ads': 1904, 'apps': 1905, 'prepares': 1906, 'advice': 1907, 'choice': 1908, 'sherri': 1909, 'shepherd': 1910, 'coal': 1911, 'trip': 1912, 'ariana': 1913, 'grande': 1914, 'ifo': 1915, 'probes': 1916, 'lot': 1917, 'shock': 1918, 'round': 1919, 'hilary': 1920, 'victims': 1921, 'teenage': 1922, 'fisher': 1923, 'helped': 1924, 'wrong': 1925, 'richards': 1926, 'entire': 1927, 'kiwi': 1928, 'hope': 1929, 'airways': 1930, 'bit': 1931, '26': 1932, 'rich': 1933, 'famous': 1934, 'saturday': 1935, 'tumbles': 1936, 'parts': 1937, 'nbc': 1938, 'amy': 1939, 'accident': 1940, 'replaces': 1941, 'aussie': 1942, 'begin': 1943, 'fallon': 1944, 'michigan': 1945, 'via': 1946, 'perform': 1947, 'haven': 1948, 'mail': 1949, 'mt': 1950, 'gox': 1951, 'comeback': 1952, 'jupiter': 1953, 'spot': 1954, 'wake': 1955, 'add': 1956, 'airport': 1957, 'matt': 1958, 'g': 1959, 'miami': 1960, 'consumers': 1961, 'doubtfire': 1962, 'megan': 1963, 'gap': 1964, 'honda': 1965, 'stolen': 1966, 'ways': 1967, 'eating': 1968, 'thousands': 1969, 'mickey': 1970, 'governor': 1971, 'shines': 1972, 'homeless': 1973, 'retirement': 1974, 'era': 1975, 'eyed': 1976, 'korean': 1977, 'pippa': 1978, 'thinks': 1979, 'hp': 1980, 'avril': 1981, 'lavigne': 1982, 'trend': 1983, 'ousted': 1984, 'avoid': 1985, 'trades': 1986, 'stem': 1987, 'palermo': 1988, 'simon': 1989, 'kerry': 1990, 'pre': 1991, 'payment': 1992, 'guidance': 1993, 'recalled': 1994, 'garth': 1995, 'dna': 1996, 'sentiment': 1997, 'letterman': 1998, 'radcliffe': 1999, 'oldman': 2000, 'charlie': 2001, 'exclusive': 2002, 'cooper': 2003, 'peace': 2004, 'rowling': 2005, 'emergency': 2006, 'sorry': 2007, 'kurt': 2008, 'living': 2009, 'activists': 2010, 'blogs': 2011, 'plunging': 2012, 'dicaprio': 2013, 'jeans': 2014, 'passengers': 2015, 'revises': 2016, 'tatum': 2017, 'veronica': 2018, 'upcoming': 2019, 'incident': 2020, 'hunt': 2021, 'nissan': 2022, 'brothers': 2023, 'gwen': 2024, 'ashton': 2025, 'kutcher': 2026, 'ross': 2027, 'marc': 2028, 'vote': 2029, 'murdoch': 2030, 'spin': 2031, 'cheating': 2032, 'stance': 2033, 'cool': 2034, 'soybeans': 2035, 'doing': 2036, 'event': 2037, 'prompt': 2038, 'later': 2039, 'effects': 2040, 'statement': 2041, 'hint': 2042, 'cap': 2043, 'models': 2044, 'chipotle': 2045, 'mike': 2046, 'something': 2047, 'cube': 2048, 'allergic': 2049, 'corporate': 2050, 'common': 2051, 'anna': 2052, 'spends': 2053, 'pulled': 2054, 'bulgaria': 2055, 'normal': 2056, 'mission': 2057, 'caps': 2058, 'cools': 2059, 'lifetime': 2060, 'college': 2061, 'alcohol': 2062, 'htc': 2063, 'scare': 2064, 'yum': 2065, 'demands': 2066, 'flights': 2067, 'upon': 2068, 'drones': 2069, 'january': 2070, 'toll': 2071, 'slammed': 2072, 'refuses': 2073, 'racist': 2074, 'hiv': 2075, 'patient': 2076, 'equal': 2077, 'promise': 2078, 'progress': 2079, 'towards': 2080, 'lose': 2081, 'bus': 2082, 'alert': 2083, 'false': 2084, 'kiefer': 2085, 'pop': 2086, 'links': 2087, 'travel': 2088, 'dui': 2089, 'strikes': 2090, 'duff': 2091, 'receive': 2092, 'least': 2093, 'reach': 2094, 'block': 2095, 'youtube': 2096, 'couric': 2097, 'hacked': 2098, 'valued': 2099, 'seeking': 2100, 'makers': 2101, 'teva': 2102, 'measures': 2103, 'forgotten': 2104, 'irish': 2105, 'illegal': 2106, 'timeline': 2107, 'pipeline': 2108, 'stuns': 2109, 'sue': 2110, 'gun': 2111, 'arnold': 2112, 'gopro': 2113, 'poised': 2114, 'expansion': 2115, 'degeneres': 2116, 'kelly': 2117, 'faulty': 2118, 'zendaya': 2119, 'sxsw': 2120, 'injured': 2121, 'ride': 2122, 'strategy': 2123, 'lawyer': 2124, 'older': 2125, 'payrolls': 2126, 'port': 2127, 'leather': 2128, 'gazprom': 2129, 'ireland': 2130, '1300': 2131, 'unveil': 2132, 'dressed': 2133, 'viewers': 2134, 'speaks': 2135, 'blonde': 2136, 'hints': 2137, 'award': 2138, 'driver': 2139, 'twice': 2140, 'wear': 2141, 'guest': 2142, 'carolina': 2143, 'read': 2144, 'shower': 2145, 'hedge': 2146, 'hearing': 2147, 'pool': 2148, 'seat': 2149, 'sinks': 2150, 'thomas': 2151, 'disappoints': 2152, 'becomes': 2153, 'bans': 2154, 'joining': 2155, 'steel': 2156, 'separate': 2157, 'machine': 2158, 'ship': 2159, 'momentum': 2160, 'income': 2161, 'drags': 2162, 'pope': 2163, 'smaller': 2164, 'apology': 2165, 'wild': 2166, 'defense': 2167, 'muppets': 2168, 'fat': 2169, 'drive': 2170, 'fun': 2171, 'moms': 2172, 'bunch': 2173, 'skirt': 2174, 'tape': 2175, 'imports': 2176, 'experiment': 2177, 'plays': 2178, 'human': 2179, 'pal': 2180, 'eli': 2181, 'sons': 2182, 'rape': 2183, 'cup': 2184, 'bloom': 2185, 'kerr': 2186, 'budget': 2187, 'cbo': 2188, 'rocket': 2189, 'commodity': 2190, 'spills': 2191, 'oracle': 2192, 'wish': 2193, 'arabia': 2194, 'shut': 2195, 'lagarde': 2196, 'project': 2197, 'diane': 2198, 'fair': 2199, 'qtr': 2200, 'chic': 2201, 'woes': 2202, 'page': 2203, 'dave': 2204, 'condition': 2205, 'suspends': 2206, 'mean': 2207, 'wireless': 2208, 'changing': 2209, 'winner': 2210, 'fail': 2211, 'guy': 2212, 'ac': 2213, 'dc': 2214, 'liam': 2215, 'financing': 2216, 'leonardo': 2217, 'drama': 2218, 'keibler': 2219, 'patton': 2220, 'sutherland': 2221, 'tied': 2222, 'glee': 2223, 'taxes': 2224, 'struggles': 2225, 'soft': 2226, 'valuation': 2227, 'actors': 2228, 'bullard': 2229, 'taco': 2230, 'sunday': 2231, 'humans': 2232, 'link': 2233, 'trust': 2234, 'images': 2235, 'proves': 2236, 'recovers': 2237, 'knuckles': 2238, 'arquette': 2239, 'elle': 2240, 'uninsured': 2241, 'furious': 2242, 'darren': 2243, 'cruise': 2244, 'sierra': 2245, 'leone': 2246, 'scenes': 2247, 'comic': 2248, 'rated': 2249, 'limits': 2250, 'wasn': 2251, 'twitch': 2252, 'compensation': 2253, 'jumpsuit': 2254, 'including': 2255, 'soldier': 2256, 'makeup': 2257, 'coast': 2258, 'emirates': 2259, 'spotted': 2260, 'oh': 2261, 'museum': 2262, 'teaser': 2263, 'abortion': 2264, 'lung': 2265, 'rule': 2266, 'lights': 2267, 'hunting': 2268, 'serious': 2269, 'katherine': 2270, 'fbi': 2271, 'hayden': 2272, 'having': 2273, 'any': 2274, 'wed': 2275, 'usda': 2276, 'hand': 2277, 'mid': 2278, 'covered': 2279, 'casts': 2280, 'theft': 2281, 'feature': 2282, 'options': 2283, 'personal': 2284, 'experts': 2285, 'disappointed': 2286, 'different': 2287, 'geithner': 2288, 'region': 2289, 'regulators': 2290, 'failure': 2291, 'wal': 2292, 'mart': 2293, 'couple': 2294, 'others': 2295, 'exposed': 2296, 'shouldn': 2297, 'usa': 2298, 'wilde': 2299, 'icahn': 2300, 'smoke': 2301, 'form': 2302, 'idina': 2303, 'menzel': 2304, 'halt': 2305, 'delay': 2306, 'accord': 2307, 'partners': 2308, 'prinze': 2309, 'iggy': 2310, 'cyber': 2311, 'thought': 2312, 'foreign': 2313, 'tran': 2314, 'republicans': 2315, 'legendary': 2316, 'runs': 2317, 'agreement': 2318, 'inspired': 2319, 'supports': 2320, 'swaps': 2321, 'church': 2322, 'management': 2323, 'site': 2324, 'ohio': 2325, 'kuroda': 2326, 'lending': 2327, 'tim': 2328, 'australian': 2329, 'jace': 2330, 'fighting': 2331, 'finance': 2332, 'blockbuster': 2333, 'died': 2334, 'earlier': 2335, 'ubs': 2336, 'events': 2337, 'construction': 2338, 'favreau': 2339, 'existing': 2340, 'done': 2341, 'dream': 2342, 'reduces': 2343, 'chef': 2344, 'buffett': 2345, 'raised': 2346, 'improved': 2347, 'pilot': 2348, 'looms': 2349, 'fiance': 2350, 'island': 2351, 'write': 2352, 'bean': 2353, 'hills': 2354, 'hospitalized': 2355, 'christian': 2356, 'copper': 2357, 'tyler': 2358, 'handler': 2359, 'jeopardy': 2360, 'debbie': 2361, 'political': 2362, 'dons': 2363, 'amber': 2364, 'walking': 2365, 'cold': 2366, 'already': 2367, 'elizabeth': 2368, 'unrest': 2369, 'conference': 2370, 'hosting': 2371, 'paid': 2372, 'fatal': 2373, 'allegedly': 2374, 'impact': 2375, 'console': 2376, 'receives': 2377, 'sean': 2378, 'daddy': 2379, '17000': 2380, 'tie': 2381, 'studios': 2382, 'ocean': 2383, 'snl': 2384, 'visits': 2385, 'brand': 2386, 'trigger': 2387, 'smoking': 2388, 'dov': 2389, 'dazzles': 2390, 'letter': 2391, 'funny': 2392, 'greek': 2393, 'non': 2394, 'awesome': 2395, 'river': 2396, 'fiancee': 2397, 'warrant': 2398, 'sing': 2399, 'mini': 2400, 'column': 2401, 'bizarre': 2402, 'obesity': 2403, 'bloomberg': 2404, 'rebels': 2405, 'ports': 2406, 'ending': 2407, 'improve': 2408, 'funding': 2409, 'thinking': 2410, 'according': 2411, 'beef': 2412, 'potentially': 2413, 'incredible': 2414, 'purchases': 2415, 'rest': 2416, 'employees': 2417, 'san': 2418, 'prospects': 2419, 'drives': 2420, 'lake': 2421, 'jan': 2422, 'sheen': 2423, 'country': 2424, 'signal': 2425, 'autism': 2426, 'emerges': 2427, 'terry': 2428, 'alien': 2429, 'scientific': 2430, 'nymex': 2431, 'christine': 2432, 'executives': 2433, 'economist': 2434, 'sofia': 2435, 'mae': 2436, 'lorde': 2437, 'mergers': 2438, 'rachel': 2439, 'francis': 2440, 'october': 2441, 'adp': 2442, 'phil': 2443, 'collins': 2444, 'crimea': 2445, 'seconds': 2446, '3d': 2447, 'hsbc': 2448, 'fedex': 2449, 'ginnifer': 2450, 'goodwin': 2451, 'tina': 2452, 'fey': 2453, 'coldplay': 2454, 'natural': 2455, 'broad': 2456, 'deputy': 2457, '23': 2458, 'jonah': 2459, 'paparazzi': 2460, 'activity': 2461, 'coca': 2462, 'cola': 2463, 'lab': 2464, 'monetary': 2465, 'sports': 2466, 'securities': 2467, 'course': 2468, 'mayor': 2469, 'rr': 2470, 'elon': 2471, 'hewitt': 2472, 'status': 2473, 'stefani': 2474, 'politics': 2475, 'dates': 2476, 'hosts': 2477, 'toward': 2478, 'accepts': 2479, 'teams': 2480, 'expand': 2481, 'lags': 2482, 'account': 2483, 'pilots': 2484, 'rolls': 2485, 'ed': 2486, 'limited': 2487, 'catch': 2488, 'wwe': 2489, 'brady': 2490, 'vegas': 2491, 'hip': 2492, 'walmart': 2493, 'economies': 2494, 'vw': 2495, 'lilly': 2496, 'h': 2497, 'r': 2498, 'cards': 2499, 'wig': 2500, 'silence': 2501, 'gene': 2502, 'within': 2503, 'legacy': 2504, 'favorite': 2505, 'wait': 2506, 'nfl': 2507, 'create': 2508, 'terrible': 2509, 'protection': 2510, 'tracy': 2511, 'spur': 2512, 'pan': 2513, 'lowers': 2514, 'saw': 2515, 'childhood': 2516, 'iliad': 2517, 'challenges': 2518, 'lover': 2519, 'switches': 2520, 'objects': 2521, 'spike': 2522, 'falling': 2523, 'injury': 2524, 'clean': 2525, 'brittany': 2526, 'murphy': 2527, 'cheaper': 2528, 'developers': 2529, 'aging': 2530, 'sarah': 2531, '51': 2532, 'damages': 2533, 'fifth': 2534, 'coffee': 2535, 'heigl': 2536, 'aniston': 2537, 'therapy': 2538, 'bossy': 2539, 'gloom': 2540, 'building': 2541, 'panettiere': 2542, 'portugal': 2543, 'bb': 2544, 'apologises': 2545, 'memorial': 2546, 'cfda': 2547, 'seized': 2548, '28': 2549, 'await': 2550, 'kicks': 2551, 'craig': 2552, 'ferguson': 2553, 'mockingjay': 2554, '78': 2555, 'killer': 2556, 'cancelled': 2557, 'speak': 2558, 'range': 2559, 'winners': 2560, 'clothes': 2561, 'inch': 2562, 'segel': 2563, 'approve': 2564, 'alexander': 2565, 'spill': 2566, 'venice': 2567, 'appeal': 2568, 'weakens': 2569, 'payments': 2570, 'shift': 2571, 'slowing': 2572, 'customer': 2573, 'feed': 2574, 'dresses': 2575, 'banana': 2576, 'forget': 2577, 'lyrics': 2578, 'hurts': 2579, 'toned': 2580, 'karrueche': 2581, 'piketty': 2582, 'front': 2583, 'hundreds': 2584, 'scores': 2585, 'covers': 2586, 'insurance': 2587, 'each': 2588, 'massachusetts': 2589, 'exchange': 2590, 'bny': 2591, 'activist': 2592, 'willow': 2593, 'marquez': 2594, 'prize': 2595, 'grand': 2596, 'blake': 2597, 'compares': 2598, 'pull': 2599, 'merrill': 2600, 'subscription': 2601, 'offering': 2602, 'note': 2603, 'fossil': 2604, 'points': 2605, 'hamptons': 2606, 'fate': 2607, 'sopranos': 2608, 'replace': 2609, 'planning': 2610, 'heading': 2611, 'mine': 2612, 'steals': 2613, 'dad': 2614, 'outflows': 2615, 'singers': 2616, 'macklemore': 2617, 'channel': 2618, 'billy': 2619, 'hyundai': 2620, 'protests': 2621, 'aig': 2622, 'tension': 2623, 'pill': 2624, 'threatens': 2625, 'dre': 2626, 'okcupid': 2627, 'songs': 2628, 'frances': 2629, 'motorola': 2630, 'beverly': 2631, 'morris': 2632, 'clears': 2633, 'awaits': 2634, 'snow': 2635, 'sedans': 2636, 'pratt': 2637, 'electronics': 2638, 'teens': 2639, 'happens': 2640, 'countries': 2641, 'version': 2642, 'targeted': 2643, 'pollution': 2644, 'jill': 2645, 'happiness': 2646, 'draper': 2647, 'expect': 2648, 'acm': 2649, '21': 2650, 'prove': 2651, 'parties': 2652, 'exposure': 2653, 'killing': 2654, 'tragic': 2655, 'spotify': 2656, 'appeals': 2657, 'modern': 2658, 'updates': 2659, 'soy': 2660, 'benefits': 2661, 'chocolate': 2662, 'increased': 2663, 'art': 2664, 'shrink': 2665, 'wto': 2666, 'image': 2667, 'debris': 2668, 'blow': 2669, 'cnbc': 2670, 'analysis': 2671, 'extra': 2672, 'invest': 2673, 'learned': 2674, 'carrying': 2675, 'pm': 2676, 'tears': 2677, 'flying': 2678, 'suing': 2679, 'table': 2680, 'produce': 2681, 'brazil': 2682, 'bosses': 2683, 'taken': 2684, 'lloyds': 2685, 'abrams': 2686, 'nirvana': 2687, 'appear': 2688, 'tablet': 2689, 'walks': 2690, 'pine': 2691, 'dramatic': 2692, 'halts': 2693, 'collapse': 2694, 'beatles': 2695, 'bes': 2696, 'theory': 2697, 'chance': 2698, 'soybean': 2699, 'rumors': 2700, 'fault': 2701, 'reopen': 2702, 'program': 2703, 'carter': 2704, '1000': 2705, 'park': 2706, 'advertising': 2707, 'revamp': 2708, 'spark': 2709, 'greece': 2710, '3rd': 2711, 'recent': 2712, 'blocks': 2713, 'saturn': 2714, 'september': 2715, 'nyt': 2716, 'ray': 2717, 'edwards': 2718, 'proposal': 2719, 'wearing': 2720, 'midnight': 2721, 'worsens': 2722, 'zealand': 2723, 'allure': 2724, 'virtual': 2725, 'kick': 2726, 'exec': 2727, 'faa': 2728, 'lips': 2729, 'refinery': 2730, 'knowles': 2731, 'honor': 2732, 'rainbow': 2733, 'looking': 2734, 'selfies': 2735, 'sawyer': 2736, 'qatar': 2737, 'returning': 2738, 'pulls': 2739, 'flu': 2740, 'designer': 2741, 'consider': 2742, 'dowd': 2743, 'follow': 2744, 'motors': 2745, 'steadies': 2746, 'ancier': 2747, 'fit': 2748, 'rail': 2749, 'terms': 2750, 'indexes': 2751, 'screen': 2752, 'investments': 2753, 'crushes': 2754, 'ago': 2755, 'ceremony': 2756, 'employee': 2757, 'costume': 2758, 'footage': 2759, 'praises': 2760, 'channing': 2761, 'attends': 2762, 'poster': 2763, 'features': 2764, 'lgbt': 2765, 'wayne': 2766, 'feud': 2767, 'probably': 2768, 'dynasty': 2769, 'shocking': 2770, 'enters': 2771, 'seals': 2772, 'eminem': 2773, '57': 2774, 'totally': 2775, 'filled': 2776, 'suspended': 2777, 'whether': 2778, 'pistorius': 2779, 'miscarriage': 2780, 'amanda': 2781, 'newly': 2782, 'few': 2783, 'baker': 2784, 'biotech': 2785, 'ruble': 2786, 'azalea': 2787, 'glory': 2788, 'unexpectedly': 2789, 'mel': 2790, 'main': 2791, 'networks': 2792, 'lockheed': 2793, 'trims': 2794, 'drake': 2795, 'dj': 2796, 'hop': 2797, 'hires': 2798, 'dying': 2799, 'suntrust': 2800, 'explorer': 2801, 'plants': 2802, 'reuters': 2803, 'outkast': 2804, 'mental': 2805, 'restructuring': 2806, 'hate': 2807, 'wu': 2808, 'tang': 2809, 'clan': 2810, 'y': 2811, 'remove': 2812, 'alex': 2813, 'em': 2814, 'racy': 2815, 'zeppelin': 2816, 'robbery': 2817, 'legend': 2818, 'heavy': 2819, 'estranged': 2820, 'grey': 2821, 'jets': 2822, 'holmes': 2823, 'views': 2824, 'gauge': 2825, 'jesus': 2826, 'pushing': 2827, 'hacking': 2828, 'propose': 2829, 'zero': 2830, 'developing': 2831, 'kept': 2832, 'pamela': 2833, 'anderson': 2834, 'ridiculous': 2835, 'phones': 2836, 'rita': 2837, 'ora': 2838, 'jersey': 2839, '31': 2840, 'adele': 2841, 'foot': 2842, 'motor': 2843, 'ground': 2844, 'sisters': 2845, 'maps': 2846, 'nobody': 2847, 'wintour': 2848, 'mcdermott': 2849, 'prison': 2850, 'believe': 2851, 'trails': 2852, 'webb': 2853, 'caterpillar': 2854, 'tea': 2855, 'planting': 2856, 'delays': 2857, 'pinnacle': 2858, 'underground': 2859, 'storm': 2860, 'vodafone': 2861, 'forces': 2862, 'carriers': 2863, 'quits': 2864, 'gov': 2865, 'thor': 2866, 'kissing': 2867, 'exodus': 2868, 'rescuers': 2869, 'adrienne': 2870, 'bailon': 2871, 'responds': 2872, 'ant': 2873, 'angry': 2874, 'hilarious': 2875, 'actions': 2876, 'match': 2877, 'dealers': 2878, 'bogus': 2879, 'bills': 2880, 'otis': 2881, 'fantastic': 2882, 'mansion': 2883, 'justices': 2884, 'leg': 2885, '64': 2886, 'knew': 2887, 'cleavage': 2888, 'detective': 2889, 'valve': 2890, 'cara': 2891, 'rodriguez': 2892, 'romance': 2893, 'stunt': 2894, 'mh17': 2895, 'backlash': 2896, 'boom': 2897, 'cents': 2898, 'deep': 2899, 'anthrax': 2900, 'arizona': 2901, 'bird': 2902, 'bringing': 2903, 'improving': 2904, 'along': 2905, 'ma': 2906, 'comment': 2907, 'andre': 2908, 'penis': 2909, 'ill': 2910, 'beyond': 2911, 'gabriel': 2912, 'commodities': 2913, 'driven': 2914, 'bbc': 2915, 'painkiller': 2916, 'pandora': 2917, 'fewer': 2918, 'enrollment': 2919, 'resumes': 2920, 'ticket': 2921, 'ministers': 2922, 'gorgeous': 2923, 'sheer': 2924, 'bullish': 2925, 'went': 2926, 'lion': 2927, 'virgin': 2928, 'grace': 2929, 'mum': 2930, 'limit': 2931, 'spoiler': 2932, 'justice': 2933, 'snap': 2934, 'watchdog': 2935, 'curbs': 2936, 'danica': 2937, 'steal': 2938, 'helping': 2939, 'nervous': 2940, 'rejects': 2941, 'elec': 2942, 'aaliyah': 2943, 'pitch': 2944, 'display': 2945, 'emotional': 2946, 'arrive': 2947, 'pershing': 2948, 'botox': 2949, 'noto': 2950, 'approved': 2951, 'explodes': 2952, 'upgrade': 2953, 'builds': 2954, 'philip': 2955, '68': 2956, 'revive': 2957, 'estimated': 2958, 'las': 2959, 'minimum': 2960, 'worse': 2961, 'mitsubishi': 2962, 'takata': 2963, 'strahan': 2964, 'brave': 2965, 'firing': 2966, 'acquire': 2967, 'covidien': 2968, 'addresses': 2969, 'vma': 2970, 'mass': 2971, 'frequency': 2972, 'attend': 2973, 'schumacher': 2974, 'closer': 2975, 'william': 2976, 'beloved': 2977, 'activision': 2978, 'drinking': 2979, 'guns': 2980, 'created': 2981, 'modest': 2982, 'claire': 2983, 'count': 2984, 'beer': 2985, 'emmy': 2986, 'officer': 2987, 'adams': 2988, 'volatility': 2989, 'infected': 2990, 'monthly': 2991, 'factbox': 2992, 'inches': 2993, 'strip': 2994, 'structure': 2995, 'prank': 2996, 'minute': 2997, 'organic': 2998, 'adaptation': 2999, 'egypt': 3000, 'cannabis': 3001, 'affect': 3002, 'sleep': 3003, 'outdoor': 3004, 'cabaret': 3005, 'franc': 3006, 'dangerous': 3007, '40': 3008, 'fever': 3009, 'those': 3010, 'twins': 3011, 'artist': 3012, 'kitty': 3013, 'pending': 3014, 'bright': 3015, 'pose': 3016, 'self': 3017, 'allergy': 3018, 'eagle': 3019, 'confused': 3020, 'involved': 3021, 'buoyed': 3022, 'clients': 3023, 'diamond': 3024, 'honours': 3025, 'homes': 3026, 'custody': 3027, 'nose': 3028, 'deficit': 3029, 'oculus': 3030, 'smokers': 3031, 'managers': 3032, 'quentin': 3033, 'tarantino': 3034, 'renewed': 3035, 'dads': 3036, 'neighbours': 3037, 'erste': 3038, 'character': 3039, 'draws': 3040, '5000': 3041, 'decade': 3042, 'worldwide': 3043, 'strips': 3044, 'restrictions': 3045, 'trail': 3046, 'osborne': 3047, 'mega': 3048, 'toby': 3049, 'kebbell': 3050, 'valley': 3051, 'estate': 3052, 'tesco': 3053, 'rupert': 3054, 'taiwan': 3055, 'palladium': 3056, 'mannkind': 3057, 'robust': 3058, 'evidence': 3059, 'rant': 3060, 'tap': 3061, 'mozilla': 3062, '47': 3063, 'damage': 3064, 'anchor': 3065, 'rupee': 3066, 'holcim': 3067, 'lafarge': 3068, '200': 3069, 'twin': 3070, 'consoles': 3071, 'rep': 3072, 'verizon': 3073, 'vergara': 3074, 'person': 3075, 'reverse': 3076, 'tuesday': 3077, 'hollande': 3078, 'acquisitions': 3079, 'saved': 3080, 'swings': 3081, 'richardson': 3082, 'accuser': 3083, 'cargo': 3084, 'cameras': 3085, 'brockie': 3086, 'heroin': 3087, 'overdose': 3088, 'heaven': 3089, 'wash': 3090, 'gordimer': 3091, 'yellow': 3092, 'owner': 3093, 'hole': 3094, 'fly': 3095, 'secrets': 3096, 'solve': 3097, 'harder': 3098, 'label': 3099, 'riot': 3100, 'barbara': 3101, 'walters': 3102, 'manganiello': 3103, 'hospitalised': 3104, 'practices': 3105, 'effect': 3106, 'ivy': 3107, 'ft': 3108, 'sandra': 3109, 'bomb': 3110, 'eva': 3111, '55': 3112, 'winfrey': 3113, 'patents': 3114, 'marketing': 3115, 'includes': 3116, 'confronts': 3117, 'nintendo': 3118, 'hitting': 3119, 'alcoa': 3120, 'screens': 3121, 'senior': 3122, 'shuts': 3123, 'ouster': 3124, 'creates': 3125, 'mary': 3126, 'beard': 3127, 'weird': 3128, 'dinner': 3129, 'markit': 3130, 'television': 3131, 'luxury': 3132, 'midriff': 3133, 'anything': 3134, 'airbus': 3135, 'allows': 3136, 'telecom': 3137, 'apologizes': 3138, '70': 3139, 'lawsuits': 3140, 'blast': 3141, 'horse': 3142, 'kaley': 3143, 'cuoco': 3144, 'topix': 3145, 'duchess': 3146, 'cambridge': 3147, 'halle': 3148, 'clown': 3149, 'tried': 3150, 'hat': 3151, 'faced': 3152, 'astronauts': 3153, 'nancy': 3154, '2000': 3155, 'takeda': 3156, 'dropped': 3157, 'cranston': 3158, 'pillinger': 3159, 'scientist': 3160, 'wisconsin': 3161, 'omnicom': 3162, 'sufferers': 3163, 'partnership': 3164, 'mercedes': 3165, 'beauty': 3166, 'bouygues': 3167, 'kickstarter': 3168, '36': 3169, 'polio': 3170, 'lamar': 3171, 'happened': 3172, 'op': 3173, 'allegations': 3174, 'mayhew': 3175, 'hastings': 3176, 'pledge': 3177, 'chase': 3178, 'upholds': 3179, 'performs': 3180, 'quick': 3181, 'promotes': 3182, 'sold': 3183, 'weibo': 3184, 'struggling': 3185, 'brief': 3186, 'falters': 3187, 'bradley': 3188, 'current': 3189, 'experience': 3190, 'sags': 3191, 'paper': 3192, 'mulls': 3193, 'pet': 3194, 'radio': 3195, 'resigns': 3196, 'merge': 3197, 'babies': 3198, 'easy': 3199, 'academy': 3200, 'pledges': 3201, 'hour': 3202, 'enter': 3203, 'reject': 3204, 'chicago': 3205, 'inc': 3206, 'moving': 3207, 'average': 3208, 'garner': 3209, 'banned': 3210, 'defensive': 3211, 'gasoline': 3212, 'zebra': 3213, 'fonda': 3214, 'player': 3215, 'israel': 3216, 'iran': 3217, 'holiday': 3218, 'planes': 3219, 'stops': 3220, 'solid': 3221, 'finish': 3222, 'beach': 3223, 'plunge': 3224, 'aaa': 3225, 'bursts': 3226, 'katt': 3227, 'try': 3228, 'kimmel': 3229, 'bed': 3230, 'liberia': 3231, 'stream': 3232, 'extortion': 3233, 'plot': 3234, 'horizon': 3235, 'bottom': 3236, 'word': 3237, 'exist': 3238, 'overseas': 3239, 'bankers': 3240, 'ken': 3241, 'wicked': 3242, 'clarifies': 3243, 'beginning': 3244, 'wk': 3245, 'wealth': 3246, 'threatened': 3247, 'eve': 3248, 'starring': 3249, 'replacing': 3250, 'shades': 3251, 'loving': 3252, 'primary': 3253, 'albums': 3254, 'victory': 3255, 'spokesman': 3256, 'telescope': 3257, 'bar': 3258, 'bike': 3259, 'gave': 3260, 'mount': 3261, 'prom': 3262, 'scheme': 3263, 'depot': 3264, 'talking': 3265, 'obese': 3266, 'pro': 3267, 'tips': 3268, 'debuts': 3269, 'culkin': 3270, 'screening': 3271, 'holy': 3272, 'diners': 3273, 'sink': 3274, 'storms': 3275, 'insurers': 3276, 'bite': 3277, 'fuels': 3278, 'calm': 3279, 'michaels': 3280, 'attacked': 3281, 'hugging': 3282, 'cliff': 3283, 'accelerates': 3284, 'replaced': 3285, 'bare': 3286, 'explain': 3287, 'recreational': 3288, 'laws': 3289, 'welcomes': 3290, 'reform': 3291, 'lag': 3292, 'visit': 3293, 'slower': 3294, 'opener': 3295, 'birdman': 3296, 'versace': 3297, 'unilever': 3298, 'mood': 3299, 'tankan': 3300, 'pricing': 3301, 'touch': 3302, 'deposits': 3303, 'sharp': 3304, 'available': 3305, 'miles': 3306, 'rumor': 3307, 'issued': 3308, 'shipping': 3309, 'reckless': 3310, 'prosecutors': 3311, 'doom': 3312, 'expert': 3313, 'q': 3314, 'finding': 3315, 'iwatch': 3316, 'billions': 3317, 'cement': 3318, 'maine': 3319, 'gallon': 3320, 'surprises': 3321, 'enjoys': 3322, 'romantic': 3323, 'hungary': 3324, 'rides': 3325, 'bulgarian': 3326, 'tiger': 3327, 'flags': 3328, 'aka': 3329, 'seas': 3330, 'oecd': 3331, 'corp': 3332, 'listing': 3333, 'mellon': 3334, 'farley': 3335, 'mowat': 3336, '87': 3337, 'iphones': 3338, 'lively': 3339, 'modestly': 3340, 'dinosaur': 3341, 'journey': 3342, 'pat': 3343, 'probing': 3344, 'degrasse': 3345, 'longtime': 3346, 'situation': 3347, 'euros': 3348, 'tough': 3349, 'avert': 3350, 'bailout': 3351, 'morale': 3352, 'dolly': 3353, 'parton': 3354, 'dish': 3355, 'file': 3356, 'trio': 3357, 'rush': 3358, 'recession': 3359, 'pimco': 3360, 'defending': 3361, 'then': 3362, 'owners': 3363, 'mckellar': 3364, 'overhaul': 3365, 'keys': 3366, 'broadband': 3367, 'durable': 3368, 'goods': 3369, 'strength': 3370, 'journal': 3371, 'displays': 3372, 'moments': 3373, 'coleman': 3374, 'disputes': 3375, 'sharing': 3376, 'ciara': 3377, 'treat': 3378, 'chicken': 3379, 'member': 3380, 'appoints': 3381, 'turning': 3382, 'devices': 3383, 'arm': 3384, '280': 3385, 'annual': 3386, 'hasn': 3387, 'medicare': 3388, 'stockpiles': 3389, 'analysts': 3390, 'benzino': 3391, 'nephew': 3392, 'ramp': 3393, '76': 3394, 'geopolitical': 3395, 'equipment': 3396, 'richie': 3397, 'reported': 3398, 'spurs': 3399, 'crazy': 3400, 'victim': 3401, 'wilson': 3402, 'crown': 3403, 'lax': 3404, 'watching': 3405, 'maya': 3406, 'lobster': 3407, 'alice': 3408, 'sky': 3409, 'olsen': 3410, 'jude': 3411, 'diet': 3412, 'penney': 3413, 'analyst': 3414, '93': 3415, 'nations': 3416, 'viral': 3417, '96': 3418, 'meteor': 3419, 'duties': 3420, 'outrage': 3421, 'steinberg': 3422, 'litigation': 3423, 'cautious': 3424, 'mth': 3425, 'chasing': 3426, '42': 3427, 'crumbs': 3428, 'dimon': 3429, 'publisher': 3430, 'also': 3431, 'copaxone': 3432, 'tiny': 3433, 'employment': 3434, 'independent': 3435, 'mr': 3436, 'combs': 3437, 'impress': 3438, 'republican': 3439, 'southern': 3440, 'regulations': 3441, 'lesson': 3442, 'filing': 3443, 'shirt': 3444, 'barnes': 3445, 'noble': 3446, 'rebel': 3447, 'tools': 3448, 'gym': 3449, 'discusses': 3450, 'daimler': 3451, 'chair': 3452, 'question': 3453, 'adobe': 3454, 'horrible': 3455, 'fixed': 3456, 'pounds': 3457, 'always': 3458, 'bondholders': 3459, 'thailand': 3460, 'nashville': 3461, 'engine': 3462, 'bruce': 3463, 'andy': 3464, 'commercial': 3465, 'paying': 3466, 'retailers': 3467, 'pollen': 3468, 'sent': 3469, 'booed': 3470, 'standoff': 3471, 'pals': 3472, 'dragon': 3473, 'considers': 3474, 'send': 3475, 'simple': 3476, 'holding': 3477, 'appearance': 3478, 'ups': 3479, 'awarded': 3480, 'whaling': 3481, 'bodyguard': 3482, 'dreams': 3483, 'awkward': 3484, 'artificial': 3485, 'epidemic': 3486, 'belle': 3487, 'hachette': 3488, 'stalker': 3489, 'trillion': 3490, 'bros': 3491, 'ascending': 3492, 'grant': 3493, 'commission': 3494, 'deliver': 3495, 'robot': 3496, 'driverless': 3497, 'cinco': 3498, 'mayo': 3499, 'community': 3500, 'turned': 3501, 'protein': 3502, 'sachs': 3503, 'grease': 3504, 'unicredit': 3505, 'austria': 3506, '98': 3507, 'rebhorn': 3508, 'knows': 3509, 'crime': 3510, 'brooks': 3511, 'greenhouse': 3512, 'palme': 3513, 'narrows': 3514, '2007': 3515, 'tupac': 3516, 'shakur': 3517, 'recommends': 3518, 'boycott': 3519, 'govt': 3520, '60': 3521, 'blame': 3522, 'dotcom': 3523, 'confirm': 3524, 'repair': 3525, 'empire': 3526, 'silicon': 3527, 'running': 3528, 'grown': 3529, 'nominated': 3530, 'mazursky': 3531, 'vanessa': 3532, 'computer': 3533, 'mayer': 3534, 'factories': 3535, 'treatments': 3536, 'controls': 3537, 'border': 3538, 'editor': 3539, 'learning': 3540, 'cops': 3541, 'significant': 3542, 'skills': 3543, 'please': 3544, 'reading': 3545, 'strange': 3546, 'dinosaurs': 3547, 'antitrust': 3548, 'alongside': 3549, 'planned': 3550, 'mcvie': 3551, 'fleetwood': 3552, 'explosive': 3553, '3000': 3554, 'carry': 3555, 'dismissed': 3556, 'discuss': 3557, 'satellites': 3558, 'adult': 3559, 'passwords': 3560, 'writes': 3561, 'sought': 3562, 'hunger': 3563, 'warned': 3564, 'bash': 3565, 'tickets': 3566, 'venture': 3567, 'bennett': 3568, 'landing': 3569, 'daring': 3570, 'courtney': 3571, 'widow': 3572, 'collection': 3573, 'delevingne': 3574, 'aim': 3575, 'troops': 3576, 'touts': 3577, 'gwar': 3578, 'janet': 3579, 'naomi': 3580, 'gamestop': 3581, 'ten': 3582, 'sfr': 3583, '91': 3584, 'nadine': 3585, 'benchmark': 3586, 'passenger': 3587, 'dakota': 3588, 'widens': 3589, 'obsessed': 3590, 'cross': 3591, 'purchase': 3592, 'cyprus': 3593, 'staff': 3594, 'option': 3595, 'pain': 3596, 'beating': 3597, 'roles': 3598, 'policies': 3599, 'shop': 3600, 'details': 3601, 'bump': 3602, 'apes': 3603, 'rex': 3604, 'bullock': 3605, 'meg': 3606, 'soar': 3607, 'pride': 3608, 'noyer': 3609, 'sharknado': 3610, 'legs': 3611, 'metals': 3612, 'rejected': 3613, 'flaw': 3614, 'glamour': 3615, 'information': 3616, 'indiana': 3617, 'elevator': 3618, 'caused': 3619, 'junk': 3620, 'southeast': 3621, 'playing': 3622, 'print': 3623, 'testing': 3624, 'tiffany': 3625, 'honorary': 3626, 'walter': 3627, 'freeman': 3628, 'accuses': 3629, 'hell': 3630, 'commerce': 3631, '56': 3632, 'philips': 3633, 'decide': 3634, 'nike': 3635, 'makeover': 3636, 'warrior': 3637, 'wows': 3638, 'local': 3639, 'extended': 3640, 'negotiate': 3641, 'standing': 3642, 'crew': 3643, 'employers': 3644, 'rig': 3645, 'failing': 3646, 'alarm': 3647, 'shake': 3648, 'user': 3649, '49': 3650, 'bynes': 3651, 'soul': 3652, 'distant': 3653, 'checks': 3654, 'firth': 3655, 'swap': 3656, 'weed': 3657, 'anxiety': 3658, 'berry': 3659, 'gaps': 3660, 'insane': 3661, 'core': 3662, 'both': 3663, 'anita': 3664, 'asiana': 3665, 'clinton': 3666, 'tool': 3667, 'colfer': 3668, '2008': 3669, 'emissions': 3670, 'forward': 3671, 'wright': 3672, 'damon': 3673, 'slack': 3674, 'prompts': 3675, 'opportunity': 3676, 'knight': 3677, 'seinfeld': 3678, 'soda': 3679, 'purple': 3680, 'vials': 3681, 'postpones': 3682, 'princess': 3683, 'restraining': 3684, 'publicis': 3685, 'hero': 3686, 'feels': 3687, 'fixing': 3688, 'veteran': 3689, 'leaks': 3690, 'jetblue': 3691, 'hunts': 3692, 'muni': 3693, 'everywhere': 3694, 'attempts': 3695, 'took': 3696, 'attempt': 3697, 'am': 3698, 'sings': 3699, 'cargill': 3700, 'sad': 3701, 'addiction': 3702, 'august': 3703, 'eurovision': 3704, 'rental': 3705, 'lew': 3706, 'listen': 3707, 'warm': 3708, 'remaining': 3709, 'concerned': 3710, 'jenna': 3711, 'dewan': 3712, 'holdings': 3713, 'holder': 3714, '2011': 3715, 'genetic': 3716, 'horror': 3717, 'midstream': 3718, 'contact': 3719, 'drunk': 3720, 'paramount': 3721, 'kocherlakota': 3722, 'whitey': 3723, 'bulger': 3724, 'center': 3725, 'worked': 3726, 'cycle': 3727, 'fanning': 3728, 'effective': 3729, 'wary': 3730, 'danielle': 3731, 'sweet': 3732, 'merkel': 3733, 'nikki': 3734, 'leaders': 3735, 'cheapest': 3736, 'abs': 3737, 'boston': 3738, 'battling': 3739, 'cheerleader': 3740, 'van': 3741, 'colorado': 3742, 'hobbit': 3743, 'kit': 3744, 'ingredients': 3745, 'joss': 3746, 'whedon': 3747, 'troubled': 3748, 'shy': 3749, 'weir': 3750, 'culture': 3751, 'chad': 3752, 'leading': 3753, 'predictions': 3754, 'advantage': 3755, 'knot': 3756, 'studies': 3757, 'reverses': 3758, '88': 3759, 'closing': 3760, 'duck': 3761, 'roseland': 3762, 'peers': 3763, 'tested': 3764, 'path': 3765, 'tomlin': 3766, 'styles': 3767, 'jane': 3768, 'tomlinson': 3769, 'criticism': 3770, 'priced': 3771, '30th': 3772, 'worried': 3773, 'aquaman': 3774, 'newspaper': 3775, 'downgrades': 3776, 'macfarlane': 3777, 'vaccine': 3778, 'sitcom': 3779, 'headed': 3780, 'maybe': 3781, 'flames': 3782, 'bag': 3783, 'anthony': 3784, 'disick': 3785, 'osbourne': 3786, 'inspiration': 3787, 'related': 3788, 'fathers': 3789, 'nj': 3790, '110': 3791, 'quiet': 3792, 'bergdahl': 3793, 'rumoured': 3794, 'lavrov': 3795, 'throw': 3796, 'garden': 3797, 'dismisses': 3798, 'probed': 3799, 'multiple': 3800, 'baseball': 3801, 'disorder': 3802, 'printed': 3803, '37': 3804, 'diversity': 3805, 'chikungunya': 3806, 'farewell': 3807, 'cryptic': 3808, 'als': 3809, 'smashes': 3810, 'loach': 3811, 'stark': 3812, 'extreme': 3813, 'dodge': 3814, 'development': 3815, 'mosquitoes': 3816, 'danny': 3817, 'shocked': 3818, 'kindred': 3819, 'gentiva': 3820, 'gupta': 3821, 'hendricks': 3822, 'lo': 3823, 'fifty': 3824, 'alabama': 3825, 'dimmed': 3826, 'honour': 3827, 'dreyfus': 3828, '2016': 3829, 'serves': 3830, 'field': 3831, 'glittering': 3832, 'flagship': 3833, 'macaulay': 3834, 'numericable': 3835, 'clips': 3836, 'introduces': 3837, 'quest': 3838, 'jem': 3839, 'holograms': 3840, 'lithuania': 3841, 'adopt': 3842, 'georgina': 3843, 'haig': 3844, 'mulberry': 3845, 'guillon': 3846, 'sweeney': 3847, 'vacation': 3848, 'heights': 3849, '50th': 3850, 'gear': 3851, 'lessons': 3852, 'draft': 3853, 'tones': 3854, 'hedwig': 3855, 'duet': 3856, 'w': 3857, 'alleges': 3858, 'dutch': 3859, 'sudeikis': 3860, 'restart': 3861, 'breakthrough': 3862, 'cyclicals': 3863, 'ash': 3864, 'travolta': 3865, 'faux': 3866, 'pas': 3867, 'dolce': 3868, 'evasion': 3869, 'catches': 3870, 'iceland': 3871, 'aviation': 3872, 'goal': 3873, 'operating': 3874, 'stooges': 3875, 'jokes': 3876, 'hawkish': 3877, 'follows': 3878, 'wanna': 3879, 'cheese': 3880, 'chiquita': 3881, 'fyffes': 3882, 'plead': 3883, 'summit': 3884, 'prepare': 3885, 'gigs': 3886, 'scope': 3887, 'dances': 3888, 'finalists': 3889, 'tencent': 3890, 'monitor': 3891, 'clear': 3892, 'grandfather': 3893, 'clock': 3894, 'suspected': 3895, 'treats': 3896, 'considering': 3897, 'lenders': 3898, 'thrilled': 3899, 'sara': 3900, 'gilbert': 3901, 'linda': 3902, 'anemic': 3903, 'chugs': 3904, 'prepared': 3905, 'impacts': 3906, 'university': 3907, 'inequality': 3908, '92': 3909, 'approach': 3910, 'garcia': 3911, 'nobel': 3912, 'ipads': 3913, 'claiming': 3914, 'putting': 3915, 'rba': 3916, 'rio': 3917, 'anglo': 3918, 'mortgages': 3919, 'toy': 3920, 'hortons': 3921, 'defaults': 3922, 'chemical': 3923, 'molner': 3924, 'intimate': 3925, 'kind': 3926, 'rocks': 3927, 'semi': 3928, 'cutting': 3929, '7th': 3930, 'canceled': 3931, 'craft': 3932, 'diary': 3933, 'alaska': 3934, 'bobby': 3935, 'womack': 3936, 'xscape': 3937, 'adidas': 3938, 'oz': 3939, 'returned': 3940, 'compliance': 3941, 'religious': 3942, 'seacrest': 3943, 'waters': 3944, 'aol': 3945, '300': 3946, 'powered': 3947, 'retiring': 3948, 'margins': 3949, 'shrinks': 3950, 'toxic': 3951, 'singing': 3952, 'airliner': 3953, 'joel': 3954, 'memorable': 3955, 'lufthansa': 3956, 'scraps': 3957, 'lucky': 3958, 'maintains': 3959, 'clause': 3960, 'rhode': 3961, 'doubt': 3962, 'chip': 3963, '4000': 3964, 'banker': 3965, 'adding': 3966, 'revival': 3967, 'efforts': 3968, 'periphery': 3969, 'gisele': 3970, 'lauer': 3971, 'splits': 3972, 'angers': 3973, 'tank': 3974, 'kroger': 3975, 'vitacost': 3976, 'releasing': 3977, 'sticks': 3978, 'houston': 3979, 'celebrating': 3980, 'verdict': 3981, 'bridesmaid': 3982, 'operators': 3983, 'projected': 3984, 'emc': 3985, 'touches': 3986, 'fincher': 3987, 'lately': 3988, 'forbes': 3989, 'outing': 3990, 'downtown': 3991, 'lack': 3992, 'shane': 3993, 'recordings': 3994, 'ransom': 3995, 'friendly': 3996, 'gotham': 3997, 'swedish': 3998, 'devastating': 3999, 'zuckerberg': 4000, 'iranian': 4001, 'incredibles': 4002, 'missed': 4003, 'severe': 4004, 'angelou': 4005, 'drawn': 4006, 'shakespeare': 4007, 'housekeeper': 4008, 'places': 4009, 'franchise': 4010, 'landed': 4011, 'failed': 4012, 'jc': 4013, 'duty': 4014, 'large': 4015, 'cat': 4016, 'tree': 4017, 'kid': 4018, 'holt': 4019, 'shops': 4020, 'texting': 4021, 'heathers': 4022, 'dives': 4023, 'brunei': 4024, 'easier': 4025, 'zillow': 4026, 'coveted': 4027, '2006': 4028, 'god': 4029, 'stalls': 4030, 'decades': 4031, 'inquiry': 4032, 'puff': 4033, 'bidding': 4034, 'icon': 4035, 'tokyo': 4036, 'spots': 4037, 'bat': 4038, 'nokia': 4039, 'tepid': 4040, 'joined': 4041, 'hanks': 4042, 'hologram': 4043, 'paypal': 4044, 'spreading': 4045, 'iron': 4046, 'disputed': 4047, 'nook': 4048, 'vix': 4049, 'aside': 4050, 'popular': 4051, 'holdouts': 4052, 'publicly': 4053, 'dear': 4054, 'announced': 4055, 'checking': 4056, 'boots': 4057, 'saves': 4058, 'publicist': 4059, 'promo': 4060, 'lng': 4061, 'throws': 4062, 'sperm': 4063, 'reynolds': 4064, 'rap': 4065, 'pataky': 4066, 'lachey': 4067, 'secures': 4068, 'channels': 4069, 'entertainer': 4070, 'hello': 4071, 'landmark': 4072, 'asteroid': 4073, 'jj': 4074, 'newest': 4075, 'suits': 4076, 'nighter': 4077, 'willis': 4078, 'revealing': 4079, 'blown': 4080, 'contender': 4081, 'hammer': 4082, 'eclipse': 4083, 'sight': 4084, 'lg': 4085, 'arguments': 4086, 'roche': 4087, 'waste': 4088, 'telefonica': 4089, 'clip': 4090, 'chaos': 4091, 'antarctic': 4092, 'dina': 4093, 'pleading': 4094, 'accidentally': 4095, 'buoyant': 4096, 'knox': 4097, 'closely': 4098, 'authors': 4099, 'airbnb': 4100, 'jeep': 4101, 'theme': 4102, 'came': 4103, 'savage': 4104, 'clearing': 4105, 'fill': 4106, 'kendra': 4107, 'payout': 4108, 'mothers': 4109, 'wallach': 4110, 'calling': 4111, 'exactly': 4112, 'twist': 4113, 'squeeze': 4114, 'drinks': 4115, 'groceries': 4116, 'spinoff': 4117, '97': 4118, 'thriller': 4119, 'minidress': 4120, 'department': 4121, 'cosmos': 4122, 'hovers': 4123, 'spent': 4124, 'sultry': 4125, 'rider': 4126, 'producers': 4127, 'ministry': 4128, 'erases': 4129, 'barrie': 4130, 'ranbaxy': 4131, 'downing': 4132, 'shakira': 4133, 'bears': 4134, 'shell': 4135, 'charlize': 4136, 'theron': 4137, 'became': 4138, 'eastern': 4139, 'costco': 4140, 'hostile': 4141, 'planets': 4142, 'bull': 4143, 'grint': 4144, '787': 4145, 'dreamliner': 4146, 'peak': 4147, 'astronomers': 4148, 'sized': 4149, 'turmoil': 4150, 'inhaled': 4151, 'nato': 4152, 'apart': 4153, '43': 4154, 'cheer': 4155, 'guard': 4156, 'secretary': 4157, 'tightening': 4158, 'kurdish': 4159, 'uncertainty': 4160, 'reserves': 4161, 'buyers': 4162, 'startup': 4163, 'levar': 4164, 'burton': 4165, 'lynn': 4166, 'alliance': 4167, 'silent': 4168, 'greater': 4169, 'singpost': 4170, 'dozens': 4171, 'artworks': 4172, 'discovery': 4173, 'lure': 4174, 'excited': 4175, 'crashed': 4176, 'shareholder': 4177, 'enlists': 4178, 'photographer': 4179, 'flow': 4180, 'turkish': 4181, 'preparing': 4182, 'risky': 4183, 'flood': 4184, 'octopus': 4185, 'unchanged': 4186, 'ruffalo': 4187, 'symantec': 4188, '89': 4189, 'acquires': 4190, 'pact': 4191, 'apparently': 4192, 'revolution': 4193, 'alamo': 4194, 'pokerstars': 4195, 'loyal': 4196, 'beyoncã': 4197, 'twc': 4198, 'campbell': 4199, 'flows': 4200, 'comedian': 4201, 'anne': 4202, 'premiums': 4203, 'paisley': 4204, 'winds': 4205, 'slowest': 4206, 'lanes': 4207, 'declares': 4208, 'fish': 4209, 'success': 4210, 'generation': 4211, 'slapped': 4212, 'stealing': 4213, 'unhappy': 4214, 'wearhouse': 4215, 'jos': 4216, 'committee': 4217, 'amidst': 4218, 'ii': 4219, 'dressing': 4220, 'royal': 4221, 'reacts': 4222, 'ryanair': 4223, 'condensate': 4224, 'ninja': 4225, 'turtles': 4226, 'tapering': 4227, 'slur': 4228, 'dioxide': 4229, 'orbit': 4230, 'urged': 4231, 'adjusted': 4232, 'unlikely': 4233, 'skid': 4234, 'bars': 4235, 'nominations': 4236, 'united': 4237, 'technologies': 4238, 'helicopter': 4239, 'volumes': 4240, 'edie': 4241, 'brickell': 4242, 'domestic': 4243, 'maternity': 4244, 'restores': 4245, 'savings': 4246, 'glimpse': 4247, 'feb': 4248, 'mix': 4249, 'remake': 4250, 'started': 4251, 'matter': 4252, 'brought': 4253, 'universal': 4254, 'gone': 4255, 'dame': 4256, 'lions': 4257, '370': 4258, 'transit': 4259, 'mta': 4260, 'tequila': 4261, 'content': 4262, 'divided': 4263, 'biblical': 4264, 'backed': 4265, 'predicts': 4266, 'soccer': 4267, 'settings': 4268, 'retreats': 4269, 'designed': 4270, 'devastated': 4271, 'myers': 4272, 'seafood': 4273, 'sleeping': 4274, 'rowe': 4275, 'shifts': 4276, 'fiancée': 4277, 'cities': 4278, 'lunar': 4279, 'tomorrow': 4280, 'flashback': 4281, 'attention': 4282, 'attacking': 4283, 'hank': 4284, 'methane': 4285, 'showing': 4286, 'avoided': 4287, 'idr': 4288, 'rangers': 4289, 'amgen': 4290, 'listings': 4291, 'boosted': 4292, 'pushed': 4293, 'processed': 4294, 'added': 4295, 'freeze': 4296, 'scotty': 4297, 'mccreery': 4298, 'classic': 4299, 'posting': 4300, 'muse': 4301, 'grab': 4302, 'gender': 4303, 'stability': 4304, 'studio': 4305, 'refused': 4306, 'dealtalk': 4307, 'defence': 4308, '101': 4309, 'male': 4310, 'sharply': 4311, 'hillary': 4312, 'dudley': 4313, 'stall': 4314, 'voted': 4315, 'keen': 4316, 'promises': 4317, 'edgar': 4318, 'sentenced': 4319, 'allowed': 4320, 'bis': 4321, 'rethink': 4322, 'stg': 4323, 'alive': 4324, 'chai': 4325, 'smallpox': 4326, 'revised': 4327, 'larry': 4328, 'lashes': 4329, 'insulin': 4330, 'harm': 4331, 'magical': 4332, 'poison': 4333, 'throat': 4334, 'unitedhealth': 4335, 'fee': 4336, 'alternative': 4337, 'uses': 4338, 'mexican': 4339, 'invite': 4340, 'swing': 4341, 'brawl': 4342, 'tablets': 4343, 'email': 4344, 'irs': 4345, 'premium': 4346, 'leftovers': 4347, 'nudge': 4348, 'cracks': 4349, 'jailed': 4350, 'thank': 4351, 'delta': 4352, 'ladies': 4353, 'airshow': 4354, 'hiring': 4355, 'smartphones': 4356, 'heat': 4357, 'inner': 4358, 'saft': 4359, 'autos': 4360, 'villain': 4361, 'blooded': 4362, 'avengers': 4363, 'leno': 4364, 'forever': 4365, '20000': 4366, 'updated': 4367, 'weekahead': 4368, 'peltz': 4369, 'gustin': 4370, 'ancient': 4371, 'mcconaughey': 4372, 'disaster': 4373, 'meryl': 4374, 'ricci': 4375, 'akb48': 4376, 'treated': 4377, 'mya': 4378, 'button': 4379, 'creating': 4380, 'proud': 4381, 'fools': 4382, 'willing': 4383, 'lovers': 4384, 'juniper': 4385, 'chapter': 4386, 'cook': 4387, 'southwest': 4388, 'apache': 4389, 'prankster': 4390, 'town': 4391, 'lionel': 4392, 'portfolio': 4393, 'aids': 4394, 'mclarty': 4395, 'seventh': 4396, 'flaming': 4397, 'nsfw': 4398, 'fighter': 4399, 'cholesterol': 4400, 'polluted': 4401, 'swimming': 4402, 'affair': 4403, 'bra': 4404, 'stand': 4405, 'benefit': 4406, 'calista': 4407, 'flockhart': 4408, 'epic': 4409, 'attendant': 4410, 'soil': 4411, 'election': 4412, 'location': 4413, 'poor': 4414, 'buyout': 4415, 'trebek': 4416, 'several': 4417, 'dab': 4418, 'malcolm': 4419, 'rover': 4420, 'sanofi': 4421, 'worsen': 4422, 'faith': 4423, 'mario': 4424, 'brighten': 4425, 'warnings': 4426, 'harington': 4427, 'similar': 4428, 'authority': 4429, 'mourn': 4430, '114': 4431, 'odds': 4432, 'royce': 4433, 'lenovo': 4434, 'barely': 4435, 'science': 4436, 'ties': 4437, 'scary': 4438, 'pursuing': 4439, 'guardianship': 4440, 'preparations': 4441, 'saga': 4442, 'dedicates': 4443, 'import': 4444, 'borrowing': 4445, 'trouble': 4446, 'theatre': 4447, 'broadcast': 4448, 'ended': 4449, 'fischer': 4450, 'vice': 4451, 'bound': 4452, 'stroke': 4453, 'disappoint': 4454, 'spacecraft': 4455, 'critic': 4456, 'ally': 4457, 'broader': 4458, '120': 4459, 'carrier': 4460, 'stairway': 4461, 'hikes': 4462, 'themed': 4463, 'holdout': 4464, 'collaboration': 4465, 'cervical': 4466, 'orbital': 4467, 'reboot': 4468, '108': 4469, 'wikipedia': 4470, 'swipe': 4471, 'dementia': 4472, 'lucas': 4473, 'master': 4474, 'remarks': 4475, 'ripples': 4476, 'outfits': 4477, 'angus': 4478, 'barack': 4479, 'constancio': 4480, 'nowotny': 4481, 'cells': 4482, 'pins': 4483, 'lines': 4484, 'illness': 4485, 'odom': 4486, 'senator': 4487, 'collide': 4488, 'slowdown': 4489, 'remembers': 4490, 'dilemma': 4491, 'spacey': 4492, 'intellectual': 4493, 'lazaretto': 4494, 'documentary': 4495, 'discover': 4496, 'nsa': 4497, 'charter': 4498, 'groups': 4499, 'honey': 4500, 'exxon': 4501, '83': 4502, '69': 4503, 'flick': 4504, 'gsk': 4505, 'cruze': 4506, 'fiscal': 4507, 'complaints': 4508, 'connor': 4509, 'drilling': 4510, 'ethan': 4511, 'hawke': 4512, 'stands': 4513, 'adjust': 4514, 'alli': 4515, 'tampering': 4516, 'hawaii': 4517, 'moonlight': 4518, 'novatek': 4519, '5th': 4520, 'okay': 4521, 'frank': 4522, 'redskins': 4523, 'counter': 4524, 'beastie': 4525, 'con': 4526, 'asked': 4527, 'inflows': 4528, 'nightmare': 4529, 'messages': 4530, 'handling': 4531, 'drought': 4532, 'parrot': 4533, 'iwata': 4534, 'overheats': 4535, 'weakness': 4536, 'volume': 4537, 'goddard': 4538, 'momoa': 4539, 'packed': 4540, 'decreased': 4541, 'flowers': 4542, 'cocaine': 4543, 'oks': 4544, 'corporation': 4545, 'wiz': 4546, 'khalifa': 4547, 'bowe': 4548, 'discussion': 4549, 'centre': 4550, 'unknown': 4551, 'surprised': 4552, 'windows': 4553, 'beware': 4554, 'trademark': 4555, 'passover': 4556, 'foundation': 4557, 'wide': 4558, 'sarepta': 4559, 'muscle': 4560, 'romania': 4561, 'communications': 4562, 'mocks': 4563, 'blamed': 4564, 'recover': 4565, '111': 4566, 'fines': 4567, 'client': 4568, 'ticks': 4569, 'anyone': 4570, 'uterine': 4571, 'annie': 4572, 'cee': 4573, 'brains': 4574, 'hacker': 4575, '60000': 4576, 'transplant': 4577, 'kepler': 4578, 'attached': 4579, 'nearby': 4580, 'beau': 4581, 'paetz': 4582, 'dove': 4583, 'metro': 4584, 'duane': 4585, 'reade': 4586, 'numbers': 4587, 'chooses': 4588, 'joseph': 4589, 'balance': 4590, 'bounce': 4591, 'investigates': 4592, 'silver': 4593, 'telecoms': 4594, 'affirmed': 4595, 'chains': 4596, 'secretly': 4597, 'bundesbank': 4598, 'heroes': 4599, 'powdered': 4600, 'meaningful': 4601, 'difference': 4602, 'establishment': 4603, 'upton': 4604, 'christians': 4605, 'bible': 4606, '2017': 4607, 'pelvic': 4608, 'icy': 4609, 'threats': 4610, 'sandisk': 4611, 'fusion': 4612, 'io': 4613, 'bruno': 4614, 'triples': 4615, 'poll': 4616, 'sardinia': 4617, 'mustang': 4618, 'crafts': 4619, 'lackluster': 4620, 'hijacked': 4621, 'meat': 4622, 'usher': 4623, 's5': 4624, 'corey': 4625, 'hey': 4626, 'sound': 4627, 'abercrombie': 4628, 'calorie': 4629, 'minnesota': 4630, 'muted': 4631, 'realistic': 4632, 'el': 4633, 'oilfield': 4634, 'traced': 4635, 'keaton': 4636, 'fin': 4637, 'min': 4638, 'ragu': 4639, 'buddies': 4640, 'gabbana': 4641, 'drummer': 4642, 'asheton': 4643, 'ism': 4644, 'ample': 4645, 'rankings': 4646, 'mountain': 4647, 'lawyers': 4648, 'footsteps': 4649, 'removing': 4650, 'slashed': 4651, 'defects': 4652, 'sits': 4653, 'allegiant': 4654, 'extant': 4655, 'reprise': 4656, 'o2': 4657, 'widen': 4658, 'tummy': 4659, 'texts': 4660, 'happen': 4661, 'wealthy': 4662, 'denial': 4663, 'lay': 4664, 'orbiting': 4665, 'singapore': 4666, 'monitored': 4667, 'limiting': 4668, 'viacom': 4669, 'eat': 4670, 'arthur': 4671, 'prays': 4672, 'outsider': 4673, 'infamous': 4674, 'initial': 4675, 'mumps': 4676, 'kakao': 4677, 'daum': 4678, 'dropping': 4679, 'meester': 4680, 'enjoy': 4681, 'paragliding': 4682, 'utah': 4683, 'mess': 4684, 'printing': 4685, 'flops': 4686, 'advises': 4687, 'requests': 4688, 'pursues': 4689, 'bum': 4690, 'unveiled': 4691, 'tinder': 4692, 'widened': 4693, 'embarks': 4694, 'wheel': 4695, 'fortune': 4696, 'dmv': 4697, 'kardashians': 4698, 'glaxo': 4699, 'sorrentino': 4700, 'gigolo': 4701, 'elisabeth': 4702, 'moss': 4703, 'broadly': 4704, 'pare': 4705, 'successfully': 4706, 'salesforce': 4707, 'gamble': 4708, 'floor': 4709, 'knocks': 4710, 'mobileye': 4711, 'bumper': 4712, 'square': 4713, 'nestle': 4714, 'connick': 4715, 'suffers': 4716, 'zaki': 4717, 'gp': 4718, 'mentor': 4719, 'spree': 4720, 'rehearsal': 4721, 'experiencing': 4722, 'harley': 4723, 'briefly': 4724, 'gere': 4725, 'warren': 4726, 'bridge': 4727, 'smallest': 4728, 'capex': 4729, 'clarkson': 4730, 'clint': 4731, 'eastwood': 4732, 'vision': 4733, 'moonie': 4734, 'replica': 4735, 'error': 4736, 'majority': 4737, '650': 4738, 'nudity': 4739, 'renesas': 4740, 'task': 4741, 'zynga': 4742, 'lures': 4743, 'historical': 4744, 'staying': 4745, 'setting': 4746, 'awful': 4747, 'matches': 4748, 'unheard': 4749, 'punished': 4750, 'bezos': 4751, 'whitney': 4752, 'goals': 4753, '218000': 4754, 'shanghai': 4755, 'urgent': 4756, 'glencore': 4757, 'progresses': 4758, 'elusive': 4759, 'lancer': 4760, 'passes': 4761, 'foxx': 4762, 'hook': 4763, 'creepy': 4764, 'undervalued': 4765, 'drugmaker': 4766, 'equity': 4767, 'adults': 4768, 'fruit': 4769, 'pilgrim': 4770, 'stuff': 4771, 'denzel': 4772, 'champion': 4773, 'grabs': 4774, 'petsmart': 4775, 'painful': 4776, 'stung': 4777, 'liars': 4778, 'string': 4779, 'detained': 4780, 'malfunction': 4781, 'astra': 4782, 'grilling': 4783, 'summons': 4784, 'thigh': 4785, 'insists': 4786, 'receipts': 4787, 'schedules': 4788, 'poet': 4789, 'apologizing': 4790, 'biodelivery': 4791, 'endo': 4792, 'darden': 4793, '59': 4794, 'offered': 4795, 'rip': 4796, 'shepard': 4797, 'elton': 4798, '80': 4799, 'effort': 4800, 'afraid': 4801, 'originals': 4802, 'striped': 4803, 'frock': 4804, 'bskyb': 4805, 'lone': 4806, 'siblings': 4807, 'iraqi': 4808, 'nab': 4809, 'awareness': 4810, 'damp': 4811, 'imminent': 4812, 'chevron': 4813, 'trulia': 4814, 'gurlitt': 4815, 'cupcake': 4816, 'comics': 4817, 'century': 4818, 'hurdles': 4819, 'hardware': 4820, 'labour': 4821, 'pauses': 4822, 'rescue': 4823, 'happily': 4824, 'megaupload': 4825, 'couldn': 4826, 'truecar': 4827, 'shopping': 4828, 'n': 4829, 'truck': 4830, 'advanced': 4831, 'sacked': 4832, 'dupont': 4833, 'industrial': 4834, 'matching': 4835, '1990s': 4836, 'opera': 4837, 'rear': 4838, 'computing': 4839, 'satisfy': 4840, 'liza': 4841, 'minnelli': 4842, 'dvd': 4843, 'copy': 4844, 'msnbc': 4845, 'huntsman': 4846, 'autonomy': 4847, 'describes': 4848, 'nationwide': 4849, 'powerful': 4850, 'premature': 4851, 'bullying': 4852, 'cure': 4853, 'volkswagen': 4854, 'reserve': 4855, 'opposed': 4856, 'painting': 4857, 'racism': 4858, 'computers': 4859, 'vulnerable': 4860, 'talent': 4861, 'rubik': 4862, 'mendes': 4863, 'fleet': 4864, 'inspections': 4865, 'foxcatcher': 4866, 'portrait': 4867, 'smartwatch': 4868, 'yacht': 4869, 'whilst': 4870, 'piece': 4871, 'knocked': 4872, 'dragons': 4873, 'mersch': 4874, 'likeness': 4875, 'snub': 4876, 'harvard': 4877, '179': 4878, 'taxpayers': 4879, 'norway': 4880, 'cadillac': 4881, 'ditched': 4882, 'itself': 4883, 'wet': 4884, 'confirming': 4885, 'slam': 4886, 'kpn': 4887, 'conditions': 4888, 'harassment': 4889, 'begged': 4890, 'solarcity': 4891, 'yukos': 4892, 'bey': 4893, 'dreadful': 4894, 'convicted': 4895, 'carat': 4896, 'disclosure': 4897, 'ball': 4898, 'hess': 4899, 'marathon': 4900, 'foothold': 4901, 'bidders': 4902, 'dan': 4903, 'reactions': 4904, 'watched': 4905, 'proposing': 4906, 'units': 4907, 'removed': 4908, 'emoji': 4909, 'alfa': 4910, 'accept': 4911, 'leak': 4912, 'wilkinson': 4913, 'brushes': 4914, 'clone': 4915, 'appears': 4916, 'boring': 4917, 'trim': 4918, 'crystal': 4919, 'homeland': 4920, '65': 4921, 'martha': 4922, 'rumored': 4923, 'gareth': 4924, 'intensifies': 4925, 'dublin': 4926, 'forms': 4927, 'finalise': 4928, 'sort': 4929, 'waits': 4930, 'feet': 4931, 'deliveries': 4932, 'randall': 4933, 'miller': 4934, 'indicted': 4935, 'punching': 4936, 'neill': 4937, 'kristeen': 4938, 'conan': 4939, 'cinema': 4940, 'friendship': 4941, 'tick': 4942, 'drivers': 4943, 'stick': 4944, 'idris': 4945, 'elba': 4946, 'winston': 4947, 'accounts': 4948, 'favors': 4949, 'crops': 4950, 'disappointing': 4951, 'spectacular': 4952, 'bracelet': 4953, 'dwarf': 4954, 'christie': 4955, 'advisers': 4956, 'pursue': 4957, 'ankle': 4958, 'unleashes': 4959, 'emily': 4960, 'cnn': 4961, 'lyondellbasell': 4962, 'infidelity': 4963, 'misguided': 4964, 'guitarist': 4965, 'batmobile': 4966, 'bandmates': 4967, 'wrap': 4968, 'tear': 4969, 'clinic': 4970, 'improves': 4971, 'info': 4972, 'wages': 4973, 'warhol': 4974, 'floppy': 4975, 'disks': 4976, 'guests': 4977, 'cbank': 4978, 'numsa': 4979, 'chat': 4980, 'remember': 4981, 'gates': 4982, 'heartbreaking': 4983, 'mile': 4984, 'survivors': 4985, 'noriega': 4986, 'outlines': 4987, 'bunny': 4988, 'pin': 4989, 'mideast': 4990, 'frieze': 4991, 'dive': 4992, 'tower': 4993, 'festivals': 4994, 'divorced': 4995, 'priceline': 4996, 'opentable': 4997, '150': 4998, 'pc': 4999, 'monolith': 5000, 'striking': 5001, 'titan': 5002, 'aerospace': 5003, 'advise': 5004, 'infective': 5005, 'amaya': 5006, 'fought': 5007, 'shine': 5008, 'emmys': 5009, 'bubbles': 5010, 'zip': 5011, 'travelers': 5012, 'grinds': 5013, 'tiaa': 5014, 'cref': 5015, 'nuveen': 5016, 'felony': 5017, 'audiences': 5018, 'shortage': 5019, 'onscreen': 5020, 'maserati': 5021, 'rwe': 5022, 'afterparty': 5023, 'harvest': 5024, 'depressed': 5025, 'type': 5026, 'dots': 5027, 'sending': 5028, 'included': 5029, 'pricey': 5030, 'bush': 5031, 'fiancã': 5032, 'introduce': 5033, 'charging': 5034, 'unite': 5035, 'expanding': 5036, 'whiting': 5037, 'spilled': 5038, 'ripped': 5039, 'conflict': 5040, 'casting': 5041, 'christopher': 5042, 'pussy': 5043, 'breakers': 5044, 'syndrome': 5045, 'damps': 5046, 'conducting': 5047, '84': 5048, 'writer': 5049, 'prescription': 5050, 'monopoly': 5051, 'bisexual': 5052, 'mastectomies': 5053, 'te': 5054, 'connectivity': 5055, 'sensor': 5056, 'signers': 5057, 'shield': 5058, 'performers': 5059, 'happening': 5060, 'krispy': 5061, 'kreme': 5062, 'testifies': 5063, 'touching': 5064, 'mugshots': 5065, 'macquarie': 5066, 'johannes': 5067, 'package': 5068, 'presses': 5069, '46': 5070, 'defies': 5071, 'wielding': 5072, 'riding': 5073, 'military': 5074, 'familiar': 5075, 'paedophile': 5076, 'reese': 5077, 'witherspoon': 5078, 'threaten': 5079, 'compete': 5080, 'usual': 5081, 'basks': 5082, 'followed': 5083, 'ratio': 5084, 'jungle': 5085, 'rocky': 5086, 'advert': 5087, 'pooch': 5088, 'antarctica': 5089, 'gorman': 5090, 'nest': 5091, 'wounded': 5092, 'israeli': 5093, 'curry': 5094, 'scouts': 5095, 'autonation': 5096, 'exits': 5097, 'ashley': 5098, 'busts': 5099, 'binoche': 5100, 'ageing': 5101, 'motherhood': 5102, 'contracts': 5103, 'fy': 5104, 'flooding': 5105, 'frequent': 5106, 'sounds': 5107, 'paradis': 5108, 'elegant': 5109, 'shaquille': 5110, 'neal': 5111, 'lisa': 5112, 'marie': 5113, 'sikorsky': 5114, 'historic': 5115, 'neeson': 5116, 'exhibition': 5117, 'tjx': 5118, 'unusual': 5119, '74': 5120, 'football': 5121, 'struck': 5122, 'predict': 5123, 'privileged': 5124, 'complain': 5125, 'knock': 5126, 'gaming': 5127, 'jared': 5128, 'pobre': 5129, 'controllers': 5130, 'surprisingly': 5131, 'sustain': 5132, 'healthier': 5133, 'jewelry': 5134, 'submit': 5135, 'bankrupt': 5136, 'ultimate': 5137, 'engineering': 5138, 'garment': 5139, 'devoted': 5140, 'delivers': 5141, 'surfaces': 5142, 'wahlberg': 5143, 'translate': 5144, 'inducted': 5145, 'conduct': 5146, 'reunites': 5147, 'headlights': 5148, 'proxy': 5149, 'spying': 5150, 'hudson': 5151, 'stumbles': 5152, 'drillers': 5153, 'saving': 5154, 'zara': 5155, 'reset': 5156, 'payouts': 5157, 'gunpoint': 5158, 'invasion': 5159, 'pg': 5160, 'shared': 5161, 'ensemble': 5162, 'appetite': 5163, 'representative': 5164, 'homophobic': 5165, 'reforms': 5166, 'paddington': 5167, 'samuel': 5168, 'coulier': 5169, 'honoured': 5170, 'spy': 5171, 'nurses': 5172, 'ebbs': 5173, 'dismiss': 5174, 'colon': 5175, 'posse': 5176, 'elliot': 5177, 'truth': 5178, 'burrito': 5179, 'excessive': 5180, 'pattern': 5181, 'applications': 5182, 'avoids': 5183, 'repo': 5184, 'susan': 5185, 'unprecedented': 5186, 'harsh': 5187, 'crossover': 5188, 'feared': 5189, 'messaging': 5190, 'clash': 5191, 'thefts': 5192, 'henry': 5193, 'cavill': 5194, 'glow': 5195, 'hubble': 5196, 'stricken': 5197, 'pole': 5198, 'assigns': 5199, 'eczema': 5200, 'defeat': 5201, 'burberry': 5202, 'caleb': 5203, 'cody': 5204, 'tale': 5205, 'toilet': 5206, 'airplane': 5207, 'vmware': 5208, 'nhtsa': 5209, 'literally': 5210, 'dealer': 5211, 'viewing': 5212, 'lend': 5213, 'avoiding': 5214, 'earns': 5215, 'censorship': 5216, 'nas': 5217, 'pares': 5218, '1950s': 5219, 'alec': 5220, 'confident': 5221, 'request': 5222, 'angara': 5223, 'robbed': 5224, 'barbra': 5225, 'streisand': 5226, 'raytheon': 5227, 'fence': 5228, 'lululemon': 5229, 'upset': 5230, 'doubts': 5231, 'rout': 5232, 'falcon': 5233, 'baptist': 5234, 'unacceptable': 5235, 'trimmed': 5236, 'getty': 5237, 'uptick': 5238, 'attenborough': 5239, 'sia': 5240, 'misconduct': 5241, 'address': 5242, 'cooperation': 5243, 'bundchen': 5244, 'laid': 5245, 'mayweather': 5246, 'salute': 5247, 'raccoon': 5248, 'ear': 5249, 'potato': 5250, 'salad': 5251, 'approaches': 5252, 'carlyle': 5253, 'alone': 5254, 'pulling': 5255, 'portrayal': 5256, 'remote': 5257, 'hears': 5258, 'conviction': 5259, 'ballet': 5260, 'isaac': 5261, 'kathleen': 5262, 'sebelius': 5263, 'finger': 5264, 'newborn': 5265, 'motorcycling': 5266, 'candidate': 5267, 'derrickson': 5268, 'lip': 5269, 'expensive': 5270, 'annex': 5271, 'league': 5272, 'students': 5273, 'burial': 5274, 'allison': 5275, 'cellphone': 5276, 'investigated': 5277, 'bubble': 5278, 'teenagers': 5279, 'conchita': 5280, 'wurst': 5281, 'bought': 5282, 'boyfriends': 5283, 'fastest': 5284, 'veterans': 5285, 'deceptive': 5286, 'incentives': 5287, 'sugar': 5288, 'army': 5289, 'al': 5290, 'themselves': 5291, 'leader': 5292, 'finland': 5293, 'keri': 5294, 'jessie': 5295, 'qualcomm': 5296, 'philadelphia': 5297, 'wale': 5298, '66': 5299, 'underwear': 5300, 'shrugs': 5301, '100000': 5302, 'suvs': 5303, 'brody': 5304, 'announcing': 5305, 'sbarro': 5306, 'audience': 5307, 'maksim': 5308, 'invade': 5309, 'bombshell': 5310, 'permits': 5311, 'pioneer': 5312, 'tracks': 5313, 'renewal': 5314, 'nigeria': 5315, 'chemicals': 5316, 'adopted': 5317, 'trek': 5318, 'lenses': 5319, 'outrageous': 5320, 'react': 5321, 'mcchrystal': 5322, '28th': 5323, 'closed': 5324, 'baldwin': 5325, 'negotiations': 5326, 'hk': 5327, 'sneak': 5328, 'peek': 5329, 'bulls': 5330, 'benz': 5331, 'bangladesh': 5332, 'proof': 5333, 'projects': 5334, 'declared': 5335, 'recoups': 5336, 'recognize': 5337, 'transforms': 5338, 'vaccines': 5339, 'easyjet': 5340, 'iss': 5341, 'arcade': 5342, 'continued': 5343, 'directing': 5344, 'echoes': 5345, 'betrayed': 5346, 'etihad': 5347, 'relatively': 5348, 'universe': 5349, 'beaches': 5350, 'cups': 5351, 'november': 5352, 'lace': 5353, 'armstrong': 5354, 'species': 5355, 'suffer': 5356, 'horrific': 5357, 'crazed': 5358, 'actos': 5359, 'fields': 5360, 'missile': 5361, 'feast': 5362, 'declining': 5363, 'vehicle': 5364, 'venue': 5365, 'code': 5366, 'directors': 5367, 'ing': 5368, 'hogs': 5369, 'fabulous': 5370, 'ok': 5371, 'celebs': 5372, 'puppy': 5373, '113': 5374, 'galavis': 5375, 'english': 5376, 'mentally': 5377, 'flawed': 5378, 'donations': 5379, 'nz': 5380, 'exotic': 5381, 'animals': 5382, 'remembering': 5383, 'explore': 5384, 'firming': 5385, 'strait': 5386, 'bloody': 5387, 'triumphs': 5388, 'surface': 5389, 'reed': 5390, 'derriere': 5391, 'accelerate': 5392, 'bureau': 5393, 'bridal': 5394, 'breakfast': 5395, 'surgical': 5396, 'desperate': 5397, 'pharmacies': 5398, 'mcadams': 5399, '99': 5400, 'barbie': 5401, 'meltdown': 5402, 'kills': 5403, 'stockpiling': 5404, 'halston': 5405, 'sage': 5406, 'contain': 5407, 'firmer': 5408, 'anger': 5409, 'walgreen': 5410, 'yours': 5411, 'heels': 5412, 'francisco': 5413, 'jam': 5414, 'brunch': 5415, 'worry': 5416, '72': 5417, 'lineup': 5418, '1999': 5419, 'denim': 5420, 'jacket': 5421, 'pops': 5422, 'nickelodeon': 5423, 'combat': 5424, 'product': 5425, 'loved': 5426, 'outfit': 5427, 'veep': 5428, 'ballroom': 5429, 'supplier': 5430, '2001': 5431, 'speeds': 5432, 'enterprise': 5433, 'brooklyn': 5434, 'stokes': 5435, 'smiling': 5436, 'shipments': 5437, 'chops': 5438, 'revenues': 5439, 'overdraft': 5440, 'guarantees': 5441, 'bolster': 5442, 'download': 5443, 'pono': 5444, 'transparency': 5445, 'drunken': 5446, 'shoes': 5447, 'haters': 5448, 'crushed': 5449, 'millennium': 5450, 'vivendi': 5451, 'expires': 5452, 'atk': 5453, 'provision': 5454, 'valuations': 5455, 'reasonable': 5456, 'researcher': 5457, 'rather': 5458, 'transmission': 5459, 'metal': 5460, 'portuguese': 5461, 'zombie': 5462, 'rescued': 5463, 'whatever': 5464, 'trucks': 5465, 'anytime': 5466, 'nominee': 5467, 'connelly': 5468, 'rejection': 5469, 'jennette': 5470, 'mccurdy': 5471, 'heartfelt': 5472, 'patricia': 5473, 'errors': 5474, 'flurry': 5475, 'luxottica': 5476, 'dot': 5477, '200000': 5478, 'espirito': 5479, 'santo': 5480, 'broke': 5481, 'unsettled': 5482, 'ingredient': 5483, 'carphone': 5484, 'dixons': 5485, 'oversight': 5486, 'immediate': 5487, 'corporations': 5488, 'departs': 5489, 'casual': 5490, 'soundtrack': 5491, 'jewish': 5492, 'correct': 5493, 'declined': 5494, 'grads': 5495, 'escapes': 5496, 'jk': 5497, 'cream': 5498, 'cpi': 5499, 'else': 5500, 'powers': 5501, 'offsets': 5502, 'hear': 5503, 'breakup': 5504, 'dempsey': 5505, 'robertson': 5506, 'measure': 5507, 'waves': 5508, 'tramples': 5509, 'olympic': 5510, 'ferrell': 5511, 'regrets': 5512, 'minds': 5513, 'honeymoon': 5514, 'medicine': 5515, 'accuse': 5516, 'wang': 5517, 'marion': 5518, 'cotillard': 5519, 'western': 5520, 'frontman': 5521, 'inaction': 5522, 'solo': 5523, 'cancelcolbert': 5524, 'focuses': 5525, 'disruption': 5526, 'utilities': 5527, 'clever': 5528, 'biotechs': 5529, 'getaway': 5530, 'bounces': 5531, 'bombs': 5532, 'hearts': 5533, 'skip': 5534, 'exelon': 5535, 'pepco': 5536, 'idea': 5537, 'coolest': 5538, 'wilmer': 5539, 'valderrama': 5540, 'buyback': 5541, 'someone': 5542, 'paulson': 5543, 'salary': 5544, 'airplanes': 5545, 'prevention': 5546, 'nation': 5547, 'position': 5548, 'nadella': 5549, 'quinta': 5550, 'solutions': 5551, 'businesses': 5552, 'quality': 5553, 'supposedly': 5554, '777x': 5555, 'born': 5556, 'orleans': 5557, 'disturbing': 5558, 'dose': 5559, 'disrupts': 5560, 'curve': 5561, 'gowex': 5562, 'younger': 5563, 'pick': 5564, 'jim': 5565, 'sandberg': 5566, 'greenpeace': 5567, 'arctic': 5568, 'weidmann': 5569, 'mint': 5570, 'emails': 5571, 'garcía': 5572, 'márquez': 5573, 'seem': 5574, 'honest': 5575, 'signed': 5576, 'maureen': 5577, '80s': 5578, 'lindt': 5579, 'slot': 5580, 'stover': 5581, 'wine': 5582, 'myself': 5583, 'bally': 5584, 'seventeen': 5585, 'tweeting': 5586, 'nyse': 5587, 'acquisition': 5588, 'intelligence': 5589, 'anatomy': 5590, 'retire': 5591, 'bruised': 5592, 'evolution': 5593, 'erykah': 5594, 'badu': 5595, 'interactive': 5596, 'circus': 5597, 'eliza': 5598, 'dushku': 5599, 'regional': 5600, 'strongly': 5601, 'bald': 5602, 'undercover': 5603, 'congressional': 5604, 'hertz': 5605, 'ditch': 5606, 'documents': 5607, 'partner': 5608, 'bitcoins': 5609, 'suspend': 5610, 'whatsapp': 5611, 'carrie': 5612, 'looser': 5613, 'wholesale': 5614, 'armies': 5615, 'pens': 5616, 'roundup': 5617, 'interim': 5618, 'license': 5619, 'levi': 5620, 'athlete': 5621, 'shore': 5622, 'lens': 5623, 'hidden': 5624, 'saying': 5625, 'earthquakes': 5626, 'prostate': 5627, 'operations': 5628, 'wishes': 5629, 'glastonbury': 5630, 'horn': 5631, 'witness': 5632, 'headgear': 5633, 'blocked': 5634, 'wheelchair': 5635, 'offshore': 5636, 'lombardi': 5637, 'stunned': 5638, 'jesse': 5639, 'violent': 5640, 'programming': 5641, 'melanoma': 5642, 'delhi': 5643, 'brokers': 5644, 'exceeds': 5645, 'strategic': 5646, 'chewbacca': 5647, 'dirty': 5648, 'cowell': 5649, 'greatest': 5650, 'crucifixion': 5651, 'kron': 5652, 'hkma': 5653, 'scared': 5654, 'lka': 5655, 'thirty': 5656, 'timelines': 5657, 'spiritual': 5658, 'owns': 5659, 'roughly': 5660, 'wraps': 5661, 'bodes': 5662, 'slept': 5663, 'separation': 5664, 'legally': 5665, 'floral': 5666, 'trials': 5667, 'raiffeisen': 5668, 'int': 5669, 'roots': 5670, 'flagging': 5671, 'donald': 5672, 'rubin': 5673, 'sobriety': 5674, 'axes': 5675, 'mama': 5676, 'leigh': 5677, 'tutorial': 5678, 'basically': 5679, 'flop': 5680, 'snooping': 5681, 'assaults': 5682, 'misled': 5683, 'loch': 5684, 'ness': 5685, 'fibroid': 5686, 'undetected': 5687, 'wise': 5688, 'dornan': 5689, 'speaking': 5690, 'languages': 5691, 'genius': 5692, 'taught': 5693, 'sexism': 5694, 'patches': 5695, 'chases': 5696, 'elope': 5697, 'conversion': 5698, 'saint': 5699, 'graft': 5700, 'bribery': 5701, 'sheet': 5702, 'hurdle': 5703, 'bittersweet': 5704, 'heavier': 5705, 'costner': 5706, 'pyramid': 5707, 'ranks': 5708, 'teleconf': 5709, '00': 5710, 'bst': 5711, 'breaker': 5712, '1m': 5713, 'penguin': 5714, 'subscriptions': 5715, 'stallone': 5716, '90s': 5717, 'movil': 5718, 'ignores': 5719, 'rosemary': 5720, 'restore': 5721, 'bones': 5722, 'muchmusic': 5723, '34': 5724, 'arrival': 5725, 'countdown': 5726, 'grounded': 5727, 'pickups': 5728, 'ian': 5729, 'ziering': 5730, 'torture': 5731, 'unfollowed': 5732, 'enroll': 5733, 'expresses': 5734, 'controlled': 5735, 'publishes': 5736, 'snake': 5737, 'enemy': 5738, 'blimey': 5739, 'superhero': 5740, 'sweater': 5741, 'gift': 5742, 'jena': 5743, 'irene': 5744, 'impresses': 5745, 'judges': 5746, 'elvis': 5747, 'infections': 5748, 'yale': 5749, 'stoll': 5750, 'leap': 5751, 'imply': 5752, 'transfer': 5753, 'nightclub': 5754, 'invades': 5755, 'legalized': 5756, 'toni': 5757, 'gop': 5758, 'suggestion': 5759, 'donahoe': 5760, 'thaw': 5761, 'tripoli': 5762, 'aboard': 5763, 'equitable': 5764, 'reilly': 5765, 'slimfast': 5766, 'dazeem': 5767, 'busted': 5768, 'imposes': 5769, 'eruption': 5770, 'fallen': 5771, 'wallows': 5772, 'cater': 5773, 'prosecutor': 5774, 'correction': 5775, 'fertility': 5776, 'calif': 5777, 'trips': 5778, 'memory': 5779, 'nigerian': 5780, 'meddling': 5781, 'annoying': 5782, 'chastain': 5783, 'sovereign': 5784, 'flip': 5785, 'clouds': 5786, 'cottage': 5787, 'mishap': 5788, 'backtracks': 5789, 'maersk': 5790, 'claimed': 5791, 'strain': 5792, 'wolverine': 5793, 'hedging': 5794, 'ton': 5795, 'gore': 5796, 'motiviation': 5797, 'families': 5798, 'lauds': 5799, 'observatory': 5800, 'asml': 5801, 'resilient': 5802, 'blackshades': 5803, 'malicious': 5804, 'ticking': 5805, 'keeping': 5806, 'furry': 5807, 'mask': 5808, 'flappy': 5809, 'wesfarmers': 5810, 'broking': 5811, 'shakeup': 5812, 'revamps': 5813, '6m': 5814, 'marshall': 5815, 'rbnz': 5816, 'butts': 5817, 'pinterest': 5818, 'tweeted': 5819, 'coin': 5820, 'dealings': 5821, 'christ': 5822, '63': 5823, 'seoul': 5824, 'iranians': 5825, 'elliott': 5826, 'deleting': 5827, 'alcatel': 5828, 'lucent': 5829, 'immigrants': 5830, 'iac': 5831, 'bg': 5832, 'puzzle': 5833, 'prevents': 5834, 'murdering': 5835, 'asteroids': 5836, 'lottery': 5837, 'pursuit': 5838, 'immunotherapy': 5839, 'tanning': 5840, 'salon': 5841, 'athens': 5842, 'bakken': 5843, 'pacemaker': 5844, '254': 5845, 'recording': 5846, 'docks': 5847, 'salmon': 5848, 'wonderful': 5849, 'bullied': 5850, 'survival': 5851, 'sneakers': 5852, 'legends': 5853, 'emerald': 5854, 'ergen': 5855, 'madison': 5856, 'gmail': 5857, 'scripts': 5858, 'sequels': 5859, 'wanting': 5860, '14th': 5861, 'sabotage': 5862, 'served': 5863, 'invitation': 5864, 'brace': 5865, 'tunnel': 5866, 'travellers': 5867, 'weighed': 5868, 'padma': 5869, 'lakshmi': 5870, 'encryption': 5871, '95': 5872, 'brighter': 5873, 'violated': 5874, 'cradles': 5875, 'fade': 5876, 'supportive': 5877, 'skype': 5878, 'learn': 5879, 'language': 5880, 'strict': 5881, 'ono': 5882, 'celgene': 5883, 'psoriatic': 5884, 'arthritis': 5885, 'radar': 5886, 'wings': 5887, '4g': 5888, 'regeneron': 5889, 'hiding': 5890, 'wearable': 5891, 'pension': 5892, 'oppose': 5893, 'resentment': 5894, 'ballas': 5895, 'moto': 5896, 'supporting': 5897, 'switzerland': 5898, 'explosion': 5899, 'clinch': 5900, 'officers': 5901, 'functioning': 5902, '85': 5903, 'buybacks': 5904, 'ikea': 5905, 'natco': 5906, 'oakley': 5907, 'wearables': 5908, 'nominees': 5909, 'sedan': 5910, 'quietly': 5911, 'suburb': 5912, 'holidays': 5913, 'equalizer': 5914, 'predator': 5915, 'toya': 5916, 'announcement': 5917, 'cries': 5918, 'scrap': 5919, 'lyme': 5920, 'resume': 5921, 'joker': 5922, 'shelves': 5923, 'photoshop': 5924, 'heightened': 5925, 'customs': 5926, 'wardrobe': 5927, 'patch': 5928, 'removes': 5929, 'slit': 5930, 'timeframe': 5931, 'administration': 5932, 'importance': 5933, 'burgers': 5934, 'bay': 5935, '86': 5936, 'shames': 5937, 'fury': 5938, '450th': 5939, 'flesh': 5940, 'played': 5941, 'missouri': 5942, 'deutschland': 5943, 'swoons': 5944, 'sneaks': 5945, 'kfc': 5946, 'antonoff': 5947, 'upgrades': 5948, 'labs': 5949, 'binge': 5950, 'efficient': 5951, 'sodas': 5952, 'hobart': 5953, 'alter': 5954, 'surfboard': 5955, 'hobie': 5956, 'hough': 5957, 'fifi': 5958, 'technical': 5959, 'disneyland': 5960, 'thrills': 5961, 'stargazers': 5962, 'kurdistan': 5963, 'bearish': 5964, 'gilts': 5965, 'ramped': 5966, 'clues': 5967, 'nazi': 5968, 'looted': 5969, 'salmonella': 5970, 'certain': 5971, 'suddenly': 5972, 'cushing': 5973, 'archie': 5974, 'meant': 5975, 'inspirational': 5976, '20th': 5977, 'bettany': 5978, 'strongest': 5979, 'peabody': 5980, 'shelf': 5981, 'prefers': 5982, 'im': 5983, 'overhauls': 5984, 'finalizing': 5985, 'enviable': 5986, 'wildlife': 5987, 'onto': 5988, 'crowd': 5989, 'sites': 5990, 'extension': 5991, 'deposit': 5992, 'stainless': 5993, 'forming': 5994, 'buyer': 5995, 'dumping': 5996, 'justify': 5997, 'subsidy': 5998, 'incoming': 5999, 'renault': 6000, 'melting': 6001, '560': 6002, 'wonders': 6003, 'forgiven': 6004, '300k': 6005, 'protesting': 6006, 'portions': 6007, 'bowl': 6008, 'aided': 6009, 'cultural': 6010, 'dengue': 6011, 'genetically': 6012, 'brian': 6013, 'videos': 6014, 'poop': 6015, 'beige': 6016, 'institute': 6017, 'bargain': 6018, 'hardcore': 6019, 'capitalists': 6020, 'quickens': 6021, 'rings': 6022, 'tapped': 6023, 'charming': 6024, 'instructions': 6025, 'pulp': 6026, 'fiction': 6027, 'ep': 6028, 'coup': 6029, 'durata': 6030, 'nia': 6031, 'vardalos': 6032, 'chips': 6033, 'doodle': 6034, 'revived': 6035, 'grounds': 6036, 'serkis': 6037, 'stresses': 6038, 'lucy': 6039, 'sotheby': 6040, 'shoppers': 6041, '230': 6042, 'wore': 6043, 'ragweed': 6044, 'peg': 6045, 'spend': 6046, 'webcam': 6047, 'frat': 6048, 'primed': 6049, 'deletes': 6050, 'reap': 6051, 'reward': 6052, '467': 6053, 'mull': 6054, 'conagra': 6055, 'tele2': 6056, 'teliasonera': 6057, 'singtel': 6058, 'edgy': 6059, 'frankel': 6060, 'jake': 6061, 'grants': 6062, 'example': 6063, 'condescending': 6064, 'coldwater': 6065, 'creek': 6066, 'manipulation': 6067, 'cabbies': 6068, 'religion': 6069, 'stripped': 6070, 'destroys': 6071, 'licence': 6072, 'remainder': 6073, 'pancreas': 6074, 'whoopi': 6075, 'goldberg': 6076, 'fluid': 6077, 'ios': 6078, 'teach': 6079, 'tricks': 6080, 'spotlight': 6081, 'acne': 6082, 'definition': 6083, 'identify': 6084, 'cancerous': 6085, 'unsung': 6086, 'valuing': 6087, 'molestation': 6088, 'vaping': 6089, 'mechanical': 6090, 'hopeful': 6091, 'parade': 6092, 'rutler': 6093, 'boc': 6094, 'raping': 6095, 'gawker': 6096, 'owned': 6097, 'hateful': 6098, 'compromise': 6099, 'math': 6100, 'orphan': 6101, 'thoughts': 6102, 'dodgers': 6103, 'mocked': 6104, 'teases': 6105, 'egg': 6106, 'mysterious': 6107, 'rewrite': 6108, 'aired': 6109, 'pucker': 6110, 'contamination': 6111, 'prolific': 6112, 'opportunities': 6113, 'eyewear': 6114, 'limes': 6115, 'doj': 6116, 'aiding': 6117, 'wand': 6118, 'dash': 6119, 'hybrids': 6120, 'conquer': 6121, 'concerts': 6122, 'licensing': 6123, 'resistance': 6124, 'chick': 6125, 'likes': 6126, 'blond': 6127, 'steven': 6128, 'spielberg': 6129, 'kicillof': 6130, 'doting': 6131, 'liu': 6132, 'governance': 6133, 'plosser': 6134, 'pilgrims': 6135, 'branson': 6136, 'sultan': 6137, 'determine': 6138, 'ancestors': 6139, 'dealerships': 6140, 'cafe': 6141, 'rounds': 6142, 'steak': 6143, 'avocados': 6144, 'hoped': 6145, 'refunds': 6146, 'detect': 6147, 'vindication': 6148, 'anxieties': 6149, 'milhiser': 6150, 'favour': 6151, 'atop': 6152, 'rejecting': 6153, 'golf': 6154, 'fi': 6155, 'startups': 6156, 'happier': 6157, 'revellers': 6158, 'abandoned': 6159, 'unless': 6160, 'stabilises': 6161, 'girlfriends': 6162, 'supermoon': 6163, 'reclaims': 6164, 'bleeding': 6165, 'fesival': 6166, 'troop': 6167, 'withdrawal': 6168, 'excess': 6169, 'filed': 6170, 'financials': 6171, 'letts': 6172, 'termination': 6173, 'benzene': 6174, 'spikes': 6175, 'eventual': 6176, 'smarter': 6177, 'piers': 6178, 'cp': 6179, 'hatred': 6180, 'farmers': 6181, 'privilege': 6182, 'zack': 6183, 'snyder': 6184, 'semitic': 6185, 'strangers': 6186, 'shrank': 6187, 'violate': 6188, 'amiga': 6189, 'dlr': 6190, 'defective': 6191, 'shortages': 6192, 'hinder': 6193, 'freebies': 6194, 'peaks': 6195, 'blu': 6196, 'promotion': 6197, 'reverting': 6198, 'tmz': 6199, 'tweetdeck': 6200, 'corps': 6201, 'richest': 6202, 'refrains': 6203, 'signaling': 6204, 'blouse': 6205, 'pencil': 6206, 'useless': 6207, 'questioned': 6208, 'increasing': 6209, 'waterloo': 6210, 'superbug': 6211, 'instant': 6212, 'wire': 6213, 'grins': 6214, 'lasers': 6215, 'yeager': 6216, 'bettie': 6217, 'distinguish': 6218, 'steinbeck': 6219, 'sub': 6220, 'rooms': 6221, '473': 6222, 'taper': 6223, 'grammy': 6224, 'handset': 6225, 'subsidies': 6226, 'dominate': 6227, 'arms': 6228, 'deciding': 6229, 'fairness': 6230, 'hottest': 6231, 'priciest': 6232, 'kitchens': 6233, 'bow': 6234, 'wrote': 6235, 'either': 6236, 'bautista': 6237, 'dwts': 6238, 'tariffs': 6239, 'mccarthyâ': 6240, 'tammyâ': 6241, 'filling': 6242, 'donate': 6243, 'vast': 6244, 'invites': 6245, 'scout': 6246, 'stroll': 6247, 'fitness': 6248, 'shippers': 6249, 'efficacy': 6250, 'slumping': 6251, 'dust': 6252, 'kiev': 6253, 'bigfoot': 6254, 'wolves': 6255, 'creatures': 6256, 'delivery': 6257, 'mastectomy': 6258, 'lining': 6259, 'booking': 6260, 'identified': 6261, 'shale': 6262, 'shifting': 6263, 'jerry': 6264, 'upgraded': 6265, 'hathaway': 6266, 'separated': 6267, 'mash': 6268, 'gleeson': 6269, 'industries': 6270, 'ire': 6271, 'beverage': 6272, 'agbank': 6273, 'december': 6274, '100k': 6275, 'silverman': 6276, 'pen': 6277, 'microbeads': 6278, 'millionaire': 6279, 'lied': 6280, 'gross': 6281, 'pipe': 6282, 'tow': 6283, 'infringement': 6284, 'partied': 6285, 'coeure': 6286, 'separates': 6287, 'rand': 6288, 'cosmic': 6289, 'barrels': 6290, 'tee': 6291, 'notice': 6292, 'contained': 6293, 'shipwreck': 6294, 'binding': 6295, 'geneva': 6296, 'mutant': 6297, 'scottish': 6298, 'dares': 6299, 'austin': 6300, 'meds': 6301, 'movement': 6302, 'sept': 6303, 'urinate': 6304, 'mintz': 6305, 'plasse': 6306, 'glaad': 6307, 'sinister': 6308, 'vary': 6309, 'widely': 6310, 'newcomers': 6311, 'nwa': 6312, 'syphilis': 6313, 'postponed': 6314, 'worrying': 6315, 'roth': 6316, 'votes': 6317, 'goonies': 6318, 'donner': 6319, 'tame': 6320, 'telling': 6321, 'elsewhere': 6322, 'tentative': 6323, 'pirate': 6324, 'huebl': 6325, 'sweeping': 6326, 'linn': 6327, 'devon': 6328, 'renews': 6329, 'micros': 6330, 'dedicated': 6331, 'nominating': 6332, 'livid': 6333, 'ccc': 6334, 'inevitable': 6335, 'cleared': 6336, 'independence': 6337, 'based': 6338, 'downfall': 6339, '118': 6340, 'skipping': 6341, 'ramps': 6342, 'princesses': 6343, 'hercules': 6344, 'dwayne': 6345, 'vegan': 6346, 'mobility': 6347, 'escape': 6348, 'locations': 6349, 'coy': 6350, 'satire': 6351, 'campaigns': 6352, 'cannot': 6353, 'tycoon': 6354, 'popularity': 6355, 'map': 6356, 'plastic': 6357, 'mercury': 6358, 'upheld': 6359, 'donation': 6360, 'treads': 6361, 'aaron': 6362, 'ag': 6363, 'gate': 6364, 'fugitive': 6365, 'immelt': 6366, 'energetic': 6367, 'youth': 6368, 'fare': 6369, 'tila': 6370, 'outstanding': 6371, 'kayne': 6372, 'gifts': 6373, 'footing': 6374, 'soaring': 6375, 'polish': 6376, 'sinking': 6377, 'reuniting': 6378, 'et': 6379, 'atari': 6380, 'landfill': 6381, 'uberx': 6382, 'daughters': 6383, 'transitions': 6384, 'fgic': 6385, 'previous': 6386, 'medicaid': 6387, '7b': 6388, 'propelling': 6389, 'linger': 6390, 'pile': 6391, 'publication': 6392, 'björk': 6393, 'ntsb': 6394, 'saucer': 6395, 'decisive': 6396, 'fades': 6397, 'pills': 6398, 'hr': 6399, 'giger': 6400, 'paddy': 6401, 'gaining': 6402, 'filan': 6403, 'thornton': 6404, 'cassette': 6405, 'develops': 6406, 'tapes': 6407, 'element': 6408, '117': 6409, 'symptoms': 6410, 'cox': 6411, 'stella': 6412, 'kodiak': 6413, 'journalist': 6414, 'recounts': 6415, 'infectious': 6416, 'den': 6417, 'beckel': 6418, 'facial': 6419, 'racial': 6420, 'beijing': 6421, 'curbing': 6422, 'beneath': 6423, 'skull': 6424, 'criminals': 6425, 'challenging': 6426, 'seems': 6427, 'trace': 6428, 'adkins': 6429, 'whimsical': 6430, 'intervene': 6431, 'dirtiest': 6432, 'foggy': 6433, 'apologies': 6434, 'leniency': 6435, 'mulally': 6436, 'brien': 6437, 'kleiner': 6438, 'grew': 6439, 'snb': 6440, 'entertainment': 6441, 'withdraws': 6442, 'gather': 6443, 'cochran': 6444, 'longoria': 6445, 'demure': 6446, 'safran': 6447, 'refining': 6448, 'zoe': 6449, 'saldana': 6450, 'truce': 6451, 'brandy': 6452, 'ships': 6453, 'directed': 6454, 'confusion': 6455, 'deepens': 6456, 'oligopoly': 6457, 'marlboro': 6458, 'cosies': 6459, 'credible': 6460, '2900': 6461, 'destination': 6462, 'length': 6463, 'cutout': 6464, 'lightly': 6465, 'exposes': 6466, 'plenty': 6467, 'concentration': 6468, 'camp': 6469, 'uniform': 6470, 'gnip': 6471, 'gal': 6472, 'obstruction': 6473, 'natgas': 6474, 'load': 6475, 'acquiring': 6476, 'unequal': 6477, 'comfort': 6478, 'aus': 6479, 'senators': 6480, '911': 6481, 'newlywed': 6482, 'embarrassed': 6483, 'performed': 6484, 'persisting': 6485, 'fiber': 6486, 'captured': 6487, 'curly': 6488, 'remarkable': 6489, 'cite': 6490, 'newark': 6491, 'altered': 6492, 'collision': 6493, 'stole': 6494, 'melt': 6495, 'stakes': 6496, 'raging': 6497, 'outfitters': 6498, 'stabilizes': 6499, 'gang': 6500, 'gma': 6501, 'donovan': 6502, 'leitch': 6503, 'dashes': 6504, 'stitches': 6505, 'restrained': 6506, 'additions': 6507, 'rough': 6508, 'pressures': 6509, 'inventory': 6510, 'widest': 6511, 'lapses': 6512, 'adecco': 6513, 'locks': 6514, 'volatile': 6515, 'sovaldi': 6516, 'tackles': 6517, 'bowie': 6518, 'sarandon': 6519, 'looked': 6520, 'mugshot': 6521, 'mizkan': 6522, 'bindi': 6523, 'artwork': 6524, 'polar': 6525, 'boosting': 6526, 'cited': 6527, 'definitely': 6528, 'peripheral': 6529, 'gus': 6530, 'wachowski': 6531, 'trumps': 6532, 'expletive': 6533, 'richer': 6534, 'adviser': 6535, 'speleers': 6536, 'ditches': 6537, 'diddy': 6538, 'northern': 6539, 'blind': 6540, 'greedy': 6541, 'writebol': 6542, 'missionary': 6543, 'phoenix': 6544, 'feds': 6545, 'stopped': 6546, 'lender': 6547, 'er': 6548, 'possibility': 6549, '450': 6550, 'pornographic': 6551, 'fernandez': 6552, 'washing': 6553, 'michel': 6554, 'soviet': 6555, 'sluggish': 6556, 'hoax': 6557, 'brags': 6558, 'prefer': 6559, 'stomach': 6560, 'microbes': 6561, 'cocoa': 6562, 'leverage': 6563, 'principal': 6564, 'supermarket': 6565, 'emotion': 6566, 'beagle': 6567, 'protects': 6568, 'presented': 6569, 'kramer': 6570, 'integrys': 6571, 'autopsy': 6572, 'ignore': 6573, 'surrender': 6574, 'reunited': 6575, 'blythe': 6576, 'danner': 6577, 'justina': 6578, 'pelletier': 6579, 'triggered': 6580, 'bust': 6581, 'exchanges': 6582, 'westboro': 6583, 'visa': 6584, 'transaction': 6585, 'founders': 6586, 'lovin': 6587, 'wheelan': 6588, 'doors': 6589, 'corrects': 6590, 'tail': 6591, 'grass': 6592, 'profitable': 6593, 'parole': 6594, 'afrezza': 6595, 'unintended': 6596, 'biden': 6597, 'manipulative': 6598, 'attended': 6599, 'templeton': 6600, 'chilling': 6601, 'counting': 6602, 'barring': 6603, 'cow': 6604, 'siberia': 6605, 'concludes': 6606, 'buried': 6607, 'ward': 6608, 'cavanagh': 6609, 'owe': 6610, 'panic': 6611, 'props': 6612, 'retaliation': 6613, 'evacuated': 6614, 'blunder': 6615, 'damaged': 6616, 'reeva': 6617, 'csuisse': 6618, 'materially': 6619, 'untoward': 6620, 'shrinking': 6621, 'cattle': 6622, 'mickelson': 6623, 'sisterly': 6624, 'roils': 6625, 'ruscak': 6626, 'raunchy': 6627, 'unsafe': 6628, 'marketwired': 6629, 'weale': 6630, 'loyalty': 6631, '320': 6632, 'peters': 6633, 'linkedin': 6634, 'covering': 6635, 'marking': 6636, 'donnie': 6637, 'dai': 6638, 'ichi': 6639, 'protective': 6640, 'bristol': 6641, 'cures': 6642, 'suggest': 6643, 'fob': 6644, 'iii': 6645, '30000': 6646, 'cramming': 6647, 'tread': 6648, 'blushing': 6649, 'reassures': 6650, 'quarterback': 6651, 'kaepernick': 6652, 'lunches': 6653, 'behemoth': 6654, 'overshadow': 6655, 'entry': 6656, 'opinion': 6657, 'fdr': 6658, 'complex': 6659, 'sally': 6660, 'sth': 6661, 'freaks': 6662, 'burglary': 6663, 'nup': 6664, 'complacent': 6665, 'grandmother': 6666, 'fooled': 6667, 'coke': 6668, 'values': 6669, '44': 6670, 'vanquishes': 6671, 'russians': 6672, 'telus': 6673, 'entwistle': 6674, 'brightly': 6675, 'connected': 6676, '15th': 6677, 'monkey': 6678, 'headset': 6679, 'commuter': 6680, 'respectfully': 6681, 'improvement': 6682, 'knowingly': 6683, 'volcano': 6684, 'chemistry': 6685, 'se': 6686, 'aust': 6687, 'nonfarm': 6688, 'cohen': 6689, 'altuzarra': 6690, 'prepayment': 6691, 'delphi': 6692, 'cctv': 6693, 'clarify': 6694, '33': 6695, 'tarullo': 6696, 'victor': 6697, 'chmerkovskiy': 6698, 'whale': 6699, 'discounts': 6700, 'mchale': 6701, 'dairy': 6702, 'influential': 6703, 'diem': 6704, 'rouhani': 6705, 'migraines': 6706, 'creditors': 6707, 'hindering': 6708, 'buzz': 6709, 'reweight': 6710, 'sharia': 6711, 'hated': 6712, 'penny': 6713, 'kitchen': 6714, 'cos': 6715, 'shatner': 6716, 'inflated': 6717, 'ability': 6718, 'hotels': 6719, 'empty': 6720, 'prospectus': 6721, 'stint': 6722, 'lengthy': 6723, 'woodside': 6724, 'wynn': 6725, 'disruptions': 6726, 'undies': 6727, 'preview': 6728, 'encounter': 6729, 'moscow': 6730, 'broker': 6731, 'ambition': 6732, 'licences': 6733, 'studded': 6734, 'underwriter': 6735, 'uncomfortable': 6736, 'refund': 6737, 'angela': 6738, 'bassett': 6739, 'towns': 6740, 'breached': 6741, 'modi': 6742, '281000': 6743, 'article': 6744, 'ivan': 6745, 'reitman': 6746, 'sights': 6747, 'vr': 6748, 'experimental': 6749, 'jitters': 6750, 'managed': 6751, 'dwindles': 6752, 'von': 6753, 'furstenberg': 6754, 'helium': 6755, 'bailed': 6756, 'favourite': 6757, 'clout': 6758, 'cooking': 6759, 'debating': 6760, 'everybody': 6761, 'alcoholic': 6762, 'turner': 6763, 'springs': 6764, 'untrue': 6765, 'rlpc': 6766, 'lobbying': 6767, 'swords': 6768, 'hasselbeck': 6769, 'cares': 6770, 'lord': 6771, 'predatory': 6772, 'dmitry': 6773, 'rybolovlev': 6774, 'absorb': 6775, 'affiliate': 6776, 'lifted': 6777, 'serving': 6778, 'towie': 6779, 'timothy': 6780, 'mouse': 6781, 'injuries': 6782, 'tw': 6783, 'siriusxm': 6784, 'routine': 6785, 'provide': 6786, 'shuns': 6787, 'skies': 6788, 'gallbladder': 6789, 'kisses': 6790, 'throwing': 6791, 'troubling': 6792, 'lukewarm': 6793, 'labels': 6794, 'reservoir': 6795, 'fairfax': 6796, 'glam': 6797, 'yawns': 6798, 'licenses': 6799, 'impressive': 6800, 'argues': 6801, 'resident': 6802, 'census': 6803, 'population': 6804, 'collapsing': 6805, 'stymie': 6806, 'krone': 6807, 'exact': 6808, 'dept': 6809, 'hammered': 6810, '1956': 6811, 'runway': 6812, 'organization': 6813, 'ralph': 6814, 'philly': 6815, 'flaunts': 6816, 'pitches': 6817, 'guinness': 6818, 'citizen': 6819, 'declare': 6820, 'askthicke': 6821, 'inspires': 6822, 'draw': 6823, 'swirl': 6824, 'contacts': 6825, 'previews': 6826, 'gritty': 6827, 'strapless': 6828, 'unexpected': 6829, 'ops': 6830, 'bisexuality': 6831, 'laura': 6832, 'prepon': 6833, 'aisle': 6834, 'vincent': 6835, 'gogh': 6836, 'severed': 6837, 'pass': 6838, 'sugary': 6839, 'unbelievable': 6840, 'heals': 6841, 'wii': 6842, 'godfather': 6843, 'proceed': 6844, 'adm': 6845, 'flavors': 6846, 'menino': 6847, 'blunt': 6848, 'husbands': 6849, 'cheap': 6850, 'jazz': 6851, 'oreal': 6852, 'collecting': 6853, 'emperor': 6854, 'surgeons': 6855, 'brosnan': 6856, 'feel': 6857, 'downed': 6858, '295': 6859, 'diplomat': 6860, 'metso': 6861, 'independently': 6862, 'recalling': 6863, '29': 6864, 'managing': 6865, 'digit': 6866, 'candice': 6867, 'swanepoel': 6868, 'alliances': 6869, 'printer': 6870, 'destroy': 6871, 'cosmetics': 6872, 'pip': 6873, 'andersen': 6874, 'creative': 6875, 'transformed': 6876, 'apparent': 6877, 'sanrio': 6878, 'shocker': 6879, 'empowerment': 6880, 'taxis': 6881, 'deleted': 6882, 'mamet': 6883, 'generic': 6884, 'corruption': 6885, 'superior': 6886, 'slashes': 6887, 'caracal': 6888, '2010': 6889, 'teacher': 6890, 'supported': 6891, 'fatigue': 6892, 'tepco': 6893, 'performances': 6894, '40m': 6895, 'finalises': 6896, 'chen': 6897, 'hospitalization': 6898, 'placenta': 6899, 'issuance': 6900, 'wechat': 6901, 'loud': 6902, 'chime': 6903, 'benelux': 6904, 'mba': 6905, 'dax': 6906, 'sneaking': 6907, 'hare': 6908, 'brake': 6909, 'observed': 6910, 'jodie': 6911, 'foster': 6912, 'alexandra': 6913, 'stories': 6914, 'wiped': 6915, 'sycamore': 6916, 'express': 6917, 'partially': 6918, 'edging': 6919, 'certify': 6920, 'rural': 6921, 'bury': 6922, 'mode': 6923, 'relativity': 6924, 'attempted': 6925, 'tourism': 6926, 'glasses': 6927, 'holders': 6928, 'livestream': 6929, 'cooling': 6930, 'shelton': 6931, 'successful': 6932, '53': 6933, 'uneven': 6934, 'exploiting': 6935, '84000': 6936, 'chateau': 6937, 'implementation': 6938, 'sides': 6939, 'jeff': 6940, 'eni': 6941, 'byrne': 6942, 'breakout': 6943, 'escalates': 6944, 'recede': 6945, 'filmmaker': 6946, 'narrow': 6947, 'tpg': 6948, 'wyoming': 6949, 'encana': 6950, 'bullets': 6951, 'sixth': 6952, 'hawking': 6953, 'cameo': 6954, 'candid': 6955, 'discourages': 6956, 'procedure': 6957, 'relaxes': 6958, 'regime': 6959, 'sucks': 6960, 'screaming': 6961, 'papers': 6962, 'pools': 6963, 'judd': 6964, 'apatow': 6965, 'rodger': 6966, 'spare': 6967, 'threshold': 6968, 'honeywell': 6969, 'texan': 6970, 'whose': 6971, 'seasons': 6972, 'howard': 6973, 'unique': 6974, 'flirts': 6975, 'trailers': 6976, 'obamas': 6977, 'kopelman': 6978, 'saucy': 6979, 'karaoke': 6980, '73': 6981, 'diapers': 6982, 'strapped': 6983, 'transactions': 6984, 'required': 6985, '106': 6986, 'gentleman': 6987, 'citizens': 6988, 'bionic': 6989, 'q4': 6990, 'blasted': 6991, 'responsible': 6992, 'inventories': 6993, 'tighter': 6994, 'gregg': 6995, 'allman': 6996, 'restructure': 6997, 'promote': 6998, 'tolmach': 6999, 'deserves': 7000, 'streets': 7001, 'pings': 7002, 'surgeon': 7003, 'fireeye': 7004, 'emt': 7005, 'voguing': 7006, 'insiders': 7007, 'mover': 7008, 'mock': 7009, 'flare': 7010, 'eventually': 7011, 'infect': 7012, 'dogs': 7013, 'economists': 7014, 'skinny': 7015, 'hug': 7016, 'svelte': 7017, 'intoxication': 7018, 'fluctuate': 7019, 'spell': 7020, 'chances': 7021, 'granddaughter': 7022, 'macbook': 7023, 'abyss': 7024, 'thrusters': 7025, 'zayn': 7026, 'malik': 7027, 'speakers': 7028, 'teary': 7029, 'embraces': 7030, 'yesallwomen': 7031, 'trends': 7032, 'seizures': 7033, 'selected': 7034, 'storytelling': 7035, 'paves': 7036, 'distraught': 7037, 'kent': 7038, 'colony': 7039, '2020': 7040, 'capitalist': 7041, 'li': 7042, 'focused': 7043, 'kicked': 7044, 'milestone': 7045, 'mild': 7046, 'explanation': 7047, 'parliament': 7048, 'offset': 7049, 'virtu': 7050, 'rbs': 7051, 'scotland': 7052, 'arresting': 7053, 'contains': 7054, 'snubbed': 7055, 'wider': 7056, 'exomoon': 7057, 'hails': 7058, 'departing': 7059, 'alsina': 7060, 'parenthood': 7061, 'permanent': 7062, 'rosneft': 7063, 'surviving': 7064, 'spice': 7065, '32': 7066, 'answer': 7067, 'powerade': 7068, '603': 7069, 'divesting': 7070, 'eaccess': 7071, 'ms': 7072, 'contractors': 7073, 'radiant': 7074, 'afford': 7075, 'specs': 7076, 'tenth': 7077, 'frames': 7078, 'irreversible': 7079, 'parades': 7080, 'thief': 7081, 'opts': 7082, 'subpoenaed': 7083, 'limo': 7084, 'spoof': 7085, 'partying': 7086, 'harness': 7087, 'feminist': 7088, 'abandoning': 7089, 'criticises': 7090, 'braces': 7091, 'lionsgate': 7092, 'courteney': 7093, 'raw': 7094, 'designing': 7095, 'training': 7096, 'foreclosures': 7097, 'spirit': 7098, 'domino': 7099, 'grain': 7100, 'embrace': 7101, 'enforcement': 7102, 'pinned': 7103, 'multibillion': 7104, 'chanel': 7105, 'earring': 7106, 'daniels': 7107, 'grips': 7108, 'skit': 7109, 'professional': 7110, 'spotlights': 7111, 'tracing': 7112, 'ted': 7113, 'mining': 7114, 'turbulent': 7115, 'spoils': 7116, 'mptf': 7117, 'churchill': 7118, 'co2': 7119, 'smash': 7120, 'unveiling': 7121, 'moody': 7122, 'underway': 7123, 'flag': 7124, 'camel': 7125, 'augurs': 7126, 'gadget': 7127, 'terminals': 7128, 'praise': 7129, 'axed': 7130, 'baskett': 7131, 'americas': 7132, 'tragedy': 7133, 'cripple': 7134, 'nickel': 7135, '16000': 7136, 'synchrony': 7137, 'knee': 7138, 'simply': 7139, 'salomon': 7140, 'steadying': 7141, 'jeeps': 7142, 'liver': 7143, 'sleek': 7144, 'unable': 7145, 'interested': 7146, 'vivienne': 7147, 'tibetans': 7148, 'altitude': 7149, 'premier': 7150, 'huffpollster': 7151, 'prenup': 7152, 'eia': 7153, 'divestitures': 7154, 'attract': 7155, 'revs': 7156, 'boxes': 7157, 'sciences': 7158, 'shadow': 7159, 'creep': 7160, 'busy': 7161, 'important': 7162, 'troubles': 7163, 'spooky': 7164, 'shamed': 7165, 'nowhere': 7166, 'flagged': 7167, 'welfare': 7168, 'picket': 7169, 'petroleum': 7170, 'barkhad': 7171, 'abdi': 7172, 'appoint': 7173, 'voices': 7174, 'machines': 7175, 'unearthed': 7176, 'affairs': 7177, '50000': 7178, '1964': 7179, 'expectancy': 7180, 'imagination': 7181, 'embellished': 7182, 'annualized': 7183, 'gradual': 7184, 'victoria': 7185, 'beckham': 7186, 'turks': 7187, 'caicos': 7188, 'fiancé': 7189, 'bacteria': 7190, 'consensual': 7191, 'favorable': 7192, 'alexa': 7193, 'onstage': 7194, 'envoy': 7195, 'moretz': 7196, 'cowles': 7197, 'implants': 7198, 'invited': 7199, 'granted': 7200, 'permit': 7201, 'intuit': 7202, 'rampage': 7203, 'tunes': 7204, 'blues': 7205, 'grandma': 7206, 'bates': 7207, 'tennessee': 7208, 'advised': 7209, 'odd': 7210, 'fitbit': 7211, 'godard': 7212, 'adieu': 7213, 'governors': 7214, 'rossiya': 7215, 'relaxed': 7216, 'caution': 7217, 'prep': 7218, 'audi': 7219, 'dominates': 7220, 'worldsmosttalkedabout': 7221, 'openings': 7222, 'manhattan': 7223, '13th': 7224, 'groomed': 7225, 'hunk': 7226, 'guess': 7227, 'fishel': 7228, 'gotta': 7229, 'boyle': 7230, 'nhs': 7231, 'provider': 7232, 'origination': 7233, 'rips': 7234, 'anymore': 7235, 'dated': 7236, 'cosmetic': 7237, 'zach': 7238, 'braff': 7239, 'surplus': 7240, 'elephants': 7241, 'tactics': 7242, 'unfollow': 7243, 'births': 7244, 'tougher': 7245, 'smell': 7246, 'elite': 7247, 'baxter': 7248, 'liquidity': 7249, 'jerusalem': 7250, 'commissioner': 7251, 'previously': 7252, 'absolutely': 7253, 'overcoming': 7254, 'petco': 7255, 'friendless': 7256, 'roaring': 7257, 'spoilers': 7258, 'mind': 7259, 'robotic': 7260, 'segway': 7261, 'opponents': 7262, 'wally': 7263, 'pfister': 7264, 'esposito': 7265, 'goodbye': 7266, 'siren': 7267, 'emerge': 7268, 'deflate': 7269, 'lifestyle': 7270, 'klan': 7271, 'caribbean': 7272, 'carnival': 7273, 'such': 7274, 'tender': 7275, 'carrey': 7276, 'steyer': 7277, 'tally': 7278, 'politicians': 7279, 'considered': 7280, 'cease': 7281, 'grading': 7282, 'sinead': 7283, 'protesters': 7284, 'statoil': 7285, 'fest': 7286, 'swan': 7287, 'surfs': 7288, 'slave': 7289, 'autographs': 7290, 'spader': 7291, 'ultron': 7292, 'ram': 7293, 'vulnerability': 7294, 'degree': 7295, 'establishes': 7296, 'bees': 7297, 'snoop': 7298, 'merck': 7299, 'committed': 7300, 'balmain': 7301, '2018': 7302, 'upscale': 7303, 'restored': 7304, 'dents': 7305, 'wladimir': 7306, 'klitschko': 7307, 'marietta': 7308, 'snc': 7309, 'lavalin': 7310, 'kentz': 7311, 'aussies': 7312, 'copies': 7313, 'chest': 7314, 'severance': 7315, 'distraction': 7316, 'hague': 7317, 'minor': 7318, 'optimistic': 7319, 'finished': 7320, 'edible': 7321, 'recently': 7322, 'resumed': 7323, 'gathers': 7324, 'travels': 7325, 'etf': 7326, 'lse': 7327, 'ensure': 7328, 'hordes': 7329, 'les': 7330, 'miserables': 7331, 'leslie': 7332, 'ftseurofirst': 7333, 'patterson': 7334, 'wind': 7335, 'rebellious': 7336, 'robots': 7337, 'apologize': 7338, 'undervalues': 7339, 'stamp': 7340, 'hunky': 7341, 'exporters': 7342, 'mazda': 7343, 'meditation': 7344, 'maundy': 7345, 'twerking': 7346, 'argument': 7347, 'reporter': 7348, 'palm': 7349, '5m': 7350, 'distance': 7351, 'appleton': 7352, 'urge': 7353, 'learns': 7354, 'breaches': 7355, 'pleased': 7356, 'sole': 7357, 'partial': 7358, 'skeptical': 7359, 'depression': 7360, 'cleary': 7361, 'soothe': 7362, 'yates': 7363, 'gears': 7364, 'nate': 7365, 'berkus': 7366, 'specter': 7367, 'unwanted': 7368, 'logic': 7369, 'drawing': 7370, 'trademarks': 7371, 'buoys': 7372, 'unaware': 7373, 'truths': 7374, 'electronic': 7375, 'bearded': 7376, 'capsule': 7377, 'balconies': 7378, 'superheroes': 7379, 'journalism': 7380, 'diabetics': 7381, 'sizzurp': 7382, 'crowded': 7383, 'pitching': 7384, 'window': 7385, 'consolidation': 7386, 'doldrums': 7387, 'aspiring': 7388, 'penalties': 7389, 'pixies': 7390, 'benedict': 7391, 'cumberbatch': 7392, 'broadcasters': 7393, 'strengthening': 7394, 'intuitive': 7395, 'writing': 7396, 'addressing': 7397, 'lennar': 7398, 'ordered': 7399, 'burke': 7400, 'olympian': 7401, 'schools': 7402, 'tabloid': 7403, 'golden': 7404, 'grapples': 7405, 'disorderly': 7406, 'spidey': 7407, 'period': 7408, 'overnight': 7409, 'confesses': 7410, 'believing': 7411, 'ringling': 7412, 'opec': 7413, 'competing': 7414, 'trader': 7415, 'hummus': 7416, 'gaza': 7417, 'cynk': 7418, 'costly': 7419, 'opened': 7420, 'isps': 7421, 'torn': 7422, 'coppola': 7423, 'mermaid': 7424, 'hearings': 7425, 'allergies': 7426, 'fetch': 7427, 'destiny': 7428, 'verbal': 7429, 'connecticut': 7430, 'laughs': 7431, 'quite': 7432, 'preacher': 7433, '249': 7434, 'logistics': 7435, 'indie': 7436, 'backing': 7437, 'proposals': 7438, 'lbd': 7439, 'dior': 7440, 'breasts': 7441, 'currently': 7442, 'developer': 7443, 'vienna': 7444, 'mrsa': 7445, 'lying': 7446, 'dented': 7447, 'alcoholics': 7448, 'darabont': 7449, 'characters': 7450, 'revoked': 7451, 'wallet': 7452, 'drove': 7453, 'mate': 7454, 'casino': 7455, 'paparazzo': 7456, 'impetus': 7457, 'convinced': 7458, 'solider': 7459, 'gallup': 7460, 'brink': 7461, 'bugs': 7462, '400': 7463, 'axe': 7464, 'insight': 7465, 'kirstie': 7466, 'alley': 7467, 'reached': 7468, 'brett': 7469, 'royals': 7470, 'except': 7471, 'sheryl': 7472, 'carmaker': 7473, 'urbanisation': 7474, 'overstated': 7475, 'disappearing': 7476, 'unfair': 7477, 'sookie': 7478, 'deter': 7479, 'vimeo': 7480, 'alters': 7481, 'architect': 7482, 'dem': 7483, 'reacted': 7484, 'georgia': 7485, '107': 7486, 'ifr': 7487, 'forexwatch': 7488, 'briefing': 7489, 'lorillard': 7490, 'democrats': 7491, 'relations': 7492, 'thieves': 7493, 'tedious': 7494, 'rash': 7495, 'ariel': 7496, 'castro': 7497, 'sand': 7498, 'sensational': 7499, 'cgi': 7500, 'undergoes': 7501, 'ore': 7502, 'respect': 7503, 'zew': 7504, 'struggled': 7505, 'misused': 7506, 'regular': 7507, 'passion': 7508, 'surrounded': 7509, 'superbugs': 7510, 'favorites': 7511, 'rappers': 7512, 'penelope': 7513, 'predicted': 7514, 'oxygen': 7515, 'interrupts': 7516, 'givenchy': 7517, 'colorful': 7518, 'plots': 7519, 'vin': 7520, 'diesel': 7521, 'interviews': 7522, 'charts': 7523, 'atlantic': 7524, 'offensive': 7525, 'crust': 7526, 'climbed': 7527, 'zamperini': 7528, 'wave': 7529, 'seizes': 7530, 'simmons': 7531, 'sparing': 7532, 'juice': 7533, 'winchester': 7534, 'dinklage': 7535, 'depends': 7536, 'cancellations': 7537, 'hgtv': 7538, 'sa': 7539, 'creationism': 7540, 'deborah': 7541, 'warfare': 7542, 'bhp': 7543, 'pythons': 7544, 'flogging': 7545, 'pint': 7546, 'hedgehog': 7547, 'scania': 7548, 'interesting': 7549, 'traditions': 7550, 'cirrus': 7551, 'wolfson': 7552, 'sophie': 7553, 'deadliest': 7554, 'cumia': 7555, 'maryland': 7556, 'himym': 7557, 'denver': 7558, 'adhd': 7559, 'rigging': 7560, 'halted': 7561, 'donetsk': 7562, 'assessment': 7563, 'transport': 7564, 'aircraft': 7565, 'solved': 7566, 'roads': 7567, 'slim': 7568, 'skeleton': 7569, 'conspiracy': 7570, 'theories': 7571, 'valerie': 7572, 'harper': 7573, 'neuman': 7574, 'mutual': 7575, 'often': 7576, 'punch': 7577, 'nail': 7578, '800000': 7579, 'coyne': 7580, 'corset': 7581, 'wyman': 7582, 'nature': 7583, 'retracts': 7584, 'citing': 7585, 'scanning': 7586, 'raid': 7587, 'rockwood': 7588, 'ghasemi': 7589, 'diagnosis': 7590, 'taps': 7591, 'hack': 7592, 'crucial': 7593, 'cristina': 7594, 'nvidia': 7595, 'waiting': 7596, 'chrissy': 7597, 'teigen': 7598, 'celine': 7599, 'dion': 7600, 'stranded': 7601, 'resist': 7602, 'concessions': 7603, 'dylan': 7604, 'proving': 7605, 'bunds': 7606, 'crowned': 7607, 'wrongful': 7608, 'wood': 7609, 'gotten': 7610, 'jaywalkers': 7611, 'chubby': 7612, 'sexuality': 7613, 'hers': 7614, 'artists': 7615, 'eleven': 7616, 'though': 7617, 'editing': 7618, 'cisco': 7619, 'wingspan': 7620, 'recruit': 7621, 'websites': 7622, 'sure': 7623, 'pig': 7624, 'smithsonian': 7625, 'camry': 7626, 'usd': 7627, 'overdrive': 7628, 'theater': 7629, 'unions': 7630, 'decreases': 7631, 'scooter': 7632, 'hide': 7633, 'unemployed': 7634, 'upstaged': 7635, 'pete': 7636, 'tong': 7637, 'solution': 7638, 'kermit': 7639, 'piggy': 7640, 'anonymous': 7641, 'glamorous': 7642, 'attending': 7643, 'arnett': 7644, 'poehler': 7645, 'bjork': 7646}\n",
            "torch.Size([7647, 300])\n"
          ]
        }
      ]
    },
    {
      "cell_type": "code",
      "source": [
        "import torch\n",
        "import torch.nn as nn\n",
        "\n",
        "class RNN(nn.Module):\n",
        "    def __init__(self, dict_size, emb_size, hidden_size, output_size, n_layers, padding_idx, device, emb_weights=None):\n",
        "        super().__init__()\n",
        "        self.device = device\n",
        "        self.n_layers = n_layers\n",
        "        if emb_weights != None:\n",
        "            self.embedding = nn.Embedding.from_pretrained(emb_weights, padding_idx=padding_idx)\n",
        "        else:\n",
        "            self.embedding = nn.Embedding(dict_size, emb_size, padding_idx=padding_idx)\n",
        "        self.hidden_size = hidden_size\n",
        "        self.dropout = nn.Dropout(p=0.1)\n",
        "        self.rnn = nn.RNN(emb_size, hidden_size,  n_layers, nonlinearity='tanh', batch_first=True)\n",
        "        self.fc = nn.Linear(hidden_size, output_size)\n",
        "\n",
        "    def forward(self, x):\n",
        "        batch_size = x.shape[0]\n",
        "        embedded = self.dropout(self.embedding(x))\n",
        "        init_hidden = torch.zeros(self.n_layers, batch_size, self.hidden_size, device=self.device)\n",
        "        out, hidden = self.rnn(embedded, init_hidden)\n",
        "        out = self.fc(out[:, -1, :])\n",
        "        return out\n"
      ],
      "metadata": {
        "id": "V19xyDxfJAHL"
      },
      "execution_count": null,
      "outputs": []
    },
    {
      "cell_type": "code",
      "source": [
        "from torch.utils.data import DataLoader\n",
        "from torch import optim\n",
        "\n",
        "# GPUが使用可能な場合は、deviceをGPUに設定する\n",
        "device = torch.device(\"cuda\" if torch.cuda.is_available() else \"cpu\")\n",
        "\n",
        "# RNNの設定\n",
        "dict_size = len(w2id_dict) + 1\n",
        "emb_size = 300\n",
        "hidden_size = 64\n",
        "output_size = 4\n",
        "n_layers  = 1\n",
        "padding_idx = 0\n",
        "\n",
        "# モデルのインスタンスを生成\n",
        "model = RNN(dict_size, emb_size, hidden_size, output_size, n_layers, padding_idx, device, weights)\n",
        "print(model)\n",
        "\n",
        "epochs = 10\n",
        "batch_size = 64\n",
        "lr = 0.1\n",
        "criterion = nn.CrossEntropyLoss()\n",
        "optimizer = optim.SGD(model.parameters(), lr=lr)\n",
        "\n",
        "# データローダーの作成\n",
        "train_dataset = MyDataset(X_train, y_train)\n",
        "train_loader = DataLoader(train_dataset, batch_size=batch_size, collate_fn=collate_fn, shuffle=True)\n",
        "valid_dataset = MyDataset(X_valid, y_valid)\n",
        "valid_loader = DataLoader(valid_dataset, batch_size=batch_size, collate_fn=collate_fn, shuffle=False)\n",
        "\n",
        "# モデルの学習\n",
        "train_model(model, train_loader, valid_loader, epochs, criterion, optimizer, device=device)"
      ],
      "metadata": {
        "colab": {
          "base_uri": "https://localhost:8080/"
        },
        "id": "ZpKYo9LEj4Wk",
        "outputId": "8070fc20-5abb-405b-fcdc-e5821b9100ef"
      },
      "execution_count": null,
      "outputs": [
        {
          "output_type": "stream",
          "name": "stdout",
          "text": [
            "RNN(\n",
            "  (embedding): Embedding(7647, 300, padding_idx=0)\n",
            "  (dropout): Dropout(p=0.1, inplace=False)\n",
            "  (rnn): RNN(300, 64, batch_first=True)\n",
            "  (fc): Linear(in_features=64, out_features=4, bias=True)\n",
            ")\n",
            "epoch: 1, loss_train: 1.1695, accuracy_train: 0.3960, loss_valid: 1.1740, accuracy_valid: 0.3952\n",
            "epoch: 2, loss_train: 1.1581, accuracy_train: 0.4578, loss_valid: 1.1650, accuracy_valid: 0.4476\n",
            "epoch: 3, loss_train: 1.1618, accuracy_train: 0.4657, loss_valid: 1.1697, accuracy_valid: 0.4513\n",
            "epoch: 4, loss_train: 1.1569, accuracy_train: 0.4395, loss_valid: 1.1618, accuracy_valid: 0.4626\n",
            "epoch: 5, loss_train: 1.1605, accuracy_train: 0.4625, loss_valid: 1.1722, accuracy_valid: 0.4484\n",
            "epoch: 6, loss_train: 1.1656, accuracy_train: 0.4269, loss_valid: 1.1696, accuracy_valid: 0.4259\n",
            "epoch: 7, loss_train: 1.2397, accuracy_train: 0.4476, loss_valid: 1.2568, accuracy_valid: 0.4454\n",
            "epoch: 8, loss_train: 1.1190, accuracy_train: 0.5187, loss_valid: 1.1251, accuracy_valid: 0.5120\n",
            "epoch: 9, loss_train: 1.1312, accuracy_train: 0.4884, loss_valid: 1.1390, accuracy_valid: 0.4798\n",
            "epoch: 10, loss_train: 1.0661, accuracy_train: 0.5908, loss_valid: 1.0740, accuracy_valid: 0.5771\n"
          ]
        }
      ]
    },
    {
      "cell_type": "markdown",
      "source": [
        "##85. 双方向RNN・多層化"
      ],
      "metadata": {
        "id": "L0dd2GJmmFSX"
      }
    },
    {
      "cell_type": "code",
      "source": [
        "import torch\n",
        "import torch.nn as nn\n",
        "\n",
        "class RNN(nn.Module):\n",
        "    def __init__(self, dict_size, emb_size, hidden_size, output_size, n_layers, padding_idx, device, emb_weights=None, bidirectional=False):\n",
        "        super().__init__()\n",
        "        self.device = device\n",
        "        self.n_layers = n_layers\n",
        "        self.num_directions = bidirectional + 1\n",
        "        if emb_weights != None:\n",
        "            self.embedding = nn.Embedding.from_pretrained(emb_weights, padding_idx=padding_idx)\n",
        "        else:\n",
        "            self.embedding = nn.Embedding(dict_size, emb_size, padding_idx=padding_idx)\n",
        "        self.hidden_size = hidden_size\n",
        "        self.dropout = nn.Dropout(p=0.1)\n",
        "        self.rnn = nn.RNN(emb_size, hidden_size,  n_layers, nonlinearity='tanh', bidirectional=bidirectional, batch_first=True)\n",
        "        self.fc = nn.Linear(hidden_size * self.num_directions, output_size)\n",
        "\n",
        "    def forward(self, x):\n",
        "        batch_size = x.shape[0]\n",
        "        embedded = self.dropout(self.embedding(x))\n",
        "        init_hidden = torch.zeros(self.n_layers * self.num_directions, batch_size, self.hidden_size, device=self.device)\n",
        "        out, hidden = self.rnn(embedded, init_hidden)\n",
        "        out = self.fc(out[:, -1, :])\n",
        "        return out\n"
      ],
      "metadata": {
        "id": "_4_esUz4mJwg"
      },
      "execution_count": null,
      "outputs": []
    },
    {
      "cell_type": "code",
      "source": [
        "from torch.utils.data import DataLoader\n",
        "from torch import optim\n",
        "\n",
        "# GPUが使用可能な場合は、deviceをGPUに設定する\n",
        "device = torch.device(\"cuda\" if torch.cuda.is_available() else \"cpu\")\n",
        "\n",
        "# 双方向RNNの設定\n",
        "dict_size = len(w2id_dict) + 1\n",
        "emb_size = 300\n",
        "hidden_size = 64\n",
        "output_size = 4\n",
        "n_layers  = 2\n",
        "padding_idx = 0\n",
        "\n",
        "# モデルのインスタンスを生成\n",
        "model = RNN(dict_size, emb_size, hidden_size, output_size, n_layers, padding_idx, device, emb_weights=weights, bidirectional=True).to(device)\n",
        "print(model)\n",
        "\n",
        "epochs = 10\n",
        "batch_size = 64\n",
        "lr = 0.1\n",
        "criterion = nn.CrossEntropyLoss()\n",
        "optimizer = optim.SGD(model.parameters(), lr=lr)\n",
        "\n",
        "# データローダーの作成\n",
        "train_dataset = MyDataset(X_train, y_train)\n",
        "train_loader = DataLoader(train_dataset, batch_size=batch_size, collate_fn=collate_fn, shuffle=True)\n",
        "valid_dataset = MyDataset(X_valid, y_valid)\n",
        "valid_loader = DataLoader(valid_dataset, batch_size=batch_size, collate_fn=collate_fn, shuffle=False)\n",
        "\n",
        "# モデルの学習\n",
        "train_model(model, train_loader, valid_loader, epochs, criterion, optimizer, device=device)"
      ],
      "metadata": {
        "colab": {
          "base_uri": "https://localhost:8080/"
        },
        "id": "V-LRKJmDSpl6",
        "outputId": "8edd31ff-97c1-4dda-b9c8-cacaab849434"
      },
      "execution_count": null,
      "outputs": [
        {
          "output_type": "stream",
          "name": "stdout",
          "text": [
            "RNN(\n",
            "  (embedding): Embedding(7647, 300, padding_idx=0)\n",
            "  (dropout): Dropout(p=0.1, inplace=False)\n",
            "  (rnn): RNN(300, 64, num_layers=2, batch_first=True, bidirectional=True)\n",
            "  (fc): Linear(in_features=128, out_features=4, bias=True)\n",
            ")\n",
            "epoch: 1, loss_train: 1.1640, accuracy_train: 0.4554, loss_valid: 1.1726, accuracy_valid: 0.4431\n",
            "epoch: 2, loss_train: 1.1517, accuracy_train: 0.4619, loss_valid: 1.1578, accuracy_valid: 0.4528\n",
            "epoch: 3, loss_train: 1.1551, accuracy_train: 0.4671, loss_valid: 1.1620, accuracy_valid: 0.4499\n",
            "epoch: 4, loss_train: 1.1489, accuracy_train: 0.4738, loss_valid: 1.1541, accuracy_valid: 0.4611\n",
            "epoch: 5, loss_train: 1.0980, accuracy_train: 0.5451, loss_valid: 1.1092, accuracy_valid: 0.5382\n",
            "epoch: 6, loss_train: 1.0515, accuracy_train: 0.6031, loss_valid: 1.0700, accuracy_valid: 0.5921\n",
            "epoch: 7, loss_train: 1.0492, accuracy_train: 0.6277, loss_valid: 1.0658, accuracy_valid: 0.6033\n",
            "epoch: 8, loss_train: 1.0074, accuracy_train: 0.6387, loss_valid: 1.0458, accuracy_valid: 0.6108\n",
            "epoch: 9, loss_train: 1.0179, accuracy_train: 0.6220, loss_valid: 1.0451, accuracy_valid: 0.5981\n",
            "epoch: 10, loss_train: 0.9580, accuracy_train: 0.6552, loss_valid: 0.9825, accuracy_valid: 0.6482\n"
          ]
        }
      ]
    },
    {
      "cell_type": "markdown",
      "source": [
        "##86. 畳み込みニューラルネットワーク（CNN）"
      ],
      "metadata": {
        "id": "_CX5NU7BmKOX"
      }
    },
    {
      "cell_type": "code",
      "source": [
        "import torch\n",
        "import torch.nn as nn\n",
        "from torch.nn import functional as F\n",
        "\n",
        "class CNN(nn.Module):\n",
        "    def __init__(self, dict_size, emb_size, output_size, padding_idx, out_channels, kernel_heights, stride, padding, emb_weights=None):\n",
        "        super().__init__()\n",
        "        if emb_weights != None:\n",
        "            self.embedding = nn.Embedding.from_pretrained(emb_weights, padding_idx=padding_idx)\n",
        "        else:\n",
        "            self.embedding = nn.Embedding(dict_size, emb_size, padding_idx=padding_idx)\n",
        "        self.conv = nn.Conv2d(1, out_channels, (kernel_heights, emb_size), stride, (padding, 0))\n",
        "        self.dropout = nn.Dropout(p=0.3)\n",
        "        self.fc = nn.Linear(out_channels, output_size)\n",
        "\n",
        "    def forward(self, x):\n",
        "        embedded = self.embedding(x).unsqueeze(1)  # embedded : [batch_size, 1, seq_len, emb_size]\n",
        "        conv = self.conv(embedded) # conv : [batch_size, out_channels, seq_len, 1]\n",
        "        feature = F.relu(conv.squeeze(-1))\n",
        "        max_pool = F.max_pool1d(feature, feature.shape[2])\n",
        "        out = self.fc(self.dropout(max_pool.squeeze(-1)))\n",
        "        return out"
      ],
      "metadata": {
        "id": "pb8FlAMSmOmm"
      },
      "execution_count": null,
      "outputs": []
    },
    {
      "cell_type": "code",
      "source": [
        "#CNNの設定\n",
        "dict_size = len(w2id_dict) + 1\n",
        "emb_size = 300\n",
        "output_size = 4\n",
        "out_channels = 100\n",
        "kernel_heights = 3  # 畳み込みのフィルターサイズ\n",
        "stride = 1  # 畳み込みのストライド（トークン）\n",
        "padding = 1 # 畳み込みのパディング有無\n",
        "padding_idx = 0\n",
        "\n",
        "# モデルのインスタンスを生成\n",
        "model = CNN(dict_size, emb_size, output_size, padding_idx, out_channels, kernel_heights, stride, padding)\n",
        "print(model)"
      ],
      "metadata": {
        "colab": {
          "base_uri": "https://localhost:8080/"
        },
        "id": "ZNsGlcFyX8jx",
        "outputId": "34bdf239-3036-4b2c-f6a2-058378e033f0"
      },
      "execution_count": null,
      "outputs": [
        {
          "output_type": "stream",
          "name": "stdout",
          "text": [
            "CNN(\n",
            "  (embedding): Embedding(7647, 256, padding_idx=0)\n",
            "  (conv): Conv2d(1, 100, kernel_size=(3, 256), stride=(1, 1), padding=(1, 0))\n",
            "  (dropout): Dropout(p=0.3, inplace=False)\n",
            "  (fc): Linear(in_features=100, out_features=4, bias=True)\n",
            ")\n"
          ]
        }
      ]
    },
    {
      "cell_type": "code",
      "source": [
        "for i in range(10):\n",
        "  X = train_dataset[i][0]\n",
        "  print(torch.softmax(model(X.unsqueeze(0)), dim=-1))"
      ],
      "metadata": {
        "colab": {
          "base_uri": "https://localhost:8080/"
        },
        "id": "u_h694-xX74-",
        "outputId": "4273e948-0cb8-4c3f-8f0e-8b8bfc90f887"
      },
      "execution_count": null,
      "outputs": [
        {
          "output_type": "stream",
          "name": "stdout",
          "text": [
            "tensor([[0.2821, 0.1205, 0.1181, 0.4793]], grad_fn=<SoftmaxBackward0>)\n",
            "tensor([[0.1680, 0.3406, 0.2967, 0.1947]], grad_fn=<SoftmaxBackward0>)\n",
            "tensor([[0.2419, 0.2168, 0.2553, 0.2860]], grad_fn=<SoftmaxBackward0>)\n",
            "tensor([[0.1859, 0.2017, 0.2016, 0.4108]], grad_fn=<SoftmaxBackward0>)\n",
            "tensor([[0.4319, 0.1319, 0.1190, 0.3173]], grad_fn=<SoftmaxBackward0>)\n",
            "tensor([[0.2348, 0.2919, 0.2940, 0.1793]], grad_fn=<SoftmaxBackward0>)\n",
            "tensor([[0.2438, 0.3199, 0.1067, 0.3296]], grad_fn=<SoftmaxBackward0>)\n",
            "tensor([[0.1960, 0.2594, 0.2243, 0.3202]], grad_fn=<SoftmaxBackward0>)\n",
            "tensor([[0.2679, 0.1513, 0.2981, 0.2827]], grad_fn=<SoftmaxBackward0>)\n",
            "tensor([[0.1392, 0.2919, 0.3581, 0.2107]], grad_fn=<SoftmaxBackward0>)\n"
          ]
        }
      ]
    },
    {
      "cell_type": "markdown",
      "source": [
        "##87. 確率的勾配降下法によるCNNの学習"
      ],
      "metadata": {
        "id": "yai_AJAYmPB5"
      }
    },
    {
      "cell_type": "code",
      "source": [
        "from torch.utils.data import DataLoader\n",
        "from torch import optim\n",
        "\n",
        "# GPUが使用可能な場合は、deviceをGPUに設定する\n",
        "device = torch.device(\"cuda\" if torch.cuda.is_available() else \"cpu\")\n",
        "\n",
        "# CNNの設定\n",
        "dict_size = len(w2id_dict) + 1\n",
        "emb_size = 300\n",
        "output_size = 4\n",
        "padding_idx = 0\n",
        "out_channels = 100\n",
        "kernel_heights = 3  # 畳み込みのフィルターサイズ\n",
        "stride = 1  # 畳み込みのストライド（トークン）\n",
        "padding = 1 # 畳み込みのパディング有無\n",
        "padding_idx = 0\n",
        "\n",
        "# モデルのインスタンスを生成\n",
        "model = CNN(dict_size, emb_size, output_size, padding_idx, out_channels, kernel_heights, stride, padding)\n",
        "print(model)\n",
        "\n",
        "epochs = 10\n",
        "batch_size = 64\n",
        "lr = 0.1\n",
        "criterion = nn.CrossEntropyLoss()\n",
        "optimizer = optim.SGD(model.parameters(), lr=lr)\n",
        "\n",
        "# データローダーの作成\n",
        "train_dataset = MyDataset(X_train, y_train)\n",
        "train_loader = DataLoader(train_dataset, batch_size=batch_size, collate_fn=collate_fn, shuffle=True)\n",
        "valid_dataset = MyDataset(X_valid, y_valid)\n",
        "valid_loader = DataLoader(valid_dataset, batch_size=batch_size, collate_fn=collate_fn, shuffle=False)\n",
        "\n",
        "# モデルの学習\n",
        "train_model(model, train_loader, valid_loader, epochs, criterion, optimizer, device=device)"
      ],
      "metadata": {
        "colab": {
          "base_uri": "https://localhost:8080/"
        },
        "id": "oqMaU6tQmUfB",
        "outputId": "5ca0e59a-ae20-4fec-e687-f2644f43d04d"
      },
      "execution_count": null,
      "outputs": [
        {
          "output_type": "stream",
          "name": "stdout",
          "text": [
            "CNN(\n",
            "  (embedding): Embedding(7647, 300, padding_idx=0)\n",
            "  (conv): Conv2d(1, 100, kernel_size=(3, 300), stride=(1, 1), padding=(1, 0))\n",
            "  (dropout): Dropout(p=0.3, inplace=False)\n",
            "  (fc): Linear(in_features=100, out_features=4, bias=True)\n",
            ")\n",
            "epoch: 1, loss_train: 0.4289, accuracy_train: 0.8542, loss_valid: 0.5728, accuracy_valid: 0.7949\n",
            "epoch: 2, loss_train: 0.2250, accuracy_train: 0.9315, loss_valid: 0.4472, accuracy_valid: 0.8398\n",
            "epoch: 3, loss_train: 0.1400, accuracy_train: 0.9591, loss_valid: 0.4307, accuracy_valid: 0.8443\n",
            "epoch: 4, loss_train: 0.0834, accuracy_train: 0.9845, loss_valid: 0.3956, accuracy_valid: 0.8608\n",
            "epoch: 5, loss_train: 0.0502, accuracy_train: 0.9933, loss_valid: 0.3772, accuracy_valid: 0.8690\n",
            "epoch: 6, loss_train: 0.0349, accuracy_train: 0.9940, loss_valid: 0.4087, accuracy_valid: 0.8675\n",
            "epoch: 7, loss_train: 0.0264, accuracy_train: 0.9970, loss_valid: 0.3966, accuracy_valid: 0.8690\n",
            "epoch: 8, loss_train: 0.0210, accuracy_train: 0.9977, loss_valid: 0.3962, accuracy_valid: 0.8780\n",
            "epoch: 9, loss_train: 0.0166, accuracy_train: 0.9985, loss_valid: 0.3960, accuracy_valid: 0.8817\n",
            "epoch: 10, loss_train: 0.0166, accuracy_train: 0.9974, loss_valid: 0.4362, accuracy_valid: 0.8802\n"
          ]
        }
      ]
    },
    {
      "cell_type": "markdown",
      "source": [
        "##88. パラメータチューニング"
      ],
      "metadata": {
        "id": "UrihhX1omUyV"
      }
    },
    {
      "cell_type": "code",
      "source": [
        "from torch.utils.data import DataLoader\n",
        "from torch import optim\n",
        "\n",
        "# GPUが使用可能な場合は、deviceをGPUに設定する\n",
        "device = torch.device(\"cuda\" if torch.cuda.is_available() else \"cpu\")\n",
        "\n",
        "# CNNの設定\n",
        "dict_size = len(w2id_dict) + 1\n",
        "emb_size = 300\n",
        "output_size = 4\n",
        "padding_idx = 0\n",
        "out_channels = 100\n",
        "kernel_heights = 3  # 畳み込みのフィルターサイズ\n",
        "stride = 1  # 畳み込みのストライド（トークン）\n",
        "padding = 1 # 畳み込みのパディング有無\n",
        "padding_idx = 0\n",
        "\n",
        "# モデルのインスタンスを生成\n",
        "model = CNN(dict_size, emb_size, output_size, padding_idx, out_channels, kernel_heights, stride, padding)\n",
        "print(model)\n",
        "\n",
        "epochs = 10\n",
        "batch_size = 64\n",
        "lr = 0.01\n",
        "criterion = nn.CrossEntropyLoss()\n",
        "optimizer = optim.Adam(model.parameters(), lr=lr)\n",
        "\n",
        "# データローダーの作成\n",
        "train_dataset = MyDataset(X_train, y_train)\n",
        "train_loader = DataLoader(train_dataset, batch_size=batch_size, collate_fn=collate_fn, shuffle=True)\n",
        "valid_dataset = MyDataset(X_valid, y_valid)\n",
        "valid_loader = DataLoader(valid_dataset, batch_size=batch_size, collate_fn=collate_fn, shuffle=False)\n",
        "\n",
        "# モデルの学習\n",
        "train_model(model, train_loader, valid_loader, epochs, criterion, optimizer, device=device)"
      ],
      "metadata": {
        "id": "Yu8-MTAYjK1p",
        "colab": {
          "base_uri": "https://localhost:8080/"
        },
        "outputId": "4c91106c-c996-4ba3-86d1-411e9d07d824"
      },
      "execution_count": null,
      "outputs": [
        {
          "output_type": "stream",
          "name": "stdout",
          "text": [
            "CNN(\n",
            "  (embedding): Embedding(7647, 300, padding_idx=0)\n",
            "  (conv): Conv2d(1, 100, kernel_size=(3, 300), stride=(1, 1), padding=(1, 0))\n",
            "  (dropout): Dropout(p=0.3, inplace=False)\n",
            "  (fc): Linear(in_features=100, out_features=4, bias=True)\n",
            ")\n",
            "epoch: 1, loss_train: 0.1825, accuracy_train: 0.9384, loss_valid: 0.3963, accuracy_valid: 0.8743\n",
            "epoch: 2, loss_train: 0.0716, accuracy_train: 0.9771, loss_valid: 0.4281, accuracy_valid: 0.8945\n",
            "epoch: 3, loss_train: 0.2269, accuracy_train: 0.9460, loss_valid: 0.8958, accuracy_valid: 0.8683\n",
            "epoch: 4, loss_train: 0.0634, accuracy_train: 0.9858, loss_valid: 0.8659, accuracy_valid: 0.9042\n",
            "epoch: 5, loss_train: 0.0810, accuracy_train: 0.9861, loss_valid: 1.1076, accuracy_valid: 0.9042\n",
            "epoch: 6, loss_train: 0.0744, accuracy_train: 0.9889, loss_valid: 1.6570, accuracy_valid: 0.8967\n",
            "epoch: 7, loss_train: 0.1235, accuracy_train: 0.9870, loss_valid: 2.3830, accuracy_valid: 0.8930\n",
            "epoch: 8, loss_train: 0.1304, accuracy_train: 0.9886, loss_valid: 2.7025, accuracy_valid: 0.8960\n",
            "epoch: 9, loss_train: 0.1177, accuracy_train: 0.9905, loss_valid: 2.9069, accuracy_valid: 0.9064\n",
            "epoch: 10, loss_train: 0.0495, accuracy_train: 0.9946, loss_valid: 3.2425, accuracy_valid: 0.9049\n"
          ]
        }
      ]
    },
    {
      "cell_type": "markdown",
      "source": [
        "##89. 事前学習済み言語モデルからの転移学習"
      ],
      "metadata": {
        "id": "bnZsGQOxmYjq"
      }
    },
    {
      "cell_type": "code",
      "source": [
        "! pip install transformers"
      ],
      "metadata": {
        "id": "XcQnhJ0KmdJ7",
        "colab": {
          "base_uri": "https://localhost:8080/"
        },
        "outputId": "9ca19bcf-abd1-4b05-efdc-a631fd09d2de"
      },
      "execution_count": null,
      "outputs": [
        {
          "output_type": "stream",
          "name": "stdout",
          "text": [
            "Looking in indexes: https://pypi.org/simple, https://us-python.pkg.dev/colab-wheels/public/simple/\n",
            "Collecting transformers\n",
            "  Downloading transformers-4.30.2-py3-none-any.whl (7.2 MB)\n",
            "\u001b[2K     \u001b[90m━━━━━━━━━━━━━━━━━━━━━━━━━━━━━━━━━━━━━━━━\u001b[0m \u001b[32m7.2/7.2 MB\u001b[0m \u001b[31m78.9 MB/s\u001b[0m eta \u001b[36m0:00:00\u001b[0m\n",
            "\u001b[?25hRequirement already satisfied: filelock in /usr/local/lib/python3.10/dist-packages (from transformers) (3.12.2)\n",
            "Collecting huggingface-hub<1.0,>=0.14.1 (from transformers)\n",
            "  Downloading huggingface_hub-0.15.1-py3-none-any.whl (236 kB)\n",
            "\u001b[2K     \u001b[90m━━━━━━━━━━━━━━━━━━━━━━━━━━━━━━━━━━━━━━\u001b[0m \u001b[32m236.8/236.8 kB\u001b[0m \u001b[31m27.3 MB/s\u001b[0m eta \u001b[36m0:00:00\u001b[0m\n",
            "\u001b[?25hRequirement already satisfied: numpy>=1.17 in /usr/local/lib/python3.10/dist-packages (from transformers) (1.22.4)\n",
            "Requirement already satisfied: packaging>=20.0 in /usr/local/lib/python3.10/dist-packages (from transformers) (23.1)\n",
            "Requirement already satisfied: pyyaml>=5.1 in /usr/local/lib/python3.10/dist-packages (from transformers) (6.0)\n",
            "Requirement already satisfied: regex!=2019.12.17 in /usr/local/lib/python3.10/dist-packages (from transformers) (2022.10.31)\n",
            "Requirement already satisfied: requests in /usr/local/lib/python3.10/dist-packages (from transformers) (2.27.1)\n",
            "Collecting tokenizers!=0.11.3,<0.14,>=0.11.1 (from transformers)\n",
            "  Downloading tokenizers-0.13.3-cp310-cp310-manylinux_2_17_x86_64.manylinux2014_x86_64.whl (7.8 MB)\n",
            "\u001b[2K     \u001b[90m━━━━━━━━━━━━━━━━━━━━━━━━━━━━━━━━━━━━━━━━\u001b[0m \u001b[32m7.8/7.8 MB\u001b[0m \u001b[31m84.6 MB/s\u001b[0m eta \u001b[36m0:00:00\u001b[0m\n",
            "\u001b[?25hCollecting safetensors>=0.3.1 (from transformers)\n",
            "  Downloading safetensors-0.3.1-cp310-cp310-manylinux_2_17_x86_64.manylinux2014_x86_64.whl (1.3 MB)\n",
            "\u001b[2K     \u001b[90m━━━━━━━━━━━━━━━━━━━━━━━━━━━━━━━━━━━━━━━━\u001b[0m \u001b[32m1.3/1.3 MB\u001b[0m \u001b[31m86.3 MB/s\u001b[0m eta \u001b[36m0:00:00\u001b[0m\n",
            "\u001b[?25hRequirement already satisfied: tqdm>=4.27 in /usr/local/lib/python3.10/dist-packages (from transformers) (4.65.0)\n",
            "Requirement already satisfied: fsspec in /usr/local/lib/python3.10/dist-packages (from huggingface-hub<1.0,>=0.14.1->transformers) (2023.6.0)\n",
            "Requirement already satisfied: typing-extensions>=3.7.4.3 in /usr/local/lib/python3.10/dist-packages (from huggingface-hub<1.0,>=0.14.1->transformers) (4.6.3)\n",
            "Requirement already satisfied: urllib3<1.27,>=1.21.1 in /usr/local/lib/python3.10/dist-packages (from requests->transformers) (1.26.16)\n",
            "Requirement already satisfied: certifi>=2017.4.17 in /usr/local/lib/python3.10/dist-packages (from requests->transformers) (2023.5.7)\n",
            "Requirement already satisfied: charset-normalizer~=2.0.0 in /usr/local/lib/python3.10/dist-packages (from requests->transformers) (2.0.12)\n",
            "Requirement already satisfied: idna<4,>=2.5 in /usr/local/lib/python3.10/dist-packages (from requests->transformers) (3.4)\n",
            "Installing collected packages: tokenizers, safetensors, huggingface-hub, transformers\n",
            "Successfully installed huggingface-hub-0.15.1 safetensors-0.3.1 tokenizers-0.13.3 transformers-4.30.2\n"
          ]
        }
      ]
    },
    {
      "cell_type": "code",
      "source": [
        "import transformers\n",
        "from transformers import BertTokenizer, BertModel"
      ],
      "metadata": {
        "id": "-Gg2GFbCI4Bs"
      },
      "execution_count": null,
      "outputs": []
    },
    {
      "cell_type": "code",
      "source": [
        "! head -15 train.txt"
      ],
      "metadata": {
        "colab": {
          "base_uri": "https://localhost:8080/"
        },
        "id": "9kBmFHsMArPG",
        "outputId": "caa2854d-392f-4da3-d468-08f1d58e89ab"
      },
      "execution_count": null,
      "outputs": [
        {
          "output_type": "stream",
          "name": "stdout",
          "text": [
            "TITLE\tCATEGORY\n",
            "UPDATE 1-Sandwich chain Quiznos files for bankruptcy protection\tb\n",
            "Iraq concerns lift top-rated euro zone bonds but Fed limits gains\tb\n",
            "China Manufacturing Gauge Rises in Stabilization Sign: Economy\tb\n",
            "Crucifixion: A New Way to Think About Jesus' Death\te\n",
            "Tracy Morgan still critical but 'doing better' following deadly crash which killed his  ...\te\n",
            "FOREX-Dollar off to slow start in event-packed week\tb\n",
            "Alstom should be a good investment for France, says CEO Kron\tb\n",
            "Diabetes-Related Problems Have Decreased Over Last 20 Years\tm\n",
            "2 Cases Of Ebola Confirmed In Liberia\tm\n",
            "'You Are Not Pregnant. We're Pregnant!' Mila Kunis Tells Off Overeager Fathers  ...\te\n",
            "Home > Justin Bieber > Justin Bieber Sends Selena Gomez $10k Flowers?\te\n",
            "Data storage firm Box files for US IPO of about $250 million\tb\n",
            "Cocaine use in U.S. cut in HALF while marijuana use jumps 30 per cent\tm\n",
            "UPDATE 1-HKMA intervenes as deals, China optimism spur Hong Kong dollar  ...\tb\n"
          ]
        }
      ]
    },
    {
      "cell_type": "code",
      "source": [
        "import pandas as pd\n",
        "\n",
        "# データの読込\n",
        "train = pd.read_csv('train.txt', sep='\\t')\n",
        "valid = pd.read_csv('valid.txt', sep='\\t')\n",
        "test = pd.read_csv('test.txt', sep='\\t')\n",
        "print(train.head())"
      ],
      "metadata": {
        "colab": {
          "base_uri": "https://localhost:8080/"
        },
        "id": "S4MPITjBBo9z",
        "outputId": "e67630ee-50d2-4e66-84f4-ea9e55bce36a"
      },
      "execution_count": null,
      "outputs": [
        {
          "output_type": "stream",
          "name": "stdout",
          "text": [
            "                                               TITLE CATEGORY\n",
            "0  UPDATE 1-Sandwich chain Quiznos files for bank...        b\n",
            "1  Iraq concerns lift top-rated euro zone bonds b...        b\n",
            "2  China Manufacturing Gauge Rises in Stabilizati...        b\n",
            "3  Crucifixion: A New Way to Think About Jesus' D...        e\n",
            "4  Tracy Morgan still critical but 'doing better'...        e\n"
          ]
        }
      ]
    },
    {
      "cell_type": "code",
      "source": [
        "class NewsDataset(Dataset):\n",
        "    def __init__(self, X, y, tokenizer, max_len):\n",
        "        self.X = X\n",
        "        self.y = y\n",
        "        self.tokenizer = tokenizer\n",
        "        self.max_len = max_len\n",
        "\n",
        "    def __len__(self):\n",
        "        return len(self.y)\n",
        "\n",
        "    def __getitem__(self, index):\n",
        "        text = self.X[index]\n",
        "        inputs = self.tokenizer.encode_plus(\n",
        "            text,\n",
        "            add_special_tokens=True,\n",
        "            max_length=self.max_len,\n",
        "            pad_to_max_length=True\n",
        "        )\n",
        "        ids = inputs['input_ids']\n",
        "        mask = inputs['attention_mask']\n",
        "\n",
        "        return {\n",
        "            'ids': torch.LongTensor(ids),\n",
        "            'mask': torch.LongTensor(mask),\n",
        "            'labels': torch.Tensor(self.y[index])\n",
        "        }"
      ],
      "metadata": {
        "id": "afz36bmvCZNO"
      },
      "execution_count": null,
      "outputs": []
    },
    {
      "cell_type": "code",
      "source": [
        "# カテゴリラベルのone-hot化\n",
        "y_train = pd.get_dummies(train, columns=['CATEGORY'])[['CATEGORY_b', 'CATEGORY_t', 'CATEGORY_e', 'CATEGORY_m']].values\n",
        "y_valid = pd.get_dummies(valid, columns=['CATEGORY'])[['CATEGORY_b', 'CATEGORY_t', 'CATEGORY_e', 'CATEGORY_m']].values\n",
        "y_test = pd.get_dummies(test, columns=['CATEGORY'])[['CATEGORY_b', 'CATEGORY_t', 'CATEGORY_e', 'CATEGORY_m']].values\n",
        "y_train[:10]"
      ],
      "metadata": {
        "colab": {
          "base_uri": "https://localhost:8080/"
        },
        "id": "jKgBhWKiE37B",
        "outputId": "15e424a5-592f-4dbe-9513-560bb0df8a28"
      },
      "execution_count": null,
      "outputs": [
        {
          "output_type": "execute_result",
          "data": {
            "text/plain": [
              "array([[1, 0, 0, 0],\n",
              "       [1, 0, 0, 0],\n",
              "       [1, 0, 0, 0],\n",
              "       [0, 0, 1, 0],\n",
              "       [0, 0, 1, 0],\n",
              "       [1, 0, 0, 0],\n",
              "       [1, 0, 0, 0],\n",
              "       [0, 0, 0, 1],\n",
              "       [0, 0, 0, 1],\n",
              "       [0, 0, 1, 0]], dtype=uint8)"
            ]
          },
          "metadata": {},
          "execution_count": 49
        }
      ]
    },
    {
      "cell_type": "code",
      "source": [
        "# Datasetの作成\n",
        "max_len = 30\n",
        "tokenizer = BertTokenizer.from_pretrained('bert-base-uncased')\n",
        "train_dataset = NewsDataset(train['TITLE'], y_train, tokenizer, max_len)\n",
        "valid_dataset = NewsDataset(valid['TITLE'], y_valid, tokenizer, max_len)\n",
        "test_dataset = NewsDataset(test['TITLE'], y_test, tokenizer, max_len)\n",
        "\n",
        "for var in train_dataset[0]:\n",
        "    print(f'{var}: {train_dataset[0][var]}')"
      ],
      "metadata": {
        "colab": {
          "base_uri": "https://localhost:8080/"
        },
        "id": "Jorytq6eE3T0",
        "outputId": "91fa9f37-d26c-40c3-c98e-6dba05ea8431"
      },
      "execution_count": null,
      "outputs": [
        {
          "output_type": "stream",
          "name": "stderr",
          "text": [
            "Truncation was not explicitly activated but `max_length` is provided a specific value, please use `truncation=True` to explicitly truncate examples to max length. Defaulting to 'longest_first' truncation strategy. If you encode pairs of sequences (GLUE-style) with the tokenizer you can select this strategy more precisely by providing a specific strategy to `truncation`.\n"
          ]
        },
        {
          "output_type": "stream",
          "name": "stdout",
          "text": [
            "ids: tensor([  101, 10651,  1015,  1011, 11642,  4677, 19461, 15460,  6764,  2005,\n",
            "        10528,  3860,   102,     0,     0,     0,     0,     0,     0,     0,\n",
            "            0,     0,     0,     0,     0,     0,     0,     0,     0,     0])\n",
            "mask: tensor([1, 1, 1, 1, 1, 1, 1, 1, 1, 1, 1, 1, 1, 0, 0, 0, 0, 0, 0, 0, 0, 0, 0, 0,\n",
            "        0, 0, 0, 0, 0, 0])\n",
            "labels: tensor([1., 0., 0., 0.])\n"
          ]
        },
        {
          "output_type": "stream",
          "name": "stderr",
          "text": [
            "/usr/local/lib/python3.10/dist-packages/transformers/tokenization_utils_base.py:2377: FutureWarning: The `pad_to_max_length` argument is deprecated and will be removed in a future version, use `padding=True` or `padding='longest'` to pad to the longest sequence in the batch, or use `padding='max_length'` to pad to a max length. In this case, you can give a specific length with `max_length` (e.g. `max_length=45`) or leave max_length to None to pad to the maximal input size of the model (e.g. 512 for Bert).\n",
            "  warnings.warn(\n"
          ]
        }
      ]
    },
    {
      "cell_type": "code",
      "source": [
        "# BERT分類モデルの定義\n",
        "class BERTClass(torch.nn.Module):\n",
        "    def __init__(self, drop_rate, otuput_size):\n",
        "        super().__init__()\n",
        "        self.bert = BertModel.from_pretrained('bert-base-uncased')\n",
        "        self.drop = torch.nn.Dropout(drop_rate)\n",
        "        self.fc = torch.nn.Linear(768, otuput_size)  # BERTの出力に合わせて768次元を指定\n",
        "\n",
        "    def forward(self, ids, mask):\n",
        "        _, out = self.bert(ids, attention_mask=mask, return_dict=False)\n",
        "        out = self.fc(self.drop(out))\n",
        "        return out"
      ],
      "metadata": {
        "id": "Sg6WHCqjISo7"
      },
      "execution_count": null,
      "outputs": []
    },
    {
      "cell_type": "code",
      "source": [
        "# 損失・正解率を計算\n",
        "def calc_loss_acc(model, criterion, loader, device):\n",
        "    model.eval()\n",
        "    loss = 0.0\n",
        "    total = 0\n",
        "    correct = 0\n",
        "    with torch.no_grad():\n",
        "        for data in loader:\n",
        "            # デバイスの指定\n",
        "            ids = data['ids'].to(device)\n",
        "            mask = data['mask'].to(device)\n",
        "            labels = data['labels'].to(device)\n",
        "\n",
        "        # 順伝播\n",
        "        outputs = model(ids, mask)\n",
        "\n",
        "        # 損失計算\n",
        "        loss += criterion(outputs, labels).item()\n",
        "\n",
        "        # 正解率計算\n",
        "        pred = torch.argmax(outputs, dim=-1).cpu().numpy() # バッチサイズの長さの予測ラベル配列\n",
        "        labels = torch.argmax(labels, dim=-1).cpu().numpy()  # バッチサイズの長さの正解ラベル配列\n",
        "        total += len(labels)\n",
        "        correct += (pred == labels).sum().item()\n",
        "\n",
        "    return loss / len(loader), correct / total"
      ],
      "metadata": {
        "id": "MI2j9bXXML_Z"
      },
      "execution_count": null,
      "outputs": []
    },
    {
      "cell_type": "code",
      "source": [
        "from torch import optim\n",
        "from torch import cuda\n",
        "\n",
        "# パラメータの設定\n",
        "drop_rate = 0.4\n",
        "output_size = 4\n",
        "batch_size = 32\n",
        "num_epochs = 4\n",
        "lr = 2e-5\n",
        "\n",
        "# モデルの定義\n",
        "model = BERTClass(drop_rate, output_size)\n",
        "\n",
        "# 損失関数の定義\n",
        "criterion = torch.nn.BCEWithLogitsLoss()\n",
        "\n",
        "# オプティマイザの定義\n",
        "optimizer = torch.optim.AdamW(params=model.parameters(), lr=lr)\n",
        "\n",
        "# デバイスの指定\n",
        "device = 'cuda' if cuda.is_available() else 'cpu'\n",
        "\n",
        "# デバイスの指定\n",
        "model.to(device)\n",
        "\n",
        "# データローダーの作成\n",
        "train_loader = DataLoader(train_dataset, batch_size=batch_size, shuffle=True)\n",
        "valid_loader = DataLoader(valid_dataset, batch_size=len(valid_dataset), shuffle=False)\n",
        "\n",
        "# 学習\n",
        "log_train = []\n",
        "log_valid = []\n",
        "for epoch in range(num_epochs):\n",
        "\n",
        "    # 訓練モードに設定\n",
        "    model.train()\n",
        "    for data in train_loader:\n",
        "        # デバイスの指定\n",
        "        ids = data['ids'].to(device)\n",
        "        mask = data['mask'].to(device)\n",
        "        labels = data['labels'].to(device)\n",
        "\n",
        "        # 勾配をゼロで初期化\n",
        "        optimizer.zero_grad()\n",
        "\n",
        "        # 順伝播 + 誤差逆伝播 + 重み更新\n",
        "        outputs = model(ids, mask)\n",
        "        loss = criterion(outputs, labels)\n",
        "        loss.backward()\n",
        "        optimizer.step()\n",
        "\n",
        "    # 損失と正解率の算出\n",
        "    loss_train, acc_train = calc_loss_acc(model, criterion, train_loader, device)\n",
        "    loss_valid, acc_valid = calc_loss_acc(model, criterion, valid_loader, device)\n",
        "    log_train.append([loss_train, acc_train])\n",
        "    log_valid.append([loss_valid, acc_valid])\n",
        "\n",
        "    # チェックポイントの保存\n",
        "    torch.save({'epoch': epoch, 'model_state_dict': model.state_dict(), 'optimizer_state_dict': optimizer.state_dict()}, f'checkpoint{epoch + 1}.pt')\n",
        "\n",
        "    # ログを出力\n",
        "    print(f'epoch: {epoch + 1}, loss_train: {loss_train:.4f}, accuracy_train: {acc_train:.4f}, loss_valid: {loss_valid:.4f}, accuracy_valid: {acc_valid:.4f}')\n"
      ],
      "metadata": {
        "colab": {
          "base_uri": "https://localhost:8080/",
          "height": 222,
          "referenced_widgets": [
            "01090d2ea85f4307923b2965226a7257",
            "9aec092fd7bd4ef19adc011af7d38c11",
            "059c7eebe76b4b96866df99d9ec962cd",
            "d8c6bf6ee9434ed79cc1f89ecbdc23f4",
            "cb8f4cd9f3ed4d94b91136fd9504ed0d",
            "cd1345b759064890ab0ca477514c4a31",
            "c864042a565344ada9383fd42374816b",
            "389c8e265e6b4fdeb6e128b045d1883b",
            "1ebd2a4bb1434ef78e42326d24ae65e4",
            "0224662a32cc4728a150fe34ecbff318",
            "779eca90c71a4bcd834c1c464e36710f"
          ]
        },
        "id": "oESnP99FISkL",
        "outputId": "4b8ef9e0-30d4-4159-b516-108d1f0f4e36"
      },
      "execution_count": null,
      "outputs": [
        {
          "output_type": "display_data",
          "data": {
            "text/plain": [
              "Downloading model.safetensors:   0%|          | 0.00/440M [00:00<?, ?B/s]"
            ],
            "application/vnd.jupyter.widget-view+json": {
              "version_major": 2,
              "version_minor": 0,
              "model_id": "01090d2ea85f4307923b2965226a7257"
            }
          },
          "metadata": {}
        },
        {
          "output_type": "stream",
          "name": "stderr",
          "text": [
            "Some weights of the model checkpoint at bert-base-uncased were not used when initializing BertModel: ['cls.predictions.transform.dense.weight', 'cls.predictions.transform.LayerNorm.bias', 'cls.seq_relationship.weight', 'cls.predictions.bias', 'cls.predictions.transform.LayerNorm.weight', 'cls.seq_relationship.bias', 'cls.predictions.transform.dense.bias']\n",
            "- This IS expected if you are initializing BertModel from the checkpoint of a model trained on another task or with another architecture (e.g. initializing a BertForSequenceClassification model from a BertForPreTraining model).\n",
            "- This IS NOT expected if you are initializing BertModel from the checkpoint of a model that you expect to be exactly identical (initializing a BertForSequenceClassification model from a BertForSequenceClassification model).\n"
          ]
        },
        {
          "output_type": "stream",
          "name": "stdout",
          "text": [
            "epoch: 1, loss_train: 0.0003, accuracy_train: 0.9286, loss_valid: 0.1016, accuracy_valid: 0.9319\n",
            "epoch: 2, loss_train: 0.0002, accuracy_train: 0.9286, loss_valid: 0.0839, accuracy_valid: 0.9461\n",
            "epoch: 3, loss_train: 0.0000, accuracy_train: 1.0000, loss_valid: 0.0882, accuracy_valid: 0.9446\n",
            "epoch: 4, loss_train: 0.0003, accuracy_train: 0.9643, loss_valid: 0.0856, accuracy_valid: 0.9476\n"
          ]
        }
      ]
    }
  ]
}