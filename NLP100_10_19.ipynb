{
  "nbformat": 4,
  "nbformat_minor": 0,
  "metadata": {
    "colab": {
      "provenance": [],
      "authorship_tag": "ABX9TyPbPoSPp+qmeCiW2o/X8Yxd",
      "include_colab_link": true
    },
    "kernelspec": {
      "name": "python3",
      "display_name": "Python 3"
    },
    "language_info": {
      "name": "python"
    }
  },
  "cells": [
    {
      "cell_type": "markdown",
      "metadata": {
        "id": "view-in-github",
        "colab_type": "text"
      },
      "source": [
        "<a href=\"https://colab.research.google.com/github/GuraTom9/NLP100/blob/main/NLP100_10_19.ipynb\" target=\"_parent\"><img src=\"https://colab.research.google.com/assets/colab-badge.svg\" alt=\"Open In Colab\"/></a>"
      ]
    },
    {
      "cell_type": "markdown",
      "source": [
        "#第2章　UNIXコマンド"
      ],
      "metadata": {
        "id": "gX-JVKvDRXJ4"
      }
    },
    {
      "cell_type": "code",
      "source": [
        "from google.colab import drive\n",
        "drive.mount('/content/drive/')\n",
        "\n",
        "%cd \"drive/My Drive/NLP100\""
      ],
      "metadata": {
        "colab": {
          "base_uri": "https://localhost:8080/"
        },
        "id": "YSStLaaRnGd5",
        "outputId": "f633849a-1a19-4256-8b8c-efb7bda4d23b"
      },
      "execution_count": null,
      "outputs": [
        {
          "output_type": "stream",
          "name": "stdout",
          "text": [
            "Drive already mounted at /content/drive/; to attempt to forcibly remount, call drive.mount(\"/content/drive/\", force_remount=True).\n",
            "[Errno 2] No such file or directory: 'drive/My Drive/NLP100'\n",
            "/content/drive/My Drive/NLP100\n"
          ]
        }
      ]
    },
    {
      "cell_type": "markdown",
      "source": [
        "##10.行数のカウント"
      ],
      "metadata": {
        "id": "bk6BZON6mj0M"
      }
    },
    {
      "cell_type": "code",
      "source": [
        "cnt_line = 0\n",
        "with open('popular-names.txt') as f:\n",
        "    for line in f:\n",
        "        cnt_line += 1\n",
        "print(cnt_line)"
      ],
      "metadata": {
        "colab": {
          "base_uri": "https://localhost:8080/"
        },
        "id": "xnxMNWlnmjeP",
        "outputId": "16fee37a-97c6-4a07-caa9-3feb30aaecc6"
      },
      "execution_count": null,
      "outputs": [
        {
          "output_type": "stream",
          "name": "stdout",
          "text": [
            "2780\n"
          ]
        }
      ]
    },
    {
      "cell_type": "code",
      "source": [
        "# 確認\n",
        "! wc -l popular-names.txt"
      ],
      "metadata": {
        "colab": {
          "base_uri": "https://localhost:8080/"
        },
        "id": "7EECiBbvpEt2",
        "outputId": "11e4eab2-a0fb-49d7-fc1b-41bb187fc948"
      },
      "execution_count": null,
      "outputs": [
        {
          "output_type": "stream",
          "name": "stdout",
          "text": [
            "2780 popular-names.txt\n"
          ]
        }
      ]
    },
    {
      "cell_type": "markdown",
      "source": [
        "##11.タブをスペースに変換"
      ],
      "metadata": {
        "id": "dfl97O_GpoTJ"
      }
    },
    {
      "cell_type": "code",
      "source": [
        "import re\n",
        "\n",
        "with open(\"popular-names.txt\") as f:\n",
        "    text = re.sub(r'\\t', ' ', f.read())\n",
        "\n",
        "print(text)"
      ],
      "metadata": {
        "id": "ljd2CA_AqHpn"
      },
      "execution_count": null,
      "outputs": []
    },
    {
      "cell_type": "code",
      "source": [
        "# 確認\n",
        "# s/：正規表現で置換処理をする\n",
        "# /g：正規表現にマッチしたすべての文字列を置換する\n",
        "# \\t/ /：タブをスペースに置換する\n",
        "! sed -e 's/\\t/ /g' popular-names.txt | head -n 10"
      ],
      "metadata": {
        "colab": {
          "base_uri": "https://localhost:8080/"
        },
        "id": "v6SmgggNt7Ey",
        "outputId": "81e481cb-f5a4-49ff-8d72-8da3f978a03e"
      },
      "execution_count": null,
      "outputs": [
        {
          "output_type": "stream",
          "name": "stdout",
          "text": [
            "Mary F 7065 1880\n",
            "Anna F 2604 1880\n",
            "Emma F 2003 1880\n",
            "Elizabeth F 1939 1880\n",
            "Minnie F 1746 1880\n",
            "Margaret F 1578 1880\n",
            "Ida F 1472 1880\n",
            "Alice F 1414 1880\n",
            "Bertha F 1320 1880\n",
            "Sarah F 1288 1880\n"
          ]
        }
      ]
    },
    {
      "cell_type": "markdown",
      "source": [
        "##12.1列目をcol1.txtに, 2列目をcol2.txtに保存"
      ],
      "metadata": {
        "id": "mQCYySeAvOnp"
      }
    },
    {
      "cell_type": "code",
      "source": [
        "with open(\"popular-names.txt\") as f:\n",
        "    lines = f.readlines()\n",
        "    col1 = []\n",
        "    col2 = []\n",
        "\n",
        "    for line in lines:\n",
        "        col1.append(line.split('\\t')[0])\n",
        "        col2.append(line.split('\\t')[1])\n",
        "\n",
        "def write_data(data_list, file_name):\n",
        "    with open(file_name, 'w') as f:\n",
        "        for data in data_list:\n",
        "            f.write(\"%s\\n\" % data)\n",
        "\n",
        "write_data(col1, \"col1.txt\")\n",
        "write_data(col2, \"col2.txt\")\n",
        "\n",
        "! head -n 5 col1.txt\n",
        "! head -n 5 col2.txt"
      ],
      "metadata": {
        "id": "i-uguOR_vYDV",
        "colab": {
          "base_uri": "https://localhost:8080/"
        },
        "outputId": "88c513ab-7bdc-453f-a021-995c4544a040"
      },
      "execution_count": null,
      "outputs": [
        {
          "output_type": "stream",
          "name": "stdout",
          "text": [
            "Mary\n",
            "Anna\n",
            "Emma\n",
            "Elizabeth\n",
            "Minnie\n",
            "F\n",
            "F\n",
            "F\n",
            "F\n",
            "F\n"
          ]
        }
      ]
    },
    {
      "cell_type": "code",
      "source": [
        "# 確認\n",
        "! cut -f 1 popular-names.txt | head -n 5  # popular-names.txtの1列目の最初の5行\n",
        "! cut -f 2 popular-names.txt | head -n 5  # popular-names.txtの2列目の最初の5行"
      ],
      "metadata": {
        "colab": {
          "base_uri": "https://localhost:8080/"
        },
        "id": "0UBFG0ljWy4K",
        "outputId": "027723d3-04c7-437f-e20d-219eb67c390e"
      },
      "execution_count": null,
      "outputs": [
        {
          "output_type": "stream",
          "name": "stdout",
          "text": [
            "Mary\n",
            "Anna\n",
            "Emma\n",
            "Elizabeth\n",
            "Minnie\n",
            "F\n",
            "F\n",
            "F\n",
            "F\n",
            "F\n"
          ]
        }
      ]
    },
    {
      "cell_type": "markdown",
      "source": [
        "##13.col1.txtとcol2.txtをマージ"
      ],
      "metadata": {
        "id": "6iC5h8i0WY3f"
      }
    },
    {
      "cell_type": "code",
      "source": [
        "with open(\"col1.txt\") as f1, open(\"col2.txt\") as f2:\n",
        "    col1_items = [line.strip() for line in f1.readlines()]\n",
        "    col2_items = [line.strip() for line in f2.readlines()]\n",
        "\n",
        "    col12_items = []\n",
        "    for i in range(len(col1_items)):\n",
        "        col12_items.append(col1_items[i] + '\\t' + col2_items[i])\n",
        "\n",
        "with open('col1-2.txt', 'w') as f:\n",
        "    for data in col12_items:\n",
        "        f.write(\"%s\\n\" % data)\n",
        "\n",
        "# 先頭5行表示\n",
        "for i in range(5):\n",
        "    print(col12_items[i])"
      ],
      "metadata": {
        "colab": {
          "base_uri": "https://localhost:8080/"
        },
        "id": "sWxsoTkOPJ8n",
        "outputId": "967c58e9-51b1-4193-e2d1-5420ccdaa386"
      },
      "execution_count": null,
      "outputs": [
        {
          "output_type": "stream",
          "name": "stdout",
          "text": [
            "Mary\tF\n",
            "Anna\tF\n",
            "Emma\tF\n",
            "Elizabeth\tF\n",
            "Minnie\tF\n"
          ]
        }
      ]
    },
    {
      "cell_type": "code",
      "source": [
        "# 確認 先頭5行\n",
        "# pasteコマンド：複数ファイルを行単位で連結する\n",
        "! paste col1.txt col2.txt | head -n 5"
      ],
      "metadata": {
        "colab": {
          "base_uri": "https://localhost:8080/"
        },
        "id": "hYuThDkkVhPF",
        "outputId": "01b4f6aa-9d7e-4f63-fcde-c8522c576b8b"
      },
      "execution_count": null,
      "outputs": [
        {
          "output_type": "stream",
          "name": "stdout",
          "text": [
            "Mary\tF\n",
            "Anna\tF\n",
            "Emma\tF\n",
            "Elizabeth\tF\n",
            "Minnie\tF\n"
          ]
        }
      ]
    },
    {
      "cell_type": "markdown",
      "source": [
        "##14.先頭からN行を出力"
      ],
      "metadata": {
        "id": "7H7pcaGcWV-D"
      }
    },
    {
      "cell_type": "code",
      "source": [
        "print(\"表示するテキストファイル名を入力：\")\n",
        "file_name = input('>> ')\n",
        "print(\"先頭から表示する行数を入力：\")\n",
        "n = input('>> ')\n",
        "with open(file_name) as f:\n",
        "    items = [line.strip() for line in f.readlines()]\n",
        "    for i in range(int(n)):\n",
        "        print(items[i])"
      ],
      "metadata": {
        "colab": {
          "base_uri": "https://localhost:8080/"
        },
        "id": "Vv2zKIDzWj7t",
        "outputId": "08b78fc0-0c1d-494f-f37b-ca1066b3b266"
      },
      "execution_count": null,
      "outputs": [
        {
          "output_type": "stream",
          "name": "stdout",
          "text": [
            "表示するテキストファイル名を入力：\n",
            ">> popular-names.txt\n",
            "先頭から表示する行数を入力：\n",
            ">> 5\n",
            "Mary\tF\t7065\t1880\n",
            "Anna\tF\t2604\t1880\n",
            "Emma\tF\t2003\t1880\n",
            "Elizabeth\tF\t1939\t1880\n",
            "Minnie\tF\t1746\t1880\n"
          ]
        }
      ]
    },
    {
      "cell_type": "code",
      "source": [
        "# 確認\n",
        "!head -n 5 popular-names.txt"
      ],
      "metadata": {
        "colab": {
          "base_uri": "https://localhost:8080/"
        },
        "id": "5xJE57IvZxvM",
        "outputId": "b44e75ee-c749-4fda-eec8-0293daf015ab"
      },
      "execution_count": null,
      "outputs": [
        {
          "output_type": "stream",
          "name": "stdout",
          "text": [
            "Mary\tF\t7065\t1880\n",
            "Anna\tF\t2604\t1880\n",
            "Emma\tF\t2003\t1880\n",
            "Elizabeth\tF\t1939\t1880\n",
            "Minnie\tF\t1746\t1880\n"
          ]
        }
      ]
    },
    {
      "cell_type": "markdown",
      "source": [
        "##15.末尾のN行を出力"
      ],
      "metadata": {
        "id": "ddWj46wLaGa7"
      }
    },
    {
      "cell_type": "code",
      "source": [
        "print(\"表示するテキストファイル名を入力：\")\n",
        "file_name = input('>> ')\n",
        "print(\"末尾から表示する行数を入力：\")\n",
        "n = input('>> ')\n",
        "with open(file_name) as f:\n",
        "    items = [line.strip() for line in f.readlines()]\n",
        "    for i in range(-(int(n)), 0):\n",
        "        print(items[i])"
      ],
      "metadata": {
        "colab": {
          "base_uri": "https://localhost:8080/"
        },
        "id": "yGpHzaLjaFq4",
        "outputId": "69480e23-462b-4930-ebb2-0c2648b3be74"
      },
      "execution_count": null,
      "outputs": [
        {
          "output_type": "stream",
          "name": "stdout",
          "text": [
            "表示するテキストファイル名を入力：\n",
            ">> popular-names.txt\n",
            "末尾から表示する行数を入力：\n",
            ">> 5\n",
            "Benjamin\tM\t13381\t2018\n",
            "Elijah\tM\t12886\t2018\n",
            "Lucas\tM\t12585\t2018\n",
            "Mason\tM\t12435\t2018\n",
            "Logan\tM\t12352\t2018\n"
          ]
        }
      ]
    },
    {
      "cell_type": "code",
      "source": [
        "# 確認\n",
        "!tail -n 5 ./popular-names.txt"
      ],
      "metadata": {
        "colab": {
          "base_uri": "https://localhost:8080/"
        },
        "id": "ZvgiubQQbvg_",
        "outputId": "af6a21a1-4038-4a0e-d8e7-522aed1c310d"
      },
      "execution_count": null,
      "outputs": [
        {
          "output_type": "stream",
          "name": "stdout",
          "text": [
            "Benjamin\tM\t13381\t2018\n",
            "Elijah\tM\t12886\t2018\n",
            "Lucas\tM\t12585\t2018\n",
            "Mason\tM\t12435\t2018\n",
            "Logan\tM\t12352\t2018\n"
          ]
        }
      ]
    },
    {
      "cell_type": "markdown",
      "source": [
        "##16.ファイルをN分割する"
      ],
      "metadata": {
        "id": "KgnLiZ1BcIHa"
      }
    },
    {
      "cell_type": "code",
      "source": [
        "print(\"分割するテキストファイル名を入力：\")\n",
        "file_name = input('>> ')\n",
        "print(\"分割数を入力：\")\n",
        "n = input('>> ')\n",
        "\n",
        "# リストを リストの長さ//n 個ずつの要素に分割\n",
        "def split_list(l, c):\n",
        "    for idx in range(0, len(l), c):\n",
        "        yield l[idx:idx + c]\n",
        "\n",
        "with open(file_name) as f:\n",
        "    lines = f.readlines()\n",
        "\n",
        "result = list(split_list(lines, len(lines)//int(n)))"
      ],
      "metadata": {
        "colab": {
          "base_uri": "https://localhost:8080/"
        },
        "id": "T6PcT8EwcNkU",
        "outputId": "2ed6294e-c2ab-47b0-821d-b414eda27a76"
      },
      "execution_count": null,
      "outputs": [
        {
          "name": "stdout",
          "output_type": "stream",
          "text": [
            "分割するテキストファイル名を入力：\n",
            ">> popular-names.txt\n",
            "分割数を入力：\n",
            ">> 5\n"
          ]
        }
      ]
    },
    {
      "cell_type": "code",
      "source": [
        "# 分割結果をそれぞれテキストファイルに書き込む\n",
        "for i in range(len(result)):\n",
        "    cut_file_name = file_name[0:-4] + str(i) + \".txt\"\n",
        "    with open(cut_file_name, 'w') as f:\n",
        "        for d in result[i]:\n",
        "            f.write(\"%s\" % d)"
      ],
      "metadata": {
        "id": "b8mhbJJHrjSV"
      },
      "execution_count": null,
      "outputs": []
    },
    {
      "cell_type": "code",
      "source": [
        "# コマンドによる分割　（ -l 行数：分割ファイルの行数を指定）\n",
        "! split -l 556 -d ./popular-names.txt sp"
      ],
      "metadata": {
        "id": "IlNnles2ulFg"
      },
      "execution_count": null,
      "outputs": []
    },
    {
      "cell_type": "markdown",
      "source": [
        "##17.１列目の文字列の異なり"
      ],
      "metadata": {
        "id": "V7MrdWwlvXQx"
      }
    },
    {
      "cell_type": "code",
      "source": [
        "with open(\"popular-names.txt\") as f:\n",
        "    lines = f.readlines()\n",
        "    s_lines = [line.strip() for line in lines]\n",
        "    col1 = []\n",
        "\n",
        "    for line in s_lines:\n",
        "        col1.append(line.split('\\t')[0])\n",
        "\n",
        "# 重複しない要素の個数をカウント\n",
        "import collections\n",
        "\n",
        "c = collections.Counter(col1)\n",
        "\n",
        "print(len(c))"
      ],
      "metadata": {
        "id": "Cd_CfWitvdzq",
        "colab": {
          "base_uri": "https://localhost:8080/"
        },
        "outputId": "a9bc0387-a5f3-49b1-dd7f-f3a1727d29ea"
      },
      "execution_count": null,
      "outputs": [
        {
          "output_type": "stream",
          "name": "stdout",
          "text": [
            "136\n"
          ]
        }
      ]
    },
    {
      "cell_type": "code",
      "source": [
        "# 確認\n",
        "! cut -f 1 ./popular-names.txt | sort | uniq | wc -l"
      ],
      "metadata": {
        "colab": {
          "base_uri": "https://localhost:8080/"
        },
        "id": "JFNF60qD4u3W",
        "outputId": "95e39c32-38da-4290-e318-1305d997f546"
      },
      "execution_count": null,
      "outputs": [
        {
          "output_type": "stream",
          "name": "stdout",
          "text": [
            "136\n"
          ]
        }
      ]
    },
    {
      "cell_type": "markdown",
      "source": [
        "##18.各行を3コラム目の数値の降順にソート"
      ],
      "metadata": {
        "id": "Y5DLf75p4iSj"
      }
    },
    {
      "cell_type": "code",
      "source": [
        "import pandas as pd\n",
        "\n",
        "df = pd.read_table(\"popular-names.txt\", header=None, sep='\\t', names=['name', 'sex', 'number', 'year'])\n",
        "\n",
        "sv = df.sort_values(by=\"number\", ascending=False)\n",
        "print(sv)"
      ],
      "metadata": {
        "colab": {
          "base_uri": "https://localhost:8080/"
        },
        "id": "hXKZ_v445DqQ",
        "outputId": "c98239b9-fd01-4a0c-c07e-4a7965bfa2e5"
      },
      "execution_count": null,
      "outputs": [
        {
          "output_type": "stream",
          "name": "stdout",
          "text": [
            "         name sex  number  year\n",
            "1340    Linda   F   99689  1947\n",
            "1360    Linda   F   96211  1948\n",
            "1350    James   M   94757  1947\n",
            "1550  Michael   M   92704  1957\n",
            "1351   Robert   M   91640  1947\n",
            "...       ...  ..     ...   ...\n",
            "27      Annie   F    1326  1881\n",
            "28     Bertha   F    1324  1881\n",
            "8      Bertha   F    1320  1880\n",
            "29      Alice   F    1308  1881\n",
            "9       Sarah   F    1288  1880\n",
            "\n",
            "[2780 rows x 4 columns]\n"
          ]
        }
      ]
    },
    {
      "cell_type": "code",
      "source": [
        "# 確認\n",
        "! cat ./popular-names.txt | sort -r -n -k 3 | head -n 5"
      ],
      "metadata": {
        "colab": {
          "base_uri": "https://localhost:8080/"
        },
        "id": "TIqVEceQ_ytN",
        "outputId": "ae5b1228-ce59-4291-e134-ecfbed5d492c"
      },
      "execution_count": null,
      "outputs": [
        {
          "output_type": "stream",
          "name": "stdout",
          "text": [
            "Linda\tF\t99689\t1947\n",
            "Linda\tF\t96211\t1948\n",
            "James\tM\t94757\t1947\n",
            "Michael\tM\t92704\t1957\n",
            "Robert\tM\t91640\t1947\n"
          ]
        }
      ]
    },
    {
      "cell_type": "markdown",
      "source": [
        "##19.各行の1コラム目の文字列の出現頻度を求め，出現頻度の高い順に並べる"
      ],
      "metadata": {
        "id": "_UHHMDHTBDex"
      }
    },
    {
      "cell_type": "code",
      "source": [
        "import pandas as pd\n",
        "\n",
        "df = pd.read_table(\"popular-names.txt\", header=None, sep='\\t', names=['name', 'sex', 'number', 'year'])\n",
        "\n",
        "print(df[\"name\"].value_counts())"
      ],
      "metadata": {
        "colab": {
          "base_uri": "https://localhost:8080/"
        },
        "id": "tUbo_p2DBB4T",
        "outputId": "de37c0fe-936a-468e-abfd-b9df5f555028"
      },
      "execution_count": null,
      "outputs": [
        {
          "output_type": "stream",
          "name": "stdout",
          "text": [
            "James      118\n",
            "William    111\n",
            "Robert     108\n",
            "John       108\n",
            "Mary        92\n",
            "          ... \n",
            "Scott        1\n",
            "Rachel       1\n",
            "Kelly        1\n",
            "Crystal      1\n",
            "Lucas        1\n",
            "Name: name, Length: 136, dtype: int64\n"
          ]
        }
      ]
    },
    {
      "cell_type": "code",
      "source": [
        "# 確認\n",
        "! cut -f 1 ./popular-names.txt | sort | uniq -c | sort -r -n | head -n 5"
      ],
      "metadata": {
        "colab": {
          "base_uri": "https://localhost:8080/"
        },
        "id": "c0ySPYPTLIoV",
        "outputId": "7bdd449f-5ba4-445f-972c-9a3ccb5bb0cd"
      },
      "execution_count": null,
      "outputs": [
        {
          "output_type": "stream",
          "name": "stdout",
          "text": [
            "    118 James\n",
            "    111 William\n",
            "    108 Robert\n",
            "    108 John\n",
            "     92 Mary\n"
          ]
        }
      ]
    }
  ]
}