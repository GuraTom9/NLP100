{
  "nbformat": 4,
  "nbformat_minor": 0,
  "metadata": {
    "colab": {
      "provenance": [],
      "authorship_tag": "ABX9TyPTSTTTOa6g2gz9N/38/PbE",
      "include_colab_link": true
    },
    "kernelspec": {
      "name": "python3",
      "display_name": "Python 3"
    },
    "language_info": {
      "name": "python"
    }
  },
  "cells": [
    {
      "cell_type": "markdown",
      "metadata": {
        "id": "view-in-github",
        "colab_type": "text"
      },
      "source": [
        "<a href=\"https://colab.research.google.com/github/GuraTom9/NLP100/blob/main/NLP100_50_59.ipynb\" target=\"_parent\"><img src=\"https://colab.research.google.com/assets/colab-badge.svg\" alt=\"Open In Colab\"/></a>"
      ]
    },
    {
      "cell_type": "markdown",
      "source": [
        "#第6章　機械学習\n",
        "\n"
      ],
      "metadata": {
        "id": "Icfku2A-lRE2"
      }
    },
    {
      "cell_type": "markdown",
      "source": [
        "##50. データの入手・整形"
      ],
      "metadata": {
        "id": "yrP09XqClk0H"
      }
    },
    {
      "cell_type": "code",
      "source": [
        "from google.colab import drive\n",
        "drive.mount('/content/drive')"
      ],
      "metadata": {
        "colab": {
          "base_uri": "https://localhost:8080/"
        },
        "id": "x7BY6bWRGh2i",
        "outputId": "896e9e5d-815b-4f22-ce19-6232a022c323"
      },
      "execution_count": null,
      "outputs": [
        {
          "output_type": "stream",
          "name": "stdout",
          "text": [
            "Mounted at /content/drive\n"
          ]
        }
      ]
    },
    {
      "cell_type": "code",
      "source": [
        "%cd \"drive/MyDrive/NLP100\""
      ],
      "metadata": {
        "colab": {
          "base_uri": "https://localhost:8080/"
        },
        "id": "RKDnQKY-GuoT",
        "outputId": "c8d434f8-0361-43cb-9926-ecd829f7702e"
      },
      "execution_count": null,
      "outputs": [
        {
          "output_type": "stream",
          "name": "stdout",
          "text": [
            "/content/drive/MyDrive/NLP100\n"
          ]
        }
      ]
    },
    {
      "cell_type": "code",
      "execution_count": null,
      "metadata": {
        "colab": {
          "base_uri": "https://localhost:8080/"
        },
        "id": "dzs43xbGlHWO",
        "outputId": "4bbec679-e544-47db-e0ca-7ca60c534779"
      },
      "outputs": [
        {
          "output_type": "stream",
          "name": "stdout",
          "text": [
            "--2023-05-08 05:03:28--  https://archive.ics.uci.edu/ml/machine-learning-databases/00359/NewsAggregatorDataset.zip\n",
            "Resolving archive.ics.uci.edu (archive.ics.uci.edu)... 128.195.10.252\n",
            "Connecting to archive.ics.uci.edu (archive.ics.uci.edu)|128.195.10.252|:443... connected.\n",
            "HTTP request sent, awaiting response... 200 OK\n",
            "Length: 29224203 (28M) [application/x-httpd-php]\n",
            "Saving to: ‘NewsAggregatorDataset.zip’\n",
            "\n",
            "NewsAggregatorDatas 100%[===================>]  27.87M  22.5MB/s    in 1.2s    \n",
            "\n",
            "2023-05-08 05:03:29 (22.5 MB/s) - ‘NewsAggregatorDataset.zip’ saved [29224203/29224203]\n",
            "\n",
            "Archive:  NewsAggregatorDataset.zip\n",
            "  inflating: 2pageSessions.csv       \n",
            "replace __MACOSX/._2pageSessions.csv? [y]es, [n]o, [A]ll, [N]one, [r]ename: y\n",
            "  inflating: __MACOSX/._2pageSessions.csv  \n",
            "replace newsCorpora.csv? [y]es, [n]o, [A]ll, [N]one, [r]ename: [y]\n",
            "error:  invalid response [[y]]\n",
            "replace newsCorpora.csv? [y]es, [n]o, [A]ll, [N]one, [r]ename: y\n",
            "  inflating: newsCorpora.csv         \n",
            "replace __MACOSX/._newsCorpora.csv? [y]es, [n]o, [A]ll, [N]one, [r]ename: y\n",
            "  inflating: __MACOSX/._newsCorpora.csv  \n",
            "replace readme.txt? [y]es, [n]o, [A]ll, [N]one, [r]ename: y\n",
            "  inflating: readme.txt              \n",
            "replace __MACOSX/._readme.txt? [y]es, [n]o, [A]ll, [N]one, [r]ename: y\n",
            "  inflating: __MACOSX/._readme.txt   \n"
          ]
        }
      ],
      "source": [
        "! wget https://archive.ics.uci.edu/ml/machine-learning-databases/00359/NewsAggregatorDataset.zip\n",
        "! unzip NewsAggregatorDataset.zip"
      ]
    },
    {
      "cell_type": "code",
      "source": [
        "################\n",
        "## newsCorpora.csv\n",
        "## FORMAT: ID \\t TITLE \\t URL \\t PUBLISHER \\t CATEGORY \\t STORY \\t HOSTNAME \\t TIMESTAMP\n",
        "## CATEGORY\tNews category (b = business, t = science and technology, e = entertainment, m = health)\n",
        "################"
      ],
      "metadata": {
        "id": "9p126919M6JU"
      },
      "execution_count": null,
      "outputs": []
    },
    {
      "cell_type": "code",
      "source": [
        "! head -30 newsCorpora.csv"
      ],
      "metadata": {
        "colab": {
          "base_uri": "https://localhost:8080/"
        },
        "id": "5AY9Wea_MZTb",
        "outputId": "398185e9-0fb6-4fdc-eccc-e02552480e51"
      },
      "execution_count": null,
      "outputs": [
        {
          "output_type": "stream",
          "name": "stdout",
          "text": [
            "1\tFed official says weak data caused by weather, should not slow taper\thttp://www.latimes.com/business/money/la-fi-mo-federal-reserve-plosser-stimulus-economy-20140310,0,1312750.story\\?track=rss\tLos Angeles Times\tb\tddUyU0VZz0BRneMioxUPQVP6sIxvM\twww.latimes.com\t1394470370698\n",
            "2\tFed's Charles Plosser sees high bar for change in pace of tapering\thttp://www.livemint.com/Politics/H2EvwJSK2VE6OF7iK1g3PP/Feds-Charles-Plosser-sees-high-bar-for-change-in-pace-of-ta.html\tLivemint\tb\tddUyU0VZz0BRneMioxUPQVP6sIxvM\twww.livemint.com\t1394470371207\n",
            "3\tUS open: Stocks fall after Fed official hints at accelerated tapering\thttp://www.ifamagazine.com/news/us-open-stocks-fall-after-fed-official-hints-at-accelerated-tapering-294436\tIFA Magazine\tb\tddUyU0VZz0BRneMioxUPQVP6sIxvM\twww.ifamagazine.com\t1394470371550\n",
            "4\tFed risks falling 'behind the curve', Charles Plosser says\thttp://www.ifamagazine.com/news/fed-risks-falling-behind-the-curve-charles-plosser-says-294430\tIFA Magazine\tb\tddUyU0VZz0BRneMioxUPQVP6sIxvM\twww.ifamagazine.com\t1394470371793\n",
            "5\tFed's Plosser: Nasty Weather Has Curbed Job Growth\thttp://www.moneynews.com/Economy/federal-reserve-charles-plosser-weather-job-growth/2014/03/10/id/557011\tMoneynews\tb\tddUyU0VZz0BRneMioxUPQVP6sIxvM\twww.moneynews.com\t1394470372027\n",
            "6\tPlosser: Fed May Have to Accelerate Tapering Pace\thttp://www.nasdaq.com/article/plosser-fed-may-have-to-accelerate-tapering-pace-20140310-00371\tNASDAQ\tb\tddUyU0VZz0BRneMioxUPQVP6sIxvM\twww.nasdaq.com\t1394470372212\n",
            "7\tFed's Plosser: Taper pace may be too slow\thttp://www.marketwatch.com/story/feds-plosser-taper-pace-may-be-too-slow-2014-03-10\\?reflink=MW_news_stmp\tMarketWatch\tb\tddUyU0VZz0BRneMioxUPQVP6sIxvM\twww.marketwatch.com\t1394470372405\n",
            "8\tFed's Plosser expects US unemployment to fall to 6.2% by the end of 2014\thttp://www.fxstreet.com/news/forex-news/article.aspx\\?storyid=23285020-b1b5-47ed-a8c4-96124bb91a39\tFXstreet.com\tb\tddUyU0VZz0BRneMioxUPQVP6sIxvM\twww.fxstreet.com\t1394470372615\n",
            "9\tUS jobs growth last month hit by weather:Fed President Charles Plosser\thttp://economictimes.indiatimes.com/news/international/business/us-jobs-growth-last-month-hit-by-weatherfed-president-charles-plosser/articleshow/31788000.cms\tEconomic Times\tb\tddUyU0VZz0BRneMioxUPQVP6sIxvM\teconomictimes.indiatimes.com\t1394470372792\n",
            "10\tECB unlikely to end sterilisation of SMP purchases - traders\thttp://www.iii.co.uk/news-opinion/reuters/news/152615\tInteractive Investor\tb\tdPhGU51DcrolUIMxbRm0InaHGA2XM\twww.iii.co.uk\t1394470501265\n",
            "11\tECB unlikely to end sterilization of SMP purchases: traders\thttp://in.reuters.com/article/2014/03/10/us-ecb-refi-poll-idINBREA290VH20140310\tReuters India\tb\tdPhGU51DcrolUIMxbRm0InaHGA2XM\tin.reuters.com\t1394470501410\n",
            "12\tEU's half-baked bank union could work\thttp://blogs.reuters.com/hugo-dixon/2014/03/10/eus-half-baked-bank-union-could-work/\tReuters UK \\(blog\\)\tb\tdPhGU51DcrolUIMxbRm0InaHGA2XM\tblogs.reuters.com\t1394470501587\n",
            "13\tEurope reaches crunch point on banking union\thttp://in.reuters.com/article/2014/03/10/eu-banks-resoluton-idINL6N0M71NJ20140310\tReuters\tb\tdPhGU51DcrolUIMxbRm0InaHGA2XM\tin.reuters.com\t1394470501755\n",
            "14\tECB FOCUS-Stronger euro drowns out ECB's message to keep rates low for  ...\thttp://in.reuters.com/article/2014/03/10/ecb-policy-idINL6N0M71K320140310\tReuters\tb\tdPhGU51DcrolUIMxbRm0InaHGA2XM\tin.reuters.com\t1394470501948\n",
            "15\tEU aims for deal on tackling failing banks\thttp://main.omanobserver.om/\\?p=63376\tOman Daily Observer\tb\tdPhGU51DcrolUIMxbRm0InaHGA2XM\tmain.omanobserver.om\t1394470502141\n",
            "16\tForex - Pound drops to one-month lows against euro\thttp://www.nasdaq.com/article/forex-pound-drops-to-onemonth-lows-against-euro-cm333750\tNASDAQ\tb\tdPhGU51DcrolUIMxbRm0InaHGA2XM\twww.nasdaq.com\t1394470502316\n",
            "17\tNoyer Says Strong Euro Creates Unwarranted Economic Pressure\thttp://www.sfgate.com/business/bloomberg/article/Noyer-Says-Strong-Euro-Creates-Unwarranted-5303474.php\tSan Francisco Chronicle\tb\tdPhGU51DcrolUIMxbRm0InaHGA2XM\twww.sfgate.com\t1394470502543\n",
            "18\tEU Week Ahead March 10-14: Bank Resolution, Transparency, Ukraine\thttp://blogs.wsj.com/brussels/2014/03/10/eu-week-ahead-march-10-14-bank-resolution-transparency-ukraine/\tWall Street Journal \\(blog\\)\tb\tdPhGU51DcrolUIMxbRm0InaHGA2XM\tblogs.wsj.com\t1394470502744\n",
            "19\tECB member Noyer is 'very open to all kinds of tools'\thttp://www.ifamagazine.com/news/ecb-member-noyer-is-very-open-to-all-kinds-of-tools-294431\tIFA Magazine\tb\tdPhGU51DcrolUIMxbRm0InaHGA2XM\twww.ifamagazine.com\t1394470502946\n",
            "20\tEuro Anxieties Wane as Bunds Top Treasuries, Spain Debt Rallies\thttp://www.businessweek.com/news/2014-03-10/german-bonds-beat-treasuries-with-yield-spread-widest-in-7-years\tBusinessweek\tb\tdPhGU51DcrolUIMxbRm0InaHGA2XM\twww.businessweek.com\t1394470503148\n",
            "21\tNoyer Says Strong Euro Creates Unwarranted Economic Pressure (1)\thttp://www.businessweek.com/news/2014-03-10/noyer-says-stronger-euro-creates-unwarranted-pressure-on-economy\tBusinessweek\tb\tdPhGU51DcrolUIMxbRm0InaHGA2XM\twww.businessweek.com\t1394470503366\n",
            "22\tNoyer Says Stronger Euro Creates Unwarranted Pressure on Economy\thttp://www.sfgate.com/business/bloomberg/article/Noyer-Says-Stronger-Euro-Creates-Unwarranted-5303368.php\tSan Francisco Chronicle\tb\tdPhGU51DcrolUIMxbRm0InaHGA2XM\twww.sfgate.com\t1394470503543\n",
            "23\tBad loan triggers key feature in ECB bank test announcement: sources\thttp://www.globalpost.com/dispatch/news/thomson-reuters/140310/bad-loan-triggers-key-feature-ecb-bank-test-announcement-source\tGlobalPost\tb\tdPhGU51DcrolUIMxbRm0InaHGA2XM\twww.globalpost.com\t1394470503726\n",
            "24\tChina's trade deficit and structural worries in Europe, among the main issues\thttp://www.fxstreet.com/analysis/strategic-currency-briefing/2014/03/10/\tFXstreet.com\tb\tdPhGU51DcrolUIMxbRm0InaHGA2XM\twww.fxstreet.com\t1394470503887\n",
            "25\t10 Things You Need To Know This Morning\thttp://www.businessinsider.com/opening-bell-monday-10-2014-3\tBusiness Insider\tb\tdPhGU51DcrolUIMxbRm0InaHGA2XM\twww.businessinsider.com\t1394470504080\n",
            "26\tECB's Noyer not Happy With Euro Strength -- Update\thttp://online.wsj.com/article/BT-CO-20140310-705733.html\tWall Street Journal\tb\tdPhGU51DcrolUIMxbRm0InaHGA2XM\tonline.wsj.com\t1394470504274\n",
            "27\tEurozone banks' sovereign exposure hits new high\thttp://www.ekathimerini.com/4dcgi/_w_articles_wsite2_1_10/03/2014_538029\tKathimerini\tb\tdPhGU51DcrolUIMxbRm0InaHGA2XM\twww.ekathimerini.com\t1394470504506\n",
            "28\tECB to reveal bad loan hurdles for euro zone bank test\thttp://www.irishtimes.com/business/sectors/financial-services/ecb-to-reveal-bad-loan-hurdles-for-euro-zone-bank-test-1.1719128\tIrish Times\tb\tdPhGU51DcrolUIMxbRm0InaHGA2XM\twww.irishtimes.com\t1394470504683\n",
            "29\tForex Market: EUR/USD retreats from 2-1/2-year highs as stronger euro seen  ...\thttp://www.binarytribune.com/2014/03/10/forex-market-eurusd-retreats-from-2-12-year-highs-as-stronger-euro-seen-creating-pressure-on-economy/\tBinary Tribune\tb\tdPhGU51DcrolUIMxbRm0InaHGA2XM\twww.binarytribune.com\t1394470504893\n",
            "30\tREFILE-Bad loan triggers key feature in ECB bank test announcement- sources\thttp://in.reuters.com/article/2014/03/10/eurozone-bank-tests-idINL6N0M71F020140310\tReuters\tb\tdPhGU51DcrolUIMxbRm0InaHGA2XM\tin.reuters.com\t1394470505070\n"
          ]
        }
      ]
    },
    {
      "cell_type": "code",
      "source": [
        "# 読込時のエラー回避のためダブルクォーテーションをシングルクォーテーションに置換\n",
        "! sed -e 's/\"/'\\''/g' ./newsCorpora.csv > ./newsCorpora_re.csv"
      ],
      "metadata": {
        "id": "F-sjagBqnkAi"
      },
      "execution_count": null,
      "outputs": []
    },
    {
      "cell_type": "code",
      "source": [
        "import pandas as pd\n",
        "from sklearn.model_selection import train_test_split\n",
        "\n",
        "# データの読み込み\n",
        "df_newspages = pd.read_csv(\"newsCorpora_re.csv\", sep=\"\\t\", names=[\"ID\", \"TITLE\", \"URL\", \"PUBLISHER\", \"CATEGORY\", \"STORY\", \"HOSTNAME\", \"TIMESTAMP\"])\n",
        "\n",
        "# データの抽出\n",
        "cols = [\"Reuters\", \"Huffington Post\", \"Businessweek\", \"Contactmusic.com\", \"Daily Mail\"]\n",
        "df_newspages = df_newspages.loc[df_newspages[\"PUBLISHER\"].isin(cols), [\"TITLE\", \"CATEGORY\"]]\n",
        "\n",
        "# データの分割\n",
        "df_train, df_valid_test = train_test_split(df_newspages, test_size=0.2, shuffle=True, random_state=42, stratify=df_newspages[\"CATEGORY\"])\n",
        "df_valid, df_test = train_test_split(df_valid_test, test_size=0.5, shuffle=True, random_state=42, stratify=df_valid_test[\"CATEGORY\"])\n",
        "\n",
        "# データの保存\n",
        "df_train.to_csv(\"train.txt\", sep=\"\\t\", index=False)\n",
        "df_valid.to_csv(\"valid.txt\", sep=\"\\t\", index=False)\n",
        "df_test.to_csv(\"test.txt\", sep=\"\\t\", index=False)"
      ],
      "metadata": {
        "id": "uKtS7mHvNazp"
      },
      "execution_count": null,
      "outputs": []
    },
    {
      "cell_type": "code",
      "source": [
        "# 事例数の確認\n",
        "print(\"学習データ : \", df_train.shape)\n",
        "print(df_train[\"CATEGORY\"].value_counts())\n",
        "print()\n",
        "print(\"評価データ : \", df_test.shape)\n",
        "print(df_test[\"CATEGORY\"].value_counts())"
      ],
      "metadata": {
        "colab": {
          "base_uri": "https://localhost:8080/"
        },
        "id": "dBN5RC1-ZN26",
        "outputId": "f253abc7-d38b-4b60-8518-0703db75d72a"
      },
      "execution_count": null,
      "outputs": [
        {
          "output_type": "stream",
          "name": "stdout",
          "text": [
            "学習データ :  (10684, 2)\n",
            "b    4501\n",
            "e    4235\n",
            "t    1220\n",
            "m     728\n",
            "Name: CATEGORY, dtype: int64\n",
            "\n",
            "評価データ :  (1336, 2)\n",
            "b    563\n",
            "e    530\n",
            "t    152\n",
            "m     91\n",
            "Name: CATEGORY, dtype: int64\n"
          ]
        }
      ]
    },
    {
      "cell_type": "code",
      "source": [
        "! head -15 train.txt"
      ],
      "metadata": {
        "colab": {
          "base_uri": "https://localhost:8080/"
        },
        "id": "EQ_ht8nwYpZH",
        "outputId": "27625100-7a58-47c9-f4b1-43caf0cbe6c8"
      },
      "execution_count": null,
      "outputs": [
        {
          "output_type": "stream",
          "name": "stdout",
          "text": [
            "TITLE\tCATEGORY\n",
            "UPDATE 1-Sandwich chain Quiznos files for bankruptcy protection\tb\n",
            "Iraq concerns lift top-rated euro zone bonds but Fed limits gains\tb\n",
            "China Manufacturing Gauge Rises in Stabilization Sign: Economy\tb\n",
            "Crucifixion: A New Way to Think About Jesus' Death\te\n",
            "Tracy Morgan still critical but 'doing better' following deadly crash which killed his  ...\te\n",
            "FOREX-Dollar off to slow start in event-packed week\tb\n",
            "Alstom should be a good investment for France, says CEO Kron\tb\n",
            "Diabetes-Related Problems Have Decreased Over Last 20 Years\tm\n",
            "2 Cases Of Ebola Confirmed In Liberia\tm\n",
            "'You Are Not Pregnant. We're Pregnant!' Mila Kunis Tells Off Overeager Fathers  ...\te\n",
            "Home > Justin Bieber > Justin Bieber Sends Selena Gomez $10k Flowers?\te\n",
            "Data storage firm Box files for US IPO of about $250 million\tb\n",
            "Cocaine use in U.S. cut in HALF while marijuana use jumps 30 per cent\tm\n",
            "UPDATE 1-HKMA intervenes as deals, China optimism spur Hong Kong dollar  ...\tb\n"
          ]
        }
      ]
    },
    {
      "cell_type": "markdown",
      "source": [
        "##51. 特徴量抽出"
      ],
      "metadata": {
        "id": "fl9IlCrClqTn"
      }
    },
    {
      "cell_type": "code",
      "source": [
        "import nltk\n",
        "\n",
        "nltk.download(\"all\")"
      ],
      "metadata": {
        "id": "0WpMX6Y-F3lK"
      },
      "execution_count": null,
      "outputs": []
    },
    {
      "cell_type": "code",
      "source": [
        "import string\n",
        "import re\n",
        "from nltk.corpus import stopwords\n",
        "from nltk.stem.porter import PorterStemmer as PS\n",
        "from nltk.stem.snowball import SnowballStemmer as SS\n",
        "\n",
        "ps = PS()\n",
        "ss = SS(language=\"english\")\n",
        "\n",
        "stop_words = stopwords.words(\"english\")\n",
        "print(stop_words)\n",
        "\n",
        "def preprocessing(text):\n",
        "    table = str.maketrans(string.punctuation, \" \"*len(string.punctuation))\n",
        "    text = text.translate(table)  # 記号をスペースに置換\n",
        "    text = text.lower()  # 小文字化\n",
        "    text = re.sub(r\"[0-9]+\", \"0\", text)  # 数字列を0に置換\n",
        "    text = nltk.word_tokenize(text) # 単語分割\n",
        "    text = [word for word in text if word not in stop_words]  # ストップワード除去\n",
        "    text = [ss.stem(word) for word in text]  # ステミング\n",
        "    text = \" \".join(text) # 空白で単語結合\n",
        "\n",
        "    return text"
      ],
      "metadata": {
        "colab": {
          "base_uri": "https://localhost:8080/"
        },
        "id": "vwi5UqNGjMe0",
        "outputId": "19d463b3-8bba-44a9-d3e8-fb64ac61115d"
      },
      "execution_count": null,
      "outputs": [
        {
          "output_type": "stream",
          "name": "stdout",
          "text": [
            "['i', 'me', 'my', 'myself', 'we', 'our', 'ours', 'ourselves', 'you', \"you're\", \"you've\", \"you'll\", \"you'd\", 'your', 'yours', 'yourself', 'yourselves', 'he', 'him', 'his', 'himself', 'she', \"she's\", 'her', 'hers', 'herself', 'it', \"it's\", 'its', 'itself', 'they', 'them', 'their', 'theirs', 'themselves', 'what', 'which', 'who', 'whom', 'this', 'that', \"that'll\", 'these', 'those', 'am', 'is', 'are', 'was', 'were', 'be', 'been', 'being', 'have', 'has', 'had', 'having', 'do', 'does', 'did', 'doing', 'a', 'an', 'the', 'and', 'but', 'if', 'or', 'because', 'as', 'until', 'while', 'of', 'at', 'by', 'for', 'with', 'about', 'against', 'between', 'into', 'through', 'during', 'before', 'after', 'above', 'below', 'to', 'from', 'up', 'down', 'in', 'out', 'on', 'off', 'over', 'under', 'again', 'further', 'then', 'once', 'here', 'there', 'when', 'where', 'why', 'how', 'all', 'any', 'both', 'each', 'few', 'more', 'most', 'other', 'some', 'such', 'no', 'nor', 'not', 'only', 'own', 'same', 'so', 'than', 'too', 'very', 's', 't', 'can', 'will', 'just', 'don', \"don't\", 'should', \"should've\", 'now', 'd', 'll', 'm', 'o', 're', 've', 'y', 'ain', 'aren', \"aren't\", 'couldn', \"couldn't\", 'didn', \"didn't\", 'doesn', \"doesn't\", 'hadn', \"hadn't\", 'hasn', \"hasn't\", 'haven', \"haven't\", 'isn', \"isn't\", 'ma', 'mightn', \"mightn't\", 'mustn', \"mustn't\", 'needn', \"needn't\", 'shan', \"shan't\", 'shouldn', \"shouldn't\", 'wasn', \"wasn't\", 'weren', \"weren't\", 'won', \"won't\", 'wouldn', \"wouldn't\"]\n"
          ]
        }
      ]
    },
    {
      "cell_type": "code",
      "source": [
        "# 前処理の実施\n",
        "df_train['TITLE'] = df_train['TITLE'].map(lambda x: preprocessing(x))\n",
        "df_valid['TITLE'] = df_valid['TITLE'].map(lambda x: preprocessing(x))\n",
        "df_test['TITLE'] = df_test['TITLE'].map(lambda x: preprocessing(x))\n",
        "\n",
        "print(df_train.head(10))"
      ],
      "metadata": {
        "colab": {
          "base_uri": "https://localhost:8080/"
        },
        "id": "eITZxm8Yvvgt",
        "outputId": "3dc77933-0f99-43a2-de44-1492b996c9e7"
      },
      "execution_count": null,
      "outputs": [
        {
          "output_type": "stream",
          "name": "stdout",
          "text": [
            "                                                    TITLE CATEGORY\n",
            "12887   updat 0 sandwich chain quizno file bankruptci ...        b\n",
            "294593  iraq concern lift top rate euro zone bond fed ...        b\n",
            "234695     china manufactur gaug rise stabil sign economi        b\n",
            "140565              crucifixion new way think jesus death        e\n",
            "279788  traci morgan still critic better follow dead c...        e\n",
            "165676            forex dollar slow start event pack week        b\n",
            "307564              alstom good invest franc say ceo kron        b\n",
            "135716           diabet relat problem decreas last 0 year        m\n",
            "75950                        0 case ebola confirm liberia        m\n",
            "280701    pregnant pregnant mila kuni tell overeag father        e\n"
          ]
        }
      ]
    },
    {
      "cell_type": "code",
      "source": [
        "from sklearn.feature_extraction.text import TfidfVectorizer\n",
        "\n",
        "# TfidfVectorizer\n",
        "vec_tfidf = TfidfVectorizer(min_df=3, ngram_range=(1, 2))\n",
        "\n",
        "# ベクトル化\n",
        "x_train = vec_tfidf.fit_transform(df_train[\"TITLE\"])\n",
        "x_valid = vec_tfidf.transform(df_valid[\"TITLE\"])\n",
        "x_test = vec_tfidf.transform(df_test[\"TITLE\"])\n",
        "\n",
        "# ベクトルをデータフレームに変換\n",
        "x_train = pd.DataFrame(x_train.toarray(), columns=vec_tfidf.get_feature_names_out())\n",
        "x_valid = pd.DataFrame(x_valid.toarray(), columns=vec_tfidf.get_feature_names_out())\n",
        "x_test = pd.DataFrame(x_test.toarray(), columns=vec_tfidf.get_feature_names_out())\n",
        "\n",
        "# データの保存\n",
        "x_train.to_csv(\"x_train.feature.txt\", sep=\"\\t\", index=False)\n",
        "x_valid.to_csv(\"x_valid.feature.txt\", sep=\"\\t\", index=False)\n",
        "x_test.to_csv(\"x_test.feature.txt\", sep=\"\\t\", index=False)\n",
        "\n",
        "print(x_train.head())"
      ],
      "metadata": {
        "colab": {
          "base_uri": "https://localhost:8080/"
        },
        "id": "NbgK1IFzwoZI",
        "outputId": "733f666f-a4f6-4438-c798-be04720ff71e"
      },
      "execution_count": null,
      "outputs": [
        {
          "output_type": "stream",
          "name": "stdout",
          "text": [
            "   0bn   0d   0g   0k   0m  0million  0nd  0nd day  0nd quarter   0q  ...  \\\n",
            "0  0.0  0.0  0.0  0.0  0.0       0.0  0.0      0.0          0.0  0.0  ...   \n",
            "1  0.0  0.0  0.0  0.0  0.0       0.0  0.0      0.0          0.0  0.0  ...   \n",
            "2  0.0  0.0  0.0  0.0  0.0       0.0  0.0      0.0          0.0  0.0  ...   \n",
            "3  0.0  0.0  0.0  0.0  0.0       0.0  0.0      0.0          0.0  0.0  ...   \n",
            "4  0.0  0.0  0.0  0.0  0.0       0.0  0.0      0.0          0.0  0.0  ...   \n",
            "\n",
            "   zero  zillow  zip  zombi      zone  zone bond  zone inflat  zone yield  \\\n",
            "0   0.0     0.0  0.0    0.0  0.000000   0.000000          0.0         0.0   \n",
            "1   0.0     0.0  0.0    0.0  0.191924   0.234694          0.0         0.0   \n",
            "2   0.0     0.0  0.0    0.0  0.000000   0.000000          0.0         0.0   \n",
            "3   0.0     0.0  0.0    0.0  0.000000   0.000000          0.0         0.0   \n",
            "4   0.0     0.0  0.0    0.0  0.000000   0.000000          0.0         0.0   \n",
            "\n",
            "   zuckerberg  zynga  \n",
            "0         0.0    0.0  \n",
            "1         0.0    0.0  \n",
            "2         0.0    0.0  \n",
            "3         0.0    0.0  \n",
            "4         0.0    0.0  \n",
            "\n",
            "[5 rows x 7813 columns]\n"
          ]
        }
      ]
    },
    {
      "cell_type": "code",
      "source": [
        "y_train = df_train[\"CATEGORY\"]\n",
        "y_valid = df_valid[\"CATEGORY\"]\n",
        "y_test = df_test[\"CATEGORY\"]\n",
        "\n",
        "print(y_train.head())"
      ],
      "metadata": {
        "colab": {
          "base_uri": "https://localhost:8080/"
        },
        "id": "3L7kRu20K2SW",
        "outputId": "a27217cf-0e9e-42f8-aedb-15f79cf7fc16"
      },
      "execution_count": null,
      "outputs": [
        {
          "output_type": "stream",
          "name": "stdout",
          "text": [
            "12887     b\n",
            "294593    b\n",
            "234695    b\n",
            "140565    e\n",
            "279788    e\n",
            "Name: CATEGORY, dtype: object\n"
          ]
        }
      ]
    },
    {
      "cell_type": "markdown",
      "source": [
        "##52. 学習"
      ],
      "metadata": {
        "id": "jCvLGsN9l-aa"
      }
    },
    {
      "cell_type": "code",
      "source": [
        "from sklearn.linear_model import LogisticRegression\n",
        "\n",
        "# ロジスティック回帰モデルのインスタンスを作成\n",
        "model = LogisticRegression(C=1.0, random_state=42)\n",
        "\n",
        "# モデルの学習\n",
        "model.fit(x_train, y_train)"
      ],
      "metadata": {
        "id": "bT1xBznXmAhc",
        "colab": {
          "base_uri": "https://localhost:8080/",
          "height": 238
        },
        "outputId": "64ae6fd3-5cf0-4452-e9f6-8aebb237ff21"
      },
      "execution_count": null,
      "outputs": [
        {
          "output_type": "stream",
          "name": "stderr",
          "text": [
            "/usr/local/lib/python3.10/dist-packages/sklearn/linear_model/_logistic.py:458: ConvergenceWarning: lbfgs failed to converge (status=1):\n",
            "STOP: TOTAL NO. of ITERATIONS REACHED LIMIT.\n",
            "\n",
            "Increase the number of iterations (max_iter) or scale the data as shown in:\n",
            "    https://scikit-learn.org/stable/modules/preprocessing.html\n",
            "Please also refer to the documentation for alternative solver options:\n",
            "    https://scikit-learn.org/stable/modules/linear_model.html#logistic-regression\n",
            "  n_iter_i = _check_optimize_result(\n"
          ]
        },
        {
          "output_type": "execute_result",
          "data": {
            "text/plain": [
              "LogisticRegression(random_state=42)"
            ],
            "text/html": [
              "<style>#sk-container-id-2 {color: black;background-color: white;}#sk-container-id-2 pre{padding: 0;}#sk-container-id-2 div.sk-toggleable {background-color: white;}#sk-container-id-2 label.sk-toggleable__label {cursor: pointer;display: block;width: 100%;margin-bottom: 0;padding: 0.3em;box-sizing: border-box;text-align: center;}#sk-container-id-2 label.sk-toggleable__label-arrow:before {content: \"▸\";float: left;margin-right: 0.25em;color: #696969;}#sk-container-id-2 label.sk-toggleable__label-arrow:hover:before {color: black;}#sk-container-id-2 div.sk-estimator:hover label.sk-toggleable__label-arrow:before {color: black;}#sk-container-id-2 div.sk-toggleable__content {max-height: 0;max-width: 0;overflow: hidden;text-align: left;background-color: #f0f8ff;}#sk-container-id-2 div.sk-toggleable__content pre {margin: 0.2em;color: black;border-radius: 0.25em;background-color: #f0f8ff;}#sk-container-id-2 input.sk-toggleable__control:checked~div.sk-toggleable__content {max-height: 200px;max-width: 100%;overflow: auto;}#sk-container-id-2 input.sk-toggleable__control:checked~label.sk-toggleable__label-arrow:before {content: \"▾\";}#sk-container-id-2 div.sk-estimator input.sk-toggleable__control:checked~label.sk-toggleable__label {background-color: #d4ebff;}#sk-container-id-2 div.sk-label input.sk-toggleable__control:checked~label.sk-toggleable__label {background-color: #d4ebff;}#sk-container-id-2 input.sk-hidden--visually {border: 0;clip: rect(1px 1px 1px 1px);clip: rect(1px, 1px, 1px, 1px);height: 1px;margin: -1px;overflow: hidden;padding: 0;position: absolute;width: 1px;}#sk-container-id-2 div.sk-estimator {font-family: monospace;background-color: #f0f8ff;border: 1px dotted black;border-radius: 0.25em;box-sizing: border-box;margin-bottom: 0.5em;}#sk-container-id-2 div.sk-estimator:hover {background-color: #d4ebff;}#sk-container-id-2 div.sk-parallel-item::after {content: \"\";width: 100%;border-bottom: 1px solid gray;flex-grow: 1;}#sk-container-id-2 div.sk-label:hover label.sk-toggleable__label {background-color: #d4ebff;}#sk-container-id-2 div.sk-serial::before {content: \"\";position: absolute;border-left: 1px solid gray;box-sizing: border-box;top: 0;bottom: 0;left: 50%;z-index: 0;}#sk-container-id-2 div.sk-serial {display: flex;flex-direction: column;align-items: center;background-color: white;padding-right: 0.2em;padding-left: 0.2em;position: relative;}#sk-container-id-2 div.sk-item {position: relative;z-index: 1;}#sk-container-id-2 div.sk-parallel {display: flex;align-items: stretch;justify-content: center;background-color: white;position: relative;}#sk-container-id-2 div.sk-item::before, #sk-container-id-2 div.sk-parallel-item::before {content: \"\";position: absolute;border-left: 1px solid gray;box-sizing: border-box;top: 0;bottom: 0;left: 50%;z-index: -1;}#sk-container-id-2 div.sk-parallel-item {display: flex;flex-direction: column;z-index: 1;position: relative;background-color: white;}#sk-container-id-2 div.sk-parallel-item:first-child::after {align-self: flex-end;width: 50%;}#sk-container-id-2 div.sk-parallel-item:last-child::after {align-self: flex-start;width: 50%;}#sk-container-id-2 div.sk-parallel-item:only-child::after {width: 0;}#sk-container-id-2 div.sk-dashed-wrapped {border: 1px dashed gray;margin: 0 0.4em 0.5em 0.4em;box-sizing: border-box;padding-bottom: 0.4em;background-color: white;}#sk-container-id-2 div.sk-label label {font-family: monospace;font-weight: bold;display: inline-block;line-height: 1.2em;}#sk-container-id-2 div.sk-label-container {text-align: center;}#sk-container-id-2 div.sk-container {/* jupyter's `normalize.less` sets `[hidden] { display: none; }` but bootstrap.min.css set `[hidden] { display: none !important; }` so we also need the `!important` here to be able to override the default hidden behavior on the sphinx rendered scikit-learn.org. See: https://github.com/scikit-learn/scikit-learn/issues/21755 */display: inline-block !important;position: relative;}#sk-container-id-2 div.sk-text-repr-fallback {display: none;}</style><div id=\"sk-container-id-2\" class=\"sk-top-container\"><div class=\"sk-text-repr-fallback\"><pre>LogisticRegression(random_state=42)</pre><b>In a Jupyter environment, please rerun this cell to show the HTML representation or trust the notebook. <br />On GitHub, the HTML representation is unable to render, please try loading this page with nbviewer.org.</b></div><div class=\"sk-container\" hidden><div class=\"sk-item\"><div class=\"sk-estimator sk-toggleable\"><input class=\"sk-toggleable__control sk-hidden--visually\" id=\"sk-estimator-id-2\" type=\"checkbox\" checked><label for=\"sk-estimator-id-2\" class=\"sk-toggleable__label sk-toggleable__label-arrow\">LogisticRegression</label><div class=\"sk-toggleable__content\"><pre>LogisticRegression(random_state=42)</pre></div></div></div></div></div>"
            ]
          },
          "metadata": {},
          "execution_count": 12
        }
      ]
    },
    {
      "cell_type": "markdown",
      "source": [
        "##53. 予測"
      ],
      "metadata": {
        "id": "T8i96c9AmA2h"
      }
    },
    {
      "cell_type": "code",
      "source": [
        "import numpy as np\n",
        "\n",
        "# 学習データに対する予測\n",
        "train_pred = [np.max(model.predict_proba(x_train), axis=1), model.predict(x_train)]\n",
        "print(train_pred[0])  # 予測確率\n",
        "print(train_pred[1])  # 予測カテゴリ\n",
        "\n",
        "# 評価データに対する予測\n",
        "test_pred = [np.max(model.predict_proba(x_test), axis=1), model.predict(x_test)]\n",
        "print(test_pred[0])  # 予測確率\n",
        "print(test_pred[1])  # 予測カテゴリ"
      ],
      "metadata": {
        "colab": {
          "base_uri": "https://localhost:8080/"
        },
        "id": "3DKjdrGfWSGG",
        "outputId": "12a833de-50a1-485f-aab4-1200b46d79fb"
      },
      "execution_count": null,
      "outputs": [
        {
          "output_type": "stream",
          "name": "stdout",
          "text": [
            "[0.84664514 0.95748858 0.95063571 ... 0.781102   0.93067952 0.83667643]\n",
            "['b' 'b' 'b' ... 'e' 'b' 'b']\n",
            "[0.85592257 0.96205291 0.95843074 ... 0.96497736 0.83606445 0.57720965]\n",
            "['b' 'e' 'b' ... 'b' 'b' 'e']\n"
          ]
        }
      ]
    },
    {
      "cell_type": "markdown",
      "source": [
        "##54. 正解率の計測"
      ],
      "metadata": {
        "id": "TjpdddzDZVjz"
      }
    },
    {
      "cell_type": "code",
      "source": [
        "from sklearn.metrics import accuracy_score\n",
        "\n",
        "train_accuracy = accuracy_score(y_train, train_pred[1])\n",
        "test_accuracy = accuracy_score(y_test, test_pred[1])\n",
        "print(\"正解率（学習データ）：\", '{:.3f}'.format(train_accuracy))\n",
        "print(\"正解率（評価データ）：\", '{:.3f}'.format(test_accuracy))"
      ],
      "metadata": {
        "id": "HJIn3EbhmCyV",
        "colab": {
          "base_uri": "https://localhost:8080/"
        },
        "outputId": "a714cfa8-26df-4758-b904-fdfe907fdbff"
      },
      "execution_count": null,
      "outputs": [
        {
          "output_type": "stream",
          "name": "stdout",
          "text": [
            "正解率（学習データ）： 0.949\n",
            "正解率（評価データ）： 0.914\n"
          ]
        }
      ]
    },
    {
      "cell_type": "markdown",
      "source": [
        "##55. 混同行列の作成"
      ],
      "metadata": {
        "id": "ghDva4hQmHMg"
      }
    },
    {
      "cell_type": "code",
      "source": [
        "from sklearn.metrics import confusion_matrix\n",
        "\n",
        "cm_train = confusion_matrix(y_train, train_pred[1])\n",
        "cm_test = confusion_matrix(y_test, test_pred[1])\n",
        "\n",
        "print(\"混同行列(学習データ)\")\n",
        "print(cm_train)\n",
        "print()\n",
        "print(\"混同行列(評価データ)\")\n",
        "print(cm_test)"
      ],
      "metadata": {
        "id": "YWh7HC8KmKvp",
        "colab": {
          "base_uri": "https://localhost:8080/"
        },
        "outputId": "999b819a-452a-4807-b7fa-227b44bcba3a"
      },
      "execution_count": null,
      "outputs": [
        {
          "output_type": "stream",
          "name": "stdout",
          "text": [
            "混同行列(学習データ)\n",
            "[[4415   44    4   38]\n",
            " [  25 4203    1    6]\n",
            " [  85   98  541    4]\n",
            " [ 153   80    3  984]]\n",
            "\n",
            "混同行列(評価データ)\n",
            "[[549   6   1   7]\n",
            " [ 11 517   1   1]\n",
            " [ 17  22  51   1]\n",
            " [ 30  18   0 104]]\n"
          ]
        }
      ]
    },
    {
      "cell_type": "markdown",
      "source": [
        "##56. 適合率, 再現率, F1スコアの計測"
      ],
      "metadata": {
        "id": "_3_95QwrmLM6"
      }
    },
    {
      "cell_type": "code",
      "source": [
        "from sklearn.metrics import precision_score, recall_score, f1_score\n",
        "\n",
        "# 適合率\n",
        "print(\"適合率 : \", precision_score(y_test, test_pred[1], average=None, labels=[\"b\", \"e\", \"t\", \"m\"]))\n",
        "print(\"適合率(マイクロ平均) : \", precision_score(y_test, test_pred[1], average=\"micro\"))\n",
        "print(\"適合率(マクロ平均) : \", precision_score(y_test, test_pred[1], average=\"macro\"))\n",
        "\n",
        "# 再現率\n",
        "print(\"再現率 : \", recall_score(y_test, test_pred[1], average=None, labels=[\"b\", \"e\", \"t\", \"m\"]))\n",
        "print(\"再現率(マイクロ平均) : \", recall_score(y_test, test_pred[1], average=\"micro\"))\n",
        "print(\"再現率(マクロ平均) : \", recall_score(y_test, test_pred[1], average=\"macro\"))\n",
        "\n",
        "# F1スコア\n",
        "print(\"F1スコア : \", f1_score(y_test, test_pred[1], average=None, labels=[\"b\", \"e\", \"t\", \"m\"]))\n",
        "print(\"F1スコア(マイクロ平均) : \", f1_score(y_test, test_pred[1], average=\"micro\"))\n",
        "print(\"F1スコア(マクロ平均) : \", f1_score(y_test, test_pred[1], average=\"macro\"))"
      ],
      "metadata": {
        "id": "xVhPsPD6mQvn",
        "colab": {
          "base_uri": "https://localhost:8080/"
        },
        "outputId": "ed5a5775-08e9-4bd7-dcc7-2d7bfd9d58aa"
      },
      "execution_count": null,
      "outputs": [
        {
          "output_type": "stream",
          "name": "stdout",
          "text": [
            "適合率 :  [0.90444811 0.91829485 0.92035398 0.96226415]\n",
            "適合率(マイクロ平均) :  0.9139221556886228\n",
            "適合率(マクロ平均) :  0.9263402719259862\n",
            "再現率 :  [0.97513321 0.9754717  0.68421053 0.56043956]\n",
            "再現率(マイクロ平均) :  0.9139221556886228\n",
            "再現率(マクロ平均) :  0.798813749947157\n",
            "F1スコア :  [0.93846154 0.94602013 0.78490566 0.70833333]\n",
            "F1スコア(マイクロ平均) :  0.9139221556886228\n",
            "F1スコア(マクロ平均) :  0.8444301650650154\n"
          ]
        }
      ]
    },
    {
      "cell_type": "markdown",
      "source": [
        "##57. 特徴量の重みの確認"
      ],
      "metadata": {
        "id": "nUe8tAXqmRP2"
      }
    },
    {
      "cell_type": "code",
      "source": [
        "print(model.classes_)"
      ],
      "metadata": {
        "colab": {
          "base_uri": "https://localhost:8080/"
        },
        "id": "FPlWXbe8ny7L",
        "outputId": "2252550e-1989-4f85-a971-34323a8e07b2"
      },
      "execution_count": null,
      "outputs": [
        {
          "output_type": "stream",
          "name": "stdout",
          "text": [
            "['b' 'e' 'm' 't']\n"
          ]
        }
      ]
    },
    {
      "cell_type": "code",
      "source": [
        "# 特徴量\n",
        "print(x_train.columns.values)\n",
        "\n",
        "# 特徴量の重み (shape : (n_classes, n_features))\n",
        "print(model.coef_)"
      ],
      "metadata": {
        "colab": {
          "base_uri": "https://localhost:8080/"
        },
        "id": "Wa_pDVOomMFP",
        "outputId": "cba13bdd-68c7-46cc-cceb-0e66b360dbed"
      },
      "execution_count": null,
      "outputs": [
        {
          "output_type": "stream",
          "name": "stdout",
          "text": [
            "['0bn' '0d' '0g' ... 'zone yield' 'zuckerberg' 'zynga']\n",
            "[[ 0.26268546 -0.64264881  0.05651293 ...  0.05610871 -0.17334328\n",
            "   0.22744156]\n",
            " [-0.23620863  0.04267882 -0.0723902  ... -0.02863154 -0.39358061\n",
            "  -0.12278153]\n",
            " [-0.07092447  0.34702241 -0.0427415  ... -0.011957   -0.07122153\n",
            "  -0.03257473]\n",
            " [ 0.04444764  0.25294758  0.05861877 ... -0.01552017  0.63814542\n",
            "  -0.0720853 ]]\n"
          ]
        }
      ]
    },
    {
      "cell_type": "code",
      "source": [
        "features = x_train.columns.values\n",
        "rank = [i for i in range(1, 11)]\n",
        "for category, coef in zip(model.classes_, model.coef_):\n",
        "    print(\"カテゴリ：\", category)\n",
        "    # 特徴量の重みを昇順にソートし、インデックスを取得\n",
        "    idx = np.argsort(coef)\n",
        "    best10 = pd.DataFrame(features[idx[::-1][:10]], columns=[\"重要度上位\"], index=rank).T #[::-1]を用いて逆順に並べ替え、スライスで上位10個の特徴量に対応するインデックスを取得\n",
        "    worst10 = pd.DataFrame(features[idx[:10]], columns=[\"重要度下位\"], index=rank).T #スライスで上位10個の特徴量に対応するインデックスを取得\n",
        "    display(pd.concat([best10, worst10], axis=0))\n",
        "    print(\"\\n\")"
      ],
      "metadata": {
        "id": "SaKZSerrmVEC",
        "colab": {
          "base_uri": "https://localhost:8080/",
          "height": 656
        },
        "outputId": "cef33803-27c6-4bd5-94da-2e25eba2f52a"
      },
      "execution_count": null,
      "outputs": [
        {
          "output_type": "stream",
          "name": "stdout",
          "text": [
            "カテゴリ： b\n"
          ]
        },
        {
          "output_type": "display_data",
          "data": {
            "text/plain": [
              "          1      2         3          4      5      6     7      8       9   \\\n",
              "重要度上位   bank  stock       fed      china    ecb  updat  euro    oil  ukrain   \n",
              "重要度下位  ebola   star  facebook  microsoft  googl  video  appl  aereo  cancer   \n",
              "\n",
              "               10  \n",
              "重要度上位      dollar  \n",
              "重要度下位  kardashian  "
            ],
            "text/html": [
              "\n",
              "  <div id=\"df-dacc4dc9-a3d2-4d5a-9ae1-87b4aae00ded\">\n",
              "    <div class=\"colab-df-container\">\n",
              "      <div>\n",
              "<style scoped>\n",
              "    .dataframe tbody tr th:only-of-type {\n",
              "        vertical-align: middle;\n",
              "    }\n",
              "\n",
              "    .dataframe tbody tr th {\n",
              "        vertical-align: top;\n",
              "    }\n",
              "\n",
              "    .dataframe thead th {\n",
              "        text-align: right;\n",
              "    }\n",
              "</style>\n",
              "<table border=\"1\" class=\"dataframe\">\n",
              "  <thead>\n",
              "    <tr style=\"text-align: right;\">\n",
              "      <th></th>\n",
              "      <th>1</th>\n",
              "      <th>2</th>\n",
              "      <th>3</th>\n",
              "      <th>4</th>\n",
              "      <th>5</th>\n",
              "      <th>6</th>\n",
              "      <th>7</th>\n",
              "      <th>8</th>\n",
              "      <th>9</th>\n",
              "      <th>10</th>\n",
              "    </tr>\n",
              "  </thead>\n",
              "  <tbody>\n",
              "    <tr>\n",
              "      <th>重要度上位</th>\n",
              "      <td>bank</td>\n",
              "      <td>stock</td>\n",
              "      <td>fed</td>\n",
              "      <td>china</td>\n",
              "      <td>ecb</td>\n",
              "      <td>updat</td>\n",
              "      <td>euro</td>\n",
              "      <td>oil</td>\n",
              "      <td>ukrain</td>\n",
              "      <td>dollar</td>\n",
              "    </tr>\n",
              "    <tr>\n",
              "      <th>重要度下位</th>\n",
              "      <td>ebola</td>\n",
              "      <td>star</td>\n",
              "      <td>facebook</td>\n",
              "      <td>microsoft</td>\n",
              "      <td>googl</td>\n",
              "      <td>video</td>\n",
              "      <td>appl</td>\n",
              "      <td>aereo</td>\n",
              "      <td>cancer</td>\n",
              "      <td>kardashian</td>\n",
              "    </tr>\n",
              "  </tbody>\n",
              "</table>\n",
              "</div>\n",
              "      <button class=\"colab-df-convert\" onclick=\"convertToInteractive('df-dacc4dc9-a3d2-4d5a-9ae1-87b4aae00ded')\"\n",
              "              title=\"Convert this dataframe to an interactive table.\"\n",
              "              style=\"display:none;\">\n",
              "        \n",
              "  <svg xmlns=\"http://www.w3.org/2000/svg\" height=\"24px\"viewBox=\"0 0 24 24\"\n",
              "       width=\"24px\">\n",
              "    <path d=\"M0 0h24v24H0V0z\" fill=\"none\"/>\n",
              "    <path d=\"M18.56 5.44l.94 2.06.94-2.06 2.06-.94-2.06-.94-.94-2.06-.94 2.06-2.06.94zm-11 1L8.5 8.5l.94-2.06 2.06-.94-2.06-.94L8.5 2.5l-.94 2.06-2.06.94zm10 10l.94 2.06.94-2.06 2.06-.94-2.06-.94-.94-2.06-.94 2.06-2.06.94z\"/><path d=\"M17.41 7.96l-1.37-1.37c-.4-.4-.92-.59-1.43-.59-.52 0-1.04.2-1.43.59L10.3 9.45l-7.72 7.72c-.78.78-.78 2.05 0 2.83L4 21.41c.39.39.9.59 1.41.59.51 0 1.02-.2 1.41-.59l7.78-7.78 2.81-2.81c.8-.78.8-2.07 0-2.86zM5.41 20L4 18.59l7.72-7.72 1.47 1.35L5.41 20z\"/>\n",
              "  </svg>\n",
              "      </button>\n",
              "      \n",
              "  <style>\n",
              "    .colab-df-container {\n",
              "      display:flex;\n",
              "      flex-wrap:wrap;\n",
              "      gap: 12px;\n",
              "    }\n",
              "\n",
              "    .colab-df-convert {\n",
              "      background-color: #E8F0FE;\n",
              "      border: none;\n",
              "      border-radius: 50%;\n",
              "      cursor: pointer;\n",
              "      display: none;\n",
              "      fill: #1967D2;\n",
              "      height: 32px;\n",
              "      padding: 0 0 0 0;\n",
              "      width: 32px;\n",
              "    }\n",
              "\n",
              "    .colab-df-convert:hover {\n",
              "      background-color: #E2EBFA;\n",
              "      box-shadow: 0px 1px 2px rgba(60, 64, 67, 0.3), 0px 1px 3px 1px rgba(60, 64, 67, 0.15);\n",
              "      fill: #174EA6;\n",
              "    }\n",
              "\n",
              "    [theme=dark] .colab-df-convert {\n",
              "      background-color: #3B4455;\n",
              "      fill: #D2E3FC;\n",
              "    }\n",
              "\n",
              "    [theme=dark] .colab-df-convert:hover {\n",
              "      background-color: #434B5C;\n",
              "      box-shadow: 0px 1px 3px 1px rgba(0, 0, 0, 0.15);\n",
              "      filter: drop-shadow(0px 1px 2px rgba(0, 0, 0, 0.3));\n",
              "      fill: #FFFFFF;\n",
              "    }\n",
              "  </style>\n",
              "\n",
              "      <script>\n",
              "        const buttonEl =\n",
              "          document.querySelector('#df-dacc4dc9-a3d2-4d5a-9ae1-87b4aae00ded button.colab-df-convert');\n",
              "        buttonEl.style.display =\n",
              "          google.colab.kernel.accessAllowed ? 'block' : 'none';\n",
              "\n",
              "        async function convertToInteractive(key) {\n",
              "          const element = document.querySelector('#df-dacc4dc9-a3d2-4d5a-9ae1-87b4aae00ded');\n",
              "          const dataTable =\n",
              "            await google.colab.kernel.invokeFunction('convertToInteractive',\n",
              "                                                     [key], {});\n",
              "          if (!dataTable) return;\n",
              "\n",
              "          const docLinkHtml = 'Like what you see? Visit the ' +\n",
              "            '<a target=\"_blank\" href=https://colab.research.google.com/notebooks/data_table.ipynb>data table notebook</a>'\n",
              "            + ' to learn more about interactive tables.';\n",
              "          element.innerHTML = '';\n",
              "          dataTable['output_type'] = 'display_data';\n",
              "          await google.colab.output.renderOutput(dataTable, element);\n",
              "          const docLink = document.createElement('div');\n",
              "          docLink.innerHTML = docLinkHtml;\n",
              "          element.appendChild(docLink);\n",
              "        }\n",
              "      </script>\n",
              "    </div>\n",
              "  </div>\n",
              "  "
            ]
          },
          "metadata": {}
        },
        {
          "output_type": "stream",
          "name": "stdout",
          "text": [
            "\n",
            "\n",
            "カテゴリ： e\n"
          ]
        },
        {
          "output_type": "display_data",
          "data": {
            "text/plain": [
              "               1     2      3      4      5        6    7      8      9    10\n",
              "重要度上位  kardashian  star   movi  chris   film      kim  wed  miley  cyrus  jay\n",
              "重要度下位       updat    us  googl  china  studi  billion  buy    say   appl  ceo"
            ],
            "text/html": [
              "\n",
              "  <div id=\"df-d0e98524-0a98-41ff-81b9-76cb58cd1b0a\">\n",
              "    <div class=\"colab-df-container\">\n",
              "      <div>\n",
              "<style scoped>\n",
              "    .dataframe tbody tr th:only-of-type {\n",
              "        vertical-align: middle;\n",
              "    }\n",
              "\n",
              "    .dataframe tbody tr th {\n",
              "        vertical-align: top;\n",
              "    }\n",
              "\n",
              "    .dataframe thead th {\n",
              "        text-align: right;\n",
              "    }\n",
              "</style>\n",
              "<table border=\"1\" class=\"dataframe\">\n",
              "  <thead>\n",
              "    <tr style=\"text-align: right;\">\n",
              "      <th></th>\n",
              "      <th>1</th>\n",
              "      <th>2</th>\n",
              "      <th>3</th>\n",
              "      <th>4</th>\n",
              "      <th>5</th>\n",
              "      <th>6</th>\n",
              "      <th>7</th>\n",
              "      <th>8</th>\n",
              "      <th>9</th>\n",
              "      <th>10</th>\n",
              "    </tr>\n",
              "  </thead>\n",
              "  <tbody>\n",
              "    <tr>\n",
              "      <th>重要度上位</th>\n",
              "      <td>kardashian</td>\n",
              "      <td>star</td>\n",
              "      <td>movi</td>\n",
              "      <td>chris</td>\n",
              "      <td>film</td>\n",
              "      <td>kim</td>\n",
              "      <td>wed</td>\n",
              "      <td>miley</td>\n",
              "      <td>cyrus</td>\n",
              "      <td>jay</td>\n",
              "    </tr>\n",
              "    <tr>\n",
              "      <th>重要度下位</th>\n",
              "      <td>updat</td>\n",
              "      <td>us</td>\n",
              "      <td>googl</td>\n",
              "      <td>china</td>\n",
              "      <td>studi</td>\n",
              "      <td>billion</td>\n",
              "      <td>buy</td>\n",
              "      <td>say</td>\n",
              "      <td>appl</td>\n",
              "      <td>ceo</td>\n",
              "    </tr>\n",
              "  </tbody>\n",
              "</table>\n",
              "</div>\n",
              "      <button class=\"colab-df-convert\" onclick=\"convertToInteractive('df-d0e98524-0a98-41ff-81b9-76cb58cd1b0a')\"\n",
              "              title=\"Convert this dataframe to an interactive table.\"\n",
              "              style=\"display:none;\">\n",
              "        \n",
              "  <svg xmlns=\"http://www.w3.org/2000/svg\" height=\"24px\"viewBox=\"0 0 24 24\"\n",
              "       width=\"24px\">\n",
              "    <path d=\"M0 0h24v24H0V0z\" fill=\"none\"/>\n",
              "    <path d=\"M18.56 5.44l.94 2.06.94-2.06 2.06-.94-2.06-.94-.94-2.06-.94 2.06-2.06.94zm-11 1L8.5 8.5l.94-2.06 2.06-.94-2.06-.94L8.5 2.5l-.94 2.06-2.06.94zm10 10l.94 2.06.94-2.06 2.06-.94-2.06-.94-.94-2.06-.94 2.06-2.06.94z\"/><path d=\"M17.41 7.96l-1.37-1.37c-.4-.4-.92-.59-1.43-.59-.52 0-1.04.2-1.43.59L10.3 9.45l-7.72 7.72c-.78.78-.78 2.05 0 2.83L4 21.41c.39.39.9.59 1.41.59.51 0 1.02-.2 1.41-.59l7.78-7.78 2.81-2.81c.8-.78.8-2.07 0-2.86zM5.41 20L4 18.59l7.72-7.72 1.47 1.35L5.41 20z\"/>\n",
              "  </svg>\n",
              "      </button>\n",
              "      \n",
              "  <style>\n",
              "    .colab-df-container {\n",
              "      display:flex;\n",
              "      flex-wrap:wrap;\n",
              "      gap: 12px;\n",
              "    }\n",
              "\n",
              "    .colab-df-convert {\n",
              "      background-color: #E8F0FE;\n",
              "      border: none;\n",
              "      border-radius: 50%;\n",
              "      cursor: pointer;\n",
              "      display: none;\n",
              "      fill: #1967D2;\n",
              "      height: 32px;\n",
              "      padding: 0 0 0 0;\n",
              "      width: 32px;\n",
              "    }\n",
              "\n",
              "    .colab-df-convert:hover {\n",
              "      background-color: #E2EBFA;\n",
              "      box-shadow: 0px 1px 2px rgba(60, 64, 67, 0.3), 0px 1px 3px 1px rgba(60, 64, 67, 0.15);\n",
              "      fill: #174EA6;\n",
              "    }\n",
              "\n",
              "    [theme=dark] .colab-df-convert {\n",
              "      background-color: #3B4455;\n",
              "      fill: #D2E3FC;\n",
              "    }\n",
              "\n",
              "    [theme=dark] .colab-df-convert:hover {\n",
              "      background-color: #434B5C;\n",
              "      box-shadow: 0px 1px 3px 1px rgba(0, 0, 0, 0.15);\n",
              "      filter: drop-shadow(0px 1px 2px rgba(0, 0, 0, 0.3));\n",
              "      fill: #FFFFFF;\n",
              "    }\n",
              "  </style>\n",
              "\n",
              "      <script>\n",
              "        const buttonEl =\n",
              "          document.querySelector('#df-d0e98524-0a98-41ff-81b9-76cb58cd1b0a button.colab-df-convert');\n",
              "        buttonEl.style.display =\n",
              "          google.colab.kernel.accessAllowed ? 'block' : 'none';\n",
              "\n",
              "        async function convertToInteractive(key) {\n",
              "          const element = document.querySelector('#df-d0e98524-0a98-41ff-81b9-76cb58cd1b0a');\n",
              "          const dataTable =\n",
              "            await google.colab.kernel.invokeFunction('convertToInteractive',\n",
              "                                                     [key], {});\n",
              "          if (!dataTable) return;\n",
              "\n",
              "          const docLinkHtml = 'Like what you see? Visit the ' +\n",
              "            '<a target=\"_blank\" href=https://colab.research.google.com/notebooks/data_table.ipynb>data table notebook</a>'\n",
              "            + ' to learn more about interactive tables.';\n",
              "          element.innerHTML = '';\n",
              "          dataTable['output_type'] = 'display_data';\n",
              "          await google.colab.output.renderOutput(dataTable, element);\n",
              "          const docLink = document.createElement('div');\n",
              "          docLink.innerHTML = docLinkHtml;\n",
              "          element.appendChild(docLink);\n",
              "        }\n",
              "      </script>\n",
              "    </div>\n",
              "  </div>\n",
              "  "
            ]
          },
          "metadata": {}
        },
        {
          "output_type": "stream",
          "name": "stdout",
          "text": [
            "\n",
            "\n",
            "カテゴリ： m\n"
          ]
        },
        {
          "output_type": "display_data",
          "data": {
            "text/plain": [
              "          1      2         3        4     5         6      7       8       9   \\\n",
              "重要度上位  ebola  studi    cancer     drug   fda  cigarett    mer  health   brain   \n",
              "重要度下位     gm   bank  facebook  twitter  deal      appl  googl    sale  climat   \n",
              "\n",
              "           10  \n",
              "重要度上位  doctor  \n",
              "重要度下位    want  "
            ],
            "text/html": [
              "\n",
              "  <div id=\"df-9d7f0b7a-d344-4862-891c-45e82a68e79a\">\n",
              "    <div class=\"colab-df-container\">\n",
              "      <div>\n",
              "<style scoped>\n",
              "    .dataframe tbody tr th:only-of-type {\n",
              "        vertical-align: middle;\n",
              "    }\n",
              "\n",
              "    .dataframe tbody tr th {\n",
              "        vertical-align: top;\n",
              "    }\n",
              "\n",
              "    .dataframe thead th {\n",
              "        text-align: right;\n",
              "    }\n",
              "</style>\n",
              "<table border=\"1\" class=\"dataframe\">\n",
              "  <thead>\n",
              "    <tr style=\"text-align: right;\">\n",
              "      <th></th>\n",
              "      <th>1</th>\n",
              "      <th>2</th>\n",
              "      <th>3</th>\n",
              "      <th>4</th>\n",
              "      <th>5</th>\n",
              "      <th>6</th>\n",
              "      <th>7</th>\n",
              "      <th>8</th>\n",
              "      <th>9</th>\n",
              "      <th>10</th>\n",
              "    </tr>\n",
              "  </thead>\n",
              "  <tbody>\n",
              "    <tr>\n",
              "      <th>重要度上位</th>\n",
              "      <td>ebola</td>\n",
              "      <td>studi</td>\n",
              "      <td>cancer</td>\n",
              "      <td>drug</td>\n",
              "      <td>fda</td>\n",
              "      <td>cigarett</td>\n",
              "      <td>mer</td>\n",
              "      <td>health</td>\n",
              "      <td>brain</td>\n",
              "      <td>doctor</td>\n",
              "    </tr>\n",
              "    <tr>\n",
              "      <th>重要度下位</th>\n",
              "      <td>gm</td>\n",
              "      <td>bank</td>\n",
              "      <td>facebook</td>\n",
              "      <td>twitter</td>\n",
              "      <td>deal</td>\n",
              "      <td>appl</td>\n",
              "      <td>googl</td>\n",
              "      <td>sale</td>\n",
              "      <td>climat</td>\n",
              "      <td>want</td>\n",
              "    </tr>\n",
              "  </tbody>\n",
              "</table>\n",
              "</div>\n",
              "      <button class=\"colab-df-convert\" onclick=\"convertToInteractive('df-9d7f0b7a-d344-4862-891c-45e82a68e79a')\"\n",
              "              title=\"Convert this dataframe to an interactive table.\"\n",
              "              style=\"display:none;\">\n",
              "        \n",
              "  <svg xmlns=\"http://www.w3.org/2000/svg\" height=\"24px\"viewBox=\"0 0 24 24\"\n",
              "       width=\"24px\">\n",
              "    <path d=\"M0 0h24v24H0V0z\" fill=\"none\"/>\n",
              "    <path d=\"M18.56 5.44l.94 2.06.94-2.06 2.06-.94-2.06-.94-.94-2.06-.94 2.06-2.06.94zm-11 1L8.5 8.5l.94-2.06 2.06-.94-2.06-.94L8.5 2.5l-.94 2.06-2.06.94zm10 10l.94 2.06.94-2.06 2.06-.94-2.06-.94-.94-2.06-.94 2.06-2.06.94z\"/><path d=\"M17.41 7.96l-1.37-1.37c-.4-.4-.92-.59-1.43-.59-.52 0-1.04.2-1.43.59L10.3 9.45l-7.72 7.72c-.78.78-.78 2.05 0 2.83L4 21.41c.39.39.9.59 1.41.59.51 0 1.02-.2 1.41-.59l7.78-7.78 2.81-2.81c.8-.78.8-2.07 0-2.86zM5.41 20L4 18.59l7.72-7.72 1.47 1.35L5.41 20z\"/>\n",
              "  </svg>\n",
              "      </button>\n",
              "      \n",
              "  <style>\n",
              "    .colab-df-container {\n",
              "      display:flex;\n",
              "      flex-wrap:wrap;\n",
              "      gap: 12px;\n",
              "    }\n",
              "\n",
              "    .colab-df-convert {\n",
              "      background-color: #E8F0FE;\n",
              "      border: none;\n",
              "      border-radius: 50%;\n",
              "      cursor: pointer;\n",
              "      display: none;\n",
              "      fill: #1967D2;\n",
              "      height: 32px;\n",
              "      padding: 0 0 0 0;\n",
              "      width: 32px;\n",
              "    }\n",
              "\n",
              "    .colab-df-convert:hover {\n",
              "      background-color: #E2EBFA;\n",
              "      box-shadow: 0px 1px 2px rgba(60, 64, 67, 0.3), 0px 1px 3px 1px rgba(60, 64, 67, 0.15);\n",
              "      fill: #174EA6;\n",
              "    }\n",
              "\n",
              "    [theme=dark] .colab-df-convert {\n",
              "      background-color: #3B4455;\n",
              "      fill: #D2E3FC;\n",
              "    }\n",
              "\n",
              "    [theme=dark] .colab-df-convert:hover {\n",
              "      background-color: #434B5C;\n",
              "      box-shadow: 0px 1px 3px 1px rgba(0, 0, 0, 0.15);\n",
              "      filter: drop-shadow(0px 1px 2px rgba(0, 0, 0, 0.3));\n",
              "      fill: #FFFFFF;\n",
              "    }\n",
              "  </style>\n",
              "\n",
              "      <script>\n",
              "        const buttonEl =\n",
              "          document.querySelector('#df-9d7f0b7a-d344-4862-891c-45e82a68e79a button.colab-df-convert');\n",
              "        buttonEl.style.display =\n",
              "          google.colab.kernel.accessAllowed ? 'block' : 'none';\n",
              "\n",
              "        async function convertToInteractive(key) {\n",
              "          const element = document.querySelector('#df-9d7f0b7a-d344-4862-891c-45e82a68e79a');\n",
              "          const dataTable =\n",
              "            await google.colab.kernel.invokeFunction('convertToInteractive',\n",
              "                                                     [key], {});\n",
              "          if (!dataTable) return;\n",
              "\n",
              "          const docLinkHtml = 'Like what you see? Visit the ' +\n",
              "            '<a target=\"_blank\" href=https://colab.research.google.com/notebooks/data_table.ipynb>data table notebook</a>'\n",
              "            + ' to learn more about interactive tables.';\n",
              "          element.innerHTML = '';\n",
              "          dataTable['output_type'] = 'display_data';\n",
              "          await google.colab.output.renderOutput(dataTable, element);\n",
              "          const docLink = document.createElement('div');\n",
              "          docLink.innerHTML = docLinkHtml;\n",
              "          element.appendChild(docLink);\n",
              "        }\n",
              "      </script>\n",
              "    </div>\n",
              "  </div>\n",
              "  "
            ]
          },
          "metadata": {}
        },
        {
          "output_type": "stream",
          "name": "stdout",
          "text": [
            "\n",
            "\n",
            "カテゴリ： t\n"
          ]
        },
        {
          "output_type": "display_data",
          "data": {
            "text/plain": [
              "          1         2     3          4       5    6      7        8   \\\n",
              "重要度上位  googl  facebook  appl  microsoft  climat   gm   nasa    mobil   \n",
              "重要度下位   drug      rate   fed      stock  cancer  ecb  still  percent   \n",
              "\n",
              "               9        10  \n",
              "重要度上位       tesla  comcast  \n",
              "重要度下位  kardashian   ukrain  "
            ],
            "text/html": [
              "\n",
              "  <div id=\"df-e07d3518-6921-433d-b617-5bf2bb1a0458\">\n",
              "    <div class=\"colab-df-container\">\n",
              "      <div>\n",
              "<style scoped>\n",
              "    .dataframe tbody tr th:only-of-type {\n",
              "        vertical-align: middle;\n",
              "    }\n",
              "\n",
              "    .dataframe tbody tr th {\n",
              "        vertical-align: top;\n",
              "    }\n",
              "\n",
              "    .dataframe thead th {\n",
              "        text-align: right;\n",
              "    }\n",
              "</style>\n",
              "<table border=\"1\" class=\"dataframe\">\n",
              "  <thead>\n",
              "    <tr style=\"text-align: right;\">\n",
              "      <th></th>\n",
              "      <th>1</th>\n",
              "      <th>2</th>\n",
              "      <th>3</th>\n",
              "      <th>4</th>\n",
              "      <th>5</th>\n",
              "      <th>6</th>\n",
              "      <th>7</th>\n",
              "      <th>8</th>\n",
              "      <th>9</th>\n",
              "      <th>10</th>\n",
              "    </tr>\n",
              "  </thead>\n",
              "  <tbody>\n",
              "    <tr>\n",
              "      <th>重要度上位</th>\n",
              "      <td>googl</td>\n",
              "      <td>facebook</td>\n",
              "      <td>appl</td>\n",
              "      <td>microsoft</td>\n",
              "      <td>climat</td>\n",
              "      <td>gm</td>\n",
              "      <td>nasa</td>\n",
              "      <td>mobil</td>\n",
              "      <td>tesla</td>\n",
              "      <td>comcast</td>\n",
              "    </tr>\n",
              "    <tr>\n",
              "      <th>重要度下位</th>\n",
              "      <td>drug</td>\n",
              "      <td>rate</td>\n",
              "      <td>fed</td>\n",
              "      <td>stock</td>\n",
              "      <td>cancer</td>\n",
              "      <td>ecb</td>\n",
              "      <td>still</td>\n",
              "      <td>percent</td>\n",
              "      <td>kardashian</td>\n",
              "      <td>ukrain</td>\n",
              "    </tr>\n",
              "  </tbody>\n",
              "</table>\n",
              "</div>\n",
              "      <button class=\"colab-df-convert\" onclick=\"convertToInteractive('df-e07d3518-6921-433d-b617-5bf2bb1a0458')\"\n",
              "              title=\"Convert this dataframe to an interactive table.\"\n",
              "              style=\"display:none;\">\n",
              "        \n",
              "  <svg xmlns=\"http://www.w3.org/2000/svg\" height=\"24px\"viewBox=\"0 0 24 24\"\n",
              "       width=\"24px\">\n",
              "    <path d=\"M0 0h24v24H0V0z\" fill=\"none\"/>\n",
              "    <path d=\"M18.56 5.44l.94 2.06.94-2.06 2.06-.94-2.06-.94-.94-2.06-.94 2.06-2.06.94zm-11 1L8.5 8.5l.94-2.06 2.06-.94-2.06-.94L8.5 2.5l-.94 2.06-2.06.94zm10 10l.94 2.06.94-2.06 2.06-.94-2.06-.94-.94-2.06-.94 2.06-2.06.94z\"/><path d=\"M17.41 7.96l-1.37-1.37c-.4-.4-.92-.59-1.43-.59-.52 0-1.04.2-1.43.59L10.3 9.45l-7.72 7.72c-.78.78-.78 2.05 0 2.83L4 21.41c.39.39.9.59 1.41.59.51 0 1.02-.2 1.41-.59l7.78-7.78 2.81-2.81c.8-.78.8-2.07 0-2.86zM5.41 20L4 18.59l7.72-7.72 1.47 1.35L5.41 20z\"/>\n",
              "  </svg>\n",
              "      </button>\n",
              "      \n",
              "  <style>\n",
              "    .colab-df-container {\n",
              "      display:flex;\n",
              "      flex-wrap:wrap;\n",
              "      gap: 12px;\n",
              "    }\n",
              "\n",
              "    .colab-df-convert {\n",
              "      background-color: #E8F0FE;\n",
              "      border: none;\n",
              "      border-radius: 50%;\n",
              "      cursor: pointer;\n",
              "      display: none;\n",
              "      fill: #1967D2;\n",
              "      height: 32px;\n",
              "      padding: 0 0 0 0;\n",
              "      width: 32px;\n",
              "    }\n",
              "\n",
              "    .colab-df-convert:hover {\n",
              "      background-color: #E2EBFA;\n",
              "      box-shadow: 0px 1px 2px rgba(60, 64, 67, 0.3), 0px 1px 3px 1px rgba(60, 64, 67, 0.15);\n",
              "      fill: #174EA6;\n",
              "    }\n",
              "\n",
              "    [theme=dark] .colab-df-convert {\n",
              "      background-color: #3B4455;\n",
              "      fill: #D2E3FC;\n",
              "    }\n",
              "\n",
              "    [theme=dark] .colab-df-convert:hover {\n",
              "      background-color: #434B5C;\n",
              "      box-shadow: 0px 1px 3px 1px rgba(0, 0, 0, 0.15);\n",
              "      filter: drop-shadow(0px 1px 2px rgba(0, 0, 0, 0.3));\n",
              "      fill: #FFFFFF;\n",
              "    }\n",
              "  </style>\n",
              "\n",
              "      <script>\n",
              "        const buttonEl =\n",
              "          document.querySelector('#df-e07d3518-6921-433d-b617-5bf2bb1a0458 button.colab-df-convert');\n",
              "        buttonEl.style.display =\n",
              "          google.colab.kernel.accessAllowed ? 'block' : 'none';\n",
              "\n",
              "        async function convertToInteractive(key) {\n",
              "          const element = document.querySelector('#df-e07d3518-6921-433d-b617-5bf2bb1a0458');\n",
              "          const dataTable =\n",
              "            await google.colab.kernel.invokeFunction('convertToInteractive',\n",
              "                                                     [key], {});\n",
              "          if (!dataTable) return;\n",
              "\n",
              "          const docLinkHtml = 'Like what you see? Visit the ' +\n",
              "            '<a target=\"_blank\" href=https://colab.research.google.com/notebooks/data_table.ipynb>data table notebook</a>'\n",
              "            + ' to learn more about interactive tables.';\n",
              "          element.innerHTML = '';\n",
              "          dataTable['output_type'] = 'display_data';\n",
              "          await google.colab.output.renderOutput(dataTable, element);\n",
              "          const docLink = document.createElement('div');\n",
              "          docLink.innerHTML = docLinkHtml;\n",
              "          element.appendChild(docLink);\n",
              "        }\n",
              "      </script>\n",
              "    </div>\n",
              "  </div>\n",
              "  "
            ]
          },
          "metadata": {}
        },
        {
          "output_type": "stream",
          "name": "stdout",
          "text": [
            "\n",
            "\n"
          ]
        }
      ]
    },
    {
      "cell_type": "markdown",
      "source": [
        "##58. 正則化パラメータの変更"
      ],
      "metadata": {
        "id": "yDgmD-6dmVgL"
      }
    },
    {
      "cell_type": "code",
      "source": [
        "result = []\n",
        "for C in np.logspace(-5, 4, 10, base=10):\n",
        "    # モデルの学習\n",
        "    model = LogisticRegression(C=C, random_state=42)\n",
        "    model.fit(x_train, y_train)\n",
        "\n",
        "    # 予測\n",
        "    train_pred = [np.max(model.predict_proba(x_train), axis=1), model.predict(x_train)]\n",
        "    valid_pred = [np.max(model.predict_proba(x_valid), axis=1), model.predict(x_valid)]\n",
        "    test_pred = [np.max(model.predict_proba(x_test), axis=1), model.predict(x_test)]\n",
        "\n",
        "    # 正解率\n",
        "    train_accuracy = accuracy_score(y_train, train_pred[1])\n",
        "    valid_accuracy = accuracy_score(y_valid, valid_pred[1])\n",
        "    test_accuracy = accuracy_score(y_test, test_pred[1])\n",
        "\n",
        "    # 結果まとめ\n",
        "    result.append([C, train_accuracy, valid_accuracy, test_accuracy])"
      ],
      "metadata": {
        "id": "Zn7AEJkGmZF8",
        "colab": {
          "base_uri": "https://localhost:8080/"
        },
        "outputId": "6b8dcb28-9da1-4e66-c523-d87a1b662d44"
      },
      "execution_count": null,
      "outputs": [
        {
          "output_type": "stream",
          "name": "stderr",
          "text": [
            "/usr/local/lib/python3.9/dist-packages/sklearn/linear_model/_logistic.py:458: ConvergenceWarning: lbfgs failed to converge (status=1):\n",
            "STOP: TOTAL NO. of ITERATIONS REACHED LIMIT.\n",
            "\n",
            "Increase the number of iterations (max_iter) or scale the data as shown in:\n",
            "    https://scikit-learn.org/stable/modules/preprocessing.html\n",
            "Please also refer to the documentation for alternative solver options:\n",
            "    https://scikit-learn.org/stable/modules/linear_model.html#logistic-regression\n",
            "  n_iter_i = _check_optimize_result(\n",
            "/usr/local/lib/python3.9/dist-packages/sklearn/linear_model/_logistic.py:458: ConvergenceWarning: lbfgs failed to converge (status=1):\n",
            "STOP: TOTAL NO. of ITERATIONS REACHED LIMIT.\n",
            "\n",
            "Increase the number of iterations (max_iter) or scale the data as shown in:\n",
            "    https://scikit-learn.org/stable/modules/preprocessing.html\n",
            "Please also refer to the documentation for alternative solver options:\n",
            "    https://scikit-learn.org/stable/modules/linear_model.html#logistic-regression\n",
            "  n_iter_i = _check_optimize_result(\n",
            "/usr/local/lib/python3.9/dist-packages/sklearn/linear_model/_logistic.py:458: ConvergenceWarning: lbfgs failed to converge (status=1):\n",
            "STOP: TOTAL NO. of ITERATIONS REACHED LIMIT.\n",
            "\n",
            "Increase the number of iterations (max_iter) or scale the data as shown in:\n",
            "    https://scikit-learn.org/stable/modules/preprocessing.html\n",
            "Please also refer to the documentation for alternative solver options:\n",
            "    https://scikit-learn.org/stable/modules/linear_model.html#logistic-regression\n",
            "  n_iter_i = _check_optimize_result(\n",
            "/usr/local/lib/python3.9/dist-packages/sklearn/linear_model/_logistic.py:458: ConvergenceWarning: lbfgs failed to converge (status=1):\n",
            "STOP: TOTAL NO. of ITERATIONS REACHED LIMIT.\n",
            "\n",
            "Increase the number of iterations (max_iter) or scale the data as shown in:\n",
            "    https://scikit-learn.org/stable/modules/preprocessing.html\n",
            "Please also refer to the documentation for alternative solver options:\n",
            "    https://scikit-learn.org/stable/modules/linear_model.html#logistic-regression\n",
            "  n_iter_i = _check_optimize_result(\n",
            "/usr/local/lib/python3.9/dist-packages/sklearn/linear_model/_logistic.py:458: ConvergenceWarning: lbfgs failed to converge (status=1):\n",
            "STOP: TOTAL NO. of ITERATIONS REACHED LIMIT.\n",
            "\n",
            "Increase the number of iterations (max_iter) or scale the data as shown in:\n",
            "    https://scikit-learn.org/stable/modules/preprocessing.html\n",
            "Please also refer to the documentation for alternative solver options:\n",
            "    https://scikit-learn.org/stable/modules/linear_model.html#logistic-regression\n",
            "  n_iter_i = _check_optimize_result(\n"
          ]
        }
      ]
    },
    {
      "cell_type": "code",
      "source": [
        "# グラフ描画\n",
        "import matplotlib.pyplot as plt\n",
        "\n",
        "result = np.array(result).T\n",
        "plt.plot(result[0], result[1], color=\"red\", label=\"train\")\n",
        "plt.plot(result[0], result[2], color=\"green\", label=\"valid\")\n",
        "plt.plot(result[0], result[3], color=\"blue\", label=\"test\")\n",
        "plt.xscale (\"log\")\n",
        "plt.ylim(0, 1.1)\n",
        "plt.xlabel(\"C\")\n",
        "plt.ylabel(\"Accuracy\")\n",
        "plt.legend()\n",
        "plt.show()"
      ],
      "metadata": {
        "colab": {
          "base_uri": "https://localhost:8080/",
          "height": 283
        },
        "id": "yKfzN7T7ySZa",
        "outputId": "71ceeb3e-53fe-4a51-b845-ee48db85f67e"
      },
      "execution_count": null,
      "outputs": [
        {
          "output_type": "display_data",
          "data": {
            "text/plain": [
              "<Figure size 432x288 with 1 Axes>"
            ],
            "image/png": "[encoded data removed]"
          },
          "metadata": {
            "needs_background": "light"
          }
        }
      ]
    },
    {
      "cell_type": "markdown",
      "source": [
        "##59. ハイパーパラメータの探索"
      ],
      "metadata": {
        "id": "Ki8M9kVhmZbV"
      }
    },
    {
      "cell_type": "code",
      "source": [
        "# optunaを用いた最適化\n",
        "! pip install optuna"
      ],
      "metadata": {
        "id": "njzkR0-mmdRc",
        "colab": {
          "base_uri": "https://localhost:8080/"
        },
        "outputId": "008688f3-c206-418c-a5ac-f5eaf118edfc"
      },
      "execution_count": null,
      "outputs": [
        {
          "output_type": "stream",
          "name": "stdout",
          "text": [
            "Looking in indexes: https://pypi.org/simple, https://us-python.pkg.dev/colab-wheels/public/simple/\n",
            "Collecting optuna\n",
            "  Downloading optuna-3.1.0-py3-none-any.whl (365 kB)\n",
            "\u001b[2K     \u001b[90m━━━━━━━━━━━━━━━━━━━━━━━━━━━━━━━━━━━━━━━\u001b[0m \u001b[32m365.3/365.3 KB\u001b[0m \u001b[31m7.1 MB/s\u001b[0m eta \u001b[36m0:00:00\u001b[0m\n",
            "\u001b[?25hRequirement already satisfied: PyYAML in /usr/local/lib/python3.9/dist-packages (from optuna) (6.0)\n",
            "Collecting cmaes>=0.9.1\n",
            "  Downloading cmaes-0.9.1-py3-none-any.whl (21 kB)\n",
            "Requirement already satisfied: tqdm in /usr/local/lib/python3.9/dist-packages (from optuna) (4.65.0)\n",
            "Requirement already satisfied: numpy in /usr/local/lib/python3.9/dist-packages (from optuna) (1.22.4)\n",
            "Collecting alembic>=1.5.0\n",
            "  Downloading alembic-1.10.2-py3-none-any.whl (212 kB)\n",
            "\u001b[2K     \u001b[90m━━━━━━━━━━━━━━━━━━━━━━━━━━━━━━━━━━━━━━\u001b[0m \u001b[32m212.2/212.2 KB\u001b[0m \u001b[31m16.1 MB/s\u001b[0m eta \u001b[36m0:00:00\u001b[0m\n",
            "\u001b[?25hCollecting colorlog\n",
            "  Downloading colorlog-6.7.0-py2.py3-none-any.whl (11 kB)\n",
            "Requirement already satisfied: packaging>=20.0 in /usr/local/lib/python3.9/dist-packages (from optuna) (23.0)\n",
            "Requirement already satisfied: sqlalchemy>=1.3.0 in /usr/local/lib/python3.9/dist-packages (from optuna) (1.4.47)\n",
            "Collecting Mako\n",
            "  Downloading Mako-1.2.4-py3-none-any.whl (78 kB)\n",
            "\u001b[2K     \u001b[90m━━━━━━━━━━━━━━━━━━━━━━━━━━━━━━━━━━━━━━━━\u001b[0m \u001b[32m78.7/78.7 KB\u001b[0m \u001b[31m7.7 MB/s\u001b[0m eta \u001b[36m0:00:00\u001b[0m\n",
            "\u001b[?25hRequirement already satisfied: typing-extensions>=4 in /usr/local/lib/python3.9/dist-packages (from alembic>=1.5.0->optuna) (4.5.0)\n",
            "Requirement already satisfied: greenlet!=0.4.17 in /usr/local/lib/python3.9/dist-packages (from sqlalchemy>=1.3.0->optuna) (2.0.2)\n",
            "Requirement already satisfied: MarkupSafe>=0.9.2 in /usr/local/lib/python3.9/dist-packages (from Mako->alembic>=1.5.0->optuna) (2.1.2)\n",
            "Installing collected packages: Mako, colorlog, cmaes, alembic, optuna\n",
            "Successfully installed Mako-1.2.4 alembic-1.10.2 cmaes-0.9.1 colorlog-6.7.0 optuna-3.1.0\n"
          ]
        }
      ]
    },
    {
      "cell_type": "code",
      "source": [
        "import optuna\n",
        "\n",
        "# 最適化対象を関数で指定\n",
        "def objective_model(trial):\n",
        "  # チューニング対象パラメータのセット\n",
        "  l1_ratio = trial.suggest_uniform(\"l1_ratio\", 0, 1)\n",
        "  C = trial.suggest_loguniform(\"C\", 1e-4, 1e4)\n",
        "\n",
        "  # モデルの学習\n",
        "  model = LogisticRegression(random_state=42,\n",
        "                          penalty=\"elasticnet\", # 正則化の種類\n",
        "                          solver=\"saga\",  # 最適化アルゴリズム\n",
        "                          l1_ratio=l1_ratio, # L1正則化項の割合\n",
        "                          C=C) # 正則化の強度\n",
        "  model.fit(x_train, y_train)\n",
        "\n",
        "  # 予測値の取得\n",
        "  valid_pred = [np.max(model.predict_proba(x_valid), axis=1), model.predict(x_valid)]\n",
        "\n",
        "  # 正解率の算出\n",
        "  valid_accuracy = accuracy_score(y_valid, valid_pred[1])\n",
        "\n",
        "  return valid_accuracy"
      ],
      "metadata": {
        "id": "_vsnOI7h4tp6"
      },
      "execution_count": null,
      "outputs": []
    },
    {
      "cell_type": "code",
      "source": [
        "# 最適化\n",
        "study = optuna.create_study(direction=\"maximize\")\n",
        "study.optimize(objective_model, timeout=3600)\n",
        "\n",
        "# 結果の表示\n",
        "print(\"Best trial : \")\n",
        "trial = study.best_trial  # best_valueを出したときの試行内容\n",
        "print(\"  Value : {:.3f}\".format(trial.value))\n",
        "print(\"  Params : \")\n",
        "for key, value in trial.params.items():\n",
        "  print(\"    {} :  {}\".format(key, value))"
      ],
      "metadata": {
        "colab": {
          "base_uri": "https://localhost:8080/"
        },
        "id": "mZBqMKPx5hNd",
        "outputId": "18c6dda2-c518-4643-ec7f-66fb1b3d3acd"
      },
      "execution_count": null,
      "outputs": [
        {
          "output_type": "stream",
          "name": "stderr",
          "text": [
            "\u001b[32m[I 2023-03-26 17:17:09,389]\u001b[0m A new study created in memory with name: no-name-6fe6c875-d6dc-4cf6-b70a-a6a18de406bb\u001b[0m\n",
            "<ipython-input-62-e300e2e335b4>:6: FutureWarning: suggest_uniform has been deprecated in v3.0.0. This feature will be removed in v6.0.0. See https://github.com/optuna/optuna/releases/tag/v3.0.0. Use :func:`~optuna.trial.Trial.suggest_float` instead.\n",
            "  l1_ratio = trial.suggest_uniform(\"l1_ratio\", 0, 1)\n",
            "<ipython-input-62-e300e2e335b4>:7: FutureWarning: suggest_loguniform has been deprecated in v3.0.0. This feature will be removed in v6.0.0. See https://github.com/optuna/optuna/releases/tag/v3.0.0. Use :func:`~optuna.trial.Trial.suggest_float` instead.\n",
            "  C = trial.suggest_loguniform(\"C\", 1e-4, 1e4)\n",
            "/usr/local/lib/python3.9/dist-packages/sklearn/linear_model/_sag.py:350: ConvergenceWarning: The max_iter was reached which means the coef_ did not converge\n",
            "  warnings.warn(\n",
            "\u001b[32m[I 2023-03-26 17:29:48,695]\u001b[0m Trial 0 finished with value: 0.9145427286356822 and parameters: {'l1_ratio': 0.9764048743160266, 'C': 1186.9248944630117}. Best is trial 0 with value: 0.9145427286356822.\u001b[0m\n",
            "<ipython-input-62-e300e2e335b4>:6: FutureWarning: suggest_uniform has been deprecated in v3.0.0. This feature will be removed in v6.0.0. See https://github.com/optuna/optuna/releases/tag/v3.0.0. Use :func:`~optuna.trial.Trial.suggest_float` instead.\n",
            "  l1_ratio = trial.suggest_uniform(\"l1_ratio\", 0, 1)\n",
            "<ipython-input-62-e300e2e335b4>:7: FutureWarning: suggest_loguniform has been deprecated in v3.0.0. This feature will be removed in v6.0.0. See https://github.com/optuna/optuna/releases/tag/v3.0.0. Use :func:`~optuna.trial.Trial.suggest_float` instead.\n",
            "  C = trial.suggest_loguniform(\"C\", 1e-4, 1e4)\n",
            "\u001b[32m[I 2023-03-26 17:30:59,907]\u001b[0m Trial 1 finished with value: 0.8185907046476761 and parameters: {'l1_ratio': 0.8258331245653727, 'C': 0.3475857492053097}. Best is trial 0 with value: 0.9145427286356822.\u001b[0m\n",
            "<ipython-input-62-e300e2e335b4>:6: FutureWarning: suggest_uniform has been deprecated in v3.0.0. This feature will be removed in v6.0.0. See https://github.com/optuna/optuna/releases/tag/v3.0.0. Use :func:`~optuna.trial.Trial.suggest_float` instead.\n",
            "  l1_ratio = trial.suggest_uniform(\"l1_ratio\", 0, 1)\n",
            "<ipython-input-62-e300e2e335b4>:7: FutureWarning: suggest_loguniform has been deprecated in v3.0.0. This feature will be removed in v6.0.0. See https://github.com/optuna/optuna/releases/tag/v3.0.0. Use :func:`~optuna.trial.Trial.suggest_float` instead.\n",
            "  C = trial.suggest_loguniform(\"C\", 1e-4, 1e4)\n",
            "\u001b[32m[I 2023-03-26 17:31:14,332]\u001b[0m Trial 2 finished with value: 0.42128935532233885 and parameters: {'l1_ratio': 0.24665297385799168, 'C': 0.00041126484316047964}. Best is trial 0 with value: 0.9145427286356822.\u001b[0m\n",
            "<ipython-input-62-e300e2e335b4>:6: FutureWarning: suggest_uniform has been deprecated in v3.0.0. This feature will be removed in v6.0.0. See https://github.com/optuna/optuna/releases/tag/v3.0.0. Use :func:`~optuna.trial.Trial.suggest_float` instead.\n",
            "  l1_ratio = trial.suggest_uniform(\"l1_ratio\", 0, 1)\n",
            "<ipython-input-62-e300e2e335b4>:7: FutureWarning: suggest_loguniform has been deprecated in v3.0.0. This feature will be removed in v6.0.0. See https://github.com/optuna/optuna/releases/tag/v3.0.0. Use :func:`~optuna.trial.Trial.suggest_float` instead.\n",
            "  C = trial.suggest_loguniform(\"C\", 1e-4, 1e4)\n",
            "\u001b[32m[I 2023-03-26 17:31:39,254]\u001b[0m Trial 3 finished with value: 0.42128935532233885 and parameters: {'l1_ratio': 0.5393605815190028, 'C': 0.0032026285334930487}. Best is trial 0 with value: 0.9145427286356822.\u001b[0m\n",
            "<ipython-input-62-e300e2e335b4>:6: FutureWarning: suggest_uniform has been deprecated in v3.0.0. This feature will be removed in v6.0.0. See https://github.com/optuna/optuna/releases/tag/v3.0.0. Use :func:`~optuna.trial.Trial.suggest_float` instead.\n",
            "  l1_ratio = trial.suggest_uniform(\"l1_ratio\", 0, 1)\n",
            "<ipython-input-62-e300e2e335b4>:7: FutureWarning: suggest_loguniform has been deprecated in v3.0.0. This feature will be removed in v6.0.0. See https://github.com/optuna/optuna/releases/tag/v3.0.0. Use :func:`~optuna.trial.Trial.suggest_float` instead.\n",
            "  C = trial.suggest_loguniform(\"C\", 1e-4, 1e4)\n",
            "\u001b[32m[I 2023-03-26 17:32:48,256]\u001b[0m Trial 4 finished with value: 0.664167916041979 and parameters: {'l1_ratio': 0.43186995690351926, 'C': 0.028739144814108573}. Best is trial 0 with value: 0.9145427286356822.\u001b[0m\n",
            "<ipython-input-62-e300e2e335b4>:6: FutureWarning: suggest_uniform has been deprecated in v3.0.0. This feature will be removed in v6.0.0. See https://github.com/optuna/optuna/releases/tag/v3.0.0. Use :func:`~optuna.trial.Trial.suggest_float` instead.\n",
            "  l1_ratio = trial.suggest_uniform(\"l1_ratio\", 0, 1)\n",
            "<ipython-input-62-e300e2e335b4>:7: FutureWarning: suggest_loguniform has been deprecated in v3.0.0. This feature will be removed in v6.0.0. See https://github.com/optuna/optuna/releases/tag/v3.0.0. Use :func:`~optuna.trial.Trial.suggest_float` instead.\n",
            "  C = trial.suggest_loguniform(\"C\", 1e-4, 1e4)\n",
            "/usr/local/lib/python3.9/dist-packages/sklearn/linear_model/_sag.py:350: ConvergenceWarning: The max_iter was reached which means the coef_ did not converge\n",
            "  warnings.warn(\n",
            "\u001b[32m[I 2023-03-26 17:43:03,364]\u001b[0m Trial 5 finished with value: 0.9205397301349325 and parameters: {'l1_ratio': 0.013032558594597843, 'C': 46.49538945679868}. Best is trial 5 with value: 0.9205397301349325.\u001b[0m\n",
            "<ipython-input-62-e300e2e335b4>:6: FutureWarning: suggest_uniform has been deprecated in v3.0.0. This feature will be removed in v6.0.0. See https://github.com/optuna/optuna/releases/tag/v3.0.0. Use :func:`~optuna.trial.Trial.suggest_float` instead.\n",
            "  l1_ratio = trial.suggest_uniform(\"l1_ratio\", 0, 1)\n",
            "<ipython-input-62-e300e2e335b4>:7: FutureWarning: suggest_loguniform has been deprecated in v3.0.0. This feature will be removed in v6.0.0. See https://github.com/optuna/optuna/releases/tag/v3.0.0. Use :func:`~optuna.trial.Trial.suggest_float` instead.\n",
            "  C = trial.suggest_loguniform(\"C\", 1e-4, 1e4)\n",
            "\u001b[32m[I 2023-03-26 17:46:42,119]\u001b[0m Trial 6 finished with value: 0.9115442278860569 and parameters: {'l1_ratio': 0.5655740796883779, 'C': 2.535877093097055}. Best is trial 5 with value: 0.9205397301349325.\u001b[0m\n",
            "<ipython-input-62-e300e2e335b4>:6: FutureWarning: suggest_uniform has been deprecated in v3.0.0. This feature will be removed in v6.0.0. See https://github.com/optuna/optuna/releases/tag/v3.0.0. Use :func:`~optuna.trial.Trial.suggest_float` instead.\n",
            "  l1_ratio = trial.suggest_uniform(\"l1_ratio\", 0, 1)\n",
            "<ipython-input-62-e300e2e335b4>:7: FutureWarning: suggest_loguniform has been deprecated in v3.0.0. This feature will be removed in v6.0.0. See https://github.com/optuna/optuna/releases/tag/v3.0.0. Use :func:`~optuna.trial.Trial.suggest_float` instead.\n",
            "  C = trial.suggest_loguniform(\"C\", 1e-4, 1e4)\n",
            "\u001b[32m[I 2023-03-26 17:49:07,461]\u001b[0m Trial 7 finished with value: 0.8290854572713643 and parameters: {'l1_ratio': 0.944523845778184, 'C': 0.4035012879522473}. Best is trial 5 with value: 0.9205397301349325.\u001b[0m\n",
            "<ipython-input-62-e300e2e335b4>:6: FutureWarning: suggest_uniform has been deprecated in v3.0.0. This feature will be removed in v6.0.0. See https://github.com/optuna/optuna/releases/tag/v3.0.0. Use :func:`~optuna.trial.Trial.suggest_float` instead.\n",
            "  l1_ratio = trial.suggest_uniform(\"l1_ratio\", 0, 1)\n",
            "<ipython-input-62-e300e2e335b4>:7: FutureWarning: suggest_loguniform has been deprecated in v3.0.0. This feature will be removed in v6.0.0. See https://github.com/optuna/optuna/releases/tag/v3.0.0. Use :func:`~optuna.trial.Trial.suggest_float` instead.\n",
            "  C = trial.suggest_loguniform(\"C\", 1e-4, 1e4)\n",
            "\u001b[32m[I 2023-03-26 17:50:23,414]\u001b[0m Trial 8 finished with value: 0.42203898050974514 and parameters: {'l1_ratio': 0.7410967294015027, 'C': 0.01862788964522182}. Best is trial 5 with value: 0.9205397301349325.\u001b[0m\n",
            "<ipython-input-62-e300e2e335b4>:6: FutureWarning: suggest_uniform has been deprecated in v3.0.0. This feature will be removed in v6.0.0. See https://github.com/optuna/optuna/releases/tag/v3.0.0. Use :func:`~optuna.trial.Trial.suggest_float` instead.\n",
            "  l1_ratio = trial.suggest_uniform(\"l1_ratio\", 0, 1)\n",
            "<ipython-input-62-e300e2e335b4>:7: FutureWarning: suggest_loguniform has been deprecated in v3.0.0. This feature will be removed in v6.0.0. See https://github.com/optuna/optuna/releases/tag/v3.0.0. Use :func:`~optuna.trial.Trial.suggest_float` instead.\n",
            "  C = trial.suggest_loguniform(\"C\", 1e-4, 1e4)\n",
            "\u001b[32m[I 2023-03-26 17:51:31,741]\u001b[0m Trial 9 finished with value: 0.7278860569715142 and parameters: {'l1_ratio': 0.8288465650526222, 'C': 0.12618540594456884}. Best is trial 5 with value: 0.9205397301349325.\u001b[0m\n",
            "<ipython-input-62-e300e2e335b4>:6: FutureWarning: suggest_uniform has been deprecated in v3.0.0. This feature will be removed in v6.0.0. See https://github.com/optuna/optuna/releases/tag/v3.0.0. Use :func:`~optuna.trial.Trial.suggest_float` instead.\n",
            "  l1_ratio = trial.suggest_uniform(\"l1_ratio\", 0, 1)\n",
            "<ipython-input-62-e300e2e335b4>:7: FutureWarning: suggest_loguniform has been deprecated in v3.0.0. This feature will be removed in v6.0.0. See https://github.com/optuna/optuna/releases/tag/v3.0.0. Use :func:`~optuna.trial.Trial.suggest_float` instead.\n",
            "  C = trial.suggest_loguniform(\"C\", 1e-4, 1e4)\n",
            "/usr/local/lib/python3.9/dist-packages/sklearn/linear_model/_sag.py:350: ConvergenceWarning: The max_iter was reached which means the coef_ did not converge\n",
            "  warnings.warn(\n",
            "\u001b[32m[I 2023-03-26 18:02:16,979]\u001b[0m Trial 10 finished with value: 0.9190404797601199 and parameters: {'l1_ratio': 0.06975765246652149, 'C': 67.74890036587333}. Best is trial 5 with value: 0.9205397301349325.\u001b[0m\n",
            "<ipython-input-62-e300e2e335b4>:6: FutureWarning: suggest_uniform has been deprecated in v3.0.0. This feature will be removed in v6.0.0. See https://github.com/optuna/optuna/releases/tag/v3.0.0. Use :func:`~optuna.trial.Trial.suggest_float` instead.\n",
            "  l1_ratio = trial.suggest_uniform(\"l1_ratio\", 0, 1)\n",
            "<ipython-input-62-e300e2e335b4>:7: FutureWarning: suggest_loguniform has been deprecated in v3.0.0. This feature will be removed in v6.0.0. See https://github.com/optuna/optuna/releases/tag/v3.0.0. Use :func:`~optuna.trial.Trial.suggest_float` instead.\n",
            "  C = trial.suggest_loguniform(\"C\", 1e-4, 1e4)\n",
            "/usr/local/lib/python3.9/dist-packages/sklearn/linear_model/_sag.py:350: ConvergenceWarning: The max_iter was reached which means the coef_ did not converge\n",
            "  warnings.warn(\n",
            "\u001b[32m[I 2023-03-26 18:12:19,849]\u001b[0m Trial 11 finished with value: 0.9197901049475262 and parameters: {'l1_ratio': 0.02315155498107755, 'C': 62.97380535892478}. Best is trial 5 with value: 0.9205397301349325.\u001b[0m\n",
            "<ipython-input-62-e300e2e335b4>:6: FutureWarning: suggest_uniform has been deprecated in v3.0.0. This feature will be removed in v6.0.0. See https://github.com/optuna/optuna/releases/tag/v3.0.0. Use :func:`~optuna.trial.Trial.suggest_float` instead.\n",
            "  l1_ratio = trial.suggest_uniform(\"l1_ratio\", 0, 1)\n",
            "<ipython-input-62-e300e2e335b4>:7: FutureWarning: suggest_loguniform has been deprecated in v3.0.0. This feature will be removed in v6.0.0. See https://github.com/optuna/optuna/releases/tag/v3.0.0. Use :func:`~optuna.trial.Trial.suggest_float` instead.\n",
            "  C = trial.suggest_loguniform(\"C\", 1e-4, 1e4)\n",
            "/usr/local/lib/python3.9/dist-packages/sklearn/linear_model/_sag.py:350: ConvergenceWarning: The max_iter was reached which means the coef_ did not converge\n",
            "  warnings.warn(\n",
            "\u001b[32m[I 2023-03-26 18:21:59,629]\u001b[0m Trial 12 finished with value: 0.9212893553223388 and parameters: {'l1_ratio': 0.005489334265566094, 'C': 22.46157663679066}. Best is trial 12 with value: 0.9212893553223388.\u001b[0m\n"
          ]
        },
        {
          "output_type": "stream",
          "name": "stdout",
          "text": [
            "Best trial : \n",
            "  Value : 0.921\n",
            "  Params : \n",
            "    l1_ratio :  0.005489334265566094\n",
            "    C :  22.46157663679066\n"
          ]
        }
      ]
    },
    {
      "cell_type": "code",
      "source": [
        "# 探索したパラメータを用いて再学習\n",
        "# パラメータの設定\n",
        "l1_ratio = trial.params[\"l1_ratio\"]\n",
        "C = trial.params[\"C\"]\n",
        "\n",
        "# モデルの学習\n",
        "model = LogisticRegression(random_state=42,\n",
        "                        penalty=\"elasticnet\",\n",
        "                        solver=\"saga\",\n",
        "                        l1_ratio=l1_ratio,\n",
        "                        C=C)\n",
        "model.fit(x_train, y_train)\n",
        "\n",
        "# 予測値の取得\n",
        "train_pred = [np.max(model.predict_proba(x_train), axis=1), model.predict(x_train)]\n",
        "valid_pred = [np.max(model.predict_proba(x_valid), axis=1), model.predict(x_valid)]\n",
        "test_pred = [np.max(model.predict_proba(x_test), axis=1), model.predict(x_test)]\n",
        "\n",
        "# 正解率の算出\n",
        "train_accuracy = accuracy_score(y_train, train_pred[1])\n",
        "valid_accuracy = accuracy_score(y_valid, valid_pred[1])\n",
        "test_accuracy = accuracy_score(y_test, test_pred[1])\n",
        "\n",
        "print(\"正解率（学習データ）：\", '{:.3f}'.format(train_accuracy))\n",
        "print(\"正解率（検証データ）：\", '{:.3f}'.format(valid_accuracy))\n",
        "print(\"正解率（評価データ）：\", '{:.3f}'.format(test_accuracy))"
      ],
      "metadata": {
        "colab": {
          "base_uri": "https://localhost:8080/"
        },
        "id": "AzUQtqD36MV-",
        "outputId": "9778097a-c57c-4c1c-ee7d-35716c4dacac"
      },
      "execution_count": null,
      "outputs": [
        {
          "output_type": "stream",
          "name": "stderr",
          "text": [
            "/usr/local/lib/python3.9/dist-packages/sklearn/linear_model/_sag.py:350: ConvergenceWarning: The max_iter was reached which means the coef_ did not converge\n",
            "  warnings.warn(\n"
          ]
        },
        {
          "output_type": "stream",
          "name": "stdout",
          "text": [
            "正解率（学習データ）： 0.999\n",
            "正解率（検証データ）： 0.921\n",
            "正解率（評価データ）： 0.930\n"
          ]
        }
      ]
    }
  ]
}