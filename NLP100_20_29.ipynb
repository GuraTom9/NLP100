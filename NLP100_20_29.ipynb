{
  "nbformat": 4,
  "nbformat_minor": 0,
  "metadata": {
    "colab": {
      "provenance": [],
      "authorship_tag": "ABX9TyMTq5Y4EKBVbKHLpL+ssOhN",
      "include_colab_link": true
    },
    "kernelspec": {
      "name": "python3",
      "display_name": "Python 3"
    },
    "language_info": {
      "name": "python"
    }
  },
  "cells": [
    {
      "cell_type": "markdown",
      "metadata": {
        "id": "view-in-github",
        "colab_type": "text"
      },
      "source": [
        "<a href=\"https://colab.research.google.com/github/GuraTom9/NLP100/blob/main/NLP100_20_29.ipynb\" target=\"_parent\"><img src=\"https://colab.research.google.com/assets/colab-badge.svg\" alt=\"Open In Colab\"/></a>"
      ]
    },
    {
      "cell_type": "markdown",
      "source": [
        "#第3章　正規表現"
      ],
      "metadata": {
        "id": "32M6BRBbBKgW"
      }
    },
    {
      "cell_type": "code",
      "source": [
        "from google.colab import drive\n",
        "drive.mount('/content/drive/')\n",
        "\n",
        "%cd \"drive/My Drive/NLP100\""
      ],
      "metadata": {
        "colab": {
          "base_uri": "https://localhost:8080/"
        },
        "id": "dC_9rV4TG58V",
        "outputId": "4496dce5-2367-4f7c-831c-84363abe71e0"
      },
      "execution_count": null,
      "outputs": [
        {
          "output_type": "stream",
          "name": "stdout",
          "text": [
            "Mounted at /content/drive/\n",
            "/content/drive/My Drive/NLP100\n"
          ]
        }
      ]
    },
    {
      "cell_type": "code",
      "source": [
        "#!gunzip ./jawiki-country.json.gz"
      ],
      "metadata": {
        "id": "4z7ocwkTqJkS"
      },
      "execution_count": null,
      "outputs": []
    },
    {
      "cell_type": "markdown",
      "source": [],
      "metadata": {
        "id": "Vr2wsLjlqJTb"
      }
    },
    {
      "cell_type": "markdown",
      "source": [
        "##20.JSONデータの読み込み"
      ],
      "metadata": {
        "id": "4b3bS_uuFjog"
      }
    },
    {
      "cell_type": "code",
      "source": [
        "import json\n",
        "\n",
        "# JSONファイル読み込み\n",
        "with open(\"jawiki-country.json\", \"r\") as file:\n",
        "    for line in file:\n",
        "        dict = json.loads(line)\n",
        "        if dict[\"title\"] == \"イギリス\":\n",
        "            article_uk = dict[\"text\"]"
      ],
      "metadata": {
        "id": "Y4Bfu292Y5y-"
      },
      "execution_count": null,
      "outputs": []
    },
    {
      "cell_type": "markdown",
      "source": [
        "##21.カテゴリ名を含む行を抽出"
      ],
      "metadata": {
        "id": "UGeqYsE0qAmr"
      }
    },
    {
      "cell_type": "code",
      "source": [
        "lines = article_uk.split(\"\\n\")\n",
        "\n",
        "category_list = [line for line in lines if line.startswith('[[Category:')]\n",
        "category_text = \"\\n\".join(category_list)\n",
        "print(category_text)"
      ],
      "metadata": {
        "colab": {
          "base_uri": "https://localhost:8080/"
        },
        "id": "m1GSUFREm4Cu",
        "outputId": "beebd037-887a-4649-fe5b-24acdf19085b"
      },
      "execution_count": null,
      "outputs": [
        {
          "output_type": "stream",
          "name": "stdout",
          "text": [
            "[[Category:イギリス|*]]\n",
            "[[Category:イギリス連邦加盟国]]\n",
            "[[Category:英連邦王国|*]]\n",
            "[[Category:G8加盟国]]\n",
            "[[Category:欧州連合加盟国|元]]\n",
            "[[Category:海洋国家]]\n",
            "[[Category:現存する君主国]]\n",
            "[[Category:島国]]\n",
            "[[Category:1801年に成立した国家・領域]]\n"
          ]
        }
      ]
    },
    {
      "cell_type": "markdown",
      "source": [
        "##22.カテゴリ名の抽出"
      ],
      "metadata": {
        "id": "gxVP12VuqOpe"
      }
    },
    {
      "cell_type": "code",
      "source": [
        "import re\n",
        "\n",
        "category_name = \"\\n\".join(re.findall(\"\\[\\[Category:(.+?)\\|*\\**\\]\\]\", article_uk))\n",
        "print(category_name)"
      ],
      "metadata": {
        "colab": {
          "base_uri": "https://localhost:8080/"
        },
        "id": "NczYya8HcvyX",
        "outputId": "f13475b0-57b7-464d-a718-9cb4dd71ebc9"
      },
      "execution_count": null,
      "outputs": [
        {
          "output_type": "stream",
          "name": "stdout",
          "text": [
            "イギリス\n",
            "イギリス連邦加盟国\n",
            "英連邦王国\n",
            "G8加盟国\n",
            "欧州連合加盟国|元\n",
            "海洋国家\n",
            "現存する君主国\n",
            "島国\n",
            "1801年に成立した国家・領域\n"
          ]
        }
      ]
    },
    {
      "cell_type": "markdown",
      "source": [
        "##23.セクション構造"
      ],
      "metadata": {
        "id": "qUuPW0oftYij"
      }
    },
    {
      "cell_type": "code",
      "source": [
        "section = \"\\n\".join(re.findall(\"==+(.+)\", article_uk))\n",
        "section = section.split(\"\\n\")\n",
        "print(section)\n",
        "\n",
        "section_name = []\n",
        "section_level = []\n",
        "for i in section:\n",
        "    section_level.append(i.count('=') - 1)\n",
        "    section_name.append(i[:-(i.count('='))])\n",
        "\n",
        "for i, section_name in enumerate(section_name):\n",
        "    print(section_name + \":\" + str(section_level[i]))"
      ],
      "metadata": {
        "colab": {
          "base_uri": "https://localhost:8080/"
        },
        "id": "Rk5cdevXtbKA",
        "outputId": "b9dc3717-15eb-439f-f98c-93a685c7b914"
      },
      "execution_count": null,
      "outputs": [
        {
          "output_type": "stream",
          "name": "stdout",
          "text": [
            "['国名==', '歴史==', '地理==', '主要都市===', '気候===', '政治==', '元首===', '法===', '内政===', '地方行政区分===', '外交・軍事===', '経済==', '鉱業===', '農業===', '貿易===', '不動産===', 'エネルギー政策===', '通貨===', '企業===', '通信====', '交通==', '道路===', '鉄道===', '海運===', '航空===', '科学技術==', '国民==', '言語===', '宗教===', '婚姻===', '移住===', '教育===', '医療===', '文化==', '食文化===', '文学===', '哲学===', '音楽===', 'ポピュラー音楽====', '映画===', 'コメディ===', '国花===', '世界遺産===', '祝祭日===', 'スポーツ===', 'サッカー====', 'クリケット====', '競馬====', 'モータースポーツ====', '野球====', ' カーリング ====', ' 自転車競技 ====', '脚注==', '関連項目==', '外部リンク==']\n",
            "国名:1\n",
            "歴史:1\n",
            "地理:1\n",
            "主要都市:2\n",
            "気候:2\n",
            "政治:1\n",
            "元首:2\n",
            "法:2\n",
            "内政:2\n",
            "地方行政区分:2\n",
            "外交・軍事:2\n",
            "経済:1\n",
            "鉱業:2\n",
            "農業:2\n",
            "貿易:2\n",
            "不動産:2\n",
            "エネルギー政策:2\n",
            "通貨:2\n",
            "企業:2\n",
            "通信:3\n",
            "交通:1\n",
            "道路:2\n",
            "鉄道:2\n",
            "海運:2\n",
            "航空:2\n",
            "科学技術:1\n",
            "国民:1\n",
            "言語:2\n",
            "宗教:2\n",
            "婚姻:2\n",
            "移住:2\n",
            "教育:2\n",
            "医療:2\n",
            "文化:1\n",
            "食文化:2\n",
            "文学:2\n",
            "哲学:2\n",
            "音楽:2\n",
            "ポピュラー音楽:3\n",
            "映画:2\n",
            "コメディ:2\n",
            "国花:2\n",
            "世界遺産:2\n",
            "祝祭日:2\n",
            "スポーツ:2\n",
            "サッカー:3\n",
            "クリケット:3\n",
            "競馬:3\n",
            "モータースポーツ:3\n",
            "野球:3\n",
            " カーリング :3\n",
            " 自転車競技 :3\n",
            "脚注:1\n",
            "関連項目:1\n",
            "外部リンク:1\n"
          ]
        }
      ]
    },
    {
      "cell_type": "markdown",
      "source": [
        "##24.ファイル参照の抽出"
      ],
      "metadata": {
        "id": "U7gMqlYn9or5"
      }
    },
    {
      "cell_type": "code",
      "source": [
        "import re\n",
        "\n",
        "file_reference = \"\\n\".join(re.findall(\"\\[\\[ファイル:(.+?)\\|\", article_uk))\n",
        "print(file_reference)"
      ],
      "metadata": {
        "id": "EdHWcHMc9sNh",
        "colab": {
          "base_uri": "https://localhost:8080/"
        },
        "outputId": "0f3d0d79-7363-4d43-a0e9-a55a8ea352e9"
      },
      "execution_count": null,
      "outputs": [
        {
          "output_type": "stream",
          "name": "stdout",
          "text": [
            "Royal Coat of Arms of the United Kingdom.svg\n",
            "Descriptio Prime Tabulae Europae.jpg\n",
            "Lenepveu, Jeanne d'Arc au siège d'Orléans.jpg\n",
            "London.bankofengland.arp.jpg\n",
            "Battle of Waterloo 1815.PNG\n",
            "Uk topo en.jpg\n",
            "BenNevis2005.jpg\n",
            "Population density UK 2011 census.png\n",
            "2019 Greenwich Peninsula & Canary Wharf.jpg\n",
            "Birmingham Skyline from Edgbaston Cricket Ground crop.jpg\n",
            "Leeds CBD at night.jpg\n",
            "Glasgow and the Clyde from the air (geograph 4665720).jpg\n",
            "Palace of Westminster, London - Feb 2007.jpg\n",
            "Scotland Parliament Holyrood.jpg\n",
            "Donald Trump and Theresa May (33998675310) (cropped).jpg\n",
            "Soldiers Trooping the Colour, 16th June 2007.jpg\n",
            "City of London skyline from London City Hall - Oct 2008.jpg\n",
            "Oil platform in the North SeaPros.jpg\n",
            "Eurostar at St Pancras Jan 2008.jpg\n",
            "Heathrow Terminal 5C Iwelumo-1.jpg\n",
            "Airbus A380-841 G-XLEB British Airways (10424102995).jpg\n",
            "UKpop.svg\n",
            "Anglospeak.svg\n",
            "Royal Aberdeen Children's Hospital.jpg\n",
            "CHANDOS3.jpg\n",
            "The Fabs.JPG\n",
            "Wembley Stadium, illuminated.jpg\n"
          ]
        }
      ]
    },
    {
      "cell_type": "markdown",
      "source": [
        "##25.テンプレートの抽出"
      ],
      "metadata": {
        "id": "TYC9WkJ9bC0T"
      }
    },
    {
      "cell_type": "code",
      "source": [
        "import re\n",
        "\n",
        "# 「基礎情報」テンプレートを抽出\n",
        "template = \"\\n\".join(re.findall(r\"^\\{\\{基礎情報.*?$(.*?)^\\}\\}\", article_uk, re.MULTILINE + re.DOTALL))\n",
        "\n",
        "# テンプレートのフィールド名を抽出してリストへ\n",
        "field_name = \"\\n\".join(re.findall(r\"^\\|(.+?)\\s*=\\s*.+?\", template, re.MULTILINE + re.DOTALL)).split(\"\\n\")\n",
        "\n",
        "# テンプレートの値を抽出してリストへ\n",
        "values = \"\\n\".join(re.findall(r\"^\\|.+?\\s*=\\s*(.*?)\\n\", template, re.MULTILINE + re.DOTALL)).split(\"\\n\")\n",
        "\n",
        "dict_template = {key: value for key, value in zip(field_name, values)}\n",
        "\n",
        "for key, value in dict_template.items():\n",
        "    print(key, value)"
      ],
      "metadata": {
        "colab": {
          "base_uri": "https://localhost:8080/"
        },
        "id": "6a-srldAbHYc",
        "outputId": "995c89fa-422c-468a-a305-91f4bee73baa"
      },
      "execution_count": null,
      "outputs": [
        {
          "output_type": "stream",
          "name": "stdout",
          "text": [
            "略名 イギリス\n",
            "日本語国名 グレートブリテン及び北アイルランド連合王国\n",
            "公式国名 {{lang|en|United Kingdom of Great Britain and Northern Ireland}}<ref>英語以外での正式国名:<br />\n",
            "国旗画像 Flag of the United Kingdom.svg\n",
            "国章画像 [[ファイル:Royal Coat of Arms of the United Kingdom.svg|85px|イギリスの国章]]\n",
            "国章リンク （[[イギリスの国章|国章]]）\n",
            "標語 {{lang|fr|[[Dieu et mon droit]]}}<br />（[[フランス語]]:[[Dieu et mon droit|神と我が権利]]）\n",
            "国歌 [[女王陛下万歳|{{lang|en|God Save the Queen}}]]{{en icon}}<br />''神よ女王を護り賜え''<br />{{center|[[ファイル:United States Navy Band - God Save the Queen.ogg]]}}\n",
            "地図画像 Europe-UK.svg\n",
            "位置画像 United Kingdom (+overseas territories) in the World (+Antarctica claims).svg\n",
            "公用語 [[英語]]\n",
            "首都 [[ロンドン]]（事実上）\n",
            "最大都市 ロンドン\n",
            "元首等肩書 [[イギリスの君主|女王]]\n",
            "元首等氏名 [[エリザベス2世]]\n",
            "首相等肩書 [[イギリスの首相|首相]]\n",
            "首相等氏名 [[ボリス・ジョンソン]]\n",
            "他元首等肩書1 [[貴族院 (イギリス)|貴族院議長]]\n",
            "他元首等氏名1 [[:en:Norman Fowler, Baron Fowler|ノーマン・ファウラー]]\n",
            "他元首等肩書2 [[庶民院 (イギリス)|庶民院議長]]\n",
            "他元首等氏名2 {{仮リンク|リンゼイ・ホイル|en|Lindsay Hoyle}}\n",
            "他元首等肩書3 [[連合王国最高裁判所|最高裁判所長官]]\n",
            "他元首等氏名3 [[:en:Brenda Hale, Baroness Hale of Richmond|ブレンダ・ヘイル]]\n",
            "面積順位 76\n",
            "面積大きさ 1 E11\n",
            "面積値 244,820\n",
            "水面積率 1.3%\n",
            "人口統計年 2018\n",
            "人口順位 22\n",
            "人口大きさ 1 E7\n",
            "人口値 6643万5600<ref>{{Cite web|url=https://www.ons.gov.uk/peoplepopulationandcommunity/populationandmigration/populationestimates|title=Population estimates - Office for National Statistics|accessdate=2019-06-26|date=2019-06-26}}</ref>\n",
            "人口密度値 271\n",
            "GDP統計年元 2012\n",
            "GDP値元 1兆5478億<ref name=\"imf-statistics-gdp\">[http://www.imf.org/external/pubs/ft/weo/2012/02/weodata/weorept.aspx?pr.x=70&pr.y=13&sy=2010&ey=2012&scsm=1&ssd=1&sort=country&ds=.&br=1&c=112&s=NGDP%2CNGDPD%2CPPPGDP%2CPPPPC&grp=0&a=IMF>Data and Statistics>World Economic Outlook Databases>By Countrise>United Kingdom]</ref>\n",
            "GDP統計年MER 2012\n",
            "GDP順位MER 6\n",
            "GDP値MER 2兆4337億<ref name=\"imf-statistics-gdp\" />\n",
            "GDP統計年 2012\n",
            "GDP順位 6\n",
            "GDP値 2兆3162億<ref name=\"imf-statistics-gdp\" />\n",
            "GDP/人 36,727<ref name=\"imf-statistics-gdp\" />\n",
            "建国形態 建国\n",
            "確立形態1 [[イングランド王国]]／[[スコットランド王国]]<br />（両国とも[[合同法 (1707年)|1707年合同法]]まで）\n",
            "確立年月日1 927年／843年\n",
            "確立形態2 [[グレートブリテン王国]]成立<br />（1707年合同法）\n",
            "確立年月日2 1707年{{0}}5月{{0}}1日\n",
            "確立形態3 [[グレートブリテン及びアイルランド連合王国]]成立<br />（[[合同法 (1800年)|1800年合同法]]）\n",
            "確立年月日3 1801年{{0}}1月{{0}}1日\n",
            "確立形態4 現在の国号「'''グレートブリテン及び北アイルランド連合王国'''」に変更\n",
            "確立年月日4 1927年{{0}}4月12日\n",
            "通貨 [[スターリング・ポンド|UKポンド]] (£)\n",
            "通貨コード GBP\n",
            "時間帯 ±0\n",
            "夏時間 +1\n",
            "ISO 3166-1 GB / GBR\n",
            "ccTLD [[.uk]] / [[.gb]]<ref>使用は.ukに比べ圧倒的少数。</ref>\n",
            "国際電話番号 44\n",
            "注記 <references/>\n"
          ]
        }
      ]
    },
    {
      "cell_type": "markdown",
      "source": [
        "##26.強調マークアップの除去"
      ],
      "metadata": {
        "id": "Vk8XwYrFWqZV"
      }
    },
    {
      "cell_type": "code",
      "source": [
        "import re\n",
        "\n",
        "values_rm_em = []\n",
        "for value in values:\n",
        "    values_rm_em.append(re.sub(\"\\'{2,5}\", \"\", value))\n",
        "\n",
        "dict_template = {key: value for key, value in zip(field_name, values_rm_em)}\n",
        "\n",
        "for key, value in dict_template.items():\n",
        "    print(key, value)"
      ],
      "metadata": {
        "colab": {
          "base_uri": "https://localhost:8080/"
        },
        "id": "e4d3fIO7Wvke",
        "outputId": "661a4a38-d245-4d29-908c-ac5dda187d90"
      },
      "execution_count": null,
      "outputs": [
        {
          "output_type": "stream",
          "name": "stdout",
          "text": [
            "略名 イギリス\n",
            "日本語国名 グレートブリテン及び北アイルランド連合王国\n",
            "公式国名 {{lang|en|United Kingdom of Great Britain and Northern Ireland}}<ref>英語以外での正式国名:<br />\n",
            "国旗画像 Flag of the United Kingdom.svg\n",
            "国章画像 [[ファイル:Royal Coat of Arms of the United Kingdom.svg|85px|イギリスの国章]]\n",
            "国章リンク （[[イギリスの国章|国章]]）\n",
            "標語 {{lang|fr|[[Dieu et mon droit]]}}<br />（[[フランス語]]:[[Dieu et mon droit|神と我が権利]]）\n",
            "国歌 [[女王陛下万歳|{{lang|en|God Save the Queen}}]]{{en icon}}<br />神よ女王を護り賜え<br />{{center|[[ファイル:United States Navy Band - God Save the Queen.ogg]]}}\n",
            "地図画像 Europe-UK.svg\n",
            "位置画像 United Kingdom (+overseas territories) in the World (+Antarctica claims).svg\n",
            "公用語 [[英語]]\n",
            "首都 [[ロンドン]]（事実上）\n",
            "最大都市 ロンドン\n",
            "元首等肩書 [[イギリスの君主|女王]]\n",
            "元首等氏名 [[エリザベス2世]]\n",
            "首相等肩書 [[イギリスの首相|首相]]\n",
            "首相等氏名 [[ボリス・ジョンソン]]\n",
            "他元首等肩書1 [[貴族院 (イギリス)|貴族院議長]]\n",
            "他元首等氏名1 [[:en:Norman Fowler, Baron Fowler|ノーマン・ファウラー]]\n",
            "他元首等肩書2 [[庶民院 (イギリス)|庶民院議長]]\n",
            "他元首等氏名2 {{仮リンク|リンゼイ・ホイル|en|Lindsay Hoyle}}\n",
            "他元首等肩書3 [[連合王国最高裁判所|最高裁判所長官]]\n",
            "他元首等氏名3 [[:en:Brenda Hale, Baroness Hale of Richmond|ブレンダ・ヘイル]]\n",
            "面積順位 76\n",
            "面積大きさ 1 E11\n",
            "面積値 244,820\n",
            "水面積率 1.3%\n",
            "人口統計年 2018\n",
            "人口順位 22\n",
            "人口大きさ 1 E7\n",
            "人口値 6643万5600<ref>{{Cite web|url=https://www.ons.gov.uk/peoplepopulationandcommunity/populationandmigration/populationestimates|title=Population estimates - Office for National Statistics|accessdate=2019-06-26|date=2019-06-26}}</ref>\n",
            "人口密度値 271\n",
            "GDP統計年元 2012\n",
            "GDP値元 1兆5478億<ref name=\"imf-statistics-gdp\">[http://www.imf.org/external/pubs/ft/weo/2012/02/weodata/weorept.aspx?pr.x=70&pr.y=13&sy=2010&ey=2012&scsm=1&ssd=1&sort=country&ds=.&br=1&c=112&s=NGDP%2CNGDPD%2CPPPGDP%2CPPPPC&grp=0&a=IMF>Data and Statistics>World Economic Outlook Databases>By Countrise>United Kingdom]</ref>\n",
            "GDP統計年MER 2012\n",
            "GDP順位MER 6\n",
            "GDP値MER 2兆4337億<ref name=\"imf-statistics-gdp\" />\n",
            "GDP統計年 2012\n",
            "GDP順位 6\n",
            "GDP値 2兆3162億<ref name=\"imf-statistics-gdp\" />\n",
            "GDP/人 36,727<ref name=\"imf-statistics-gdp\" />\n",
            "建国形態 建国\n",
            "確立形態1 [[イングランド王国]]／[[スコットランド王国]]<br />（両国とも[[合同法 (1707年)|1707年合同法]]まで）\n",
            "確立年月日1 927年／843年\n",
            "確立形態2 [[グレートブリテン王国]]成立<br />（1707年合同法）\n",
            "確立年月日2 1707年{{0}}5月{{0}}1日\n",
            "確立形態3 [[グレートブリテン及びアイルランド連合王国]]成立<br />（[[合同法 (1800年)|1800年合同法]]）\n",
            "確立年月日3 1801年{{0}}1月{{0}}1日\n",
            "確立形態4 現在の国号「グレートブリテン及び北アイルランド連合王国」に変更\n",
            "確立年月日4 1927年{{0}}4月12日\n",
            "通貨 [[スターリング・ポンド|UKポンド]] (£)\n",
            "通貨コード GBP\n",
            "時間帯 ±0\n",
            "夏時間 +1\n",
            "ISO 3166-1 GB / GBR\n",
            "ccTLD [[.uk]] / [[.gb]]<ref>使用は.ukに比べ圧倒的少数。</ref>\n",
            "国際電話番号 44\n",
            "注記 <references/>\n"
          ]
        }
      ]
    },
    {
      "cell_type": "markdown",
      "source": [
        "##27.内部リンクの除去"
      ],
      "metadata": {
        "id": "0N2HU4bwiDJa"
      }
    },
    {
      "cell_type": "code",
      "source": [
        "import re\n",
        "\n",
        "values_rm_link = []\n",
        "for value in values_rm_em:\n",
        "    values_rm_link.append(re.sub(\"\\[\\[(.+?)\\]\\]\", r\"\\1\", value))\n",
        "\n",
        "dict_template = {key: value for key, value in zip(field_name, values_rm_link)}\n",
        "\n",
        "for key, value in dict_template.items():\n",
        "    print(key, value)"
      ],
      "metadata": {
        "colab": {
          "base_uri": "https://localhost:8080/"
        },
        "id": "FGdITzsIi0xw",
        "outputId": "7820e30e-ab8c-4634-b5ea-71f1b69c315c"
      },
      "execution_count": null,
      "outputs": [
        {
          "output_type": "stream",
          "name": "stdout",
          "text": [
            "略名 イギリス\n",
            "日本語国名 グレートブリテン及び北アイルランド連合王国\n",
            "公式国名 {{lang|en|United Kingdom of Great Britain and Northern Ireland}}<ref>英語以外での正式国名:<br />\n",
            "国旗画像 Flag of the United Kingdom.svg\n",
            "国章画像 ファイル:Royal Coat of Arms of the United Kingdom.svg|85px|イギリスの国章\n",
            "国章リンク （イギリスの国章|国章）\n",
            "標語 {{lang|fr|Dieu et mon droit}}<br />（フランス語:Dieu et mon droit|神と我が権利）\n",
            "国歌 女王陛下万歳|{{lang|en|God Save the Queen}}{{en icon}}<br />神よ女王を護り賜え<br />{{center|ファイル:United States Navy Band - God Save the Queen.ogg}}\n",
            "地図画像 Europe-UK.svg\n",
            "位置画像 United Kingdom (+overseas territories) in the World (+Antarctica claims).svg\n",
            "公用語 英語\n",
            "首都 ロンドン（事実上）\n",
            "最大都市 ロンドン\n",
            "元首等肩書 イギリスの君主|女王\n",
            "元首等氏名 エリザベス2世\n",
            "首相等肩書 イギリスの首相|首相\n",
            "首相等氏名 ボリス・ジョンソン\n",
            "他元首等肩書1 貴族院 (イギリス)|貴族院議長\n",
            "他元首等氏名1 :en:Norman Fowler, Baron Fowler|ノーマン・ファウラー\n",
            "他元首等肩書2 庶民院 (イギリス)|庶民院議長\n",
            "他元首等氏名2 {{仮リンク|リンゼイ・ホイル|en|Lindsay Hoyle}}\n",
            "他元首等肩書3 連合王国最高裁判所|最高裁判所長官\n",
            "他元首等氏名3 :en:Brenda Hale, Baroness Hale of Richmond|ブレンダ・ヘイル\n",
            "面積順位 76\n",
            "面積大きさ 1 E11\n",
            "面積値 244,820\n",
            "水面積率 1.3%\n",
            "人口統計年 2018\n",
            "人口順位 22\n",
            "人口大きさ 1 E7\n",
            "人口値 6643万5600<ref>{{Cite web|url=https://www.ons.gov.uk/peoplepopulationandcommunity/populationandmigration/populationestimates|title=Population estimates - Office for National Statistics|accessdate=2019-06-26|date=2019-06-26}}</ref>\n",
            "人口密度値 271\n",
            "GDP統計年元 2012\n",
            "GDP値元 1兆5478億<ref name=\"imf-statistics-gdp\">[http://www.imf.org/external/pubs/ft/weo/2012/02/weodata/weorept.aspx?pr.x=70&pr.y=13&sy=2010&ey=2012&scsm=1&ssd=1&sort=country&ds=.&br=1&c=112&s=NGDP%2CNGDPD%2CPPPGDP%2CPPPPC&grp=0&a=IMF>Data and Statistics>World Economic Outlook Databases>By Countrise>United Kingdom]</ref>\n",
            "GDP統計年MER 2012\n",
            "GDP順位MER 6\n",
            "GDP値MER 2兆4337億<ref name=\"imf-statistics-gdp\" />\n",
            "GDP統計年 2012\n",
            "GDP順位 6\n",
            "GDP値 2兆3162億<ref name=\"imf-statistics-gdp\" />\n",
            "GDP/人 36,727<ref name=\"imf-statistics-gdp\" />\n",
            "建国形態 建国\n",
            "確立形態1 イングランド王国／スコットランド王国<br />（両国とも合同法 (1707年)|1707年合同法まで）\n",
            "確立年月日1 927年／843年\n",
            "確立形態2 グレートブリテン王国成立<br />（1707年合同法）\n",
            "確立年月日2 1707年{{0}}5月{{0}}1日\n",
            "確立形態3 グレートブリテン及びアイルランド連合王国成立<br />（合同法 (1800年)|1800年合同法）\n",
            "確立年月日3 1801年{{0}}1月{{0}}1日\n",
            "確立形態4 現在の国号「グレートブリテン及び北アイルランド連合王国」に変更\n",
            "確立年月日4 1927年{{0}}4月12日\n",
            "通貨 スターリング・ポンド|UKポンド (£)\n",
            "通貨コード GBP\n",
            "時間帯 ±0\n",
            "夏時間 +1\n",
            "ISO 3166-1 GB / GBR\n",
            "ccTLD .uk / .gb<ref>使用は.ukに比べ圧倒的少数。</ref>\n",
            "国際電話番号 44\n",
            "注記 <references/>\n"
          ]
        }
      ]
    },
    {
      "cell_type": "markdown",
      "source": [
        "##28.MediaWikiマークアップの除去"
      ],
      "metadata": {
        "id": "2wZ9v4O-pom5"
      }
    },
    {
      "cell_type": "code",
      "source": [
        "import re\n",
        "\n",
        "values_rm_tag = []\n",
        "for value in values_rm_link:\n",
        "    values_rm_tag.append(re.sub(\"\\<(.+?)\\>\", \"\", value))\n",
        "\n",
        "values_rm = []\n",
        "for value in values_rm_tag:\n",
        "    values_rm.append(re.sub(\"\\{\\{(.+?)\\}\\}\", r\"\\1\", value))\n",
        "\n",
        "dict_template = {key: value for key, value in zip(field_name, values_rm)}\n",
        "\n",
        "for key, value in dict_template.items():\n",
        "    print(key, value)"
      ],
      "metadata": {
        "colab": {
          "base_uri": "https://localhost:8080/"
        },
        "id": "ocrfJqALpu88",
        "outputId": "1cbf56e8-7ae2-40ff-f6a1-8aadb901737b"
      },
      "execution_count": null,
      "outputs": [
        {
          "output_type": "stream",
          "name": "stdout",
          "text": [
            "略名 イギリス\n",
            "日本語国名 グレートブリテン及び北アイルランド連合王国\n",
            "公式国名 lang|en|United Kingdom of Great Britain and Northern Ireland英語以外での正式国名:\n",
            "国旗画像 Flag of the United Kingdom.svg\n",
            "国章画像 ファイル:Royal Coat of Arms of the United Kingdom.svg|85px|イギリスの国章\n",
            "国章リンク （イギリスの国章|国章）\n",
            "標語 lang|fr|Dieu et mon droit（フランス語:Dieu et mon droit|神と我が権利）\n",
            "国歌 女王陛下万歳|lang|en|God Save the Queenen icon神よ女王を護り賜えcenter|ファイル:United States Navy Band - God Save the Queen.ogg\n",
            "地図画像 Europe-UK.svg\n",
            "位置画像 United Kingdom (+overseas territories) in the World (+Antarctica claims).svg\n",
            "公用語 英語\n",
            "首都 ロンドン（事実上）\n",
            "最大都市 ロンドン\n",
            "元首等肩書 イギリスの君主|女王\n",
            "元首等氏名 エリザベス2世\n",
            "首相等肩書 イギリスの首相|首相\n",
            "首相等氏名 ボリス・ジョンソン\n",
            "他元首等肩書1 貴族院 (イギリス)|貴族院議長\n",
            "他元首等氏名1 :en:Norman Fowler, Baron Fowler|ノーマン・ファウラー\n",
            "他元首等肩書2 庶民院 (イギリス)|庶民院議長\n",
            "他元首等氏名2 仮リンク|リンゼイ・ホイル|en|Lindsay Hoyle\n",
            "他元首等肩書3 連合王国最高裁判所|最高裁判所長官\n",
            "他元首等氏名3 :en:Brenda Hale, Baroness Hale of Richmond|ブレンダ・ヘイル\n",
            "面積順位 76\n",
            "面積大きさ 1 E11\n",
            "面積値 244,820\n",
            "水面積率 1.3%\n",
            "人口統計年 2018\n",
            "人口順位 22\n",
            "人口大きさ 1 E7\n",
            "人口値 6643万5600Cite web|url=https://www.ons.gov.uk/peoplepopulationandcommunity/populationandmigration/populationestimates|title=Population estimates - Office for National Statistics|accessdate=2019-06-26|date=2019-06-26\n",
            "人口密度値 271\n",
            "GDP統計年元 2012\n",
            "GDP値元 1兆5478億[http://www.imf.org/external/pubs/ft/weo/2012/02/weodata/weorept.aspx?pr.x=70&pr.y=13&sy=2010&ey=2012&scsm=1&ssd=1&sort=country&ds=.&br=1&c=112&s=NGDP%2CNGDPD%2CPPPGDP%2CPPPPC&grp=0&a=IMF>Data and Statistics>World Economic Outlook Databases>By Countrise>United Kingdom]\n",
            "GDP統計年MER 2012\n",
            "GDP順位MER 6\n",
            "GDP値MER 2兆4337億\n",
            "GDP統計年 2012\n",
            "GDP順位 6\n",
            "GDP値 2兆3162億\n",
            "GDP/人 36,727\n",
            "建国形態 建国\n",
            "確立形態1 イングランド王国／スコットランド王国（両国とも合同法 (1707年)|1707年合同法まで）\n",
            "確立年月日1 927年／843年\n",
            "確立形態2 グレートブリテン王国成立（1707年合同法）\n",
            "確立年月日2 1707年05月01日\n",
            "確立形態3 グレートブリテン及びアイルランド連合王国成立（合同法 (1800年)|1800年合同法）\n",
            "確立年月日3 1801年01月01日\n",
            "確立形態4 現在の国号「グレートブリテン及び北アイルランド連合王国」に変更\n",
            "確立年月日4 1927年04月12日\n",
            "通貨 スターリング・ポンド|UKポンド (£)\n",
            "通貨コード GBP\n",
            "時間帯 ±0\n",
            "夏時間 +1\n",
            "ISO 3166-1 GB / GBR\n",
            "ccTLD .uk / .gb使用は.ukに比べ圧倒的少数。\n",
            "国際電話番号 44\n",
            "注記 \n"
          ]
        }
      ]
    },
    {
      "cell_type": "markdown",
      "source": [
        "##29.国旗画像のURLを取得する"
      ],
      "metadata": {
        "id": "N9NJfAEywbUU"
      }
    },
    {
      "cell_type": "code",
      "source": [
        "from urllib import request\n",
        "\n",
        "file_url = dict_template['国旗画像'].replace(' ', '_')\n",
        "\n",
        "# リクエスト生成\n",
        "url = 'https://www.mediawiki.org/w/api.php?' \\\n",
        "    + 'action=query' \\\n",
        "    + '&titles=File:' + file_url \\\n",
        "    + '&format=json' \\\n",
        "    + '&prop=imageinfo' \\\n",
        "    + '&iiprop=url'\n",
        "\n",
        "# MediaWikiのサービスへリクエスト送信\n",
        "connection = request.urlopen(request.Request(url))\n",
        "\n",
        "# jsonとして受信\n",
        "response = json.loads(connection.read().decode())\n",
        "\n",
        "print(response['query']['pages']['-1']['imageinfo'][0]['url'])"
      ],
      "metadata": {
        "colab": {
          "base_uri": "https://localhost:8080/"
        },
        "id": "rh1rXT9dwgAd",
        "outputId": "b09a3964-0046-4ebf-b330-b64d3eb15eae"
      },
      "execution_count": null,
      "outputs": [
        {
          "output_type": "stream",
          "name": "stdout",
          "text": [
            "https://upload.wikimedia.org/wikipedia/commons/8/83/Flag_of_the_United_Kingdom_%283-5%29.svg\n"
          ]
        }
      ]
    }
  ]
}