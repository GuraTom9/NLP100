{
  "nbformat": 4,
  "nbformat_minor": 0,
  "metadata": {
    "colab": {
      "provenance": [],
      "collapsed_sections": [
        "g2K4mr43pDt7",
        "LSTd-YTzuLk3",
        "v_S_q0Twx1QR",
        "9eB6yD_72CTv",
        "mSeHipxvqa8s",
        "iVjJQQq3wndU",
        "aznidKc0JiKG",
        "CRpb_RS4OIkP",
        "toD4HY-sQ1-d"
      ],
      "authorship_tag": "ABX9TyOvPHpuwRjkEbMqawLJawVd",
      "include_colab_link": true
    },
    "kernelspec": {
      "name": "python3",
      "display_name": "Python 3"
    },
    "language_info": {
      "name": "python"
    }
  },
  "cells": [
    {
      "cell_type": "markdown",
      "metadata": {
        "id": "view-in-github",
        "colab_type": "text"
      },
      "source": [
        "<a href=\"https://colab.research.google.com/github/GuraTom9/NLP_100/blob/main/NLP100_00_09.ipynb\" target=\"_parent\"><img src=\"https://colab.research.google.com/assets/colab-badge.svg\" alt=\"Open In Colab\"/></a>"
      ]
    },
    {
      "cell_type": "markdown",
      "source": [
        "##00.文字列の逆順"
      ],
      "metadata": {
        "id": "g2K4mr43pDt7"
      }
    },
    {
      "cell_type": "code",
      "execution_count": null,
      "metadata": {
        "colab": {
          "base_uri": "https://localhost:8080/"
        },
        "id": "3fEqp2jNl6NC",
        "outputId": "7c41b890-c057-4950-d259-f751b504736d"
      },
      "outputs": [
        {
          "output_type": "stream",
          "name": "stdout",
          "text": [
            "desserts\n",
            "desserts\n"
          ]
        }
      ],
      "source": [
        "org_str = \"stressed\"\n",
        "\n",
        "# reversed() を使う場合...イテレータをリストに変換してから join() で一つの文字列に連結\n",
        "new_str = ''.join(list(reversed(org_str)))\n",
        "\n",
        "print(new_str)\n",
        "\n",
        "# スライスを使う場合...[start:stop:step]の形で指定\n",
        "# start, stopを省略して全体を選択 \n",
        "# stepを -1 して後ろから一つずつ要素を取得\n",
        "new_str = org_str[::-1]\n",
        "\n",
        "print(new_str)"
      ]
    },
    {
      "cell_type": "markdown",
      "source": [
        "##01.「パタトクカシーー」"
      ],
      "metadata": {
        "id": "LSTd-YTzuLk3"
      }
    },
    {
      "cell_type": "code",
      "source": [
        "org_str = \"パタトクカシーー\"\n",
        "\n",
        "new_str = org_str[1::2] #1文字目の次から、2文字ごとに取り出す\n",
        "print(new_str)"
      ],
      "metadata": {
        "colab": {
          "base_uri": "https://localhost:8080/"
        },
        "id": "wwfH9G_HuUFm",
        "outputId": "39fed1e7-fab4-4e4d-b759-1d2fe580c386"
      },
      "execution_count": null,
      "outputs": [
        {
          "output_type": "stream",
          "name": "stdout",
          "text": [
            "タクシー\n"
          ]
        }
      ]
    },
    {
      "cell_type": "markdown",
      "source": [
        "##02.「パトカー」＋「タクシー」＝「パタトクカシーー」"
      ],
      "metadata": {
        "id": "v_S_q0Twx1QR"
      }
    },
    {
      "cell_type": "code",
      "source": [
        "org_str1 = \"パトカー\"\n",
        "org_str2 = \"タクシー\"\n",
        "new_str = \"\"\n",
        "\n",
        "for i in range(4):\n",
        "    new_str += (org_str1[i] + org_str2[i])\n",
        "\n",
        "print(new_str)"
      ],
      "metadata": {
        "colab": {
          "base_uri": "https://localhost:8080/"
        },
        "id": "jSqSOPCYyDsD",
        "outputId": "c4c76118-ff8a-43b7-d7f0-2a71f95a98a5"
      },
      "execution_count": null,
      "outputs": [
        {
          "output_type": "stream",
          "name": "stdout",
          "text": [
            "パタトクカシーー\n"
          ]
        }
      ]
    },
    {
      "cell_type": "markdown",
      "source": [
        "##03.円周率"
      ],
      "metadata": {
        "id": "9eB6yD_72CTv"
      }
    },
    {
      "cell_type": "code",
      "source": [
        "import re\n",
        "\n",
        "sentence = \"Now I need a drink, alcoholic of course, after the heavy lectures involving quantum mechanics.\"\n",
        "\n",
        "words = re.sub(\"[,\\.]\", \"\", sentence).split()\n",
        "\n",
        "words_cnt = []\n",
        "for i in words:\n",
        "    words_cnt.append(len(i))\n",
        "\n",
        "print(words_cnt)"
      ],
      "metadata": {
        "colab": {
          "base_uri": "https://localhost:8080/"
        },
        "id": "k8PRMwuf2F1A",
        "outputId": "ad42e291-0ec2-41e0-9e4b-48ed9d3fb7fa"
      },
      "execution_count": null,
      "outputs": [
        {
          "output_type": "stream",
          "name": "stdout",
          "text": [
            "[3, 1, 4, 1, 5, 9, 2, 6, 5, 3, 5, 8, 9, 7, 9]\n"
          ]
        }
      ]
    },
    {
      "cell_type": "markdown",
      "source": [
        "##04.元素記号"
      ],
      "metadata": {
        "id": "mSeHipxvqa8s"
      }
    },
    {
      "cell_type": "code",
      "source": [
        "import re\n",
        "\n",
        "sentence = \"Hi He Lied Because Boron Could Not Oxidize Fluorine. New Nations Might Also Sign Peace Security Clause. Arthur King Can.\"\n",
        "\n",
        "words = re.sub(\"[,\\.]\", \"\", sentence).split()\n",
        "\n",
        "data = {}\n",
        "list = [1, 5, 6, 7, 8, 9, 15, 16, 19]\n",
        "for n in range(len(words)):\n",
        "    if n+1 in list:\n",
        "        data[words[n][:1]] = n+1\n",
        "    else:\n",
        "        data[words[n][:2]] = n+1\n",
        "print(data)"
      ],
      "metadata": {
        "colab": {
          "base_uri": "https://localhost:8080/"
        },
        "id": "Eex_NLb3qgge",
        "outputId": "7f79b7d0-3b76-4382-a089-495d32d3c8e2"
      },
      "execution_count": null,
      "outputs": [
        {
          "output_type": "stream",
          "name": "stdout",
          "text": [
            "{'H': 1, 'He': 2, 'Li': 3, 'Be': 4, 'B': 5, 'C': 6, 'N': 7, 'O': 8, 'F': 9, 'Ne': 10, 'Na': 11, 'Mi': 12, 'Al': 13, 'Si': 14, 'P': 15, 'S': 16, 'Cl': 17, 'Ar': 18, 'K': 19, 'Ca': 20}\n"
          ]
        }
      ]
    },
    {
      "cell_type": "markdown",
      "source": [
        "##05.n-gram"
      ],
      "metadata": {
        "id": "iVjJQQq3wndU"
      }
    },
    {
      "cell_type": "code",
      "source": [
        "import re\n",
        "\n",
        "def ngram(type, n, sentence):\n",
        "    # 単語n-gram\n",
        "    if type == \"word\":\n",
        "        str = \"\"\n",
        "        ngram_word = []\n",
        "        words = re.sub(\"[,\\.]\", \"\", sentence).split()\n",
        "        for i in range(len(words)-n+1):\n",
        "            for j in range(n):\n",
        "                if j == 0:\n",
        "                    str += words[j+i]\n",
        "                else:\n",
        "                    str += \" \" + words[j+i]\n",
        "            ngram_word.insert(i, str)\n",
        "            str = \"\"\n",
        "\n",
        "        return ngram_word\n",
        "    \n",
        "    # 文字n-gram\n",
        "    elif type == \"char\":\n",
        "        ngram_char = []\n",
        "        words = re.sub(\"[,\\.\\t]\", \"\", sentence)\n",
        "        for k in range(len(words)-n+1):\n",
        "            ngram_char.insert(k, words[k:k+n])\n",
        "            \n",
        "        return ngram_char\n",
        "\n",
        "print(ngram(\"word\", 2, \"I am an NLPer\"))            \n",
        "print(ngram(\"char\", 2, \"I am an NLPer\"))            "
      ],
      "metadata": {
        "colab": {
          "base_uri": "https://localhost:8080/"
        },
        "id": "fBtNBoBIwHbJ",
        "outputId": "3bee8114-3ec4-4627-cd79-74305186178d"
      },
      "execution_count": null,
      "outputs": [
        {
          "output_type": "stream",
          "name": "stdout",
          "text": [
            "['I am', 'am an', 'an NLPer']\n",
            "['I ', ' a', 'am', 'm ', ' a', 'an', 'n ', ' N', 'NL', 'LP', 'Pe', 'er']\n"
          ]
        }
      ]
    },
    {
      "cell_type": "markdown",
      "source": [
        "##06.集合"
      ],
      "metadata": {
        "id": "aznidKc0JiKG"
      }
    },
    {
      "cell_type": "code",
      "source": [
        "X = set(ngram(\"char\", 2, \"paraparaparadise\"))\n",
        "Y = set(ngram(\"char\", 2, \"paragraph\"))\n",
        "\n",
        "print(\"X：\", X)\n",
        "print(\"Y：\", Y)\n",
        "\n",
        "print(\"union：\", X|Y)\n",
        "print(\"intersection：\", X&Y)\n",
        "print(\"difference：\", X-Y) #Xに含まれるがYには含まれていない要素の集合\n",
        "\n",
        "print(\"’se’がXに含まれるか：\",\"se\" in X)\n",
        "print(\"’se’がYに含まれるか：\",\"se\" in Y)"
      ],
      "metadata": {
        "colab": {
          "base_uri": "https://localhost:8080/"
        },
        "id": "XWN1SrHzJJl1",
        "outputId": "a64e19b4-f179-4598-e84d-cc6e7721f099"
      },
      "execution_count": null,
      "outputs": [
        {
          "output_type": "stream",
          "name": "stdout",
          "text": [
            "X： {'ap', 'ar', 'se', 'is', 'pa', 'ra', 'ad', 'di'}\n",
            "Y： {'ap', 'gr', 'ag', 'ar', 'ph', 'pa', 'ra'}\n",
            "union： {'ap', 'gr', 'ag', 'ar', 'se', 'is', 'ph', 'pa', 'ra', 'ad', 'di'}\n",
            "intersection： {'ra', 'pa', 'ap', 'ar'}\n",
            "difference： {'is', 'di', 'ad', 'se'}\n",
            "’se’がXに含まれるか： True\n",
            "’se’がYに含まれるか： False\n"
          ]
        }
      ]
    },
    {
      "cell_type": "markdown",
      "source": [
        "##07.テンプレートによる文生成"
      ],
      "metadata": {
        "id": "CRpb_RS4OIkP"
      }
    },
    {
      "cell_type": "code",
      "source": [
        "def gen_sentence(x, y, z):\n",
        "    return str(x) + \"時の\" + y + \"は\" + str(z)\n",
        "\n",
        "gen_sentence(12, \"気温\", 22.4)"
      ],
      "metadata": {
        "colab": {
          "base_uri": "https://localhost:8080/",
          "height": 35
        },
        "id": "lb8eG2lcONja",
        "outputId": "17b38bc9-092b-4515-b6ef-bcbd8609c269"
      },
      "execution_count": null,
      "outputs": [
        {
          "output_type": "execute_result",
          "data": {
            "text/plain": [
              "'12時の気温は22.4'"
            ],
            "application/vnd.google.colaboratory.intrinsic+json": {
              "type": "string"
            }
          },
          "metadata": {},
          "execution_count": 126
        }
      ]
    },
    {
      "cell_type": "markdown",
      "source": [
        "##08.暗号文"
      ],
      "metadata": {
        "id": "toD4HY-sQ1-d"
      }
    },
    {
      "cell_type": "code",
      "source": [
        "def cipher(text):\n",
        "    str = \"\"\n",
        "    for i in range(len(text)):\n",
        "        if text[i].islower():\n",
        "            str += chr(219 - ord(text[i]))\n",
        "        else:\n",
        "            str += text[i]\n",
        "    return str\n",
        "\n",
        "plain_text = \"I am an NLPer\"\n",
        "secret_text = cipher(plain_text)\n",
        "print(secret_text)\n",
        "plain_text = cipher(secret_text)\n",
        "print(plain_text)"
      ],
      "metadata": {
        "id": "1CdUfxeuQ5o3",
        "colab": {
          "base_uri": "https://localhost:8080/"
        },
        "outputId": "9892edb9-b553-42fe-cd84-a3a640e659ee"
      },
      "execution_count": null,
      "outputs": [
        {
          "output_type": "stream",
          "name": "stdout",
          "text": [
            "I zn zm NLPvi\n",
            "I am an NLPer\n"
          ]
        }
      ]
    },
    {
      "cell_type": "markdown",
      "source": [
        "##09.Typoglycemia"
      ],
      "metadata": {
        "id": "jgOddmBr43NA"
      }
    },
    {
      "cell_type": "code",
      "source": [
        "import random\n",
        "\n",
        "def typoglycemia(text):\n",
        "    words = text.split()\n",
        "    shuffle_words = ''\n",
        "    for word in words:\n",
        "        if len(word) > 4:\n",
        "            h = word[0]\n",
        "            e = word[-1]\n",
        "            word = word.lstrip(word[0])\n",
        "            word = word[:-1]\n",
        "            shuffle = ''.join(random.sample(word, len(word)))\n",
        "            shuffle_words += (h + shuffle + e).ljust(len(h + shuffle + e) + 1)\n",
        "        else:\n",
        "            shuffle_words += word.ljust(len(word) + 1)\n",
        "    return shuffle_words\n",
        "\n",
        "text = \"I couldn’t believe that I could actually understand what I was reading : the phenomenal power of the human mind .\"\n",
        "print(typoglycemia(text))"
      ],
      "metadata": {
        "id": "Y8urO7sx4-_9",
        "colab": {
          "base_uri": "https://localhost:8080/"
        },
        "outputId": "a61e5438-ace6-44b9-b188-c92b85dda9fd"
      },
      "execution_count": null,
      "outputs": [
        {
          "output_type": "stream",
          "name": "stdout",
          "text": [
            "I cu’nlodt believe that I cuold aclaluty uatennrsdd what I was ridaneg : the phmanneeol peowr of the hamun mind . \n"
          ]
        }
      ]
    }
  ]
}