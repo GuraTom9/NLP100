{
  "nbformat": 4,
  "nbformat_minor": 0,
  "metadata": {
    "colab": {
      "provenance": [],
      "collapsed_sections": [
        "g2K4mr43pDt7",
        "v_S_q0Twx1QR",
        "9eB6yD_72CTv",
        "mSeHipxvqa8s"
      ],
      "authorship_tag": "ABX9TyMbHIFYPbuqKaO2qmGebl1f",
      "include_colab_link": true
    },
    "kernelspec": {
      "name": "python3",
      "display_name": "Python 3"
    },
    "language_info": {
      "name": "python"
    }
  },
  "cells": [
    {
      "cell_type": "markdown",
      "metadata": {
        "id": "view-in-github",
        "colab_type": "text"
      },
      "source": [
        "<a href=\"https://colab.research.google.com/github/GuraTom9/NLP100/blob/main/NLP100_00_09.ipynb\" target=\"_parent\"><img src=\"https://colab.research.google.com/assets/colab-badge.svg\" alt=\"Open In Colab\"/></a>"
      ]
    },
    {
      "cell_type": "markdown",
      "source": [
        "##00.文字列の逆順"
      ],
      "metadata": {
        "id": "g2K4mr43pDt7"
      }
    },
    {
      "cell_type": "code",
      "execution_count": null,
      "metadata": {
        "colab": {
          "base_uri": "https://localhost:8080/"
        },
        "id": "3fEqp2jNl6NC",
        "outputId": "7c41b890-c057-4950-d259-f751b504736d"
      },
      "outputs": [
        {
          "output_type": "stream",
          "name": "stdout",
          "text": [
            "desserts\n",
            "desserts\n"
          ]
        }
      ],
      "source": [
        "org_str = \"stressed\"\n",
        "\n",
        "# reversed() を使う場合...イテレータをリストに変換してから join() で一つの文字列に連結\n",
        "new_str = ''.join(list(reversed(org_str)))\n",
        "\n",
        "print(new_str)\n",
        "\n",
        "# スライスを使う場合...[start:stop:step]の形で指定\n",
        "# start, stopを省略して全体を選択 \n",
        "# stepを -1 して後ろから一つずつ要素を取得\n",
        "new_str = org_str[::-1]\n",
        "\n",
        "print(new_str)"
      ]
    },
    {
      "cell_type": "markdown",
      "source": [
        "##01.「パタトクカシーー」"
      ],
      "metadata": {
        "id": "LSTd-YTzuLk3"
      }
    },
    {
      "cell_type": "code",
      "source": [
        "org_str = \"パタトクカシーー\"\n",
        "\n",
        "new_str = org_str[::2] #1文字目の次から、2文字ごとに取り出す\n",
        "print(new_str)"
      ],
      "metadata": {
        "colab": {
          "base_uri": "https://localhost:8080/"
        },
        "id": "wwfH9G_HuUFm",
        "outputId": "9906cbfe-3ec6-46a7-fb3a-43d7b3ab6e82"
      },
      "execution_count": 3,
      "outputs": [
        {
          "output_type": "stream",
          "name": "stdout",
          "text": [
            "パトカー\n"
          ]
        }
      ]
    },
    {
      "cell_type": "markdown",
      "source": [
        "##02.「パトカー」＋「タクシー」＝「パタトクカシーー」"
      ],
      "metadata": {
        "id": "v_S_q0Twx1QR"
      }
    },
    {
      "cell_type": "code",
      "source": [
        "org_str1 = \"パトカー\"\n",
        "org_str2 = \"タクシー\"\n",
        "new_str = \"\"\n",
        "\n",
        "for i in range(4):\n",
        "    new_str += (org_str1[i] + org_str2[i])\n",
        "\n",
        "print(new_str)"
      ],
      "metadata": {
        "colab": {
          "base_uri": "https://localhost:8080/"
        },
        "id": "jSqSOPCYyDsD",
        "outputId": "c4c76118-ff8a-43b7-d7f0-2a71f95a98a5"
      },
      "execution_count": null,
      "outputs": [
        {
          "output_type": "stream",
          "name": "stdout",
          "text": [
            "パタトクカシーー\n"
          ]
        }
      ]
    },
    {
      "cell_type": "markdown",
      "source": [
        "##03.円周率"
      ],
      "metadata": {
        "id": "9eB6yD_72CTv"
      }
    },
    {
      "cell_type": "code",
      "source": [
        "import re\n",
        "\n",
        "sentence = \"Now I need a drink, alcoholic of course, after the heavy lectures involving quantum mechanics.\"\n",
        "\n",
        "words = re.sub(\"[,\\.]\", \"\", sentence).split()\n",
        "\n",
        "words_cnt = []\n",
        "for i in words:\n",
        "    words_cnt.append(len(i))\n",
        "\n",
        "print(words_cnt)"
      ],
      "metadata": {
        "colab": {
          "base_uri": "https://localhost:8080/"
        },
        "id": "k8PRMwuf2F1A",
        "outputId": "ad42e291-0ec2-41e0-9e4b-48ed9d3fb7fa"
      },
      "execution_count": null,
      "outputs": [
        {
          "output_type": "stream",
          "name": "stdout",
          "text": [
            "[3, 1, 4, 1, 5, 9, 2, 6, 5, 3, 5, 8, 9, 7, 9]\n"
          ]
        }
      ]
    },
    {
      "cell_type": "markdown",
      "source": [
        "##04.元素記号"
      ],
      "metadata": {
        "id": "mSeHipxvqa8s"
      }
    },
    {
      "cell_type": "code",
      "source": [
        "import re\n",
        "\n",
        "sentence = \"Hi He Lied Because Boron Could Not Oxidize Fluorine. New Nations Might Also Sign Peace Security Clause. Arthur King Can.\"\n",
        "\n",
        "words = re.sub(\"[,\\.]\", \"\", sentence).split()\n",
        "\n",
        "data = {}\n",
        "list = [1, 5, 6, 7, 8, 9, 15, 16, 19]\n",
        "for n in range(len(words)):\n",
        "    if n+1 in list:\n",
        "        data[words[n][:1]] = n+1\n",
        "    else:\n",
        "        data[words[n][:2]] = n+1\n",
        "print(data)"
      ],
      "metadata": {
        "colab": {
          "base_uri": "https://localhost:8080/"
        },
        "id": "Eex_NLb3qgge",
        "outputId": "7f79b7d0-3b76-4382-a089-495d32d3c8e2"
      },
      "execution_count": null,
      "outputs": [
        {
          "output_type": "stream",
          "name": "stdout",
          "text": [
            "{'H': 1, 'He': 2, 'Li': 3, 'Be': 4, 'B': 5, 'C': 6, 'N': 7, 'O': 8, 'F': 9, 'Ne': 10, 'Na': 11, 'Mi': 12, 'Al': 13, 'Si': 14, 'P': 15, 'S': 16, 'Cl': 17, 'Ar': 18, 'K': 19, 'Ca': 20}\n"
          ]
        }
      ]
    },
    {
      "cell_type": "markdown",
      "source": [
        "##05.n-gram"
      ],
      "metadata": {
        "id": "iVjJQQq3wndU"
      }
    },
    {
      "cell_type": "code",
      "source": [
        "import re\n",
        "\n",
        "def create_ngram(n, sentence):\n",
        "    crean_sentence = re.sub(\"[,\\.]\", \"\", sentence)\n",
        "\n",
        "    # 単語n-gram作成\n",
        "    str = \"\"\n",
        "    word_ngram = []\n",
        "    words = crean_sentence.split()\n",
        "    for i in range(len(words)-n+1):\n",
        "        for j in range(n):\n",
        "            if j == 0:\n",
        "                str += words[i]\n",
        "            else:\n",
        "                str += \" \" + words[j+i]\n",
        "        word_ngram.insert(i, str)\n",
        "        str = \"\"\n",
        "\n",
        "    # 文字n-gram作成\n",
        "    char_ngram = []\n",
        "    for k in range(len(crean_sentence)-n+1):\n",
        "        char_ngram.insert(k, crean_sentence[k:k+n])\n",
        "            \n",
        "    return word_ngram, char_ngram\n",
        "\n",
        "print(create_ngram(2, \"I am an NLPer\")[0])            \n",
        "print(create_ngram(2, \"I am an NLPer\")[1])            "
      ],
      "metadata": {
        "colab": {
          "base_uri": "https://localhost:8080/"
        },
        "id": "GbpJfWZjBXMA",
        "outputId": "4a5ad14f-6628-4615-c152-6e95eac01bc9"
      },
      "execution_count": 19,
      "outputs": [
        {
          "output_type": "stream",
          "name": "stdout",
          "text": [
            "['I am', 'am an', 'an NLPer']\n",
            "['I ', ' a', 'am', 'm ', ' a', 'an', 'n ', ' N', 'NL', 'LP', 'Pe', 'er']\n"
          ]
        }
      ]
    },
    {
      "cell_type": "markdown",
      "source": [
        "##06.集合"
      ],
      "metadata": {
        "id": "aznidKc0JiKG"
      }
    },
    {
      "cell_type": "code",
      "source": [
        "X = set(create_ngram(2, \"paraparaparadise\")[1])\n",
        "Y = set(create_ngram(2, \"paragraph\")[1])\n",
        "\n",
        "print(\"X：\", X)\n",
        "print(\"Y：\", Y)\n",
        "\n",
        "print(\"union：\", X|Y)\n",
        "print(\"intersection：\", X&Y)\n",
        "print(\"difference：\", X-Y) #Xに含まれるがYには含まれていない要素の集合\n",
        "\n",
        "print(\"’se’がXに含まれるか：\",\"se\" in X)\n",
        "print(\"’se’がYに含まれるか：\",\"se\" in Y)"
      ],
      "metadata": {
        "colab": {
          "base_uri": "https://localhost:8080/"
        },
        "id": "XWN1SrHzJJl1",
        "outputId": "326eaf63-a6ad-4bf1-cd5d-f61ee25561e7"
      },
      "execution_count": 22,
      "outputs": [
        {
          "output_type": "stream",
          "name": "stdout",
          "text": [
            "X： {'ad', 'ap', 'ra', 'ar', 'di', 'pa', 'se', 'is'}\n",
            "Y： {'ag', 'ap', 'ra', 'gr', 'ar', 'ph', 'pa'}\n",
            "union： {'ag', 'ad', 'ap', 'ra', 'gr', 'ar', 'ph', 'di', 'pa', 'se', 'is'}\n",
            "intersection： {'ar', 'ap', 'ra', 'pa'}\n",
            "difference： {'ad', 'di', 'se', 'is'}\n",
            "’se’がXに含まれるか： True\n",
            "’se’がYに含まれるか： False\n"
          ]
        }
      ]
    },
    {
      "cell_type": "markdown",
      "source": [
        "##07.テンプレートによる文生成"
      ],
      "metadata": {
        "id": "CRpb_RS4OIkP"
      }
    },
    {
      "cell_type": "code",
      "source": [
        "def gen_sentence(x, y, z):\n",
        "    return str(x) + \"時の\" + y + \"は\" + str(z)\n",
        "\n",
        "gen_sentence(12, \"気温\", 22.4)"
      ],
      "metadata": {
        "colab": {
          "base_uri": "https://localhost:8080/",
          "height": 35
        },
        "id": "lb8eG2lcONja",
        "outputId": "17b38bc9-092b-4515-b6ef-bcbd8609c269"
      },
      "execution_count": null,
      "outputs": [
        {
          "output_type": "execute_result",
          "data": {
            "text/plain": [
              "'12時の気温は22.4'"
            ],
            "application/vnd.google.colaboratory.intrinsic+json": {
              "type": "string"
            }
          },
          "metadata": {},
          "execution_count": 126
        }
      ]
    },
    {
      "cell_type": "markdown",
      "source": [
        "##08.暗号文"
      ],
      "metadata": {
        "id": "toD4HY-sQ1-d"
      }
    },
    {
      "cell_type": "code",
      "source": [
        "def cipher(text):\n",
        "    str = \"\"\n",
        "    for i in range(len(text)):\n",
        "        if text[i].islower():   #英小文字ならば(219 - 文字コード)の文字に置換\n",
        "            str += chr(219 - ord(text[i]))\n",
        "        else:   #その他の文字はそのまま出力\n",
        "            str += text[i]\n",
        "    return str\n",
        "\n",
        "plain_text = \"I am an NLPer\"\n",
        "secret_text = cipher(plain_text)    #暗号化\n",
        "print(secret_text)\n",
        "plain_text = cipher(secret_text)    #複号化\n",
        "print(plain_text)"
      ],
      "metadata": {
        "id": "1CdUfxeuQ5o3",
        "colab": {
          "base_uri": "https://localhost:8080/"
        },
        "outputId": "9892edb9-b553-42fe-cd84-a3a640e659ee"
      },
      "execution_count": null,
      "outputs": [
        {
          "output_type": "stream",
          "name": "stdout",
          "text": [
            "I zn zm NLPvi\n",
            "I am an NLPer\n"
          ]
        }
      ]
    },
    {
      "cell_type": "markdown",
      "source": [
        "##09.Typoglycemia"
      ],
      "metadata": {
        "id": "jgOddmBr43NA"
      }
    },
    {
      "cell_type": "code",
      "source": [
        "import random\n",
        "\n",
        "def typoglycemia(text):\n",
        "    words = text.split()\n",
        "    shuffle_words = ''\n",
        "    for word in words:\n",
        "        if len(word) > 4:\n",
        "            head = word[0]\n",
        "            tail = word[-1]\n",
        "            word = word[1:]     #先頭文字削除\n",
        "            word = word[:-1]    #末尾文字削除\n",
        "            shuffle = ''.join(random.sample(word, len(word)))\n",
        "            shuffle_words += (head + shuffle + tail).ljust(len(head + shuffle + tail) + 1)  #ljust()は、呼び出した文字列の末尾に空白を追加した文字列を返す\n",
        "        else:\n",
        "            shuffle_words += word.ljust(len(word) + 1)\n",
        "    return shuffle_words\n",
        "\n",
        "text = \"I couldn’t believe that I could actually understand what I was reading : the phenomenal power of the human mind .\"\n",
        "print(typoglycemia(text))"
      ],
      "metadata": {
        "id": "Y8urO7sx4-_9",
        "colab": {
          "base_uri": "https://localhost:8080/"
        },
        "outputId": "a14f3919-3e77-4852-d1c2-eaaeb4f85186"
      },
      "execution_count": 31,
      "outputs": [
        {
          "output_type": "stream",
          "name": "stdout",
          "text": [
            "I culd’not bleivee that I cloud aautlcly uatserndnd what I was rienadg : the pnemanhoel power of the hmuan mind . \n"
          ]
        }
      ]
    }
  ]
}